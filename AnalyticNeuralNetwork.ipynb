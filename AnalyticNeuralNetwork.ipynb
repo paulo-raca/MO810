{
 "cells": [
  {
   "cell_type": "markdown",
   "metadata": {},
   "source": [
    "# Analytic neural networks\n",
    "\n",
    "On the last 2 classes of [MO810](https://www.ic.unicamp.br/~meidanis/courses/mo810/2018s1/), we expanded the cost function of a neural network for it's training data, calculated it's partial derivative for each parameter being optimized and finally used these derivatives to implement a gradient descent to optimize the function. \n",
    "\n",
    "1000s of iterations later, we had a reasonably trainned model.\n",
    "\n",
    "Doing all this work analytically instead of numerically is something that caught my attention: It's a lot of work (and really not pratical for anything vaguely complex), but it's an excelent exercise.\n",
    "\n",
    "Now, humans suck at making expansions and derivatives. It takes a lot of time, and there will most certainly be a mistake at the end. [SymPy](https://simpy.readthedocs.io), on the other hand, is _perfect_ for this.\n",
    "\n",
    "So, this notebook receives a dataset and a SimPy expression and does it all magically.\n",
    "\n",
    "Dataset inputs are mapped to the symbols $x_i$, and all remaining symbols are considered variables to optimized (By convention, $w_i$ is used for coefficients and $b_i$ is used for constants)\n",
    "\n",
    "Finally, at the end of the file, I used this to fit a 3-neurol, 2-layer neural network with a logistic activation function to fit the XOR function"
   ]
  },
  {
   "cell_type": "code",
   "execution_count": 1,
   "metadata": {},
   "outputs": [],
   "source": [
    "from IPython.display import HTML, display, display_html\n",
    "\n",
    "class Table:\n",
    "    \"\"\" Just a component to display tabular data on Jupyter \"\"\"\n",
    "    \n",
    "    def __init__(self, headers, header_exprs):\n",
    "        self.headers = headers\n",
    "        self.header_exprs = header_exprs\n",
    "        self.data = []\n",
    "        \n",
    "    def append(self, row):\n",
    "        self.data.append(row)\n",
    "    \n",
    "    def _repr_html_(self):\n",
    "        html = [\"<table>\"]\n",
    "        html.append(\"<tr>\")\n",
    "        for header, expr in zip(self.headers, self.header_exprs):\n",
    "            html.append(f'<th title=\"{expr}\">{header}</th>')\n",
    "        html.append(\"</tr>\")\n",
    "        for row in self.data:\n",
    "            html.append(\"<tr>\")\n",
    "            for cell in row:\n",
    "                html.append(f\"<td>{cell}</td>\")\n",
    "            html.append(\"</tr>\")\n",
    "        html.append(\"</table>\")\n",
    "        return ''.join(html)"
   ]
  },
  {
   "cell_type": "code",
   "execution_count": 2,
   "metadata": {},
   "outputs": [],
   "source": [
    "import sympy\n",
    "\n",
    "class SymbolVectorMetaclass(type):\n",
    "    def __getattr__(cls, key):\n",
    "        return cls(key)\n",
    "\n",
    "        \n",
    "class SymbolVector(metaclass = SymbolVectorMetaclass):\n",
    "    \"\"\"\n",
    "    And infinite array of symbols.\n",
    "    \n",
    "    SymbolVector.x yields [x_0, x_1, x_2, ...]\n",
    "    \"\"\"\n",
    "    def __init__(self, name):\n",
    "        self.name = name\n",
    "\n",
    "    @staticmethod\n",
    "    def __getattr__(cls, key):\n",
    "        return Vector(key)\n",
    "        \n",
    "    def __getitem__( self, key ) :\n",
    "        if isinstance( key, slice ) :\n",
    "            if (key.start is not None and key.start < 0) or (key.stop is not None and key.stop < 0):\n",
    "                raise IndexError(\"Negative indexes are not supported\")\n",
    "            return [self[ii] for ii in range(*key.indices(sys.maxsize))]\n",
    "\n",
    "        elif isinstance(key, int):\n",
    "            if key < 0:\n",
    "                raise IndexError(\"Negative indexes are not supported\")\n",
    "            return sympy.Symbol(f'{self.name}_{key}')\n",
    "\n",
    "        else:\n",
    "            raise TypeError(\"Invalid argument type.\")\n",
    "    \n",
    "    def __repr__(self):\n",
    "        return self.name + '[]'\n"
   ]
  },
  {
   "cell_type": "code",
   "execution_count": 3,
   "metadata": {},
   "outputs": [],
   "source": [
    "import random\n",
    "import re\n",
    "import sympy\n",
    "import sys\n",
    "sympy.init_printing()\n",
    "\n",
    "def optimize(function_name, function, data, step=0.1, iterations=5000, simplify=True):\n",
    "    \"\"\"\n",
    "    This is where the magic happens:\n",
    "    - Expand the function and data into a cost function for the dataset\n",
    "    - Calculate partial derivatives of the cost for each parameter\n",
    "    - Perform a gradient descent to optimize the function to fit the data\n",
    "    - Returns the fitted function\n",
    "    \"\"\"\n",
    "    \n",
    "    display(HTML(f'<h1>Optimizing Function {function_name}</h1>'))\n",
    "    \n",
    "    display(HTML(f'<h2>Function:</h2>'), function)\n",
    "\n",
    "    # Calculate cost function for the dataset, and partial derivatives for each parameter\n",
    "\n",
    "    x = SymbolVector.x[:len(data[0]['X'])]\n",
    "    cost_symbol = sympy.Symbol(\"cost\")\n",
    "    cost = sum([\n",
    "        (function.subs(zip(x, row['X'])) - row['Y']) ** 2    \n",
    "        for row in data\n",
    "    ])\n",
    "    if simplify:\n",
    "        cost = sympy.simplify(cost)\n",
    "    \n",
    "    display(HTML(f'<h2>Cost:</h2>'), cost)\n",
    "\n",
    "    optimization_parameters = sorted(list(cost.free_symbols), key=str)\n",
    "\n",
    "    cost_derivates = [\n",
    "        sympy.diff(cost, parameter)\n",
    "        for parameter in optimization_parameters\n",
    "    ]\n",
    "    if simplify:\n",
    "        cost_derivates = [\n",
    "            sympy.simplify(x)\n",
    "            for x in cost_derivates\n",
    "        ]\n",
    "\n",
    "    cost_fast = sympy.lambdify(optimization_parameters, cost)\n",
    "    cost_derivates_fast = [\n",
    "        sympy.lambdify(optimization_parameters, expr)\n",
    "        for expr in cost_derivates\n",
    "    ]\n",
    "    \n",
    "    # display(HTML(f'<h2>Cost derivatives:</h2>'), *cost_derivates)\n",
    "\n",
    "    # Optimize equation with gradient descent -- Initial values are random noise\n",
    "    \n",
    "    w = [\n",
    "        random.gauss(0,1) \n",
    "        for symbol in optimization_parameters\n",
    "    ]\n",
    "\n",
    "    table = Table(\n",
    "        ['loop'] + optimization_parameters + [sympy.Derivative(parameter, cost_symbol) for parameter in optimization_parameters] + [cost_symbol], \n",
    "        [''] + [''] * len(optimization_parameters) + cost_derivates + [cost]\n",
    "    )\n",
    "\n",
    "    num_table_rows = iterations // 10\n",
    "    for i in range(iterations+1):\n",
    "        gradient = [d(*w) for d in cost_derivates_fast]\n",
    "        if re.match('^[0-9]0*$', str(i)):\n",
    "            table.append([i] + w + gradient + [cost_fast(*w)])\n",
    "            \n",
    "        w = [\n",
    "            parameter - step * gradient\n",
    "            for parameter, gradient in zip(w, gradient)\n",
    "        ]\n",
    "\n",
    "    display(HTML(f'<h2>Gradient Descent:</h2>'), table)\n",
    "    optimized_model = function.subs(zip(optimization_parameters, w))\n",
    "    optimized_model_fast = sympy.lambdify(x, optimized_model)\n",
    "    display(HTML(f'<h2>Optimized Function:</h2>'), optimized_model)\n",
    "    \n",
    "    display(HTML(f'<h2>Dataset evaluation:</h2>'))\n",
    "    table = Table(\n",
    "        x + ['Y', 'Ŷ'],\n",
    "        [''] * (len(x) + 2)\n",
    "    )\n",
    "    for row in data:\n",
    "        table.append(row['X'] + [row['Y'], optimized_model_fast(*row['X'])])\n",
    "    display(table)\n",
    "    return optimized_model\n"
   ]
  },
  {
   "cell_type": "code",
   "execution_count": 4,
   "metadata": {},
   "outputs": [
    {
     "data": {
      "text/html": [
       "<h1>Optimizing Function NOT (Linear)</h1>"
      ],
      "text/plain": [
       "<IPython.core.display.HTML object>"
      ]
     },
     "metadata": {},
     "output_type": "display_data"
    },
    {
     "data": {
      "text/html": [
       "<h2>Function:</h2>"
      ],
      "text/plain": [
       "<IPython.core.display.HTML object>"
      ]
     },
     "metadata": {},
     "output_type": "display_data"
    },
    {
     "data": {
      "image/png": "[encoded data removed]",
      "text/latex": [
       "$$b + w_{0} x_{0}$$"
      ],
      "text/plain": [
       "b + w₀⋅x₀"
      ]
     },
     "metadata": {},
     "output_type": "display_data"
    },
    {
     "data": {
      "text/html": [
       "<h2>Cost:</h2>"
      ],
      "text/plain": [
       "<IPython.core.display.HTML object>"
      ]
     },
     "metadata": {},
     "output_type": "display_data"
    },
    {
     "data": {
      "image/png": "[encoded data removed]",
      "text/latex": [
       "$$\\left(b - 1\\right)^{2} + \\left(b + w_{0}\\right)^{2}$$"
      ],
      "text/plain": [
       "       2           2\n",
       "(b - 1)  + (b + w₀) "
      ]
     },
     "metadata": {},
     "output_type": "display_data"
    },
    {
     "data": {
      "text/html": [
       "<h2>Gradient Descent:</h2>"
      ],
      "text/plain": [
       "<IPython.core.display.HTML object>"
      ]
     },
     "metadata": {},
     "output_type": "display_data"
    },
    {
     "data": {
      "text/html": [
       "<table><tr><th title=\"\">loop</th><th title=\"\">b</th><th title=\"\">w_0</th><th title=\"4*b + 2*w_0 - 2\">Derivative(b, cost)</th><th title=\"2*b + 2*w_0\">Derivative(w_0, cost)</th><th title=\"(b - 1)**2 + (b + w_0)**2\">cost</th></tr><tr><td>0</td><td>-0.7072294739986593</td><td>0.7575384230863372</td><td>-3.3138410498219626</td><td>0.10061789817535582</td><td>2.9171634672480455</td></tr><tr><td>1</td><td>-0.37584536901646304</td><td>0.7474766332688016</td><td>-2.008428209528249</td><td>0.7432625285046772</td><td>2.0310602760138394</td></tr><tr><td>2</td><td>-0.17500254806363813</td><td>0.673150380418334</td><td>-1.3537094314178846</td><td>0.9962956647093917</td><td>1.6287822508357244</td></tr><tr><td>3</td><td>-0.03963160492184967</td><td>0.5735208139473948</td><td>-1.011484791792609</td><td>1.0677784180510903</td><td>1.3658715614663033</td></tr><tr><td>4</td><td>0.061516874257411244</td><td>0.46674297214228583</td><td>-0.8204465586857834</td><td>1.056519692799394</td><td>1.159809042621811</td></tr><tr><td>5</td><td>0.1435615301259896</td><td>0.3610910028623464</td><td>-0.7035718737713488</td><td>1.009305065976672</td><td>0.9881610317316798</td></tr><tr><td>6</td><td>0.21391871750312447</td><td>0.2601604962646792</td><td>-0.6240041374581438</td><td>0.9481584275356073</td><td>0.8426748836186315</td></tr><tr><td>7</td><td>0.27631913124893887</td><td>0.16534465351111843</td><td>-0.5640341679820076</td><td>0.8833275695201146</td><td>0.7187808985648688</td></tr><tr><td>8</td><td>0.33272254804713963</td><td>0.07701189655910697</td><td>-0.5150860146932275</td><td>0.8194688892124932</td><td>0.6131415129814912</td></tr><tr><td>9</td><td>0.38423114951646237</td><td>-0.004934992362142357</td><td>-0.47294538665843544</td><td>0.75859231430864</td><td>0.523036852057852</td></tr><tr><td>10</td><td>0.4315256881823059</td><td>-0.08079422379300637</td><td>-0.4354856948567891</td><td>0.7014629287785991</td><td>0.4461756033092633</td></tr><tr><td>20</td><td>0.7433297212758146</td><td>-0.5846991293710871</td><td>-0.19607937363891592</td><td>0.317261183809455</td><td>0.0910432966683952</td></tr><tr><td>30</td><td>0.8840564713579604</td><td>-0.8123994301008906</td><td>-0.08857297476993953</td><td>0.14331408251413968</td><td>0.018577633395684866</td></tr><tr><td>40</td><td>0.9476257616983743</td><td>-0.915256702293215</td><td>-0.040010357792932716</td><td>0.06473811881031866</td><td>0.0037908168444502083</td></tr><tr><td>50</td><td>0.9763414062680591</td><td>-0.9617195912156945</td><td>-0.018073557359152836</td><td>0.02924363010472919</td><td>0.0007735265327985892</td></tr><tr><td>60</td><td>0.9893128935995182</td><td>-0.982707898602634</td><td>-0.008164222807195198</td><td>0.013209989993768545</td><td>0.00015784020212408447</td></tr><tr><td>70</td><td>0.9951723993188564</td><td>-0.9921887780137975</td><td>-0.003687958752169429</td><td>0.005967242610117829</td><td>3.220772442857989e-05</td></tr><tr><td>80</td><td>0.9978192667441275</td><td>-0.9964714994716011</td><td>-0.0016659319666922912</td><td>0.00269553454505278</td><td>6.572074154161655e-06</td></tr><tr><td>90</td><td>0.9990149148930558</td><td>-0.998406098815153</td><td>-0.0007525380580828411</td><td>0.0012176321558057257</td><td>1.3410496846362363e-06</td></tr><tr><td>100</td><td>0.9995550154218495</td><td>-0.9992799998280829</td><td>-0.0003399379687678561</td><td>0.0005500311875332731</td><td>2.7364485160655275e-07</td></tr><tr><td>200</td><td>0.9999998425810445</td><td>-0.9999997452907794</td><td>-1.202573809422347e-07</td><td>1.945805301328818e-07</td><td>3.424612323923407e-14</td></tr><tr><td>300</td><td>0.9999999999443111</td><td>-0.9999999999098935</td><td>-4.254241403600645e-11</td><td>6.883515979438926e-11</td><td>4.2858231594731026e-21</td></tr><tr><td>400</td><td>0.9999999999999803</td><td>-0.9999999999999682</td><td>-1.509903313490213e-14</td><td>2.4202861936828413e-14</td><td>5.3260437054062375e-28</td></tr><tr><td>500</td><td>0.9999999999999994</td><td>-0.9999999999999992</td><td>-4.440892098500626e-16</td><td>4.440892098500626e-16</td><td>3.5745259767827097e-31</td></tr><tr><td>600</td><td>0.9999999999999994</td><td>-0.9999999999999992</td><td>-4.440892098500626e-16</td><td>4.440892098500626e-16</td><td>3.5745259767827097e-31</td></tr><tr><td>700</td><td>0.9999999999999994</td><td>-0.9999999999999992</td><td>-4.440892098500626e-16</td><td>4.440892098500626e-16</td><td>3.5745259767827097e-31</td></tr><tr><td>800</td><td>0.9999999999999994</td><td>-0.9999999999999992</td><td>-4.440892098500626e-16</td><td>4.440892098500626e-16</td><td>3.5745259767827097e-31</td></tr><tr><td>900</td><td>0.9999999999999994</td><td>-0.9999999999999992</td><td>-4.440892098500626e-16</td><td>4.440892098500626e-16</td><td>3.5745259767827097e-31</td></tr><tr><td>1000</td><td>0.9999999999999994</td><td>-0.9999999999999992</td><td>-4.440892098500626e-16</td><td>4.440892098500626e-16</td><td>3.5745259767827097e-31</td></tr><tr><td>2000</td><td>0.9999999999999994</td><td>-0.9999999999999992</td><td>-4.440892098500626e-16</td><td>4.440892098500626e-16</td><td>3.5745259767827097e-31</td></tr><tr><td>3000</td><td>0.9999999999999994</td><td>-0.9999999999999992</td><td>-4.440892098500626e-16</td><td>4.440892098500626e-16</td><td>3.5745259767827097e-31</td></tr><tr><td>4000</td><td>0.9999999999999994</td><td>-0.9999999999999992</td><td>-4.440892098500626e-16</td><td>4.440892098500626e-16</td><td>3.5745259767827097e-31</td></tr><tr><td>5000</td><td>0.9999999999999994</td><td>-0.9999999999999992</td><td>-4.440892098500626e-16</td><td>4.440892098500626e-16</td><td>3.5745259767827097e-31</td></tr></table>"
      ],
      "text/plain": [
       "<__main__.Table at 0x7f496a8ea780>"
      ]
     },
     "metadata": {},
     "output_type": "display_data"
    },
    {
     "data": {
      "text/html": [
       "<h2>Optimized Function:</h2>"
      ],
      "text/plain": [
       "<IPython.core.display.HTML object>"
      ]
     },
     "metadata": {},
     "output_type": "display_data"
    },
    {
     "data": {
      "image/png": "[encoded data removed]",
      "text/latex": [
       "$$- 0.999999999999999 x_{0} + 0.999999999999999$$"
      ],
      "text/plain": [
       "-0.999999999999999⋅x₀ + 0.999999999999999"
      ]
     },
     "metadata": {},
     "output_type": "display_data"
    },
    {
     "data": {
      "text/html": [
       "<h2>Dataset evaluation:</h2>"
      ],
      "text/plain": [
       "<IPython.core.display.HTML object>"
      ]
     },
     "metadata": {},
     "output_type": "display_data"
    },
    {
     "data": {
      "text/html": [
       "<table><tr><th title=\"\">x_0</th><th title=\"\">Y</th><th title=\"\">Ŷ</th></tr><tr><td>0</td><td>1</td><td>0.999999999999999</td></tr><tr><td>1</td><td>0</td><td>0.0</td></tr></table>"
      ],
      "text/plain": [
       "<__main__.Table at 0x7f496a8eaeb8>"
      ]
     },
     "metadata": {},
     "output_type": "display_data"
    },
    {
     "data": {
      "image/png": "[encoded data removed]",
      "text/latex": [
       "$$- 0.999999999999999 x_{0} + 0.999999999999999$$"
      ],
      "text/plain": [
       "-0.999999999999999⋅x₀ + 0.999999999999999"
      ]
     },
     "execution_count": 4,
     "metadata": {},
     "output_type": "execute_result"
    }
   ],
   "source": [
    "def linear_not():\n",
    "    data = [\n",
    "        {'X': [0], 'Y': 1},\n",
    "        {'X': [1], 'Y': 0},\n",
    "    ]\n",
    "\n",
    "    x = SymbolVector.x\n",
    "    w = SymbolVector.w\n",
    "    bias = sympy.Symbol(\"b\")\n",
    "    \n",
    "    return optimize(\"NOT (Linear)\", x[0]*w[0] + bias, data)\n",
    "\n",
    "linear_not()"
   ]
  },
  {
   "cell_type": "code",
   "execution_count": 5,
   "metadata": {},
   "outputs": [
    {
     "data": {
      "text/html": [
       "<h1>Optimizing Function XOR (Linear)</h1>"
      ],
      "text/plain": [
       "<IPython.core.display.HTML object>"
      ]
     },
     "metadata": {},
     "output_type": "display_data"
    },
    {
     "data": {
      "text/html": [
       "<h2>Function:</h2>"
      ],
      "text/plain": [
       "<IPython.core.display.HTML object>"
      ]
     },
     "metadata": {},
     "output_type": "display_data"
    },
    {
     "data": {
      "image/png": "[encoded data removed]",
      "text/latex": [
       "$$b + w_{0} x_{0} + w_{1} x_{1}$$"
      ],
      "text/plain": [
       "b + w₀⋅x₀ + w₁⋅x₁"
      ]
     },
     "metadata": {},
     "output_type": "display_data"
    },
    {
     "data": {
      "text/html": [
       "<h2>Cost:</h2>"
      ],
      "text/plain": [
       "<IPython.core.display.HTML object>"
      ]
     },
     "metadata": {},
     "output_type": "display_data"
    },
    {
     "data": {
      "image/png": "[encoded data removed]",
      "text/latex": [
       "$$b^{2} + \\left(b + w_{0} - 1\\right)^{2} + \\left(b + w_{0} + w_{1}\\right)^{2} + \\left(b + w_{1} - 1\\right)^{2}$$"
      ],
      "text/plain": [
       " 2               2                2               2\n",
       "b  + (b + w₀ - 1)  + (b + w₀ + w₁)  + (b + w₁ - 1) "
      ]
     },
     "metadata": {},
     "output_type": "display_data"
    },
    {
     "data": {
      "text/html": [
       "<h2>Gradient Descent:</h2>"
      ],
      "text/plain": [
       "<IPython.core.display.HTML object>"
      ]
     },
     "metadata": {},
     "output_type": "display_data"
    },
    {
     "data": {
      "text/html": [
       "<table><tr><th title=\"\">loop</th><th title=\"\">b</th><th title=\"\">w_0</th><th title=\"\">w_1</th><th title=\"8*b + 4*w_0 + 4*w_1 - 4\">Derivative(b, cost)</th><th title=\"4*b + 4*w_0 + 2*w_1 - 2\">Derivative(w_0, cost)</th><th title=\"4*b + 2*w_0 + 4*w_1 - 2\">Derivative(w_1, cost)</th><th title=\"b**2 + (b + w_0 - 1)**2 + (b + w_0 + w_1)**2 + (b + w_1 - 1)**2\">cost</th></tr><tr><td>0</td><td>-0.3372934495964037</td><td>-0.6902023983820726</td><td>-2.6135546880432687</td><td>-19.913375942472598</td><td>-11.337092768000442</td><td>-15.183797347322836</td><td>33.09095629726571</td></tr><tr><td>1</td><td>1.6540441446508563</td><td>0.44350687841797165</td><td>-1.0951749533109851</td><td>6.625680857634796</td><td>4.199854185653342</td><td>1.1224905221954282</td><td>5.1398344562655325</td></tr><tr><td>2</td><td>0.9914760588873766</td><td>0.023521459852637427</td><td>-1.2074240055305279</td><td>-0.8038017116125484</td><td>-0.35485793610099936</td><td>-2.8167488668673304</td><td>2.4988070626794374</td></tr><tr><td>3</td><td>1.0718562300486314</td><td>0.059007253462737365</td><td>-0.9257491188437947</td><td>1.1078823788648222</td><td>0.6719556963578855</td><td>-1.2975570482551788</td><td>1.9372059973387266</td></tr><tr><td>4</td><td>0.9610679921621492</td><td>-0.008188316173051192</td><td>-0.7959934140182768</td><td>0.47181701653188135</td><td>0.21953187591983866</td><td>-1.3560783197706128</td><td>1.6475857697502871</td></tr><tr><td>5</td><td>0.9138862905089611</td><td>-0.03014150376503506</td><td>-0.6603855820412156</td><td>0.5489819808466869</td><td>0.2142079828932732</td><td>-1.0462801736590879</td><td>1.4558539531730297</td></tr><tr><td>6</td><td>0.8589880924242924</td><td>-0.05156230205436238</td><td>-0.5557575646753068</td><td>0.44262527247566297</td><td>0.11818803212910656</td><td>-0.8902024931127821</td><td>1.3237699624266077</td></tr><tr><td>7</td><td>0.8147255651767261</td><td>-0.06338110526727303</td><td>-0.46673731536402857</td><td>0.3973308388886023</td><td>0.0719032089097551</td><td>-0.7348092112837559</td><td>1.2317278732788668</td></tr><tr><td>8</td><td>0.7749924812878659</td><td>-0.07057142615824855</td><td>-0.39325639423565295</td><td>0.3446285687273214</td><td>0.031171432047163328</td><td>-0.6141985041076454</td><td>1.1670539709461765</td></tr><tr><td>9</td><td>0.7405296244151338</td><td>-0.07368856936296488</td><td>-0.3318365438248884</td><td>0.3021365425696567</td><td>0.003691132558898802</td><td>-0.5126048163649484</td><td>1.1212509027196544</td></tr><tr><td>10</td><td>0.7103159701581682</td><td>-0.07405768261885476</td><td>-0.2805760621883936</td><td>0.26399278203635124</td><td>-0.016118974219533344</td><td>-0.42915573335861135</td><td>1.0885632288384761</td></tr><tr><td>20</td><td>0.5549871748735133</td><td>-0.03527068464675944</td><td>-0.05744542680361153</td><td>0.06903295318662295</td><td>-0.03602489270020745</td><td>-0.08037437701391159</td><td>1.0048418450452044</td></tr><tr><td>30</td><td>0.5143761415836853</td><td>-0.010929601036321786</td><td>-0.013310595845344605</td><td>0.018048345142816835</td><td>-0.012835029501235148</td><td>-0.017597019119280896</td><td>1.000316987063221</td></tr><tr><td>40</td><td>0.5037585754727949</td><td>-0.0030409147817921324</td><td>-0.003296572152709579</td><td>0.00471865604435262</td><td>-0.003722501541408168</td><td>-0.004233816283242766</td><td>1.000021506157847</td></tr><tr><td>50</td><td>0.5009826621073854</td><td>-0.0008147277673665882</td><td>-0.0008421787685434124</td><td>0.0012336707154432247</td><td>-0.00101262017701137</td><td>-0.0010675221793654145</td><td>1.0000014681678777</td></tr><tr><td>60</td><td>0.5002569124457605</td><td>-0.0002151214962346335</td><td>-0.00021806902504209932</td><td>0.00032253748097677004</td><td>-0.0002689742519807394</td><td>-0.00027486930959565636</td><td>1.0000001003332595</td></tr><tr><td>70</td><td>0.5000671685661742</td><td>-5.646958105694946e-05</td><td>-5.6786069552783544e-05</td><td>8.432592695406527e-05</td><td>-7.077619863679773e-05</td><td>-7.14091756284239e-05</td><td>1.0000000068579</td></tr><tr><td>80</td><td>0.5000175609097821</td><td>-1.4788090672617133e-05</td><td>-1.4822073366135192e-05</td><td>2.2046622101257185e-05</td><td>-1.8552870294481163e-05</td><td>-1.8620835681457317e-05</td><td>1.00000000046876</td></tr><tr><td>90</td><td>0.5000045912183324</td><td>-3.868895526309465e-06</td><td>-3.872544390269299e-06</td><td>5.7639869925907306e-06</td><td>-4.8557975561560025e-06</td><td>-4.8630952842399106e-06</td><td>1.0000000000320415</td></tr><tr><td>100</td><td>0.5000012003527173</td><td>-1.0117858656053199e-06</td><td>-1.0121776593976347e-06</td><td>1.5069676386758601e-06</td><td>-1.270087912014309e-06</td><td>-1.2708714993223045e-06</td><td>1.0000000000021902</td></tr><tr><td>200</td><td>0.5000000000017911</td><td>-1.509961901106189e-12</td><td>-1.5099619011457969e-12</td><td>2.2497559371004172e-12</td><td>-1.8951630088941213e-12</td><td>-1.895163009052553e-12</td><td>0.9999999999999999</td></tr><tr><td>300</td><td>0.5000000000000002</td><td>-1.1102230377446416e-16</td><td>-1.1102230377446416e-16</td><td>0.0</td><td>-5.2477940284194234e-24</td><td>-5.2477940284194234e-24</td><td>1.0</td></tr><tr><td>400</td><td>0.5000000000000002</td><td>-1.1102230246251568e-16</td><td>-1.1102230246251568e-16</td><td>0.0</td><td>-9.860761315262648e-32</td><td>-9.860761315262648e-32</td><td>1.0</td></tr><tr><td>500</td><td>0.5000000000000002</td><td>-1.1102230246251568e-16</td><td>-1.1102230246251568e-16</td><td>0.0</td><td>-9.860761315262648e-32</td><td>-9.860761315262648e-32</td><td>1.0</td></tr><tr><td>600</td><td>0.5000000000000002</td><td>-1.1102230246251568e-16</td><td>-1.1102230246251568e-16</td><td>0.0</td><td>-9.860761315262648e-32</td><td>-9.860761315262648e-32</td><td>1.0</td></tr><tr><td>700</td><td>0.5000000000000002</td><td>-1.1102230246251568e-16</td><td>-1.1102230246251568e-16</td><td>0.0</td><td>-9.860761315262648e-32</td><td>-9.860761315262648e-32</td><td>1.0</td></tr><tr><td>800</td><td>0.5000000000000002</td><td>-1.1102230246251568e-16</td><td>-1.1102230246251568e-16</td><td>0.0</td><td>-9.860761315262648e-32</td><td>-9.860761315262648e-32</td><td>1.0</td></tr><tr><td>900</td><td>0.5000000000000002</td><td>-1.1102230246251568e-16</td><td>-1.1102230246251568e-16</td><td>0.0</td><td>-9.860761315262648e-32</td><td>-9.860761315262648e-32</td><td>1.0</td></tr><tr><td>1000</td><td>0.5000000000000002</td><td>-1.1102230246251568e-16</td><td>-1.1102230246251568e-16</td><td>0.0</td><td>-9.860761315262648e-32</td><td>-9.860761315262648e-32</td><td>1.0</td></tr><tr><td>2000</td><td>0.5000000000000002</td><td>-1.1102230246251568e-16</td><td>-1.1102230246251568e-16</td><td>0.0</td><td>-9.860761315262648e-32</td><td>-9.860761315262648e-32</td><td>1.0</td></tr><tr><td>3000</td><td>0.5000000000000002</td><td>-1.1102230246251568e-16</td><td>-1.1102230246251568e-16</td><td>0.0</td><td>-9.860761315262648e-32</td><td>-9.860761315262648e-32</td><td>1.0</td></tr><tr><td>4000</td><td>0.5000000000000002</td><td>-1.1102230246251568e-16</td><td>-1.1102230246251568e-16</td><td>0.0</td><td>-9.860761315262648e-32</td><td>-9.860761315262648e-32</td><td>1.0</td></tr><tr><td>5000</td><td>0.5000000000000002</td><td>-1.1102230246251568e-16</td><td>-1.1102230246251568e-16</td><td>0.0</td><td>-9.860761315262648e-32</td><td>-9.860761315262648e-32</td><td>1.0</td></tr></table>"
      ],
      "text/plain": [
       "<__main__.Table at 0x7f496a94d390>"
      ]
     },
     "metadata": {},
     "output_type": "display_data"
    },
    {
     "data": {
      "text/html": [
       "<h2>Optimized Function:</h2>"
      ],
      "text/plain": [
       "<IPython.core.display.HTML object>"
      ]
     },
     "metadata": {},
     "output_type": "display_data"
    },
    {
     "data": {
      "image/png": "[encoded data removed]",
      "text/latex": [
       "$$- 1.11022302462516 \\cdot 10^{-16} x_{0} - 1.11022302462516 \\cdot 10^{-16} x_{1} + 0.5$$"
      ],
      "text/plain": [
       "-1.11022302462516e-16⋅x₀ - 1.11022302462516e-16⋅x₁ + 0.5"
      ]
     },
     "metadata": {},
     "output_type": "display_data"
    },
    {
     "data": {
      "text/html": [
       "<h2>Dataset evaluation:</h2>"
      ],
      "text/plain": [
       "<IPython.core.display.HTML object>"
      ]
     },
     "metadata": {},
     "output_type": "display_data"
    },
    {
     "data": {
      "text/html": [
       "<table><tr><th title=\"\">x_0</th><th title=\"\">x_1</th><th title=\"\">Y</th><th title=\"\">Ŷ</th></tr><tr><td>0</td><td>0</td><td>0</td><td>0.5</td></tr><tr><td>0</td><td>1</td><td>1</td><td>0.4999999999999999</td></tr><tr><td>1</td><td>0</td><td>1</td><td>0.4999999999999999</td></tr><tr><td>1</td><td>1</td><td>0</td><td>0.4999999999999998</td></tr></table>"
      ],
      "text/plain": [
       "<__main__.Table at 0x7f496a907c50>"
      ]
     },
     "metadata": {},
     "output_type": "display_data"
    },
    {
     "data": {
      "image/png": "[encoded data removed]",
      "text/latex": [
       "$$- 1.11022302462516 \\cdot 10^{-16} x_{0} - 1.11022302462516 \\cdot 10^{-16} x_{1} + 0.5$$"
      ],
      "text/plain": [
       "-1.11022302462516e-16⋅x₀ - 1.11022302462516e-16⋅x₁ + 0.5"
      ]
     },
     "execution_count": 5,
     "metadata": {},
     "output_type": "execute_result"
    }
   ],
   "source": [
    "def linear_xor():\n",
    "    data = [\n",
    "        {'X': [0, 0], 'Y': 0},\n",
    "        {'X': [0, 1], 'Y': 1},\n",
    "        {'X': [1, 0], 'Y': 1},\n",
    "        {'X': [1, 1], 'Y': 0},\n",
    "    ]\n",
    "\n",
    "    x = SymbolVector.x\n",
    "    w = SymbolVector.w\n",
    "    bias = sympy.Symbol(\"b\")\n",
    "    \n",
    "    return optimize(\"XOR (Linear)\", x[0]*w[0] + x[1]*w[1] + bias, data)\n",
    "\n",
    "linear_xor()"
   ]
  },
  {
   "cell_type": "code",
   "execution_count": 6,
   "metadata": {},
   "outputs": [
    {
     "data": {
      "text/html": [
       "<h1>Optimizing Function XOR (With extra nonlinear term x_0*x_1)</h1>"
      ],
      "text/plain": [
       "<IPython.core.display.HTML object>"
      ]
     },
     "metadata": {},
     "output_type": "display_data"
    },
    {
     "data": {
      "text/html": [
       "<h2>Function:</h2>"
      ],
      "text/plain": [
       "<IPython.core.display.HTML object>"
      ]
     },
     "metadata": {},
     "output_type": "display_data"
    },
    {
     "data": {
      "image/png": "[encoded data removed]",
      "text/latex": [
       "$$b + w_{0} x_{0} + w_{1} x_{1} + w_{2} x_{0} x_{1}$$"
      ],
      "text/plain": [
       "b + w₀⋅x₀ + w₁⋅x₁ + w₂⋅x₀⋅x₁"
      ]
     },
     "metadata": {},
     "output_type": "display_data"
    },
    {
     "data": {
      "text/html": [
       "<h2>Cost:</h2>"
      ],
      "text/plain": [
       "<IPython.core.display.HTML object>"
      ]
     },
     "metadata": {},
     "output_type": "display_data"
    },
    {
     "data": {
      "image/png": "[encoded data removed]",
      "text/latex": [
       "$$b^{2} + \\left(b + w_{0} - 1\\right)^{2} + \\left(b + w_{1} - 1\\right)^{2} + \\left(b + w_{0} + w_{1} + w_{2}\\right)^{2}$$"
      ],
      "text/plain": [
       " 2               2               2                     2\n",
       "b  + (b + w₀ - 1)  + (b + w₁ - 1)  + (b + w₀ + w₁ + w₂) "
      ]
     },
     "metadata": {},
     "output_type": "display_data"
    },
    {
     "data": {
      "text/html": [
       "<h2>Gradient Descent:</h2>"
      ],
      "text/plain": [
       "<IPython.core.display.HTML object>"
      ]
     },
     "metadata": {},
     "output_type": "display_data"
    },
    {
     "data": {
      "text/html": [
       "<table><tr><th title=\"\">loop</th><th title=\"\">b</th><th title=\"\">w_0</th><th title=\"\">w_1</th><th title=\"\">w_2</th><th title=\"8*b + 4*w_0 + 4*w_1 + 2*w_2 - 4\">Derivative(b, cost)</th><th title=\"4*b + 4*w_0 + 2*w_1 + 2*w_2 - 2\">Derivative(w_0, cost)</th><th title=\"4*b + 2*w_0 + 4*w_1 + 2*w_2 - 2\">Derivative(w_1, cost)</th><th title=\"2*b + 2*w_0 + 2*w_1 + 2*w_2\">Derivative(w_2, cost)</th><th title=\"b**2 + (b + w_0 - 1)**2 + (b + w_1 - 1)**2 + (b + w_0 + w_1 + w_2)**2\">cost</th></tr><tr><td>0</td><td>2.170485828954436</td><td>-0.8577825800121699</td><td>-0.08355309388594907</td><td>-0.20592140998575972</td><td>9.186701116071493</td><td>2.6718639880256463</td><td>4.2203229602780885</td><td>2.0464574901411146</td><td>7.037211890893203</td></tr><tr><td>1</td><td>1.2518157173472866</td><td>-1.1249689788147346</td><td>-0.505585389913758</td><td>-0.4105671589998712</td><td>-1.3288260541354209</td><td>-3.3249181436970505</td><td>-2.0861509658950967</td><td>-1.5786116207621543</td><td>3.0168419172247662</td></tr><tr><td>2</td><td>1.3846983227608287</td><td>-0.7924771644450295</td><td>-0.2969702933242483</td><td>-0.2527059969236557</td><td>2.2143847571622075</td><td>-0.7304679472326114</td><td>0.26054579500895114</td><td>0.08508973613579052</td><td>2.093179301729701</td></tr><tr><td>3</td><td>1.1632598470446078</td><td>-0.7194303697217683</td><td>-0.3230248728251434</td><td>-0.26121497053723475</td><td>0.6138278650947466</td><td>-1.3931617774333986</td><td>-0.6003507836401487</td><td>-0.2808207320790773</td><td>1.7077390563952428</td></tr><tr><td>4</td><td>1.1018770605351331</td><td>-0.5801141919784285</td><td>-0.2629897944611285</td><td>-0.23313289732932702</td><td>0.9763347438641823</td><td>-0.9051939093540926</td><td>-0.27094511431949253</td><td>0.05128035353249816</td><td>1.4694585421223705</td></tr><tr><td>5</td><td>1.004243586148715</td><td>-0.4895948010430192</td><td>-0.23589528302917928</td><td>-0.23826093268257684</td><td>0.6554664875357705</td><td>-0.8897172910007298</td><td>-0.38231825497304994</td><td>0.08098513878787911</td><td>1.29937313896393</td></tr><tr><td>6</td><td>0.9386969373951378</td><td>-0.4006230719429462</td><td>-0.19766345753187428</td><td>-0.24635944656136474</td><td>0.6237104881390909</td><td>-0.7357503463777118</td><td>-0.3298311175555678</td><td>0.1881019227179051</td><td>1.1704369359375653</td></tr><tr><td>7</td><td>0.8763258885812287</td><td>-0.32704803730517507</td><td>-0.1646803457763175</td><td>-0.26516963883315525</td><td>0.513354298657549</td><td>-0.6625885641147309</td><td>-0.33785318105701545</td><td>0.2388557333331618</td><td>1.068508826668816</td></tr><tr><td>8</td><td>0.8249904587154738</td><td>-0.26078918089370196</td><td>-0.13089502767061595</td><td>-0.28905521216647145</td><td>0.4550764111335761</td><td>-0.5830953683870876</td><td>-0.3233070619409155</td><td>0.28850207596936894</td><td>0.9849157504910346</td></tr><tr><td>9</td><td>0.7794828176021162</td><td>-0.2024796440549932</td><td>-0.09856432147652439</td><td>-0.31790541976340836</td><td>0.39587583916404245</td><td>-0.5249267882913733</td><td>-0.3170961431344357</td><td>0.3210668646143806</td><td>0.9141037671292205</td></tr><tr><td>10</td><td>0.739895233685712</td><td>-0.14998696522585586</td><td>-0.06685470716308081</td><td>-0.3500121062248464</td><td>0.35177096748025694</td><td>-0.47410055293642994</td><td>-0.30783603681088</td><td>0.3460829101438577</td><td>0.8524660275784365</td></tr><tr><td>20</td><td>0.4997496420853904</td><td>0.19644852625586504</td><td>0.20537478449642135</td><td>-0.7224573390469131</td><td>0.1603757015984426</td><td>-0.2493724357359618</td><td>-0.23151991925484905</td><td>0.35823122758152737</td><td>0.4610792645860313</td></tr><tr><td>30</td><td>0.3662360359047233</td><td>0.4079610055435442</td><td>0.4089194552240152</td><td>-1.0444907626710658</td><td>0.10842860496589246</td><td>-0.17435444910103115</td><td>-0.17243754974008896</td><td>0.27725146800243383</td><td>0.2548879573828562</td></tr><tr><td>40</td><td>0.2717821868188327</td><td>0.5603055269769555</td><td>0.5604084397277675</td><td>-1.2888203149236477</td><td>0.07947273152225875</td><td>-0.1284728952086076</td><td>-0.12826706970698343</td><td>0.20735167719981584</td><td>0.14096875825856878</td></tr><tr><td>50</td><td>0.20205779142354524</td><td>0.6730698902939768</td><td>0.6730809404664538</td><td>-1.471043986293073</td><td>0.05897768184393826</td><td>-0.09541536478314994</td><td>-0.09539326443819585</td><td>0.15432927178180522</td><td>0.07796516425441447</td></tr><tr><td>60</td><td>0.15026059876515668</td><td>0.7568739166745992</td><td>0.7568751031778344</td><td>-1.6066167417953778</td><td>0.043847385940232186</td><td>-0.0709452154760637</td><td>-0.07094284246959282</td><td>0.11478575364442456</td><td>0.04311996592742299</td></tr><tr><td>70</td><td>0.11174580318464117</td><td>0.8191915645719658</td><td>0.8191916919717807</td><td>-1.7074461290242775</td><td>0.03260719360356035</td><td>-0.05275940307856519</td><td>-0.05275914827893624</td><td>0.08536586140822067</td><td>0.023848233850527832</td></tr><tr><td>80</td><td>0.08310357816278205</td><td>0.8655355937009718</td><td>0.8655356073804227</td><td>-1.782432055012907</td><td>0.02424931960202037</td><td>-0.039236207809953516</td><td>-0.039236180451051705</td><td>0.06348544846253912</td><td>0.013189673173586425</td></tr><tr><td>90</td><td>0.06180285976986444</td><td>0.9000008731231118</td><td>0.9000008745919318</td><td>-1.838198017591813</td><td>0.018033833835465085</td><td>-0.029179354427856907</td><td>-0.029179351490217442</td><td>0.04721317978619011</td><td>0.007294774091729635</td></tr><tr><td>100</td><td>0.04596184664264855</td><td>0.9256321700358945</td><td>0.9256321701936078</td><td>-1.8796703238483583</td><td>0.013411486362480851</td><td>-0.0217002405953286</td><td>-0.02170024027990225</td><td>0.03511172604758528</td><td>0.0040344994412702916</td></tr><tr><td>200</td><td>0.002378408954460515</td><td>0.9961516534725356</td><td>0.9961516534725356</td><td>-1.993773244518075</td><td>0.0006940103798190218</td><td>-0.0011229323830939109</td><td>-0.0011229323830939109</td><td>0.0018169427629137758</td><td>1.0803582342641004e-05</td></tr><tr><td>300</td><td>0.00012307662956096953</td><td>0.9998008578301496</td><td>0.9998008578301496</td><td>-1.9996777812005884</td><td>3.5913276507846615e-05</td><td>-5.810890203505892e-05</td><td>-5.810890203505892e-05</td><td>9.402217854370676e-05</td><td>2.8929832097645734e-08</td></tr><tr><td>400</td><td>6.368903344354035e-06</td><td>0.9999896948979178</td><td>0.9999896948979178</td><td>-1.9999833259945734</td><td>1.8584209507138225e-06</td><td>-3.0069882628325217e-06</td><td>-3.0069882628325217e-06</td><td>4.8654092132949245e-06</td><td>7.746830252050064e-11</td></tr><tr><td>500</td><td>3.2957459061839375e-07</td><td>0.9999994667371105</td><td>0.9999994667371105</td><td>-1.9999991371625199</td><td>9.616856866362484e-08</td><td>-1.5560401411818248e-07</td><td>-1.5560401411818248e-07</td><td>2.5177258322628404e-07</td><td>2.074446154102802e-13</td></tr><tr><td>600</td><td>1.7054648996174525e-08</td><td>0.9999999724049983</td><td>0.9999999724049983</td><td>-1.9999999553503494</td><td>4.976479875484673e-09</td><td>-8.052113198431243e-09</td><td>-8.052113198431243e-09</td><td>1.302859242713339e-08</td><td>5.554951776958053e-16</td></tr><tr><td>700</td><td>8.825348142941043e-10</td><td>0.9999999985720287</td><td>0.9999999985720287</td><td>-1.999999997689494</td><td>2.5752015772514293e-10</td><td>-4.1667647110443795e-10</td><td>-4.1667647110443795e-10</td><td>6.741966984691317e-10</td><td>1.487504889323064e-18</td></tr><tr><td>800</td><td>4.5669036728176885e-11</td><td>0.999999999926106</td><td>0.999999999926106</td><td>-1.999999999880437</td><td>1.3326329890949247e-11</td><td>-2.156186340585009e-11</td><td>-2.156186340585009e-11</td><td>3.488809241503077e-11</td><td>3.983254419859201e-21</td></tr><tr><td>900</td><td>2.3632218141353514e-12</td><td>0.9999999999961763</td><td>0.9999999999961763</td><td>-1.9999999999938132</td><td>6.905673926627925e-13</td><td>-1.1159961843532074e-12</td><td>-1.1159961843532074e-12</td><td>1.8052226380405045e-12</td><td>1.0665635623954898e-23</td></tr><tr><td>1000</td><td>1.222942306536899e-13</td><td>0.9999999999998022</td><td>0.9999999999998022</td><td>-1.9999999999996798</td><td>3.5996541927686246e-14</td><td>-5.728750807065808e-14</td><td>-5.728750807065808e-14</td><td>9.370282327836321e-14</td><td>2.8549973704205566e-26</td></tr><tr><td>2000</td><td>1.27675647831893e-15</td><td>0.9999999999999979</td><td>0.9999999999999979</td><td>-1.9999999999999967</td><td>0.0</td><td>-4.440892098500626e-16</td><td>-4.440892098500626e-16</td><td>4.440892098500626e-16</td><td>2.887354172625344e-30</td></tr><tr><td>3000</td><td>1.27675647831893e-15</td><td>0.9999999999999979</td><td>0.9999999999999979</td><td>-1.9999999999999967</td><td>0.0</td><td>-4.440892098500626e-16</td><td>-4.440892098500626e-16</td><td>4.440892098500626e-16</td><td>2.887354172625344e-30</td></tr><tr><td>4000</td><td>1.27675647831893e-15</td><td>0.9999999999999979</td><td>0.9999999999999979</td><td>-1.9999999999999967</td><td>0.0</td><td>-4.440892098500626e-16</td><td>-4.440892098500626e-16</td><td>4.440892098500626e-16</td><td>2.887354172625344e-30</td></tr><tr><td>5000</td><td>1.27675647831893e-15</td><td>0.9999999999999979</td><td>0.9999999999999979</td><td>-1.9999999999999967</td><td>0.0</td><td>-4.440892098500626e-16</td><td>-4.440892098500626e-16</td><td>4.440892098500626e-16</td><td>2.887354172625344e-30</td></tr></table>"
      ],
      "text/plain": [
       "<__main__.Table at 0x7f496a8a1be0>"
      ]
     },
     "metadata": {},
     "output_type": "display_data"
    },
    {
     "data": {
      "text/html": [
       "<h2>Optimized Function:</h2>"
      ],
      "text/plain": [
       "<IPython.core.display.HTML object>"
      ]
     },
     "metadata": {},
     "output_type": "display_data"
    },
    {
     "data": {
      "image/png": "[encoded data removed]",
      "text/latex": [
       "$$- 2.0 x_{0} x_{1} + 0.999999999999998 x_{0} + 0.999999999999998 x_{1} + 1.27675647831893 \\cdot 10^{-15}$$"
      ],
      "text/plain": [
       "-2.0⋅x₀⋅x₁ + 0.999999999999998⋅x₀ + 0.999999999999998⋅x₁ + 1.27675647831893e-1\n",
       "5"
      ]
     },
     "metadata": {},
     "output_type": "display_data"
    },
    {
     "data": {
      "text/html": [
       "<h2>Dataset evaluation:</h2>"
      ],
      "text/plain": [
       "<IPython.core.display.HTML object>"
      ]
     },
     "metadata": {},
     "output_type": "display_data"
    },
    {
     "data": {
      "text/html": [
       "<table><tr><th title=\"\">x_0</th><th title=\"\">x_1</th><th title=\"\">Y</th><th title=\"\">Ŷ</th></tr><tr><td>0</td><td>0</td><td>0</td><td>1.27675647831893e-15</td></tr><tr><td>0</td><td>1</td><td>1</td><td>0.9999999999999993</td></tr><tr><td>1</td><td>0</td><td>1</td><td>0.9999999999999993</td></tr><tr><td>1</td><td>1</td><td>0</td><td>-2.6645352591003757e-15</td></tr></table>"
      ],
      "text/plain": [
       "<__main__.Table at 0x7f496a75a6d8>"
      ]
     },
     "metadata": {},
     "output_type": "display_data"
    },
    {
     "data": {
      "image/png": "[encoded data removed]",
      "text/latex": [
       "$$- 2.0 x_{0} x_{1} + 0.999999999999998 x_{0} + 0.999999999999998 x_{1} + 1.27675647831893 \\cdot 10^{-15}$$"
      ],
      "text/plain": [
       "-2.0⋅x₀⋅x₁ + 0.999999999999998⋅x₀ + 0.999999999999998⋅x₁ + 1.27675647831893e-1\n",
       "5"
      ]
     },
     "execution_count": 6,
     "metadata": {},
     "output_type": "execute_result"
    }
   ],
   "source": [
    "def mul_xor():\n",
    "    data = [\n",
    "        {'X': [0, 0], 'Y': 0},\n",
    "        {'X': [0, 1], 'Y': 1},\n",
    "        {'X': [1, 0], 'Y': 1},\n",
    "        {'X': [1, 1], 'Y': 0},\n",
    "    ]\n",
    "\n",
    "    x = SymbolVector.x\n",
    "    w = SymbolVector.w\n",
    "    bias = sympy.Symbol(\"b\")\n",
    "    return optimize(\"XOR (With extra nonlinear term x_0*x_1)\", x[0]*w[0] + x[1]*w[1] + x[0]*x[1]*w[2]+ bias, data)\n",
    "    \n",
    "mul_xor()"
   ]
  },
  {
   "cell_type": "code",
   "execution_count": 7,
   "metadata": {},
   "outputs": [],
   "source": [
    "class Neuron:\n",
    "    next_b = iter(SymbolVector('b'))\n",
    "    next_w = iter(SymbolVector('w'))\n",
    "    \n",
    "    def __init__(self, inputs, activation_function=None):\n",
    "        self.x = inputs\n",
    "        self.w = [next(Neuron.next_w) for input in inputs]\n",
    "        self.bias = next(Neuron.next_b)\n",
    "        self.expr = sum([x*w for x,w in zip(self.x, self.w)]) + self.bias\n",
    "        if activation_function is not None:\n",
    "            self.expr = activation_function(self.expr)\n",
    "\n",
    "\n",
    "class NeuralNetwork:\n",
    "    @staticmethod\n",
    "    def logistic(expr):\n",
    "        exp = sympy.functions.elementary.exponential.exp\n",
    "        return -1 + 2 / (1 + exp(-expr))\n",
    "    \n",
    "    def __init__(self, inputs, dims=[], activation_function=None):\n",
    "        dims = dims + [1]  # Add one last neuron to collect all the results\n",
    "        self.layers = [inputs]\n",
    "        \n",
    "        for dim in dims:\n",
    "            prev_layer = self.layers[-1]\n",
    "            self.layers.append([\n",
    "                Neuron(prev_layer, activation_function).expr\n",
    "                for i in range(dim)\n",
    "            ])\n",
    "\n",
    "        self.expr = self.layers[-1][0]\n",
    "        \n",
    "        \n",
    "#TODO: Draw a neural network"
   ]
  },
  {
   "cell_type": "code",
   "execution_count": 8,
   "metadata": {},
   "outputs": [
    {
     "data": {
      "text/html": [
       "<h1>Optimizing Function XOR (2 layer net + logistic activation function)</h1>"
      ],
      "text/plain": [
       "<IPython.core.display.HTML object>"
      ]
     },
     "metadata": {},
     "output_type": "display_data"
    },
    {
     "data": {
      "text/html": [
       "<h2>Function:</h2>"
      ],
      "text/plain": [
       "<IPython.core.display.HTML object>"
      ]
     },
     "metadata": {},
     "output_type": "display_data"
    },
    {
     "data": {
      "image/png": "[encoded data removed]",
      "text/latex": [
       "$$-1 + \\frac{2}{e^{- b_{2} - w_{4} \\left(-1 + \\frac{2}{e^{- b_{0} - w_{0} x_{0} - w_{1} x_{1}} + 1}\\right) - w_{5} \\left(-1 + \\frac{2}{e^{- b_{1} - w_{2} x_{0} - w_{3} x_{1}} + 1}\\right)} + 1}$$"
      ],
      "text/plain": [
       "                                             2                                \n",
       "-1 + ─────────────────────────────────────────────────────────────────────────\n",
       "               ⎛                2            ⎞      ⎛                2        \n",
       "      -b₂ - w₄⋅⎜-1 + ────────────────────────⎟ - w₅⋅⎜-1 + ────────────────────\n",
       "               ⎜      -b₀ - w₀⋅x₀ - w₁⋅x₁    ⎟      ⎜      -b₁ - w₂⋅x₀ - w₃⋅x₁\n",
       "               ⎝     ℯ                    + 1⎠      ⎝     ℯ                   \n",
       "     ℯ                                                                        \n",
       "\n",
       "         \n",
       "─────────\n",
       "    ⎞    \n",
       "────⎟    \n",
       "    ⎟    \n",
       " + 1⎠    \n",
       "      + 1"
      ]
     },
     "metadata": {},
     "output_type": "display_data"
    },
    {
     "data": {
      "text/html": [
       "<h2>Cost:</h2>"
      ],
      "text/plain": [
       "<IPython.core.display.HTML object>"
      ]
     },
     "metadata": {},
     "output_type": "display_data"
    },
    {
     "data": {
      "image/png": "[encoded data removed]",
      "text/latex": [
       "$$\\left(-2 + \\frac{2}{e^{- b_{2} - w_{4} \\left(-1 + \\frac{2}{e^{- b_{0} - w_{0}} + 1}\\right) - w_{5} \\left(-1 + \\frac{2}{e^{- b_{1} - w_{2}} + 1}\\right)} + 1}\\right)^{2} + \\left(-2 + \\frac{2}{e^{- b_{2} - w_{4} \\left(-1 + \\frac{2}{e^{- b_{0} - w_{1}} + 1}\\right) - w_{5} \\left(-1 + \\frac{2}{e^{- b_{1} - w_{3}} + 1}\\right)} + 1}\\right)^{2} + \\left(-1 + \\frac{2}{e^{- b_{2} - w_{4} \\left(-1 + \\frac{2}{1 + e^{- b_{0}}}\\right) - w_{5} \\left(-1 + \\frac{2}{1 + e^{- b_{1}}}\\right)} + 1}\\right)^{2} + \\left(-1 + \\frac{2}{e^{- b_{2} - w_{4} \\left(-1 + \\frac{2}{e^{- b_{0} - w_{0} - w_{1}} + 1}\\right) - w_{5} \\left(-1 + \\frac{2}{e^{- b_{1} - w_{2} - w_{3}} + 1}\\right)} + 1}\\right)^{2}$$"
      ],
      "text/plain": [
       "                                                                   2          \n",
       "⎛                                  2                              ⎞    ⎛      \n",
       "⎜-2 + ────────────────────────────────────────────────────────────⎟  + ⎜-2 + ─\n",
       "⎜               ⎛           2      ⎞      ⎛           2      ⎞    ⎟    ⎜      \n",
       "⎜      -b₂ - w₄⋅⎜-1 + ─────────────⎟ - w₅⋅⎜-1 + ─────────────⎟    ⎟    ⎜      \n",
       "⎜               ⎜      -b₀ - w₀    ⎟      ⎜      -b₁ - w₂    ⎟    ⎟    ⎜      \n",
       "⎜               ⎝     ℯ         + 1⎠      ⎝     ℯ         + 1⎠    ⎟    ⎜      \n",
       "⎝     ℯ                                                        + 1⎠    ⎝     ℯ\n",
       "\n",
       "                                                            2                 \n",
       "                            2                              ⎞    ⎛             \n",
       "───────────────────────────────────────────────────────────⎟  + ⎜-1 + ────────\n",
       "         ⎛           2      ⎞      ⎛           2      ⎞    ⎟    ⎜             \n",
       "-b₂ - w₄⋅⎜-1 + ─────────────⎟ - w₅⋅⎜-1 + ─────────────⎟    ⎟    ⎜      -b₂ - w\n",
       "         ⎜      -b₀ - w₁    ⎟      ⎜      -b₁ - w₃    ⎟    ⎟    ⎜             \n",
       "         ⎝     ℯ         + 1⎠      ⎝     ℯ         + 1⎠    ⎟    ⎜             \n",
       "                                                        + 1⎠    ⎝     ℯ       \n",
       "\n",
       "                                           2                                  \n",
       "                2                         ⎞    ⎛                              \n",
       "──────────────────────────────────────────⎟  + ⎜-1 + ─────────────────────────\n",
       "  ⎛        2    ⎞      ⎛        2    ⎞    ⎟    ⎜               ⎛             2\n",
       "₄⋅⎜-1 + ────────⎟ - w₅⋅⎜-1 + ────────⎟    ⎟    ⎜      -b₂ - w₄⋅⎜-1 + ─────────\n",
       "  ⎜          -b₀⎟      ⎜          -b₁⎟    ⎟    ⎜               ⎜      -b₀ - w₀\n",
       "  ⎝     1 + ℯ   ⎠      ⎝     1 + ℯ   ⎠    ⎟    ⎜               ⎝     ℯ        \n",
       "                                       + 1⎠    ⎝     ℯ                        \n",
       "\n",
       "                                              2\n",
       "         2                                   ⎞ \n",
       "─────────────────────────────────────────────⎟ \n",
       "         ⎞      ⎛             2         ⎞    ⎟ \n",
       "─────────⎟ - w₅⋅⎜-1 + ──────────────────⎟    ⎟ \n",
       " - w₁    ⎟      ⎜      -b₁ - w₂ - w₃    ⎟    ⎟ \n",
       "      + 1⎠      ⎝     ℯ              + 1⎠    ⎟ \n",
       "                                          + 1⎠ "
      ]
     },
     "metadata": {},
     "output_type": "display_data"
    },
    {
     "data": {
      "text/html": [
       "<h2>Gradient Descent:</h2>"
      ],
      "text/plain": [
       "<IPython.core.display.HTML object>"
      ]
     },
     "metadata": {},
     "output_type": "display_data"
    },
    {
     "data": {
      "text/html": [
       "<table><tr><th title=\"\">loop</th><th title=\"\">b_0</th><th title=\"\">b_1</th><th title=\"\">b_2</th><th title=\"\">w_0</th><th title=\"\">w_1</th><th title=\"\">w_2</th><th title=\"\">w_3</th><th title=\"\">w_4</th><th title=\"\">w_5</th><th title=\"8*w_4*(-2 + 2/(exp(-b_2 - w_4*(-1 + 2/(exp(-b_0 - w_0) + 1)) - w_5*(-1 + 2/(exp(-b_1 - w_2) + 1))) + 1))*exp(-b_0 - w_0)*exp(-b_2 - w_4*(-1 + 2/(exp(-b_0 - w_0) + 1)) - w_5*(-1 + 2/(exp(-b_1 - w_2) + 1)))/((exp(-b_0 - w_0) + 1)**2*(exp(-b_2 - w_4*(-1 + 2/(exp(-b_0 - w_0) + 1)) - w_5*(-1 + 2/(exp(-b_1 - w_2) + 1))) + 1)**2) + 8*w_4*(-2 + 2/(exp(-b_2 - w_4*(-1 + 2/(exp(-b_0 - w_1) + 1)) - w_5*(-1 + 2/(exp(-b_1 - w_3) + 1))) + 1))*exp(-b_0 - w_1)*exp(-b_2 - w_4*(-1 + 2/(exp(-b_0 - w_1) + 1)) - w_5*(-1 + 2/(exp(-b_1 - w_3) + 1)))/((exp(-b_0 - w_1) + 1)**2*(exp(-b_2 - w_4*(-1 + 2/(exp(-b_0 - w_1) + 1)) - w_5*(-1 + 2/(exp(-b_1 - w_3) + 1))) + 1)**2) + 8*w_4*(-1 + 2/(exp(-b_2 - w_4*(-1 + 2/(1 + exp(-b_0))) - w_5*(-1 + 2/(1 + exp(-b_1)))) + 1))*exp(-b_0)*exp(-b_2 - w_4*(-1 + 2/(1 + exp(-b_0))) - w_5*(-1 + 2/(1 + exp(-b_1))))/((1 + exp(-b_0))**2*(exp(-b_2 - w_4*(-1 + 2/(1 + exp(-b_0))) - w_5*(-1 + 2/(1 + exp(-b_1)))) + 1)**2) + 8*w_4*(-1 + 2/(exp(-b_2 - w_4*(-1 + 2/(exp(-b_0 - w_0 - w_1) + 1)) - w_5*(-1 + 2/(exp(-b_1 - w_2 - w_3) + 1))) + 1))*exp(-b_0 - w_0 - w_1)*exp(-b_2 - w_4*(-1 + 2/(exp(-b_0 - w_0 - w_1) + 1)) - w_5*(-1 + 2/(exp(-b_1 - w_2 - w_3) + 1)))/((exp(-b_0 - w_0 - w_1) + 1)**2*(exp(-b_2 - w_4*(-1 + 2/(exp(-b_0 - w_0 - w_1) + 1)) - w_5*(-1 + 2/(exp(-b_1 - w_2 - w_3) + 1))) + 1)**2)\">Derivative(b_0, cost)</th><th title=\"8*w_5*(-2 + 2/(exp(-b_2 - w_4*(-1 + 2/(exp(-b_0 - w_0) + 1)) - w_5*(-1 + 2/(exp(-b_1 - w_2) + 1))) + 1))*exp(-b_1 - w_2)*exp(-b_2 - w_4*(-1 + 2/(exp(-b_0 - w_0) + 1)) - w_5*(-1 + 2/(exp(-b_1 - w_2) + 1)))/((exp(-b_1 - w_2) + 1)**2*(exp(-b_2 - w_4*(-1 + 2/(exp(-b_0 - w_0) + 1)) - w_5*(-1 + 2/(exp(-b_1 - w_2) + 1))) + 1)**2) + 8*w_5*(-2 + 2/(exp(-b_2 - w_4*(-1 + 2/(exp(-b_0 - w_1) + 1)) - w_5*(-1 + 2/(exp(-b_1 - w_3) + 1))) + 1))*exp(-b_1 - w_3)*exp(-b_2 - w_4*(-1 + 2/(exp(-b_0 - w_1) + 1)) - w_5*(-1 + 2/(exp(-b_1 - w_3) + 1)))/((exp(-b_1 - w_3) + 1)**2*(exp(-b_2 - w_4*(-1 + 2/(exp(-b_0 - w_1) + 1)) - w_5*(-1 + 2/(exp(-b_1 - w_3) + 1))) + 1)**2) + 8*w_5*(-1 + 2/(exp(-b_2 - w_4*(-1 + 2/(1 + exp(-b_0))) - w_5*(-1 + 2/(1 + exp(-b_1)))) + 1))*exp(-b_1)*exp(-b_2 - w_4*(-1 + 2/(1 + exp(-b_0))) - w_5*(-1 + 2/(1 + exp(-b_1))))/((1 + exp(-b_1))**2*(exp(-b_2 - w_4*(-1 + 2/(1 + exp(-b_0))) - w_5*(-1 + 2/(1 + exp(-b_1)))) + 1)**2) + 8*w_5*(-1 + 2/(exp(-b_2 - w_4*(-1 + 2/(exp(-b_0 - w_0 - w_1) + 1)) - w_5*(-1 + 2/(exp(-b_1 - w_2 - w_3) + 1))) + 1))*exp(-b_1 - w_2 - w_3)*exp(-b_2 - w_4*(-1 + 2/(exp(-b_0 - w_0 - w_1) + 1)) - w_5*(-1 + 2/(exp(-b_1 - w_2 - w_3) + 1)))/((exp(-b_1 - w_2 - w_3) + 1)**2*(exp(-b_2 - w_4*(-1 + 2/(exp(-b_0 - w_0 - w_1) + 1)) - w_5*(-1 + 2/(exp(-b_1 - w_2 - w_3) + 1))) + 1)**2)\">Derivative(b_1, cost)</th><th title=\"4*(-2 + 2/(exp(-b_2 - w_4*(-1 + 2/(exp(-b_0 - w_0) + 1)) - w_5*(-1 + 2/(exp(-b_1 - w_2) + 1))) + 1))*exp(-b_2 - w_4*(-1 + 2/(exp(-b_0 - w_0) + 1)) - w_5*(-1 + 2/(exp(-b_1 - w_2) + 1)))/(exp(-b_2 - w_4*(-1 + 2/(exp(-b_0 - w_0) + 1)) - w_5*(-1 + 2/(exp(-b_1 - w_2) + 1))) + 1)**2 + 4*(-2 + 2/(exp(-b_2 - w_4*(-1 + 2/(exp(-b_0 - w_1) + 1)) - w_5*(-1 + 2/(exp(-b_1 - w_3) + 1))) + 1))*exp(-b_2 - w_4*(-1 + 2/(exp(-b_0 - w_1) + 1)) - w_5*(-1 + 2/(exp(-b_1 - w_3) + 1)))/(exp(-b_2 - w_4*(-1 + 2/(exp(-b_0 - w_1) + 1)) - w_5*(-1 + 2/(exp(-b_1 - w_3) + 1))) + 1)**2 + 4*(-1 + 2/(exp(-b_2 - w_4*(-1 + 2/(1 + exp(-b_0))) - w_5*(-1 + 2/(1 + exp(-b_1)))) + 1))*exp(-b_2 - w_4*(-1 + 2/(1 + exp(-b_0))) - w_5*(-1 + 2/(1 + exp(-b_1))))/(exp(-b_2 - w_4*(-1 + 2/(1 + exp(-b_0))) - w_5*(-1 + 2/(1 + exp(-b_1)))) + 1)**2 + 4*(-1 + 2/(exp(-b_2 - w_4*(-1 + 2/(exp(-b_0 - w_0 - w_1) + 1)) - w_5*(-1 + 2/(exp(-b_1 - w_2 - w_3) + 1))) + 1))*exp(-b_2 - w_4*(-1 + 2/(exp(-b_0 - w_0 - w_1) + 1)) - w_5*(-1 + 2/(exp(-b_1 - w_2 - w_3) + 1)))/(exp(-b_2 - w_4*(-1 + 2/(exp(-b_0 - w_0 - w_1) + 1)) - w_5*(-1 + 2/(exp(-b_1 - w_2 - w_3) + 1))) + 1)**2\">Derivative(b_2, cost)</th><th title=\"8*w_4*(-2 + 2/(exp(-b_2 - w_4*(-1 + 2/(exp(-b_0 - w_0) + 1)) - w_5*(-1 + 2/(exp(-b_1 - w_2) + 1))) + 1))*exp(-b_0 - w_0)*exp(-b_2 - w_4*(-1 + 2/(exp(-b_0 - w_0) + 1)) - w_5*(-1 + 2/(exp(-b_1 - w_2) + 1)))/((exp(-b_0 - w_0) + 1)**2*(exp(-b_2 - w_4*(-1 + 2/(exp(-b_0 - w_0) + 1)) - w_5*(-1 + 2/(exp(-b_1 - w_2) + 1))) + 1)**2) + 8*w_4*(-1 + 2/(exp(-b_2 - w_4*(-1 + 2/(exp(-b_0 - w_0 - w_1) + 1)) - w_5*(-1 + 2/(exp(-b_1 - w_2 - w_3) + 1))) + 1))*exp(-b_0 - w_0 - w_1)*exp(-b_2 - w_4*(-1 + 2/(exp(-b_0 - w_0 - w_1) + 1)) - w_5*(-1 + 2/(exp(-b_1 - w_2 - w_3) + 1)))/((exp(-b_0 - w_0 - w_1) + 1)**2*(exp(-b_2 - w_4*(-1 + 2/(exp(-b_0 - w_0 - w_1) + 1)) - w_5*(-1 + 2/(exp(-b_1 - w_2 - w_3) + 1))) + 1)**2)\">Derivative(w_0, cost)</th><th title=\"8*w_4*(-2 + 2/(exp(-b_2 - w_4*(-1 + 2/(exp(-b_0 - w_1) + 1)) - w_5*(-1 + 2/(exp(-b_1 - w_3) + 1))) + 1))*exp(-b_0 - w_1)*exp(-b_2 - w_4*(-1 + 2/(exp(-b_0 - w_1) + 1)) - w_5*(-1 + 2/(exp(-b_1 - w_3) + 1)))/((exp(-b_0 - w_1) + 1)**2*(exp(-b_2 - w_4*(-1 + 2/(exp(-b_0 - w_1) + 1)) - w_5*(-1 + 2/(exp(-b_1 - w_3) + 1))) + 1)**2) + 8*w_4*(-1 + 2/(exp(-b_2 - w_4*(-1 + 2/(exp(-b_0 - w_0 - w_1) + 1)) - w_5*(-1 + 2/(exp(-b_1 - w_2 - w_3) + 1))) + 1))*exp(-b_0 - w_0 - w_1)*exp(-b_2 - w_4*(-1 + 2/(exp(-b_0 - w_0 - w_1) + 1)) - w_5*(-1 + 2/(exp(-b_1 - w_2 - w_3) + 1)))/((exp(-b_0 - w_0 - w_1) + 1)**2*(exp(-b_2 - w_4*(-1 + 2/(exp(-b_0 - w_0 - w_1) + 1)) - w_5*(-1 + 2/(exp(-b_1 - w_2 - w_3) + 1))) + 1)**2)\">Derivative(w_1, cost)</th><th title=\"8*w_5*(-2 + 2/(exp(-b_2 - w_4*(-1 + 2/(exp(-b_0 - w_0) + 1)) - w_5*(-1 + 2/(exp(-b_1 - w_2) + 1))) + 1))*exp(-b_1 - w_2)*exp(-b_2 - w_4*(-1 + 2/(exp(-b_0 - w_0) + 1)) - w_5*(-1 + 2/(exp(-b_1 - w_2) + 1)))/((exp(-b_1 - w_2) + 1)**2*(exp(-b_2 - w_4*(-1 + 2/(exp(-b_0 - w_0) + 1)) - w_5*(-1 + 2/(exp(-b_1 - w_2) + 1))) + 1)**2) + 8*w_5*(-1 + 2/(exp(-b_2 - w_4*(-1 + 2/(exp(-b_0 - w_0 - w_1) + 1)) - w_5*(-1 + 2/(exp(-b_1 - w_2 - w_3) + 1))) + 1))*exp(-b_1 - w_2 - w_3)*exp(-b_2 - w_4*(-1 + 2/(exp(-b_0 - w_0 - w_1) + 1)) - w_5*(-1 + 2/(exp(-b_1 - w_2 - w_3) + 1)))/((exp(-b_1 - w_2 - w_3) + 1)**2*(exp(-b_2 - w_4*(-1 + 2/(exp(-b_0 - w_0 - w_1) + 1)) - w_5*(-1 + 2/(exp(-b_1 - w_2 - w_3) + 1))) + 1)**2)\">Derivative(w_2, cost)</th><th title=\"8*w_5*(-2 + 2/(exp(-b_2 - w_4*(-1 + 2/(exp(-b_0 - w_1) + 1)) - w_5*(-1 + 2/(exp(-b_1 - w_3) + 1))) + 1))*exp(-b_1 - w_3)*exp(-b_2 - w_4*(-1 + 2/(exp(-b_0 - w_1) + 1)) - w_5*(-1 + 2/(exp(-b_1 - w_3) + 1)))/((exp(-b_1 - w_3) + 1)**2*(exp(-b_2 - w_4*(-1 + 2/(exp(-b_0 - w_1) + 1)) - w_5*(-1 + 2/(exp(-b_1 - w_3) + 1))) + 1)**2) + 8*w_5*(-1 + 2/(exp(-b_2 - w_4*(-1 + 2/(exp(-b_0 - w_0 - w_1) + 1)) - w_5*(-1 + 2/(exp(-b_1 - w_2 - w_3) + 1))) + 1))*exp(-b_1 - w_2 - w_3)*exp(-b_2 - w_4*(-1 + 2/(exp(-b_0 - w_0 - w_1) + 1)) - w_5*(-1 + 2/(exp(-b_1 - w_2 - w_3) + 1)))/((exp(-b_1 - w_2 - w_3) + 1)**2*(exp(-b_2 - w_4*(-1 + 2/(exp(-b_0 - w_0 - w_1) + 1)) - w_5*(-1 + 2/(exp(-b_1 - w_2 - w_3) + 1))) + 1)**2)\">Derivative(w_3, cost)</th><th title=\"-4*(-2 + 2/(exp(-b_2 - w_4*(-1 + 2/(exp(-b_0 - w_0) + 1)) - w_5*(-1 + 2/(exp(-b_1 - w_2) + 1))) + 1))*(1 - 2/(exp(-b_0 - w_0) + 1))*exp(-b_2 - w_4*(-1 + 2/(exp(-b_0 - w_0) + 1)) - w_5*(-1 + 2/(exp(-b_1 - w_2) + 1)))/(exp(-b_2 - w_4*(-1 + 2/(exp(-b_0 - w_0) + 1)) - w_5*(-1 + 2/(exp(-b_1 - w_2) + 1))) + 1)**2 - 4*(-2 + 2/(exp(-b_2 - w_4*(-1 + 2/(exp(-b_0 - w_1) + 1)) - w_5*(-1 + 2/(exp(-b_1 - w_3) + 1))) + 1))*(1 - 2/(exp(-b_0 - w_1) + 1))*exp(-b_2 - w_4*(-1 + 2/(exp(-b_0 - w_1) + 1)) - w_5*(-1 + 2/(exp(-b_1 - w_3) + 1)))/(exp(-b_2 - w_4*(-1 + 2/(exp(-b_0 - w_1) + 1)) - w_5*(-1 + 2/(exp(-b_1 - w_3) + 1))) + 1)**2 - 4*(-1 + 2/(exp(-b_2 - w_4*(-1 + 2/(1 + exp(-b_0))) - w_5*(-1 + 2/(1 + exp(-b_1)))) + 1))*(1 - 2/(1 + exp(-b_0)))*exp(-b_2 - w_4*(-1 + 2/(1 + exp(-b_0))) - w_5*(-1 + 2/(1 + exp(-b_1))))/(exp(-b_2 - w_4*(-1 + 2/(1 + exp(-b_0))) - w_5*(-1 + 2/(1 + exp(-b_1)))) + 1)**2 - 4*(-1 + 2/(exp(-b_2 - w_4*(-1 + 2/(exp(-b_0 - w_0 - w_1) + 1)) - w_5*(-1 + 2/(exp(-b_1 - w_2 - w_3) + 1))) + 1))*(1 - 2/(exp(-b_0 - w_0 - w_1) + 1))*exp(-b_2 - w_4*(-1 + 2/(exp(-b_0 - w_0 - w_1) + 1)) - w_5*(-1 + 2/(exp(-b_1 - w_2 - w_3) + 1)))/(exp(-b_2 - w_4*(-1 + 2/(exp(-b_0 - w_0 - w_1) + 1)) - w_5*(-1 + 2/(exp(-b_1 - w_2 - w_3) + 1))) + 1)**2\">Derivative(w_4, cost)</th><th title=\"-4*(-2 + 2/(exp(-b_2 - w_4*(-1 + 2/(exp(-b_0 - w_0) + 1)) - w_5*(-1 + 2/(exp(-b_1 - w_2) + 1))) + 1))*(1 - 2/(exp(-b_1 - w_2) + 1))*exp(-b_2 - w_4*(-1 + 2/(exp(-b_0 - w_0) + 1)) - w_5*(-1 + 2/(exp(-b_1 - w_2) + 1)))/(exp(-b_2 - w_4*(-1 + 2/(exp(-b_0 - w_0) + 1)) - w_5*(-1 + 2/(exp(-b_1 - w_2) + 1))) + 1)**2 - 4*(-2 + 2/(exp(-b_2 - w_4*(-1 + 2/(exp(-b_0 - w_1) + 1)) - w_5*(-1 + 2/(exp(-b_1 - w_3) + 1))) + 1))*(1 - 2/(exp(-b_1 - w_3) + 1))*exp(-b_2 - w_4*(-1 + 2/(exp(-b_0 - w_1) + 1)) - w_5*(-1 + 2/(exp(-b_1 - w_3) + 1)))/(exp(-b_2 - w_4*(-1 + 2/(exp(-b_0 - w_1) + 1)) - w_5*(-1 + 2/(exp(-b_1 - w_3) + 1))) + 1)**2 - 4*(-1 + 2/(exp(-b_2 - w_4*(-1 + 2/(1 + exp(-b_0))) - w_5*(-1 + 2/(1 + exp(-b_1)))) + 1))*(1 - 2/(1 + exp(-b_1)))*exp(-b_2 - w_4*(-1 + 2/(1 + exp(-b_0))) - w_5*(-1 + 2/(1 + exp(-b_1))))/(exp(-b_2 - w_4*(-1 + 2/(1 + exp(-b_0))) - w_5*(-1 + 2/(1 + exp(-b_1)))) + 1)**2 - 4*(-1 + 2/(exp(-b_2 - w_4*(-1 + 2/(exp(-b_0 - w_0 - w_1) + 1)) - w_5*(-1 + 2/(exp(-b_1 - w_2 - w_3) + 1))) + 1))*(1 - 2/(exp(-b_1 - w_2 - w_3) + 1))*exp(-b_2 - w_4*(-1 + 2/(exp(-b_0 - w_0 - w_1) + 1)) - w_5*(-1 + 2/(exp(-b_1 - w_2 - w_3) + 1)))/(exp(-b_2 - w_4*(-1 + 2/(exp(-b_0 - w_0 - w_1) + 1)) - w_5*(-1 + 2/(exp(-b_1 - w_2 - w_3) + 1))) + 1)**2\">Derivative(w_5, cost)</th><th title=\"(-2 + 2/(exp(-b_2 - w_4*(-1 + 2/(exp(-b_0 - w_0) + 1)) - w_5*(-1 + 2/(exp(-b_1 - w_2) + 1))) + 1))**2 + (-2 + 2/(exp(-b_2 - w_4*(-1 + 2/(exp(-b_0 - w_1) + 1)) - w_5*(-1 + 2/(exp(-b_1 - w_3) + 1))) + 1))**2 + (-1 + 2/(exp(-b_2 - w_4*(-1 + 2/(1 + exp(-b_0))) - w_5*(-1 + 2/(1 + exp(-b_1)))) + 1))**2 + (-1 + 2/(exp(-b_2 - w_4*(-1 + 2/(exp(-b_0 - w_0 - w_1) + 1)) - w_5*(-1 + 2/(exp(-b_1 - w_2 - w_3) + 1))) + 1))**2\">cost</th></tr><tr><td>0</td><td>0.13445399417876472</td><td>-0.09386410176639132</td><td>-0.5895588390126572</td><td>-0.976623774993419</td><td>-0.13497958031336763</td><td>-0.4700363411430311</td><td>-0.5530352701227225</td><td>0.1269539729758868</td><td>-0.7753780302934733</td><td>-0.15587903555417792</td><td>0.9438225088879738</td><td>-2.6654146679516613</td><td>-0.06808009207717021</td><td>-0.07846233928947487</td><td>0.4504555759780016</td><td>0.433634672739408</td><td>0.5002801730521705</td><td>0.747922001316433</td><td>2.924835557147675</td></tr><tr><td>1</td><td>0.1500418977341825</td><td>-0.1882463526551887</td><td>-0.323017372217491</td><td>-0.9698157657857019</td><td>-0.12713334638442014</td><td>-0.5150818987408313</td><td>-0.5963987373966633</td><td>0.07692595567066973</td><td>-0.8501702304251166</td><td>-0.07471500503343104</td><td>0.7859349920384938</td><td>-2.0864477006652313</td><td>-0.03170962500120527</td><td>-0.03656106557963204</td><td>0.3701462929372192</td><td>0.34833141814471413</td><td>0.3521985389821929</td><td>0.6970754231720657</td><td>2.089553714145329</td></tr><tr><td>2</td><td>0.1575133982375256</td><td>-0.2668398518590381</td><td>-0.11437260215096784</td><td>-0.9666448032855814</td><td>-0.12347723982645693</td><td>-0.5520965280345532</td><td>-0.6312318792111347</td><td>0.04170610177245044</td><td>-0.9198777727423232</td><td>-0.02966647770802539</td><td>0.6024432069727066</td><td>-1.5129941187556522</td><td>-0.012100967148960605</td><td>-0.014205203962973742</td><td>0.2840384346317668</td><td>0.26269516745834787</td><td>0.23279063427903246</td><td>0.5688455204829113</td><td>1.5800917103091134</td></tr><tr><td>3</td><td>0.16048004600832816</td><td>-0.3270841725563087</td><td>0.03692680972459739</td><td>-0.9654347065706854</td><td>-0.12205671943015955</td><td>-0.5805003714977299</td><td>-0.6575013959569694</td><td>0.018427038344547193</td><td>-0.9767623247906143</td><td>-0.009436726582830231</td><td>0.4494288439437003</td><td>-1.078319630545418</td><td>-0.0036904421717909304</td><td>-0.004474164456948414</td><td>0.21693578523700027</td><td>0.19802410215878416</td><td>0.15309101303449124</td><td>0.4400312149638607</td><td>1.3059520281658619</td></tr><tr><td>4</td><td>0.16142371866661118</td><td>-0.3720270569506788</td><td>0.14475877277913918</td><td>-0.9650656623535063</td><td>-0.1216093029844647</td><td>-0.60219395002143</td><td>-0.6773038061728478</td><td>0.003117937041098067</td><td>-1.0207654462870004</td><td>-0.0011654867919467715</td><td>0.33697921323478797</td><td>-0.7784823932495584</td><td>-0.00043726400219301056</td><td>-0.0005539071581352108</td><td>0.17029786091242238</td><td>0.15385666829238737</td><td>0.10262051788299206</td><td>0.33775451097383974</td><td>1.1615874170550713</td></tr><tr><td>5</td><td>0.16154026734580584</td><td>-0.4057249782741576</td><td>0.222607012104095</td><td>-0.965021935953287</td><td>-0.12155391226865118</td><td>-0.6192237361126722</td><td>-0.6926894730020865</td><td>-0.0071441147472011395</td><td>-1.0545408973843844</td><td>0.0019926180997713663</td><td>0.2567120437499582</td><td>-0.5736842025729234</td><td>0.0007173227809518573</td><td>0.0009596988178537235</td><td>0.13846987683879958</td><td>0.12403923310159388</td><td>0.0701699433376726</td><td>0.261757715408528</td><td>1.083287044586156</td></tr><tr><td>6</td><td>0.1613410055358287</td><td>-0.4313961826491534</td><td>0.27997543236138733</td><td>-0.9650936682313822</td><td>-0.12164988215043655</td><td>-0.6330707237965522</td><td>-0.7050933963122459</td><td>-0.0141611090809684</td><td>-1.0807166689252372</td><td>0.0030106551622873165</td><td>0.19897502541177225</td><td>-0.4309899444113995</td><td>0.0010382971268335216</td><td>0.0014835991607478733</td><td>0.11639681939609943</td><td>0.10351207842892178</td><td>0.048541888010097206</td><td>0.20576615219384387</td><td>1.038965243825065</td></tr><tr><td>7</td><td>0.16103994001959995</td><td>-0.45129368519033064</td><td>0.3230744268025273</td><td>-0.9651974979440655</td><td>-0.12179824206651134</td><td>-0.6447104057361621</td><td>-0.7154446041551381</td><td>-0.019015297881978123</td><td>-1.1012932841446217</td><td>0.0031381515269416163</td><td>0.15666545117321629</td><td>-0.3288802078530613</td><td>0.0010329283732281162</td><td>0.0015960194642100447</td><td>0.10070875030697023</td><td>0.0890022655356013</td><td>0.03357556296124978</td><td>0.16408931342627064</td><td>1.012814832135864</td></tr><tr><td>8</td><td>0.1607261248669058</td><td>-0.46696023030765227</td><td>0.3559624475878334</td><td>-0.9653007907813883</td><td>-0.12195784401293235</td><td>-0.6547812807668592</td><td>-0.7243448307086983</td><td>-0.0223728541781031</td><td>-1.1177022154872487</td><td>0.002909565634693075</td><td>0.12503467216342395</td><td>-0.25391867394569134</td><td>0.0009082941820776958</td><td>0.0015396395897470118</td><td>0.0892883024908594</td><td>0.07848612426847829</td><td>0.022867903580311794</td><td>0.13259661438151898</td><td>0.9968063505409441</td></tr><tr><td>9</td><td>0.1604351683034365</td><td>-0.47946369752399465</td><td>0.3813543149824025</td><td>-0.9653916201995961</td><td>-0.12211180797190704</td><td>-0.6637101110159451</td><td>-0.7321934431355461</td><td>-0.024659644536134277</td><td>-1.1309618769254006</td><td>0.002558412407755688</td><td>0.10094999330658713</td><td>-0.19764558762800843</td><td>0.0007504159028767811</td><td>0.0014195722905864126</td><td>0.08080053108318799</td><td>0.0707005997314499</td><td>0.014988605009071121</td><td>0.10843897558659671</td><td>0.9866803459813466</td></tr><tr><td>10</td><td>0.16017932706266091</td><td>-0.48955869685465336</td><td>0.4011188737452034</td><td>-0.9654666617898838</td><td>-0.12225376520096569</td><td>-0.671790164124264</td><td>-0.7392635031086912</td><td>-0.02615850503704139</td><td>-1.1418057744840604</td><td>0.0021870704674876408</td><td>0.08231783130073483</td><td>-0.15460048336104237</td><td>0.0005947174480698154</td><td>0.0012820859237198867</td><td>0.074384302041765</td><td>0.06483659783479317</td><td>0.009053722511764728</td><td>0.08965764609795435</td><td>0.9800789009646309</td></tr><tr><td>20</td><td>0.15909822325746337</td><td>-0.5312783118861201</td><td>0.4637881800761167</td><td>-0.9656443301872499</td><td>-0.12307073087001122</td><td>-0.733163955757436</td><td>-0.7923458312526674</td><td>-0.022796076988225954</td><td>-1.1905301447196552</td><td>0.0003045575967612437</td><td>0.01577471286522883</td><td>-0.004770672548072841</td><td>-8.225981599347407e-05</td><td>0.00043639285052332567</td><td>0.053912332163251586</td><td>0.04646751999858431</td><td>-0.011179579380814791</td><td>0.023015590802519026</td><td>0.9635938794602226</td></tr><tr><td>30</td><td>0.15895875660493902</td><td>-0.5411698561695206</td><td>0.45596551978812777</td><td>-0.9655468062281195</td><td>-0.12335644223457463</td><td>-0.7863102029248591</td><td>-0.8382787618619648</td><td>-0.00975781215254919</td><td>-1.2086340936922357</td><td>3.260372853222389e-05</td><td>0.005600586164647731</td><td>0.016669237507441592</td><td>-7.471045915266074e-05</td><td>0.00013646563250894594</td><td>0.0531907032842745</td><td>0.04616466907554187</td><td>-0.014492985762687871</td><td>0.015277949224588472</td><td>0.9579525888827619</td></tr><tr><td>40</td><td>0.15894938806919273</td><td>-0.5453585531697324</td><td>0.43688225040201245</td><td>-0.9655229548048037</td><td>-0.1233988258443692</td><td>-0.840236235075724</td><td>-0.8852519994692621</td><td>0.005338767423824531</td><td>-1.2239958358883423</td><td>-7.319152152081721e-06</td><td>0.0028835424961211886</td><td>0.020999536263695884</td><td>4.738015223998643e-05</td><td>-6.360049213779105e-05</td><td>0.054957833352555774</td><td>0.04807076629397264</td><td>-0.015717365029129293</td><td>0.016001566978552317</td><td>0.9519752352486754</td></tr><tr><td>50</td><td>0.15896140822521673</td><td>-0.5474542988064648</td><td>0.4150998589274165</td><td>-0.9656398688472486</td><td>-0.12326147351352239</td><td>-0.8961155265695756</td><td>-0.9342713792422249</td><td>0.021486459146627116</td><td>-1.2409470432287475</td><td>-1.5035761533019418e-05</td><td>0.001168495530987787</td><td>0.02256292098227125</td><td>0.00020804331538804184</td><td>-0.0002193946731340055</td><td>0.0570048002563909</td><td>0.05016613555829515</td><td>-0.016664529662325483</td><td>0.01821665367060471</td><td>0.9454061628441213</td></tr><tr><td>60</td><td>0.15897520318785432</td><td>-0.5478596101787858</td><td>0.3920411190446248</td><td>-0.9659328658055538</td><td>-0.12298958025544664</td><td>-0.9540150193304777</td><td>-0.985332523116522</td><td>0.03857813927460494</td><td>-1.2602890570375547</td><td>-1.0194316494221284e-05</td><td>-0.0005494714832737363</td><td>0.023625428949824057</td><td>0.0004035953113933153</td><td>-0.00032605433842195115</td><td>0.05896780778571001</td><td>0.052120414073866764</td><td>-0.017623179124571287</td><td>0.020742404087131516</td><td>0.9382315641638391</td></tr><tr><td>70</td><td>0.15897918842617625</td><td>-0.5464879347864176</td><td>0.36799517626667677</td><td>-0.9664387966172111</td><td>-0.12263729086693556</td><td>-1.0138098368800592</td><td>-1.038257890473573</td><td>0.05665566072150614</td><td>-1.2821981914602516</td><td>5.448633867796704e-06</td><td>-0.0024008310551070916</td><td>0.024539541565896827</td><td>0.0006387976812434627</td><td>-0.0003721175019177469</td><td>0.060774311539581974</td><td>0.05386933423080942</td><td>-0.01864648235800065</td><td>0.023338560259664853</td><td>0.9304511855574191</td></tr><tr><td>80</td><td>0.15896337465268412</td><td>-0.5432113525878445</td><td>0.34308442903556174</td><td>-0.9671999098864136</td><td>-0.12227081039080027</td><td>-1.0753321776169247</td><td>-1.0928325703645334</td><td>0.07579162306823219</td><td>-1.306701824626422</td><td>2.977344928649546e-05</td><td>-0.0043624701435886135</td><td>0.025343576690797176</td><td>0.0009195211707902096</td><td>-0.0003449562127989785</td><td>0.06240287259717515</td><td>0.055394955313723564</td><td>-0.019749798014664394</td><td>0.025918669218981505</td><td>0.9220729833525338</td></tr><tr><td>90</td><td>0.15892072061121515</td><td>-0.5379440519984965</td><td>0.31742354842275183</td><td>-0.968264532785763</td><td>-0.12196938114876475</td><td>-1.138399144439622</td><td>-1.1488293701146228</td><td>0.09607036349258316</td><td>-1.3337548958443826</td><td>5.8766805738663316e-05</td><td>-0.006376657213841799</td><td>0.02602417876978963</td><td>0.0012520666861579894</td><td>-0.00023102715783922256</td><td>0.06384356596477324</td><td>0.056689578363942866</td><td>-0.02094233110956989</td><td>0.02841945537699825</td><td>0.9131138046128655</td></tr><tr><td>100</td><td>0.1588491246197047</td><td>-0.5306645487298712</td><td>0.29114533102812057</td><td>-0.9696874293426491</td><td>-0.1218261969568553</td><td>-1.2028199832736173</td><td>-1.2060152171750278</td><td>0.11758470414151159</td><td>-1.3632508223666997</td><td>8.632374812727814e-05</td><td>-0.008372742429709895</td><td>0.026560266737301996</td><td>0.0016430008330854881</td><td>-1.5899502170589608e-05</td><td>0.06509043856692352</td><td>0.05774900562671763</td><td>-0.022231922836802143</td><td>0.030780507110983235</td><td>0.9036004727760284</td></tr><tr><td>200</td><td>0.1641846538834109</td><td>-0.39041977574301356</td><td>0.03243064088909492</td><td>-1.0189231511943087</td><td>-0.159720354422208</td><td>-1.8774837151886594</td><td>-1.7915243259176543</td><td>0.42400799635332614</td><td>-1.733594635761373</td><td>-0.0026922928261424173</td><td>-0.0145206833097077</td><td>0.022561107720586837</td><td>0.00933459291437256</td><td>0.010569180413663164</td><td>0.06664953570901685</td><td>0.055735354588545505</td><td>-0.040880185311721606</td><td>0.03768217679415198</td><td>0.7910140581540712</td></tr><tr><td>300</td><td>0.2772086819989818</td><td>-0.2692920639739049</td><td>-0.15566581182133843</td><td>-1.1375620810006393</td><td>-0.37745527602948326</td><td>-2.500131435994546</td><td>-2.288521534618363</td><td>0.950964034981756</td><td>-2.070800750758818</td><td>-0.024998926474882138</td><td>-0.013712839516719194</td><td>0.017361255449953983</td><td>0.010547353771964765</td><td>0.03423722176502049</td><td>0.05764618823340708</td><td>0.04430930107332826</td><td>-0.06544604145623403</td><td>0.03156969294990075</td><td>0.674278032025214</td></tr><tr><td>400</td><td>0.7476914977742178</td><td>-0.012041816005218215</td><td>-0.4086239515557689</td><td>-1.1782267582773531</td><td>-0.8420264379040898</td><td>-3.0304208893838727</td><td>-2.7223487814196607</td><td>1.7688979750825435</td><td>-2.3949806207488478</td><td>-0.06945555735311393</td><td>-0.04169594468151029</td><td>0.03841985310965801</td><td>0.0035398920181058946</td><td>0.054641945645057255</td><td>0.04741733216193278</td><td>0.045301607757110826</td><td>-0.09826959363348088</td><td>0.034239884622773664</td><td>0.4881936966788383</td></tr><tr><td>500</td><td>1.4999549505901175</td><td>0.48274180054869065</td><td>-0.8687435401964181</td><td>-1.374968995840726</td><td>-1.3047562141912858</td><td>-3.434650999830553</td><td>-3.1791020502363367</td><td>2.7059427764045645</td><td>-2.7865542819014997</td><td>-0.07090290474042013</td><td>-0.04684429791312304</td><td>0.04525289308473934</td><td>0.030166695148762135</td><td>0.03656025679434999</td><td>0.03310895074883979</td><td>0.04089180450430428</td><td>-0.07787747151738134</td><td>0.04165165525742556</td><td>0.2183824358059046</td></tr><tr><td>600</td><td>2.0687258614425303</td><td>0.8272354417122443</td><td>-1.2174716386608422</td><td>-1.6385954351290113</td><td>-1.5939082892141265</td><td>-3.691012228133358</td><td>-3.4926751065812827</td><td>3.2864913836332676</td><td>-3.1502167483735866</td><td>-0.042805855674569654</td><td>-0.023005523977301788</td><td>0.02435562355128605</td><td>0.0207783876890721</td><td>0.02174194710703739</td><td>0.018728393834771116</td><td>0.022508559533523</td><td>-0.04099954085469881</td><td>0.029486068454922937</td><td>0.08009297843712097</td></tr><tr><td>700</td><td>2.398199437165428</td><td>0.9904080417570212</td><td>-1.3922052526554904</td><td>-1.8002584603741962</td><td>-1.7617253657196037</td><td>-3.8332578562243027</td><td>-3.661744814846393</td><td>3.595571862085606</td><td>-3.385829438010623</td><td>-0.024989110504028703</td><td>-0.011331336547060988</td><td>0.01218917590586234</td><td>0.012379470180867123</td><td>0.012775335481718789</td><td>0.01065868208711313</td><td>0.012528534365775175</td><td>-0.02309539204730455</td><td>0.01854549663833558</td><td>0.03709680998643865</td></tr><tr><td>800</td><td>2.599785104860456</td><td>1.077246574097985</td><td>-1.485074649403141</td><td>-1.9007267003418105</td><td>-1.8651723033078358</td><td>-3.9187895404969124</td><td>-3.7616614011253957</td><td>3.7814034481196273</td><td>-3.5388493150576497</td><td>-0.01622980387765851</td><td>-0.006636708588492689</td><td>0.00702765617865778</td><td>0.008143416072473805</td><td>0.00836796396586683</td><td>0.006855814067946381</td><td>0.007959555881033817</td><td>-0.014957931176049793</td><td>0.012607936388354266</td><td>0.02159855549494997</td></tr><tr><td>900</td><td>2.7368147467756736</td><td>1.1315044565313113</td><td>-1.5419214982145177</td><td>-1.9698516657271525</td><td>-1.9361244919315617</td><td>-3.9765702632623343</td><td>-3.8284827965433794</td><td>3.907997022649586</td><td>-3.647005008389959</td><td>-0.011571599878828012</td><td>-0.004436845232074495</td><td>0.004588768303679852</td><td>0.00587160714532986</td><td>0.006020448156497282</td><td>0.004872847008165603</td><td>0.005613212429646583</td><td>-0.010726854640109347</td><td>0.00928353948901732</td><td>0.014513747158486006</td></tr><tr><td>1000</td><td>2.8378043769658334</td><td>1.1694017050989383</td><td>-1.5806717296150674</td><td>-2.021338663640573</td><td>-1.9888802717959806</td><td>-4.019082799963744</td><td>-3.877320560625409</td><td>4.001953175321002</td><td>-3.7290093010396843</td><td>-0.008816435082299796</td><td>-0.00323833189111615</td><td>0.0032689371177037994</td><td>0.004517506075506682</td><td>0.004625713713831154</td><td>0.003711034552357277</td><td>0.004251422241977915</td><td>-0.008236431103443275</td><td>0.007247980766135503</td><td>0.01066404467242303</td></tr><tr><td>2000</td><td>3.26550896715223</td><td>1.3155479604441604</td><td>-1.7180178159989363</td><td>-2.245925934960561</td><td>-2.2182994493933066</td><td>-4.199972268669965</td><td>-4.082316006569077</td><td>4.411874753196963</td><td>-4.100036605815484</td><td>-0.002290847611978033</td><td>-0.0007365515288759911</td><td>0.0006300087531722781</td><td>0.0012343488405213137</td><td>0.0012583032929524484</td><td>0.0009768904507279428</td><td>0.0010956978907222866</td><td>-0.0022634178484265627</td><td>0.0020964168641788867</td><td>0.0025108655296416835</td></tr><tr><td>3000</td><td>3.432808057172751</td><td>1.3684316063974313</td><td>-1.7613224955383353</td><td>-2.3369934859584593</td><td>-2.3110701963164577</td><td>-4.271649661437418</td><td>-4.162407447945442</td><td>4.5794834342870105</td><td>-4.2563986127602815</td><td>-0.0012502393718326608</td><td>-0.00038910128795548583</td><td>0.00030393298591107915</td><td>0.0006874182979537931</td><td>0.0006998132211103896</td><td>0.0005383356384723089</td><td>0.0005993004798672292</td><td>-0.0012704816653826732</td><td>0.0011931630234315192</td><td>0.001341353161592521</td></tr><tr><td>4000</td><td>3.535155046870681</td><td>1.4000284399793705</td><td>-1.7852616537532562</td><td>-2.393602369610435</td><td>-2.368677981009055</td><td>-4.315865156492648</td><td>-4.211521673551091</td><td>4.6844272930908994</td><td>-4.355321413528391</td><td>-0.0008461092583330982</td><td>-0.0002592321047714682</td><td>0.0001902324414384609</td><td>0.00047073690925340675</td><td>0.00047886664076969457</td><td>0.0003667778853317058</td><td>0.0004065246384787993</td><td>-0.0008754852869032863</td><td>0.0008281837405892793</td><td>0.0008987979112781077</td></tr><tr><td>5000</td><td>3.608230619731253</td><td>1.4223089722331494</td><td>-1.8012315848464657</td><td>-2.4344236259804903</td><td>-2.410193713714066</td><td>-4.347622423034853</td><td>-4.246666532386096</td><td>4.760538640909177</td><td>-4.4274918686037825</td><td>-0.0006345305956501211</td><td>-0.0001925679648714848</td><td>0.00013471279878307088</td><td>0.0003558829063067311</td><td>0.0003618473053400757</td><td>0.0002764612162416313</td><td>0.0003054866867965772</td><td>-0.0006652702294157062</td><td>0.0006322797834289581</td><td>0.0006700765415647911</td></tr></table>"
      ],
      "text/plain": [
       "<__main__.Table at 0x7f496a776048>"
      ]
     },
     "metadata": {},
     "output_type": "display_data"
    },
    {
     "data": {
      "text/html": [
       "<h2>Optimized Function:</h2>"
      ],
      "text/plain": [
       "<IPython.core.display.HTML object>"
      ]
     },
     "metadata": {},
     "output_type": "display_data"
    },
    {
     "data": {
      "image/png": "[encoded data removed]",
      "text/latex": [
       "$$-1 + \\frac{2}{8.45108746757578 e^{\\frac{8.85511019316425}{0.241151905921489 e^{4.34765006915648 x_{0} + 4.24669708105478 x_{1}} + 1} - \\frac{9.52121033586424}{0.0270980347333466 e^{2.43445921427112 x_{0} + 2.4102298984446 x_{1}} + 1}} + 1}$$"
      ],
      "text/plain": [
       "                                                                              \n",
       "-1 + ─────────────────────────────────────────────────────────────────────────\n",
       "                                               8.85511019316425               \n",
       "                       ───────────────────────────────────────────────────────\n",
       "                                          4.34765006915648⋅x₀ + 4.246697081054\n",
       "                       0.241151905921489⋅ℯ                                    \n",
       "     8.45108746757578⋅ℯ                                                       \n",
       "\n",
       "   2                                                                          \n",
       "──────────────────────────────────────────────────────────────────────────────\n",
       "                                    9.52121033586424                          \n",
       "───────── - ────────────────────────────────────────────────────────────────  \n",
       "78⋅x₁                           2.43445921427112⋅x₀ + 2.4102298984446⋅x₁      \n",
       "      + 1   0.0270980347333466⋅ℯ                                         + 1  \n",
       "                                                                             +\n",
       "\n",
       "  \n",
       "──\n",
       "  \n",
       "  \n",
       "  \n",
       "  \n",
       " 1"
      ]
     },
     "metadata": {},
     "output_type": "display_data"
    },
    {
     "data": {
      "text/html": [
       "<h2>Dataset evaluation:</h2>"
      ],
      "text/plain": [
       "<IPython.core.display.HTML object>"
      ]
     },
     "metadata": {},
     "output_type": "display_data"
    },
    {
     "data": {
      "text/html": [
       "<table><tr><th title=\"\">x_0</th><th title=\"\">x_1</th><th title=\"\">Y</th><th title=\"\">Ŷ</th></tr><tr><td>0</td><td>0</td><td>0</td><td>0.0005629734354561933</td></tr><tr><td>0</td><td>1</td><td>1</td><td>0.9816786832395996</td></tr><tr><td>1</td><td>0</td><td>1</td><td>0.9817486562234505</td></tr><tr><td>1</td><td>1</td><td>0</td><td>0.0008970341172938046</td></tr></table>"
      ],
      "text/plain": [
       "<__main__.Table at 0x7f496a8eaa20>"
      ]
     },
     "metadata": {},
     "output_type": "display_data"
    },
    {
     "data": {
      "image/png": "[encoded data removed]",
      "text/latex": [
       "$$-1 + \\frac{2}{8.45108746757578 e^{\\frac{8.85511019316425}{0.241151905921489 e^{4.34765006915648 x_{0} + 4.24669708105478 x_{1}} + 1} - \\frac{9.52121033586424}{0.0270980347333466 e^{2.43445921427112 x_{0} + 2.4102298984446 x_{1}} + 1}} + 1}$$"
      ],
      "text/plain": [
       "                                                                              \n",
       "-1 + ─────────────────────────────────────────────────────────────────────────\n",
       "                                               8.85511019316425               \n",
       "                       ───────────────────────────────────────────────────────\n",
       "                                          4.34765006915648⋅x₀ + 4.246697081054\n",
       "                       0.241151905921489⋅ℯ                                    \n",
       "     8.45108746757578⋅ℯ                                                       \n",
       "\n",
       "   2                                                                          \n",
       "──────────────────────────────────────────────────────────────────────────────\n",
       "                                    9.52121033586424                          \n",
       "───────── - ────────────────────────────────────────────────────────────────  \n",
       "78⋅x₁                           2.43445921427112⋅x₀ + 2.4102298984446⋅x₁      \n",
       "      + 1   0.0270980347333466⋅ℯ                                         + 1  \n",
       "                                                                             +\n",
       "\n",
       "  \n",
       "──\n",
       "  \n",
       "  \n",
       "  \n",
       "  \n",
       " 1"
      ]
     },
     "execution_count": 8,
     "metadata": {},
     "output_type": "execute_result"
    }
   ],
   "source": [
    "def neural_xor():\n",
    "    data = [\n",
    "        {'X': [0, 0], 'Y': 0},\n",
    "        {'X': [0, 1], 'Y': 1},\n",
    "        {'X': [1, 0], 'Y': 1},\n",
    "        {'X': [1, 1], 'Y': 0},\n",
    "    ]\n",
    "    x = SymbolVector.x\n",
    "\n",
    "    neural_network = NeuralNetwork(inputs=x[0:2], dims=[2], activation_function=NeuralNetwork.logistic)\n",
    "    return optimize(\"XOR (2 layer net + logistic activation function)\", neural_network.expr, data, simplify=False)\n",
    "\n",
    "neural_xor()    "
   ]
  },
  {
   "cell_type": "code",
   "execution_count": 9,
   "metadata": {},
   "outputs": [
    {
     "data": {
      "text/html": [
       "<h1>Optimizing Function NAND (2 layer net + logistic activation function)</h1>"
      ],
      "text/plain": [
       "<IPython.core.display.HTML object>"
      ]
     },
     "metadata": {},
     "output_type": "display_data"
    },
    {
     "data": {
      "text/html": [
       "<h2>Function:</h2>"
      ],
      "text/plain": [
       "<IPython.core.display.HTML object>"
      ]
     },
     "metadata": {},
     "output_type": "display_data"
    },
    {
     "data": {
      "image/png": "[encoded data removed]",
      "text/latex": [
       "$$-1 + \\frac{2}{e^{- b_{5} - w_{10} \\left(-1 + \\frac{2}{e^{- b_{3} - w_{6} x_{0} - w_{7} x_{1}} + 1}\\right) - w_{11} \\left(-1 + \\frac{2}{e^{- b_{4} - w_{8} x_{0} - w_{9} x_{1}} + 1}\\right)} + 1}$$"
      ],
      "text/plain": [
       "                                              2                               \n",
       "-1 + ─────────────────────────────────────────────────────────────────────────\n",
       "                ⎛                2            ⎞       ⎛                2      \n",
       "      -b₅ - w₁₀⋅⎜-1 + ────────────────────────⎟ - w₁₁⋅⎜-1 + ──────────────────\n",
       "                ⎜      -b₃ - w₆⋅x₀ - w₇⋅x₁    ⎟       ⎜      -b₄ - w₈⋅x₀ - w₉⋅\n",
       "                ⎝     ℯ                    + 1⎠       ⎝     ℯ                 \n",
       "     ℯ                                                                        \n",
       "\n",
       "           \n",
       "───────────\n",
       "      ⎞    \n",
       "──────⎟    \n",
       "x₁    ⎟    \n",
       "   + 1⎠    \n",
       "        + 1"
      ]
     },
     "metadata": {},
     "output_type": "display_data"
    },
    {
     "data": {
      "text/html": [
       "<h2>Cost:</h2>"
      ],
      "text/plain": [
       "<IPython.core.display.HTML object>"
      ]
     },
     "metadata": {},
     "output_type": "display_data"
    },
    {
     "data": {
      "image/png": "[encoded data removed]",
      "text/latex": [
       "$$\\left(-2 + \\frac{2}{e^{- b_{5} - w_{10} \\left(-1 + \\frac{2}{1 + e^{- b_{3}}}\\right) - w_{11} \\left(-1 + \\frac{2}{1 + e^{- b_{4}}}\\right)} + 1}\\right)^{2} + \\left(-2 + \\frac{2}{e^{- b_{5} - w_{10} \\left(-1 + \\frac{2}{e^{- b_{3} - w_{6}} + 1}\\right) - w_{11} \\left(-1 + \\frac{2}{e^{- b_{4} - w_{8}} + 1}\\right)} + 1}\\right)^{2} + \\left(-2 + \\frac{2}{e^{- b_{5} - w_{10} \\left(-1 + \\frac{2}{e^{- b_{3} - w_{7}} + 1}\\right) - w_{11} \\left(-1 + \\frac{2}{e^{- b_{4} - w_{9}} + 1}\\right)} + 1}\\right)^{2} + \\left(-1 + \\frac{2}{e^{- b_{5} - w_{10} \\left(-1 + \\frac{2}{e^{- b_{3} - w_{6} - w_{7}} + 1}\\right) - w_{11} \\left(-1 + \\frac{2}{e^{- b_{4} - w_{8} - w_{9}} + 1}\\right)} + 1}\\right)^{2}$$"
      ],
      "text/plain": [
       "                                                           2                  \n",
       "⎛                              2                          ⎞    ⎛              \n",
       "⎜-2 + ────────────────────────────────────────────────────⎟  + ⎜-2 + ─────────\n",
       "⎜                ⎛        2    ⎞       ⎛        2    ⎞    ⎟    ⎜              \n",
       "⎜      -b₅ - w₁₀⋅⎜-1 + ────────⎟ - w₁₁⋅⎜-1 + ────────⎟    ⎟    ⎜      -b₅ - w₁\n",
       "⎜                ⎜          -b₃⎟       ⎜          -b₄⎟    ⎟    ⎜              \n",
       "⎜                ⎝     1 + ℯ   ⎠       ⎝     1 + ℯ   ⎠    ⎟    ⎜              \n",
       "⎝     ℯ                                                + 1⎠    ⎝     ℯ        \n",
       "\n",
       "                                                      2                       \n",
       "                     2                               ⎞    ⎛                   \n",
       "─────────────────────────────────────────────────────⎟  + ⎜-2 + ──────────────\n",
       "  ⎛           2      ⎞       ⎛           2      ⎞    ⎟    ⎜                ⎛  \n",
       "₀⋅⎜-1 + ─────────────⎟ - w₁₁⋅⎜-1 + ─────────────⎟    ⎟    ⎜      -b₅ - w₁₀⋅⎜-1\n",
       "  ⎜      -b₃ - w₆    ⎟       ⎜      -b₄ - w₈    ⎟    ⎟    ⎜                ⎜  \n",
       "  ⎝     ℯ         + 1⎠       ⎝     ℯ         + 1⎠    ⎟    ⎜                ⎝  \n",
       "                                                  + 1⎠    ⎝     ℯ             \n",
       "\n",
       "                                                 2                            \n",
       "                2                               ⎞    ⎛                        \n",
       "────────────────────────────────────────────────⎟  + ⎜-1 + ───────────────────\n",
       "         2      ⎞       ⎛           2      ⎞    ⎟    ⎜                ⎛       \n",
       " + ─────────────⎟ - w₁₁⋅⎜-1 + ─────────────⎟    ⎟    ⎜      -b₅ - w₁₀⋅⎜-1 + ──\n",
       "    -b₃ - w₇    ⎟       ⎜      -b₄ - w₉    ⎟    ⎟    ⎜                ⎜      -\n",
       "   ℯ         + 1⎠       ⎝     ℯ         + 1⎠    ⎟    ⎜                ⎝     ℯ \n",
       "                                             + 1⎠    ⎝     ℯ                  \n",
       "\n",
       "                                                      2\n",
       "                2                                    ⎞ \n",
       "─────────────────────────────────────────────────────⎟ \n",
       "      2         ⎞       ⎛             2         ⎞    ⎟ \n",
       "────────────────⎟ - w₁₁⋅⎜-1 + ──────────────────⎟    ⎟ \n",
       "b₃ - w₆ - w₇    ⎟       ⎜      -b₄ - w₈ - w₉    ⎟    ⎟ \n",
       "             + 1⎠       ⎝     ℯ              + 1⎠    ⎟ \n",
       "                                                  + 1⎠ "
      ]
     },
     "metadata": {},
     "output_type": "display_data"
    },
    {
     "data": {
      "text/html": [
       "<h2>Gradient Descent:</h2>"
      ],
      "text/plain": [
       "<IPython.core.display.HTML object>"
      ]
     },
     "metadata": {},
     "output_type": "display_data"
    },
    {
     "data": {
      "text/html": [
       "<table><tr><th title=\"\">loop</th><th title=\"\">b_3</th><th title=\"\">b_4</th><th title=\"\">b_5</th><th title=\"\">w_10</th><th title=\"\">w_11</th><th title=\"\">w_6</th><th title=\"\">w_7</th><th title=\"\">w_8</th><th title=\"\">w_9</th><th title=\"8*w_10*(-2 + 2/(exp(-b_5 - w_10*(-1 + 2/(1 + exp(-b_3))) - w_11*(-1 + 2/(1 + exp(-b_4)))) + 1))*exp(-b_3)*exp(-b_5 - w_10*(-1 + 2/(1 + exp(-b_3))) - w_11*(-1 + 2/(1 + exp(-b_4))))/((1 + exp(-b_3))**2*(exp(-b_5 - w_10*(-1 + 2/(1 + exp(-b_3))) - w_11*(-1 + 2/(1 + exp(-b_4)))) + 1)**2) + 8*w_10*(-2 + 2/(exp(-b_5 - w_10*(-1 + 2/(exp(-b_3 - w_6) + 1)) - w_11*(-1 + 2/(exp(-b_4 - w_8) + 1))) + 1))*exp(-b_3 - w_6)*exp(-b_5 - w_10*(-1 + 2/(exp(-b_3 - w_6) + 1)) - w_11*(-1 + 2/(exp(-b_4 - w_8) + 1)))/((exp(-b_3 - w_6) + 1)**2*(exp(-b_5 - w_10*(-1 + 2/(exp(-b_3 - w_6) + 1)) - w_11*(-1 + 2/(exp(-b_4 - w_8) + 1))) + 1)**2) + 8*w_10*(-2 + 2/(exp(-b_5 - w_10*(-1 + 2/(exp(-b_3 - w_7) + 1)) - w_11*(-1 + 2/(exp(-b_4 - w_9) + 1))) + 1))*exp(-b_3 - w_7)*exp(-b_5 - w_10*(-1 + 2/(exp(-b_3 - w_7) + 1)) - w_11*(-1 + 2/(exp(-b_4 - w_9) + 1)))/((exp(-b_3 - w_7) + 1)**2*(exp(-b_5 - w_10*(-1 + 2/(exp(-b_3 - w_7) + 1)) - w_11*(-1 + 2/(exp(-b_4 - w_9) + 1))) + 1)**2) + 8*w_10*(-1 + 2/(exp(-b_5 - w_10*(-1 + 2/(exp(-b_3 - w_6 - w_7) + 1)) - w_11*(-1 + 2/(exp(-b_4 - w_8 - w_9) + 1))) + 1))*exp(-b_3 - w_6 - w_7)*exp(-b_5 - w_10*(-1 + 2/(exp(-b_3 - w_6 - w_7) + 1)) - w_11*(-1 + 2/(exp(-b_4 - w_8 - w_9) + 1)))/((exp(-b_3 - w_6 - w_7) + 1)**2*(exp(-b_5 - w_10*(-1 + 2/(exp(-b_3 - w_6 - w_7) + 1)) - w_11*(-1 + 2/(exp(-b_4 - w_8 - w_9) + 1))) + 1)**2)\">Derivative(b_3, cost)</th><th title=\"8*w_11*(-2 + 2/(exp(-b_5 - w_10*(-1 + 2/(1 + exp(-b_3))) - w_11*(-1 + 2/(1 + exp(-b_4)))) + 1))*exp(-b_4)*exp(-b_5 - w_10*(-1 + 2/(1 + exp(-b_3))) - w_11*(-1 + 2/(1 + exp(-b_4))))/((1 + exp(-b_4))**2*(exp(-b_5 - w_10*(-1 + 2/(1 + exp(-b_3))) - w_11*(-1 + 2/(1 + exp(-b_4)))) + 1)**2) + 8*w_11*(-2 + 2/(exp(-b_5 - w_10*(-1 + 2/(exp(-b_3 - w_6) + 1)) - w_11*(-1 + 2/(exp(-b_4 - w_8) + 1))) + 1))*exp(-b_4 - w_8)*exp(-b_5 - w_10*(-1 + 2/(exp(-b_3 - w_6) + 1)) - w_11*(-1 + 2/(exp(-b_4 - w_8) + 1)))/((exp(-b_4 - w_8) + 1)**2*(exp(-b_5 - w_10*(-1 + 2/(exp(-b_3 - w_6) + 1)) - w_11*(-1 + 2/(exp(-b_4 - w_8) + 1))) + 1)**2) + 8*w_11*(-2 + 2/(exp(-b_5 - w_10*(-1 + 2/(exp(-b_3 - w_7) + 1)) - w_11*(-1 + 2/(exp(-b_4 - w_9) + 1))) + 1))*exp(-b_4 - w_9)*exp(-b_5 - w_10*(-1 + 2/(exp(-b_3 - w_7) + 1)) - w_11*(-1 + 2/(exp(-b_4 - w_9) + 1)))/((exp(-b_4 - w_9) + 1)**2*(exp(-b_5 - w_10*(-1 + 2/(exp(-b_3 - w_7) + 1)) - w_11*(-1 + 2/(exp(-b_4 - w_9) + 1))) + 1)**2) + 8*w_11*(-1 + 2/(exp(-b_5 - w_10*(-1 + 2/(exp(-b_3 - w_6 - w_7) + 1)) - w_11*(-1 + 2/(exp(-b_4 - w_8 - w_9) + 1))) + 1))*exp(-b_4 - w_8 - w_9)*exp(-b_5 - w_10*(-1 + 2/(exp(-b_3 - w_6 - w_7) + 1)) - w_11*(-1 + 2/(exp(-b_4 - w_8 - w_9) + 1)))/((exp(-b_4 - w_8 - w_9) + 1)**2*(exp(-b_5 - w_10*(-1 + 2/(exp(-b_3 - w_6 - w_7) + 1)) - w_11*(-1 + 2/(exp(-b_4 - w_8 - w_9) + 1))) + 1)**2)\">Derivative(b_4, cost)</th><th title=\"4*(-2 + 2/(exp(-b_5 - w_10*(-1 + 2/(1 + exp(-b_3))) - w_11*(-1 + 2/(1 + exp(-b_4)))) + 1))*exp(-b_5 - w_10*(-1 + 2/(1 + exp(-b_3))) - w_11*(-1 + 2/(1 + exp(-b_4))))/(exp(-b_5 - w_10*(-1 + 2/(1 + exp(-b_3))) - w_11*(-1 + 2/(1 + exp(-b_4)))) + 1)**2 + 4*(-2 + 2/(exp(-b_5 - w_10*(-1 + 2/(exp(-b_3 - w_6) + 1)) - w_11*(-1 + 2/(exp(-b_4 - w_8) + 1))) + 1))*exp(-b_5 - w_10*(-1 + 2/(exp(-b_3 - w_6) + 1)) - w_11*(-1 + 2/(exp(-b_4 - w_8) + 1)))/(exp(-b_5 - w_10*(-1 + 2/(exp(-b_3 - w_6) + 1)) - w_11*(-1 + 2/(exp(-b_4 - w_8) + 1))) + 1)**2 + 4*(-2 + 2/(exp(-b_5 - w_10*(-1 + 2/(exp(-b_3 - w_7) + 1)) - w_11*(-1 + 2/(exp(-b_4 - w_9) + 1))) + 1))*exp(-b_5 - w_10*(-1 + 2/(exp(-b_3 - w_7) + 1)) - w_11*(-1 + 2/(exp(-b_4 - w_9) + 1)))/(exp(-b_5 - w_10*(-1 + 2/(exp(-b_3 - w_7) + 1)) - w_11*(-1 + 2/(exp(-b_4 - w_9) + 1))) + 1)**2 + 4*(-1 + 2/(exp(-b_5 - w_10*(-1 + 2/(exp(-b_3 - w_6 - w_7) + 1)) - w_11*(-1 + 2/(exp(-b_4 - w_8 - w_9) + 1))) + 1))*exp(-b_5 - w_10*(-1 + 2/(exp(-b_3 - w_6 - w_7) + 1)) - w_11*(-1 + 2/(exp(-b_4 - w_8 - w_9) + 1)))/(exp(-b_5 - w_10*(-1 + 2/(exp(-b_3 - w_6 - w_7) + 1)) - w_11*(-1 + 2/(exp(-b_4 - w_8 - w_9) + 1))) + 1)**2\">Derivative(b_5, cost)</th><th title=\"-4*(-2 + 2/(exp(-b_5 - w_10*(-1 + 2/(1 + exp(-b_3))) - w_11*(-1 + 2/(1 + exp(-b_4)))) + 1))*(1 - 2/(1 + exp(-b_3)))*exp(-b_5 - w_10*(-1 + 2/(1 + exp(-b_3))) - w_11*(-1 + 2/(1 + exp(-b_4))))/(exp(-b_5 - w_10*(-1 + 2/(1 + exp(-b_3))) - w_11*(-1 + 2/(1 + exp(-b_4)))) + 1)**2 - 4*(-2 + 2/(exp(-b_5 - w_10*(-1 + 2/(exp(-b_3 - w_6) + 1)) - w_11*(-1 + 2/(exp(-b_4 - w_8) + 1))) + 1))*(1 - 2/(exp(-b_3 - w_6) + 1))*exp(-b_5 - w_10*(-1 + 2/(exp(-b_3 - w_6) + 1)) - w_11*(-1 + 2/(exp(-b_4 - w_8) + 1)))/(exp(-b_5 - w_10*(-1 + 2/(exp(-b_3 - w_6) + 1)) - w_11*(-1 + 2/(exp(-b_4 - w_8) + 1))) + 1)**2 - 4*(-2 + 2/(exp(-b_5 - w_10*(-1 + 2/(exp(-b_3 - w_7) + 1)) - w_11*(-1 + 2/(exp(-b_4 - w_9) + 1))) + 1))*(1 - 2/(exp(-b_3 - w_7) + 1))*exp(-b_5 - w_10*(-1 + 2/(exp(-b_3 - w_7) + 1)) - w_11*(-1 + 2/(exp(-b_4 - w_9) + 1)))/(exp(-b_5 - w_10*(-1 + 2/(exp(-b_3 - w_7) + 1)) - w_11*(-1 + 2/(exp(-b_4 - w_9) + 1))) + 1)**2 - 4*(-1 + 2/(exp(-b_5 - w_10*(-1 + 2/(exp(-b_3 - w_6 - w_7) + 1)) - w_11*(-1 + 2/(exp(-b_4 - w_8 - w_9) + 1))) + 1))*(1 - 2/(exp(-b_3 - w_6 - w_7) + 1))*exp(-b_5 - w_10*(-1 + 2/(exp(-b_3 - w_6 - w_7) + 1)) - w_11*(-1 + 2/(exp(-b_4 - w_8 - w_9) + 1)))/(exp(-b_5 - w_10*(-1 + 2/(exp(-b_3 - w_6 - w_7) + 1)) - w_11*(-1 + 2/(exp(-b_4 - w_8 - w_9) + 1))) + 1)**2\">Derivative(w_10, cost)</th><th title=\"-4*(-2 + 2/(exp(-b_5 - w_10*(-1 + 2/(1 + exp(-b_3))) - w_11*(-1 + 2/(1 + exp(-b_4)))) + 1))*(1 - 2/(1 + exp(-b_4)))*exp(-b_5 - w_10*(-1 + 2/(1 + exp(-b_3))) - w_11*(-1 + 2/(1 + exp(-b_4))))/(exp(-b_5 - w_10*(-1 + 2/(1 + exp(-b_3))) - w_11*(-1 + 2/(1 + exp(-b_4)))) + 1)**2 - 4*(-2 + 2/(exp(-b_5 - w_10*(-1 + 2/(exp(-b_3 - w_6) + 1)) - w_11*(-1 + 2/(exp(-b_4 - w_8) + 1))) + 1))*(1 - 2/(exp(-b_4 - w_8) + 1))*exp(-b_5 - w_10*(-1 + 2/(exp(-b_3 - w_6) + 1)) - w_11*(-1 + 2/(exp(-b_4 - w_8) + 1)))/(exp(-b_5 - w_10*(-1 + 2/(exp(-b_3 - w_6) + 1)) - w_11*(-1 + 2/(exp(-b_4 - w_8) + 1))) + 1)**2 - 4*(-2 + 2/(exp(-b_5 - w_10*(-1 + 2/(exp(-b_3 - w_7) + 1)) - w_11*(-1 + 2/(exp(-b_4 - w_9) + 1))) + 1))*(1 - 2/(exp(-b_4 - w_9) + 1))*exp(-b_5 - w_10*(-1 + 2/(exp(-b_3 - w_7) + 1)) - w_11*(-1 + 2/(exp(-b_4 - w_9) + 1)))/(exp(-b_5 - w_10*(-1 + 2/(exp(-b_3 - w_7) + 1)) - w_11*(-1 + 2/(exp(-b_4 - w_9) + 1))) + 1)**2 - 4*(-1 + 2/(exp(-b_5 - w_10*(-1 + 2/(exp(-b_3 - w_6 - w_7) + 1)) - w_11*(-1 + 2/(exp(-b_4 - w_8 - w_9) + 1))) + 1))*(1 - 2/(exp(-b_4 - w_8 - w_9) + 1))*exp(-b_5 - w_10*(-1 + 2/(exp(-b_3 - w_6 - w_7) + 1)) - w_11*(-1 + 2/(exp(-b_4 - w_8 - w_9) + 1)))/(exp(-b_5 - w_10*(-1 + 2/(exp(-b_3 - w_6 - w_7) + 1)) - w_11*(-1 + 2/(exp(-b_4 - w_8 - w_9) + 1))) + 1)**2\">Derivative(w_11, cost)</th><th title=\"8*w_10*(-2 + 2/(exp(-b_5 - w_10*(-1 + 2/(exp(-b_3 - w_6) + 1)) - w_11*(-1 + 2/(exp(-b_4 - w_8) + 1))) + 1))*exp(-b_3 - w_6)*exp(-b_5 - w_10*(-1 + 2/(exp(-b_3 - w_6) + 1)) - w_11*(-1 + 2/(exp(-b_4 - w_8) + 1)))/((exp(-b_3 - w_6) + 1)**2*(exp(-b_5 - w_10*(-1 + 2/(exp(-b_3 - w_6) + 1)) - w_11*(-1 + 2/(exp(-b_4 - w_8) + 1))) + 1)**2) + 8*w_10*(-1 + 2/(exp(-b_5 - w_10*(-1 + 2/(exp(-b_3 - w_6 - w_7) + 1)) - w_11*(-1 + 2/(exp(-b_4 - w_8 - w_9) + 1))) + 1))*exp(-b_3 - w_6 - w_7)*exp(-b_5 - w_10*(-1 + 2/(exp(-b_3 - w_6 - w_7) + 1)) - w_11*(-1 + 2/(exp(-b_4 - w_8 - w_9) + 1)))/((exp(-b_3 - w_6 - w_7) + 1)**2*(exp(-b_5 - w_10*(-1 + 2/(exp(-b_3 - w_6 - w_7) + 1)) - w_11*(-1 + 2/(exp(-b_4 - w_8 - w_9) + 1))) + 1)**2)\">Derivative(w_6, cost)</th><th title=\"8*w_10*(-2 + 2/(exp(-b_5 - w_10*(-1 + 2/(exp(-b_3 - w_7) + 1)) - w_11*(-1 + 2/(exp(-b_4 - w_9) + 1))) + 1))*exp(-b_3 - w_7)*exp(-b_5 - w_10*(-1 + 2/(exp(-b_3 - w_7) + 1)) - w_11*(-1 + 2/(exp(-b_4 - w_9) + 1)))/((exp(-b_3 - w_7) + 1)**2*(exp(-b_5 - w_10*(-1 + 2/(exp(-b_3 - w_7) + 1)) - w_11*(-1 + 2/(exp(-b_4 - w_9) + 1))) + 1)**2) + 8*w_10*(-1 + 2/(exp(-b_5 - w_10*(-1 + 2/(exp(-b_3 - w_6 - w_7) + 1)) - w_11*(-1 + 2/(exp(-b_4 - w_8 - w_9) + 1))) + 1))*exp(-b_3 - w_6 - w_7)*exp(-b_5 - w_10*(-1 + 2/(exp(-b_3 - w_6 - w_7) + 1)) - w_11*(-1 + 2/(exp(-b_4 - w_8 - w_9) + 1)))/((exp(-b_3 - w_6 - w_7) + 1)**2*(exp(-b_5 - w_10*(-1 + 2/(exp(-b_3 - w_6 - w_7) + 1)) - w_11*(-1 + 2/(exp(-b_4 - w_8 - w_9) + 1))) + 1)**2)\">Derivative(w_7, cost)</th><th title=\"8*w_11*(-2 + 2/(exp(-b_5 - w_10*(-1 + 2/(exp(-b_3 - w_6) + 1)) - w_11*(-1 + 2/(exp(-b_4 - w_8) + 1))) + 1))*exp(-b_4 - w_8)*exp(-b_5 - w_10*(-1 + 2/(exp(-b_3 - w_6) + 1)) - w_11*(-1 + 2/(exp(-b_4 - w_8) + 1)))/((exp(-b_4 - w_8) + 1)**2*(exp(-b_5 - w_10*(-1 + 2/(exp(-b_3 - w_6) + 1)) - w_11*(-1 + 2/(exp(-b_4 - w_8) + 1))) + 1)**2) + 8*w_11*(-1 + 2/(exp(-b_5 - w_10*(-1 + 2/(exp(-b_3 - w_6 - w_7) + 1)) - w_11*(-1 + 2/(exp(-b_4 - w_8 - w_9) + 1))) + 1))*exp(-b_4 - w_8 - w_9)*exp(-b_5 - w_10*(-1 + 2/(exp(-b_3 - w_6 - w_7) + 1)) - w_11*(-1 + 2/(exp(-b_4 - w_8 - w_9) + 1)))/((exp(-b_4 - w_8 - w_9) + 1)**2*(exp(-b_5 - w_10*(-1 + 2/(exp(-b_3 - w_6 - w_7) + 1)) - w_11*(-1 + 2/(exp(-b_4 - w_8 - w_9) + 1))) + 1)**2)\">Derivative(w_8, cost)</th><th title=\"8*w_11*(-2 + 2/(exp(-b_5 - w_10*(-1 + 2/(exp(-b_3 - w_7) + 1)) - w_11*(-1 + 2/(exp(-b_4 - w_9) + 1))) + 1))*exp(-b_4 - w_9)*exp(-b_5 - w_10*(-1 + 2/(exp(-b_3 - w_7) + 1)) - w_11*(-1 + 2/(exp(-b_4 - w_9) + 1)))/((exp(-b_4 - w_9) + 1)**2*(exp(-b_5 - w_10*(-1 + 2/(exp(-b_3 - w_7) + 1)) - w_11*(-1 + 2/(exp(-b_4 - w_9) + 1))) + 1)**2) + 8*w_11*(-1 + 2/(exp(-b_5 - w_10*(-1 + 2/(exp(-b_3 - w_6 - w_7) + 1)) - w_11*(-1 + 2/(exp(-b_4 - w_8 - w_9) + 1))) + 1))*exp(-b_4 - w_8 - w_9)*exp(-b_5 - w_10*(-1 + 2/(exp(-b_3 - w_6 - w_7) + 1)) - w_11*(-1 + 2/(exp(-b_4 - w_8 - w_9) + 1)))/((exp(-b_4 - w_8 - w_9) + 1)**2*(exp(-b_5 - w_10*(-1 + 2/(exp(-b_3 - w_6 - w_7) + 1)) - w_11*(-1 + 2/(exp(-b_4 - w_8 - w_9) + 1))) + 1)**2)\">Derivative(w_9, cost)</th><th title=\"(-2 + 2/(exp(-b_5 - w_10*(-1 + 2/(1 + exp(-b_3))) - w_11*(-1 + 2/(1 + exp(-b_4)))) + 1))**2 + (-2 + 2/(exp(-b_5 - w_10*(-1 + 2/(exp(-b_3 - w_6) + 1)) - w_11*(-1 + 2/(exp(-b_4 - w_8) + 1))) + 1))**2 + (-2 + 2/(exp(-b_5 - w_10*(-1 + 2/(exp(-b_3 - w_7) + 1)) - w_11*(-1 + 2/(exp(-b_4 - w_9) + 1))) + 1))**2 + (-1 + 2/(exp(-b_5 - w_10*(-1 + 2/(exp(-b_3 - w_6 - w_7) + 1)) - w_11*(-1 + 2/(exp(-b_4 - w_8 - w_9) + 1))) + 1))**2\">cost</th></tr><tr><td>0</td><td>1.1671392423139875</td><td>-0.484512983494526</td><td>0.6577466583063549</td><td>1.398846849606183</td><td>0.17083051090331716</td><td>-0.5502607882046837</td><td>1.84872483582001</td><td>-0.5352181638498175</td><td>1.610505152518908</td><td>-0.3509791599190539</td><td>-0.029731877461000814</td><td>-0.45484983342130647</td><td>-0.07292690789823808</td><td>0.3102801223558815</td><td>-0.20276072438895237</td><td>0.05580847983637473</td><td>-0.0018972125351516683</td><td>0.02020968159287005</td><td>1.058443139570106</td></tr><tr><td>1</td><td>1.2022371583058928</td><td>-0.4815397957484259</td><td>0.7032316416484856</td><td>1.4061395403960069</td><td>0.139802498667729</td><td>-0.5299847157657884</td><td>1.8431439878363725</td><td>-0.5350284425963023</td><td>1.608484184359621</td><td>-0.3055474311346694</td><td>-0.02019544438193704</td><td>-0.3819910889172496</td><td>-0.05591946362947808</td><td>0.28185641734947803</td><td>-0.17348934876602823</td><td>0.05285923142840966</td><td>0.0005108689894622112</td><td>0.016362154430351657</td><td>1.0140514521710287</td></tr><tr><td>2</td><td>1.2327919014193598</td><td>-0.47952025131023224</td><td>0.7414307505402106</td><td>1.4117314867589548</td><td>0.1116168569327812</td><td>-0.5126357808891856</td><td>1.8378580646935314</td><td>-0.5350795294952485</td><td>1.6068479689165858</td><td>-0.2697701089269617</td><td>-0.013527492074651908</td><td>-0.32491744321227123</td><td>-0.04152985057366115</td><td>0.25925330886953485</td><td>-0.15034324535692487</td><td>0.05036548251469969</td><td>0.0017093024658011314</td><td>0.012923944353457499</td><td>0.9807518868748005</td></tr><tr><td>3</td><td>1.259768912312056</td><td>-0.47816750210276704</td><td>0.7739224948614377</td><td>1.4158844718163208</td><td>0.08569152604582772</td><td>-0.4976014563534931</td><td>1.8328215164420614</td><td>-0.5352504597418286</td><td>1.60555557448124</td><td>-0.24106637586912663</td><td>-0.008788125093206561</td><td>-0.2793175973018759</td><td>-0.029314180029053838</td><td>0.24094638070560717</td><td>-0.13173726761823962</td><td>0.04823658114555846</td><td>0.0021163611576878686</td><td>0.009821665755984444</td><td>0.9550344636865622</td></tr><tr><td>4</td><td>1.2838755498989685</td><td>-0.4772886895934464</td><td>0.8018542545916253</td><td>1.4188158898192262</td><td>0.061596887975267</td><td>-0.48442772959166913</td><td>1.8279978583275056</td><td>-0.5354620958575974</td><td>1.6045734079056415</td><td>-0.21764858465146913</td><td>-0.0053812690328681155</td><td>-0.24224283962305876</td><td>-0.018884045101889013</td><td>0.22587752384145623</td><td>-0.11654765395064734</td><td>0.046400998616302085</td><td>0.0019946665138581956</td><td>0.006993981773536102</td><td>0.9346609697593133</td></tr><tr><td>5</td><td>1.3056404083641153</td><td>-0.4767505626901596</td><td>0.8260785385539312</td><td>1.4207042943294153</td><td>0.039009135591121374</td><td>-0.4727729641966044</td><td>1.8233577584658753</td><td>-0.5356615625089832</td><td>1.603874009728288</td><td>-0.19825702810349244</td><td>-0.0029176709994210804</td><td>-0.21163410452473236</td><td>-0.00991902523345134</td><td>0.2132986408787101</td><td>-0.10397064387801347</td><td>0.04480319397553996</td><td>0.0015127556840797687</td><td>0.0043915107151729985</td><td>0.9181558184274896</td></tr><tr><td>6</td><td>1.3254661111744646</td><td>-0.4764587955902175</td><td>0.8472419490064045</td><td>1.4216961968527604</td><td>0.017679271503250365</td><td>-0.46237589980880306</td><td>1.8188774390683213</td><td>-0.5358128380773912</td><td>1.6034348586567706</td><td>-0.18198708925405188</td><td>-0.0011360975329879654</td><td>-0.18602285965058385</td><td>-0.002160938666021961</td><td>0.20267020365210506</td><td>-0.09342334640697553</td><td>0.04340004784527294</td><td>0.0007811313817501907</td><td>0.0019749308058060436</td><td>0.9045165457835286</td></tr><tr><td>7</td><td>1.3436648200998698</td><td>-0.4763451858369187</td><td>0.8658442349714629</td><td>1.4219122907193626</td><td>-0.002587748861960143</td><td>-0.4530335651681055</td><td>1.814537434283794</td><td>-0.5358909512155663</td><td>1.60323736557619</td><td>-0.16817686752929287</td><td>0.00014318874819939777</td><td>-0.16434039047424015</td><td>0.004596594483629368</td><td>0.19359545293683403</td><td>-0.08447646649992177</td><td>0.04215786653678839</td><td>-0.00012630888373282615</td><td>-0.00028706944381365503</td><td>0.8930436428390574</td></tr><tr><td>8</td><td>1.360482506852799</td><td>-0.47635950471173866</td><td>0.8822782740188869</td><td>1.4214526312709996</td><td>-0.021947294155643546</td><td>-0.4445859185181133</td><td>1.8103216476301152</td><td>-0.535878320327193</td><td>1.6032660725205714</td><td>-0.1563333768634061</td><td>0.001046663929802268</td><td>-0.14579423528591173</td><td>0.010518479137520631</td><td>0.18577721988477253</td><td>-0.0768088821535681</td><td>0.04105007685347385</td><td>-0.0011592692392819964</td><td>-0.0024195443702959957</td><td>0.8832372609425703</td></tr><tr><td>9</td><td>1.3761158445391397</td><td>-0.4764641711047189</td><td>0.8968576975474781</td><td>1.4204007833572476</td><td>-0.040525016144120796</td><td>-0.4369050303027565</td><td>1.8062166399447677</td><td>-0.5357623934032648</td><td>1.603508026957601</td><td>-0.1460833293907626</td><td>0.0016651457304652202</td><td>-0.12978660026440153</td><td>0.01573693252842373</td><td>0.1789891229579638</td><td>-0.0701767734999286</td><td>0.040055505684390834</td><td>-0.002282988308541947</td><td>-0.004442680407624677</td><td>0.8747325989352137</td></tr><tr><td>10</td><td>1.390724177478216</td><td>-0.4766306856777654</td><td>0.9098363575739182</td><td>1.4188270901044053</td><td>-0.05842392843991717</td><td>-0.42988735295276365</td><td>1.8022110893763286</td><td>-0.5355340945724106</td><td>1.6039522949983633</td><td>-0.13713974792396688</td><td>0.002065049642503484</td><td>-0.115859432656234</td><td>0.020358532524693662</td><td>0.173056005186066</td><td>-0.06439239630203981</td><td>0.039157106906750755</td><td>-0.0034731242028988264</td><td>-0.006372865425504637</td><td>0.8672583581255304</td></tr><tr><td>20</td><td>1.5009737452226304</td><td>-0.47861829894698604</td><td>0.9843409202243536</td><td>1.3842436605571302</td><td>-0.21380883378996687</td><td>-0.3829043813394078</td><td>1.7660399051701479</td><td>-0.5261781063796647</td><td>1.6179900601179613</td><td>-0.08681856796276108</td><td>0.0008473716514163718</td><td>-0.03912569207480565</td><td>0.046952911761137944</td><td>0.14041101775627154</td><td>-0.031751454893189944</td><td>0.033317239406726276</td><td>-0.016839228137359944</td><td>-0.022634846389562053</td><td>0.8202637015297051</td></tr><tr><td>30</td><td>1.5771697477411606</td><td>-0.47801324811324425</td><td>1.0085931817610607</td><td>1.3323119022554823</td><td>-0.3483274507796287</td><td>-0.35819620975868033</td><td>1.7342928883270676</td><td>-0.5029819771290521</td><td>1.6468765414063387</td><td>-0.06595294059577875</td><td>-0.0022920159645994226</td><td>-0.010854410866082742</td><td>0.05600586084161635</td><td>0.12951837550527864</td><td>-0.017812529896331704</td><td>0.030081830205109607</td><td>-0.031051401773198695</td><td>-0.03620497573753961</td><td>0.7900647240823421</td></tr><tr><td>40</td><td>1.6376384856982464</td><td>-0.4747682129075189</td><td>1.013933648222861</td><td>1.2755481199522656</td><td>-0.4761635491702908</td><td>-0.3442222756833108</td><td>1.705313589509247</td><td>-0.46541307884177063</td><td>1.6885629394256438</td><td>-0.05485103841844721</td><td>-0.004001875934533383</td><td>-0.0009176387632024441</td><td>0.056420390798650744</td><td>0.12668381889536734</td><td>-0.00996134931469747</td><td>0.027719793178099587</td><td>-0.04553920033067907</td><td>-0.04803434631953917</td><td>0.762575929329325</td></tr><tr><td>50</td><td>1.6891163063949262</td><td>-0.4709798462199752</td><td>1.0141882351189906</td><td>1.221221970724143</td><td>-0.6028196269261242</td><td>-0.3367598937276876</td><td>1.6785384902322216</td><td>-0.41347062658669975</td><td>1.7410680393324833</td><td>-0.04783682896115838</td><td>-0.0029273193425309735</td><td>-0.0008184807612168776</td><td>0.05081381783343453</td><td>0.12686601061734581</td><td>-0.004735545776534587</td><td>0.025646830460022897</td><td>-0.0595915721703808</td><td>-0.057405946557376956</td><td>0.7346332724807622</td></tr><tr><td>60</td><td>1.734517053246203</td><td>-0.4698121690186634</td><td>1.0172112440356806</td><td>1.1745965266518106</td><td>-0.7298976143812747</td><td>-0.3338513538783343</td><td>1.6537883173115313</td><td>-0.3480911485549413</td><td>1.8013710579173108</td><td>-0.042630174558312015</td><td>0.0016396754711813788</td><td>-0.0064586326119379645</td><td>0.040892194179739605</td><td>0.12716486983429462</td><td>-0.0008576033387205431</td><td>0.023666670548016678</td><td>-0.0720466317833143</td><td>-0.06304954141245894</td><td>0.7056518516299184</td></tr><tr><td>70</td><td>1.7750987302047743</td><td>-0.47474629380454797</td><td>1.0272274226304972</td><td>1.139063545530747</td><td>-0.8566727757823426</td><td>-0.3344354013303804</td><td>1.6309807512170962</td><td>-0.27139319451565347</td><td>1.8652671397711746</td><td>-0.038151648240919</td><td>0.00947758382132978</td><td>-0.014515651251247152</td><td>0.028816892085331114</td><td>0.1259512742785207</td><td>0.002233574090832413</td><td>0.021782790467083587</td><td>-0.0818301494787686</td><td>-0.06404969459521513</td><td>0.6760190835275312</td></tr><tr><td>80</td><td>1.811332572921989</td><td>-0.48858626584915715</td><td>1.0452785527511128</td><td>1.1156634390962747</td><td>-0.981399168689843</td><td>-0.3378670831866863</td><td>1.609978712476384</td><td>-0.1862774781493944</td><td>1.9280615141790511</td><td>-0.033912573887682006</td><td>0.01942013068485196</td><td>-0.022062065200257164</td><td>0.017036973614241113</td><td>0.1229467773738884</td><td>0.004820766606443677</td><td>0.0200938214795817</td><td>-0.08860287439819689</td><td>-0.06049395602271675</td><td>0.6464207711906622</td></tr><tr><td>90</td><td>1.8433761049655408</td><td>-0.512779911475096</td><td>1.0699111052901558</td><td>1.1031939388691328</td><td>-1.102566649680343</td><td>-0.3437187116910353</td><td>1.5905404228560365</td><td>-0.09558171848778702</td><td>1.9855862073095618</td><td>-0.029779798661007946</td><td>0.030043614661502155</td><td>-0.027259840322850226</td><td>0.007375432489169498</td><td>0.11889903814350453</td><td>0.0070559876696657566</td><td>0.018696330988793065</td><td>-0.09287543458115019</td><td>-0.053351272095462116</td><td>0.6174085582440549</td></tr><tr><td>100</td><td>1.8713495664449824</td><td>-0.5475333730802024</td><td>1.0984685653294473</td><td>1.0991406245145707</td><td>-1.219605710633707</td><td>-0.35167755918901344</td><td>1.5723513445535935</td><td>-0.0014022243787170149</td><td>2.0348008844171894</td><td>-0.025803077776997405</td><td>0.04042231741945618</td><td>-0.029649769846115892</td><td>0.0005074454673938411</td><td>0.11485459502016415</td><td>0.009016016717107913</td><td>0.017629877861708745</td><td>-0.09557185305276764</td><td>-0.04381952251322961</td><td>0.5891972472128482</td></tr><tr><td>200</td><td>1.9936411362844293</td><td>-1.3984022541815009</td><td>1.232998139567284</td><td>1.0823425595426588</td><td>-2.4329615274896694</td><td>-0.4810811940461018</td><td>1.4096275224176074</td><td>1.0713191930507016</td><td>1.9390781854974428</td><td>-0.005490008325234864</td><td>0.11013488306768707</td><td>0.008421936517726103</td><td>0.016518206914948236</td><td>0.1375563532441843</td><td>0.008564094341660413</td><td>0.014678740926978557</td><td>-0.10623582704586804</td><td>0.03600002641360031</td><td>0.22746717588404677</td></tr><tr><td>300</td><td>2.0528579898136288</td><td>-2.118949360506363</td><td>1.2271648385199434</td><td>0.9948213060045876</td><td>-3.341604769692015</td><td>-0.48585654640662157</td><td>1.3263639745876714</td><td>1.6176355054209293</td><td>1.8727170431401174</td><td>-0.004688014177017376</td><td>0.0405389357975504</td><td>-0.004437165400677318</td><td>0.0018000968802417971</td><td>0.05060161416475375</td><td>-0.0021373938197497876</td><td>0.0039273401428455154</td><td>-0.022227271484984032</td><td>-0.006704536038147663</td><td>0.040773902583371546</td></tr><tr><td>400</td><td>2.087225349264825</td><td>-2.3973984453887724</td><td>1.2709879612181252</td><td>0.9935782600259634</td><td>-3.689029679782832</td><td>-0.46783676748257375</td><td>1.3011707064232259</td><td>1.7585384563526567</td><td>1.9382511776809104</td><td>-0.002509061334927006</td><td>0.019266082888055744</td><td>-0.003947202063730837</td><td>-0.00071083035983582</td><td>0.024111623895405707</td><td>-0.0014403121590078902</td><td>0.0016248112163686661</td><td>-0.009164946059934516</td><td>-0.0057150275710750285</td><td>0.017137850889531545</td></tr><tr><td>500</td><td>2.107358588155765</td><td>-2.548503787181046</td><td>1.30557174744118</td><td>1.0024806380535536</td><td>-3.8790032468505484</td><td>-0.455933526620248</td><td>1.2888668117231972</td><td>1.8293441062097744</td><td>1.9869443469027859</td><td>-0.0016236861739613972</td><td>0.01192187431725197</td><td>-0.0030153243865591005</td><td>-0.0009691121900396067</td><td>0.015073191109795554</td><td>-0.0009842168625665497</td><td>0.0009368727077520545</td><td>-0.005530151784359387</td><td>-0.004130106175063122</td><td>0.010200001194061281</td></tr><tr><td>600</td><td>2.121185042758445</td><td>-2.6486700362194635</td><td>1.3324257381672742</td><td>1.012064097483105</td><td>-4.006236559372672</td><td>-0.4474451414076109</td><td>1.2811669341007788</td><td>1.8757348124112359</td><td>2.0230352444286397</td><td>-0.00118093189413379</td><td>0.008441338111002696</td><td>-0.0023922767409578563</td><td>-0.0009309595285023429</td><td>0.010777065196493376</td><td>-0.0007334915079231382</td><td>0.0006345600800372283</td><td>-0.0039097881975237</td><td>-0.0031556640363254954</td><td>0.00709518682259354</td></tr><tr><td>700</td><td>2.131607976021422</td><td>-2.7224680324873405</td><td>1.3541401389583625</td><td>1.0209745512133888</td><td>-4.1008398896899</td><td>-0.44092433578678925</td><td>1.2757054021094167</td><td>1.909980166142448</td><td>2.0512904112758803</td><td>-0.0009214078213156098</td><td>0.006461440721922751</td><td>-0.0019721273524422166</td><td>-0.0008488180720473155</td><td>0.008318873431958411</td><td>-0.0005804180680443765</td><td>0.0004706544312895319</td><td>-0.0030061158469254327</td><td>-0.0025316382547189726</td><td>0.005377994063309929</td></tr><tr><td>800</td><td>2.1399319679314</td><td>-2.7804121745780725</td><td>1.372308094247629</td><td>1.0290568463930192</td><td>-4.175703795480729</td><td>-0.4356558704919209</td><td>1.2715348972485903</td><td>1.9370131412406102</td><td>2.0743704624231056</td><td>-0.0007526047693556949</td><td>0.0051999005264124955</td><td>-0.0016743072856228716</td><td>-0.000768231052374814</td><td>0.006742934250777988</td><td>-0.0004785354317794141</td><td>0.00036973559749267225</td><td>-0.0024335664884037314</td><td>-0.002104929321385729</td><td>0.004301646456715066</td></tr><tr><td>900</td><td>2.1468419681040847</td><td>-2.827868842909089</td><td>1.387906871160431</td><td>1.0363806851684028</td><td>-4.237430830897534</td><td>-0.4312472216090867</td><td>1.268192795855221</td><td>1.959287847498104</td><td>2.0938179157711287</td><td>-0.00063467260056911</td><td>0.004332251211946688</td><td>-0.0014534926283526648</td><td>-0.000697619969172239</td><td>0.00565276111359932</td><td>-0.0004062800728109663</td><td>0.00030212447493423123</td><td>-0.0020397975883506758</td><td>-0.001796988709073656</td><td>0.00356919844507156</td></tr><tr><td>1000</td><td>2.152738639821634</td><td>-2.8679158867658914</td><td>1.4015664665461582</td><td>1.0430503390150452</td><td>-4.289824372321288</td><td>-0.42746271733332486</td><td>1.2654222234570518</td><td>1.978196493954005</td><td>2.110589229585505</td><td>-0.0005479098431067579</td><td>0.0037019524880838213</td><td>-0.0012836996032089699</td><td>-0.0006373290749461464</td><td>0.00485660089911368</td><td>-0.0003525510300710996</td><td>0.00025403326929429945</td><td>-0.0017530652794426607</td><td>-0.0015652086310550695</td><td>0.003041038760547295</td></tr><tr><td>2000</td><td>2.1870611966353146</td><td>-3.0931765722509525</td><td>1.486611086765271</td><td>1.0887615223964835</td><td>-4.5901433018196185</td><td>-0.40510992588814965</td><td>1.2506304069562164</td><td>2.0868577919936016</td><td>2.210396584100629</td><td>-0.0002277189656499696</td><td>0.0014517675928326966</td><td>-0.0005919456564227325</td><td>-0.00033879372319366185</td><td>0.001967766556165317</td><td>-0.000149826242859016</td><td>9.120738604769805e-05</td><td>-0.0007139752159963822</td><td>-0.0006704022634806957</td><td>0.0011814675639522153</td></tr><tr><td>3000</td><td>2.204928882027672</td><td>-3.205424348507466</td><td>1.5340146394103842</td><td>1.116623994746458</td><td>-4.74358312810981</td><td>-0.3933043754841308</td><td>1.2437286771375131</td><td>2.1426051818069163</td><td>2.26315457090967</td><td>-0.00014256638998564537</td><td>0.0008825366217823901</td><td>-0.0003854673129114923</td><td>-0.00023212574678707328</td><td>0.0012167247294491825</td><td>-9.456674623145272e-05</td><td>5.3097579170368e-05</td><td>-0.000442587170598102</td><td>-0.0004217983458822542</td><td>0.0007171109875877725</td></tr><tr><td>4000</td><td>2.217028451472783</td><td>-3.2795942695733413</td><td>1.5671062918682412</td><td>1.1368490534339726</td><td>-4.846419380066387</td><td>-0.385259553291038</td><td>1.239329540855257</td><td>2.180035338821157</td><td>2.2989660350912473</td><td>-0.00010349761704403176</td><td>0.0006282424605658832</td><td>-0.000286170998360758</td><td>-0.0001773737650683383</td><td>0.0008760080665517853</td><td>-6.896964774298734e-05</td><td>3.6728989860964075e-05</td><td>-0.000319019343274321</td><td>-0.000306334061301748</td><td>0.0005103518961927622</td></tr><tr><td>5000</td><td>2.2261716687140103</td><td>-3.3346900103260064</td><td>1.592580979942457</td><td>1.152795982513876</td><td>-4.923568320486487</td><td>-0.3791570003437596</td><td>1.236142726115169</td><td>2.208139098115603</td><td>2.32601732329284</td><td>-8.113821949796881e-05</td><td>0.0004853600747661474</td><td>-0.00022773896746356055</td><td>-0.00014393009549002475</td><td>0.0006825095836349247</td><td>-5.4237761003923204e-05</td><td>2.7772912672788257e-05</td><td>-0.0002486836037786332</td><td>-0.0002399187746207059</td><td>0.0003943328555927909</td></tr></table>"
      ],
      "text/plain": [
       "<__main__.Table at 0x7f496c736710>"
      ]
     },
     "metadata": {},
     "output_type": "display_data"
    },
    {
     "data": {
      "text/html": [
       "<h2>Optimized Function:</h2>"
      ],
      "text/plain": [
       "<IPython.core.display.HTML object>"
      ]
     },
     "metadata": {},
     "output_type": "display_data"
    },
    {
     "data": {
      "image/png": "[encoded data removed]",
      "text/latex": [
       "$$-1 + \\frac{2}{0.00468480985625197 e^{- \\frac{2.30562075104685}{0.107939997760858 e^{0.379151576567659 x_{0} - 1.2361399488239 x_{1}} + 1} + \\frac{9.8472731428897}{28.071042987165 e^{- 2.20816396647598 x_{0} - 2.3260413151703 x_{1}} + 1}} + 1}$$"
      ],
      "text/plain": [
       "                                                                              \n",
       "-1 + ─────────────────────────────────────────────────────────────────────────\n",
       "                                                    2.30562075104685          \n",
       "                          - ──────────────────────────────────────────────────\n",
       "                                               0.379151576567659⋅x₀ - 1.236139\n",
       "                            0.107939997760858⋅ℯ                               \n",
       "     0.00468480985625197⋅ℯ                                                    \n",
       "\n",
       "    2                                                                         \n",
       "──────────────────────────────────────────────────────────────────────────────\n",
       "                                        9.8472731428897                       \n",
       "────────────── + ─────────────────────────────────────────────────────────────\n",
       "9488239⋅x₁                        -2.20816396647598⋅x₀ - 2.3260413151703⋅x₁   \n",
       "           + 1   28.071042987165⋅ℯ                                          + \n",
       "                                                                              \n",
       "\n",
       "     \n",
       "─────\n",
       "     \n",
       "─    \n",
       "     \n",
       "1    \n",
       "  + 1"
      ]
     },
     "metadata": {},
     "output_type": "display_data"
    },
    {
     "data": {
      "text/html": [
       "<h2>Dataset evaluation:</h2>"
      ],
      "text/plain": [
       "<IPython.core.display.HTML object>"
      ]
     },
     "metadata": {},
     "output_type": "display_data"
    },
    {
     "data": {
      "text/html": [
       "<table><tr><th title=\"\">x_0</th><th title=\"\">x_1</th><th title=\"\">Y</th><th title=\"\">Ŷ</th></tr><tr><td>0</td><td>0</td><td>1</td><td>0.9983605088602521</td></tr><tr><td>0</td><td>1</td><td>1</td><td>0.9861740292963235</td></tr><tr><td>1</td><td>0</td><td>1</td><td>0.9858547036318259</td></tr><tr><td>1</td><td>1</td><td>0</td><td>0.0005546995610941075</td></tr></table>"
      ],
      "text/plain": [
       "<__main__.Table at 0x7f496a4ca208>"
      ]
     },
     "metadata": {},
     "output_type": "display_data"
    },
    {
     "data": {
      "image/png": "[encoded data removed]",
      "text/latex": [
       "$$-1 + \\frac{2}{0.00468480985625197 e^{- \\frac{2.30562075104685}{0.107939997760858 e^{0.379151576567659 x_{0} - 1.2361399488239 x_{1}} + 1} + \\frac{9.8472731428897}{28.071042987165 e^{- 2.20816396647598 x_{0} - 2.3260413151703 x_{1}} + 1}} + 1}$$"
      ],
      "text/plain": [
       "                                                                              \n",
       "-1 + ─────────────────────────────────────────────────────────────────────────\n",
       "                                                    2.30562075104685          \n",
       "                          - ──────────────────────────────────────────────────\n",
       "                                               0.379151576567659⋅x₀ - 1.236139\n",
       "                            0.107939997760858⋅ℯ                               \n",
       "     0.00468480985625197⋅ℯ                                                    \n",
       "\n",
       "    2                                                                         \n",
       "──────────────────────────────────────────────────────────────────────────────\n",
       "                                        9.8472731428897                       \n",
       "────────────── + ─────────────────────────────────────────────────────────────\n",
       "9488239⋅x₁                        -2.20816396647598⋅x₀ - 2.3260413151703⋅x₁   \n",
       "           + 1   28.071042987165⋅ℯ                                          + \n",
       "                                                                              \n",
       "\n",
       "     \n",
       "─────\n",
       "     \n",
       "─    \n",
       "     \n",
       "1    \n",
       "  + 1"
      ]
     },
     "execution_count": 9,
     "metadata": {},
     "output_type": "execute_result"
    }
   ],
   "source": [
    "def neural_nand():\n",
    "    data = [\n",
    "        {'X': [0, 0], 'Y': 1},\n",
    "        {'X': [0, 1], 'Y': 1},\n",
    "        {'X': [1, 0], 'Y': 1},\n",
    "        {'X': [1, 1], 'Y': 0},\n",
    "    ]\n",
    "    x = SymbolVector.x\n",
    "\n",
    "    neural_network = NeuralNetwork(inputs=x[0:2], dims=[2], activation_function=NeuralNetwork.logistic)\n",
    "    return optimize(\"NAND (2 layer net + logistic activation function)\", neural_network.expr, data, simplify=False)\n",
    "\n",
    "neural_nand()    "
   ]
  }
 ],
 "metadata": {
  "kernelspec": {
   "display_name": "Python 3",
   "language": "python",
   "name": "python3"
  },
  "language_info": {
   "codemirror_mode": {
    "name": "ipython",
    "version": 3
   },
   "file_extension": ".py",
   "mimetype": "text/x-python",
   "name": "python",
   "nbconvert_exporter": "python",
   "pygments_lexer": "ipython3",
   "version": "3.6.3"
  }
 },
 "nbformat": 4,
 "nbformat_minor": 2
}
