{
 "cells": [
  {
   "cell_type": "markdown",
   "metadata": {},
   "source": [
    "# Analytic neural networks\n",
    "\n",
    "On the last 2 classes of [MO810](https://www.ic.unicamp.br/~meidanis/courses/mo810/2018s1/), we expanded the cost function of a neural network for it's training data, calculated it's partial derivative for each parameter being optimized and finally used these derivatives to implement a gradient descent to optimize the function. \n",
    "\n",
    "1000s of iterations later, we had a reasonably trainned model.\n",
    "\n",
    "Doing all this work analytically instead of numerically is something that caught my attention: It's a lot of work (and really not pratical for anything vaguely complex), but it's an excelent exercise.\n",
    "\n",
    "Now, humans suck at making expansions and derivatives. It takes a lot of time, and there will most certainly be a mistake at the end. [SymPy](https://simpy.readthedocs.io), on the other hand, is _perfect_ for this.\n",
    "\n",
    "So, this notebook receives a dataset and a SimPy expression and does it all magically.\n",
    "\n",
    "Dataset inputs are mapped to the symbols $x_i$, and all remaining symbols are considered variables to optimized (By convention, $w_i$ is used for coefficients and $b_i$ is used for constants)\n",
    "\n",
    "Finally, at the end of the file, I used this to fit a 3-neurol, 2-layer neural network with a logistic activation function to fit the XOR function"
   ]
  },
  {
   "cell_type": "code",
   "execution_count": 1,
   "metadata": {
    "scrolled": false
   },
   "outputs": [],
   "source": [
    "from IPython.display import HTML, display, display_html\n",
    "\n",
    "class Table:\n",
    "    \"\"\" Just a component to display tabular data on Jupyter \"\"\"\n",
    "    \n",
    "    def __init__(self, headers, header_exprs):\n",
    "        self.headers = headers\n",
    "        self.header_exprs = header_exprs\n",
    "        self.data = []\n",
    "        \n",
    "    def append(self, row):\n",
    "        self.data.append(row)\n",
    "    \n",
    "    def _repr_html_(self):\n",
    "        html = [\"<table>\"]\n",
    "        html.append(\"<tr>\")\n",
    "        for header, expr in zip(self.headers, self.header_exprs):\n",
    "            html.append(f'<th title=\"{expr}\">{header}</th>')\n",
    "        html.append(\"</tr>\")\n",
    "        for row in self.data:\n",
    "            html.append(\"<tr>\")\n",
    "            for cell in row:\n",
    "                html.append(f\"<td>{cell}</td>\")\n",
    "            html.append(\"</tr>\")\n",
    "        html.append(\"</table>\")\n",
    "        return ''.join(html)"
   ]
  },
  {
   "cell_type": "code",
   "execution_count": 2,
   "metadata": {
    "scrolled": false
   },
   "outputs": [],
   "source": [
    "import sympy\n",
    "\n",
    "class SymbolVectorMetaclass(type):\n",
    "    def __getattr__(cls, key):\n",
    "        return cls(key)\n",
    "\n",
    "        \n",
    "class SymbolVector(metaclass = SymbolVectorMetaclass):\n",
    "    \"\"\"\n",
    "    And infinite array of symbols.\n",
    "    \n",
    "    SymbolVector.x yields [x_0, x_1, x_2, ...]\n",
    "    \"\"\"\n",
    "    def __init__(self, name):\n",
    "        self.name = name\n",
    "\n",
    "    @staticmethod\n",
    "    def __getattr__(cls, key):\n",
    "        return Vector(key)\n",
    "        \n",
    "    def __getitem__( self, key ) :\n",
    "        if isinstance( key, slice ) :\n",
    "            if (key.start is not None and key.start < 0) or (key.stop is not None and key.stop < 0):\n",
    "                raise IndexError(\"Negative indexes are not supported\")\n",
    "            return [self[ii] for ii in range(*key.indices(sys.maxsize))]\n",
    "\n",
    "        elif isinstance(key, int):\n",
    "            if key < 0:\n",
    "                raise IndexError(\"Negative indexes are not supported\")\n",
    "            return sympy.Symbol(f'{self.name}_{key}')\n",
    "\n",
    "        else:\n",
    "            raise TypeError(\"Invalid argument type.\")\n",
    "    \n",
    "    def __repr__(self):\n",
    "        return self.name + '[]'\n"
   ]
  },
  {
   "cell_type": "code",
   "execution_count": 3,
   "metadata": {
    "scrolled": false
   },
   "outputs": [],
   "source": [
    "import random\n",
    "import re\n",
    "import sympy\n",
    "import sys\n",
    "sympy.init_printing()\n",
    "\n",
    "def optimize(function_name, function, data, step=0.1, iterations=10000, simplify=True, verbose=True):\n",
    "    \"\"\"\n",
    "    This is where the magic happens:\n",
    "    - Expand the function and data into a cost function for the dataset\n",
    "    - Calculate partial derivatives of the cost for each parameter\n",
    "    - Perform a gradient descent to optimize the function to fit the data\n",
    "    - Returns the fitted function\n",
    "    \"\"\"\n",
    "    x = SymbolVector.x[:len(data[0]['X'])]\n",
    "        \n",
    "    if verbose:\n",
    "        display(HTML(f'<h1>Optimizing Function {function_name}</h1>'))\n",
    "\n",
    "        display(HTML(f'<h2>Function:</h2>'), function)\n",
    "        \n",
    "        table = Table(\n",
    "            x + ['Y'],\n",
    "            [''] * (len(x) + 1)\n",
    "        )\n",
    "        for row in data:\n",
    "            table.append(row['X'] + [row['Y']])\n",
    "            \n",
    "        display(HTML(f'<h2>Dataset:</h2>'), table)\n",
    "\n",
    "\n",
    "    # Calculate cost function for the dataset, and partial derivatives for each parameter\n",
    "\n",
    "    mse_symbol = sympy.Symbol(\"mse\")\n",
    "    mse = sympy.Rational(1, len(data)) * sum([\n",
    "        (function.subs(zip(x, row['X'])) - row['Y']) ** 2    \n",
    "        for row in data\n",
    "    ])\n",
    "    if simplify:\n",
    "        mse = sympy.simplify(mse)\n",
    "    \n",
    "    if verbose:\n",
    "        display(HTML(f'<h2>MSE:</h2>'), mse)\n",
    "\n",
    "    optimization_parameters = sorted(list(mse.free_symbols), key=str)\n",
    "\n",
    "    mse_derivates = [\n",
    "        sympy.diff(mse, parameter)\n",
    "        for parameter in optimization_parameters\n",
    "    ]\n",
    "    if simplify:\n",
    "        mse_derivates = [\n",
    "            sympy.simplify(x)\n",
    "            for x in mse_derivates\n",
    "        ]\n",
    "\n",
    "    mse_fast = sympy.lambdify(optimization_parameters, mse)\n",
    "    mse_derivates_fast = [\n",
    "        sympy.lambdify(optimization_parameters, expr)\n",
    "        for expr in mse_derivates\n",
    "    ]\n",
    "    \n",
    "    #if verbose:\n",
    "        #display(HTML(f'<h2>Cost derivatives:</h2>'), *cost_derivates)\n",
    "\n",
    "    # Optimize equation with gradient descent -- Initial values are random noise\n",
    "    \n",
    "    w = [\n",
    "        random.gauss(0,1) \n",
    "        for symbol in optimization_parameters\n",
    "    ]\n",
    "\n",
    "    table = Table(\n",
    "        ['loop'] + optimization_parameters + [sympy.Derivative(parameter, mse_symbol) for parameter in optimization_parameters] + [mse_symbol], \n",
    "        [''] + [''] * len(optimization_parameters) + mse_derivates + [mse]\n",
    "    )\n",
    "\n",
    "    for i in range(iterations+1):\n",
    "        gradient = [d(*w) for d in mse_derivates_fast]\n",
    "        if re.match('^[0-9]0*$', str(i)):\n",
    "            table.append([i] + w + gradient + [mse_fast(*w)])\n",
    "            \n",
    "        w = [\n",
    "            parameter - step * gradient\n",
    "            for parameter, gradient in zip(w, gradient)\n",
    "        ]\n",
    "\n",
    "    if verbose:\n",
    "        display(HTML(f'<h2>Gradient Descent:</h2>'), table)\n",
    "        \n",
    "    optimized_model = function.subs(zip(optimization_parameters, w))\n",
    "    optimized_model_fast = sympy.lambdify(x, optimized_model)\n",
    "    \n",
    "    if verbose:\n",
    "        display(HTML(f'<h2>Optimized Function:</h2>'), optimized_model)\n",
    "        \n",
    "        table = Table(\n",
    "            x + ['Y', 'Ŷ', '(Y - Ŷ)²'],\n",
    "            [''] * (len(x) + 3)\n",
    "        )\n",
    "        for row in data:\n",
    "            y = row['Y']\n",
    "            ŷ = optimized_model_fast(*row['X'])\n",
    "            table.append(row['X'] + [y, ŷ, (y-ŷ)**2])\n",
    "            \n",
    "        display(HTML(f'<h2>Dataset evaluation:</h2>'), table)\n",
    "        \n",
    "    return optimized_model\n"
   ]
  },
  {
   "cell_type": "code",
   "execution_count": 4,
   "metadata": {
    "scrolled": false
   },
   "outputs": [
    {
     "data": {
      "text/html": [
       "<h1>Optimizing Function NOT (Linear)</h1>"
      ],
      "text/plain": [
       "<IPython.core.display.HTML object>"
      ]
     },
     "metadata": {},
     "output_type": "display_data"
    },
    {
     "data": {
      "text/html": [
       "<h2>Function:</h2>"
      ],
      "text/plain": [
       "<IPython.core.display.HTML object>"
      ]
     },
     "metadata": {},
     "output_type": "display_data"
    },
    {
     "data": {
      "image/png": "[encoded data removed]",
      "text/latex": [
       "$$b + w_{0} x_{0}$$"
      ],
      "text/plain": [
       "b + w₀⋅x₀"
      ]
     },
     "metadata": {},
     "output_type": "display_data"
    },
    {
     "data": {
      "text/html": [
       "<h2>Dataset:</h2>"
      ],
      "text/plain": [
       "<IPython.core.display.HTML object>"
      ]
     },
     "metadata": {},
     "output_type": "display_data"
    },
    {
     "data": {
      "text/html": [
       "<table><tr><th title=\"\">x_0</th><th title=\"\">Y</th></tr><tr><td>0</td><td>1</td></tr><tr><td>1</td><td>0</td></tr></table>"
      ],
      "text/plain": [
       "<__main__.Table at 0x7f573c6d4128>"
      ]
     },
     "metadata": {},
     "output_type": "display_data"
    },
    {
     "data": {
      "text/html": [
       "<h2>MSE:</h2>"
      ],
      "text/plain": [
       "<IPython.core.display.HTML object>"
      ]
     },
     "metadata": {},
     "output_type": "display_data"
    },
    {
     "data": {
      "image/png": "[encoded data removed]",
      "text/latex": [
       "$$\\frac{1}{2} \\left(b - 1\\right)^{2} + \\frac{1}{2} \\left(b + w_{0}\\right)^{2}$$"
      ],
      "text/plain": [
       "       2           2\n",
       "(b - 1)    (b + w₀) \n",
       "──────── + ─────────\n",
       "   2           2    "
      ]
     },
     "metadata": {},
     "output_type": "display_data"
    },
    {
     "data": {
      "text/html": [
       "<h2>Gradient Descent:</h2>"
      ],
      "text/plain": [
       "<IPython.core.display.HTML object>"
      ]
     },
     "metadata": {},
     "output_type": "display_data"
    },
    {
     "data": {
      "text/html": [
       "<table><tr><th title=\"\">loop</th><th title=\"\">b</th><th title=\"\">w_0</th><th title=\"2*b + w_0 - 1\">Derivative(b, mse)</th><th title=\"b + w_0\">Derivative(w_0, mse)</th><th title=\"(b - 1)**2/2 + (b + w_0)**2/2\">mse</th></tr><tr><td>0</td><td>1.4283048813991401</td><td>-0.8971074709667467</td><td>0.9595022918315336</td><td>0.5311974104323934</td><td>0.23280788014020606</td></tr><tr><td>1</td><td>1.3323546522159868</td><td>-0.950227212009986</td><td>0.7144820924219876</td><td>0.38212744020600076</td><td>0.12824049770400012</td></tr><tr><td>2</td><td>1.260906442973788</td><td>-0.9884399560305861</td><td>0.5333729299169898</td><td>0.27246648694320186</td><td>0.07115507924620224</td></tr><tr><td>3</td><td>1.2075691499820889</td><td>-1.0156866047249062</td><td>0.3994516952392715</td><td>0.19188254525718262</td><td>0.03995193159933082</td></tr><tr><td>4</td><td>1.1676239804581616</td><td>-1.0348748592506245</td><td>0.30037310166569875</td><td>0.13274912120753712</td><td>0.02286006400300577</td></tr><tr><td>5</td><td>1.1375866702915918</td><td>-1.0481497713713783</td><td>0.22702356921180522</td><td>0.08943689892021345</td><td>0.01346452536519583</td></tr><tr><td>6</td><td>1.1148843133704112</td><td>-1.0570934612633998</td><td>0.17267516547742257</td><td>0.0577908521070114</td><td>0.00826909402292265</td></tr><tr><td>7</td><td>1.0976167968226689</td><td>-1.062872546474101</td><td>0.13236104717123687</td><td>0.034744250348567984</td><td>0.0053681009771010925</td></tr><tr><td>8</td><td>1.0843806921055452</td><td>-1.0663469715089577</td><td>0.1024144127021327</td><td>0.018033720596587477</td><td>0.0037226581393833024</td></tr><tr><td>9</td><td>1.074139250835332</td><td>-1.0681503435686164</td><td>0.08012815810204765</td><td>0.005988907266715637</td><td>0.002766247762336799</td></tr><tr><td>10</td><td>1.0661264350251272</td><td>-1.068749234295288</td><td>0.06350363575496631</td><td>-0.002622799270160847</td><td>0.00218979224257196</td></tr><tr><td>20</td><td>1.0340310974214275</td><td>-1.0532256575973205</td><td>0.014836537245534576</td><td>-0.01919456017589294</td><td>0.0007632733660263327</td></tr><tr><td>30</td><td>1.0225363340848785</td><td>-1.0363762420402258</td><td>0.008696426129531254</td><td>-0.013839907955347286</td><td>0.00034971470309887165</td></tr><tr><td>40</td><td>1.0152418844405708</td><td>-1.0246576433982324</td><td>0.0058261254829092834</td><td>-0.009415758957661557</td><td>0.00016048577902424968</td></tr><tr><td>50</td><td>1.0103240832160247</td><td>-1.0167045136247372</td><td>0.003943652807312237</td><td>-0.006380430408712501</td><td>7.364829322591344e-05</td></tr><tr><td>60</td><td>1.0069937645443257</td><td>-1.0113161389429965</td><td>0.0026713901456547617</td><td>-0.004322374398670892</td><td>3.379783147187609e-05</td></tr><tr><td>70</td><td>1.004737768421923</td><td>-1.0076658698666243</td><td>0.0018096669772216245</td><td>-0.0029281014447013476</td><td>1.5510113845116303e-05</td></tr><tr><td>80</td><td>1.003209496347463</td><td>-1.0051930741543367</td><td>0.001225918540589177</td><td>-0.0019835778068737486</td><td>7.117723860149966e-06</td></tr><tr><td>90</td><td>1.0021742023421631</td><td>-1.0035179332869526</td><td>0.0008304713973736888</td><td>-0.0013437309447894563</td><td>3.2663843383262355e-06</td></tr><tr><td>100</td><td>1.0014728653114902</td><td>-1.0023831461347898</td><td>0.0005625844881904651</td><td>-0.0009102808232996917</td><td>1.4989717015290806e-06</td></tr><tr><td>200</td><td>1.0000299773874697</td><td>-1.0000485044318195</td><td>1.1450343119889794e-05</td><td>-1.852704434979202e-05</td><td>6.209475659232984e-10</td></tr><tr><td>300</td><td>1.0000006101330194</td><td>-1.0000009872159632</td><td>2.330500756819731e-07</td><td>-3.770829437588219e-07</td><td>2.572269239428802e-13</td></tr><tr><td>400</td><td>1.0000000124181037</td><td>-1.000000020092914</td><td>4.743293313680397e-09</td><td>-7.674810342805927e-09</td><td>1.0655600611063991e-16</td></tr><tr><td>500</td><td>1.000000000252747</td><td>-1.000000000408953</td><td>9.654077537391004e-11</td><td>-1.5620615911871027e-10</td><td>4.414068852101837e-20</td></tr><tr><td>600</td><td>1.000000000005144</td><td>-1.0000000000083233</td><td>1.964872708981602e-12</td><td>-3.1792346533165983e-12</td><td>1.828468676784983e-23</td></tr><tr><td>700</td><td>1.0000000000001046</td><td>-1.0000000000001694</td><td>3.9745984281580604e-14</td><td>-6.483702463810914e-14</td><td>7.570722759309338e-27</td></tr><tr><td>800</td><td>1.0000000000000024</td><td>-1.0000000000000038</td><td>1.1102230246251565e-15</td><td>-1.3322676295501878e-15</td><td>3.870348816240589e-30</td></tr><tr><td>900</td><td>1.000000000000002</td><td>-1.000000000000003</td><td>8.881784197001252e-16</td><td>-1.1102230246251565e-15</td><td>2.6131017485446016e-30</td></tr><tr><td>1000</td><td>1.000000000000002</td><td>-1.000000000000003</td><td>8.881784197001252e-16</td><td>-1.1102230246251565e-15</td><td>2.6131017485446016e-30</td></tr><tr><td>2000</td><td>1.000000000000002</td><td>-1.000000000000003</td><td>8.881784197001252e-16</td><td>-1.1102230246251565e-15</td><td>2.6131017485446016e-30</td></tr><tr><td>3000</td><td>1.000000000000002</td><td>-1.000000000000003</td><td>8.881784197001252e-16</td><td>-1.1102230246251565e-15</td><td>2.6131017485446016e-30</td></tr><tr><td>4000</td><td>1.000000000000002</td><td>-1.000000000000003</td><td>8.881784197001252e-16</td><td>-1.1102230246251565e-15</td><td>2.6131017485446016e-30</td></tr><tr><td>5000</td><td>1.000000000000002</td><td>-1.000000000000003</td><td>8.881784197001252e-16</td><td>-1.1102230246251565e-15</td><td>2.6131017485446016e-30</td></tr><tr><td>6000</td><td>1.000000000000002</td><td>-1.000000000000003</td><td>8.881784197001252e-16</td><td>-1.1102230246251565e-15</td><td>2.6131017485446016e-30</td></tr><tr><td>7000</td><td>1.000000000000002</td><td>-1.000000000000003</td><td>8.881784197001252e-16</td><td>-1.1102230246251565e-15</td><td>2.6131017485446016e-30</td></tr><tr><td>8000</td><td>1.000000000000002</td><td>-1.000000000000003</td><td>8.881784197001252e-16</td><td>-1.1102230246251565e-15</td><td>2.6131017485446016e-30</td></tr><tr><td>9000</td><td>1.000000000000002</td><td>-1.000000000000003</td><td>8.881784197001252e-16</td><td>-1.1102230246251565e-15</td><td>2.6131017485446016e-30</td></tr><tr><td>10000</td><td>1.000000000000002</td><td>-1.000000000000003</td><td>8.881784197001252e-16</td><td>-1.1102230246251565e-15</td><td>2.6131017485446016e-30</td></tr></table>"
      ],
      "text/plain": [
       "<__main__.Table at 0x7f571a25a630>"
      ]
     },
     "metadata": {},
     "output_type": "display_data"
    },
    {
     "data": {
      "text/html": [
       "<h2>Optimized Function:</h2>"
      ],
      "text/plain": [
       "<IPython.core.display.HTML object>"
      ]
     },
     "metadata": {},
     "output_type": "display_data"
    },
    {
     "data": {
      "image/png": "[encoded data removed]",
      "text/latex": [
       "$$- 1.0 x_{0} + 1.0$$"
      ],
      "text/plain": [
       "-1.0⋅x₀ + 1.0"
      ]
     },
     "metadata": {},
     "output_type": "display_data"
    },
    {
     "data": {
      "text/html": [
       "<h2>Dataset evaluation:</h2>"
      ],
      "text/plain": [
       "<IPython.core.display.HTML object>"
      ]
     },
     "metadata": {},
     "output_type": "display_data"
    },
    {
     "data": {
      "text/html": [
       "<table><tr><th title=\"\">x_0</th><th title=\"\">Y</th><th title=\"\">Ŷ</th><th title=\"\">(Y - Ŷ)²</th></tr><tr><td>0</td><td>1</td><td>1.0</td><td>0.0</td></tr><tr><td>1</td><td>0</td><td>0.0</td><td>0.0</td></tr></table>"
      ],
      "text/plain": [
       "<__main__.Table at 0x7f571a25a358>"
      ]
     },
     "metadata": {},
     "output_type": "display_data"
    },
    {
     "data": {
      "image/png": "[encoded data removed]",
      "text/latex": [
       "$$- 1.0 x_{0} + 1.0$$"
      ],
      "text/plain": [
       "-1.0⋅x₀ + 1.0"
      ]
     },
     "execution_count": 4,
     "metadata": {},
     "output_type": "execute_result"
    }
   ],
   "source": [
    "def linear_not():\n",
    "    data = [\n",
    "        {'X': [0], 'Y': 1},\n",
    "        {'X': [1], 'Y': 0},\n",
    "    ]\n",
    "\n",
    "    x = SymbolVector.x\n",
    "    w = SymbolVector.w\n",
    "    bias = sympy.Symbol(\"b\")\n",
    "    \n",
    "    return optimize(\"NOT (Linear)\", x[0]*w[0] + bias, data)\n",
    "\n",
    "linear_not()"
   ]
  },
  {
   "cell_type": "code",
   "execution_count": 5,
   "metadata": {
    "scrolled": false
   },
   "outputs": [
    {
     "data": {
      "text/html": [
       "<h1>Optimizing Function XOR (Linear)</h1>"
      ],
      "text/plain": [
       "<IPython.core.display.HTML object>"
      ]
     },
     "metadata": {},
     "output_type": "display_data"
    },
    {
     "data": {
      "text/html": [
       "<h2>Function:</h2>"
      ],
      "text/plain": [
       "<IPython.core.display.HTML object>"
      ]
     },
     "metadata": {},
     "output_type": "display_data"
    },
    {
     "data": {
      "image/png": "[encoded data removed]",
      "text/latex": [
       "$$b + w_{0} x_{0} + w_{1} x_{1}$$"
      ],
      "text/plain": [
       "b + w₀⋅x₀ + w₁⋅x₁"
      ]
     },
     "metadata": {},
     "output_type": "display_data"
    },
    {
     "data": {
      "text/html": [
       "<h2>Dataset:</h2>"
      ],
      "text/plain": [
       "<IPython.core.display.HTML object>"
      ]
     },
     "metadata": {},
     "output_type": "display_data"
    },
    {
     "data": {
      "text/html": [
       "<table><tr><th title=\"\">x_0</th><th title=\"\">x_1</th><th title=\"\">Y</th></tr><tr><td>0</td><td>0</td><td>0</td></tr><tr><td>0</td><td>1</td><td>1</td></tr><tr><td>1</td><td>0</td><td>1</td></tr><tr><td>1</td><td>1</td><td>0</td></tr></table>"
      ],
      "text/plain": [
       "<__main__.Table at 0x7f571a212a58>"
      ]
     },
     "metadata": {},
     "output_type": "display_data"
    },
    {
     "data": {
      "text/html": [
       "<h2>MSE:</h2>"
      ],
      "text/plain": [
       "<IPython.core.display.HTML object>"
      ]
     },
     "metadata": {},
     "output_type": "display_data"
    },
    {
     "data": {
      "image/png": "[encoded data removed]",
      "text/latex": [
       "$$\\frac{b^{2}}{4} + \\frac{1}{4} \\left(b + w_{0} - 1\\right)^{2} + \\frac{1}{4} \\left(b + w_{0} + w_{1}\\right)^{2} + \\frac{1}{4} \\left(b + w_{1} - 1\\right)^{2}$$"
      ],
      "text/plain": [
       " 2               2                2               2\n",
       "b    (b + w₀ - 1)    (b + w₀ + w₁)    (b + w₁ - 1) \n",
       "── + ───────────── + ────────────── + ─────────────\n",
       "4          4               4                4      "
      ]
     },
     "metadata": {},
     "output_type": "display_data"
    },
    {
     "data": {
      "text/html": [
       "<h2>Gradient Descent:</h2>"
      ],
      "text/plain": [
       "<IPython.core.display.HTML object>"
      ]
     },
     "metadata": {},
     "output_type": "display_data"
    },
    {
     "data": {
      "text/html": [
       "<table><tr><th title=\"\">loop</th><th title=\"\">b</th><th title=\"\">w_0</th><th title=\"\">w_1</th><th title=\"2*b + w_0 + w_1 - 1\">Derivative(b, mse)</th><th title=\"b + w_0 + w_1/2 - 1/2\">Derivative(w_0, mse)</th><th title=\"b + w_0/2 + w_1 - 1/2\">Derivative(w_1, mse)</th><th title=\"b**2/4 + (b + w_0 - 1)**2/4 + (b + w_0 + w_1)**2/4 + (b + w_1 - 1)**2/4\">mse</th></tr><tr><td>0</td><td>-1.6828233897459945</td><td>-0.44043247124103757</td><td>1.0106431729703678</td><td>-3.795436077762659</td><td>-2.1179342745018483</td><td>-1.3923964523961456</td><td>4.155178851294374</td></tr><tr><td>1</td><td>-1.3032797819697286</td><td>-0.22863904379085273</td><td>1.1498828182099823</td><td>-2.6853157895203275</td><td>-1.4569774166555902</td><td>-0.7677164856551726</td><td>2.396356799351827</td></tr><tr><td>2</td><td>-1.0347482030176958</td><td>-0.08294130212529371</td><td>1.2266544667754995</td><td>-1.9257832413851856</td><td>-1.0043622717552396</td><td>-0.34956438730484307</td><td>1.5550503833146387</td></tr><tr><td>3</td><td>-0.8421698788791772</td><td>0.01749492505023026</td><td>1.2616109055059839</td><td>-1.4052339272021401</td><td>-0.693869501075955</td><td>-0.07181151084807813</td><td>1.1416626348635228</td></tr><tr><td>4</td><td>-0.7016464861589631</td><td>0.08688187515782576</td><td>1.2687920565907918</td><td>-1.0476190405693087</td><td>-0.48036858270574145</td><td>0.11058650801074155</td><td>0.9287218493155474</td></tr><tr><td>5</td><td>-0.5968845821020322</td><td>0.1349187334283999</td><td>1.2577334057897176</td><td>-0.8011170249859465</td><td>-0.33309914577877353</td><td>0.22830819040188532</td><td>0.810471218097915</td></tr><tr><td>6</td><td>-0.5167728796034375</td><td>0.16822864800627726</td><td>1.2349025867495291</td><td>-0.6304145244510688</td><td>-0.2310929382223957</td><td>0.30224403114923026</td><td>0.7376769373523914</td></tr><tr><td>7</td><td>-0.45373142715833065</td><td>0.19133794182851682</td><td>1.204678183634606</td><td>-0.5114467288535383</td><td>-0.16005439351251077</td><td>0.3466157273905339</td><td>0.6873593726408329</td></tr><tr><td>8</td><td>-0.4025867542729768</td><td>0.2073433811797679</td><td>1.1700166108955528</td><td>-0.42781351647063315</td><td>-0.11023506764543253</td><td>0.3711015472124599</td><td>0.6487386380913855</td></tr><tr><td>9</td><td>-0.3598054026259135</td><td>0.21836688794431114</td><td>1.1329064561743067</td><td>-0.3683374611332091</td><td>-0.07498528659444897</td><td>0.3822844975205488</td><td>0.616708405366492</td></tr><tr><td>10</td><td>-0.3229716565125926</td><td>0.22586541660375603</td><td>1.0946780064222519</td><td>-0.32539988999917724</td><td>-0.049767236697710604</td><td>0.3846390582115373</td><td>0.5888050531434152</td></tr><tr><td>20</td><td>-0.08178442472057133</td><td>0.22966625519347467</td><td>0.7498564459931699</td><td>-0.18404614825449805</td><td>0.02281005346948828</td><td>0.28290514886933593</td><td>0.4122260657648546</td></tr><tr><td>30</td><td>0.0774242437553916</td><td>0.2005169251916011</td><td>0.5119740078528391</td><td>-0.1326605794447766</td><td>0.03392817287341224</td><td>0.18965671420403124</td><td>0.32998081283595426</td></tr><tr><td>40</td><td>0.19281397848510326</td><td>0.16573865369036722</td><td>0.3522195140670717</td><td>-0.09641387527235451</td><td>0.0346623892090063</td><td>0.12790281939735856</td><td>0.29020588069044323</td></tr><tr><td>50</td><td>0.27668965473747786</td><td>0.1324398296027999</td><td>0.24409280917128745</td><td>-0.07008805175095695</td><td>0.03117588892592152</td><td>0.08700237871016525</td><td>0.2705084857381485</td></tr><tr><td>60</td><td>0.3376633614027882</td><td>0.10343582182726396</td><td>0.17028658507094546</td><td>-0.0509508702962142</td><td>0.026242475765524853</td><td>0.05966785738736563</td><td>0.26057312036903685</td></tr><tr><td>70</td><td>0.3819885179864982</td><td>0.07947896849283866</td><td>0.11950498986311005</td><td>-0.037039005671054934</td><td>0.02121998141089189</td><td>0.04123299209602756</td><td>0.25549255924399206</td></tr><tr><td>80</td><td>0.4142109260350204</td><td>0.060343694205525086</td><td>0.08430875173065132</td><td>-0.026925701993782775</td><td>0.016708996105871163</td><td>0.02869152486843428</td><td>0.25286858011915214</td></tr><tr><td>90</td><td>0.437635176795212</td><td>0.04540354953498566</td><td>0.059752314726251435</td><td>-0.019573782148338867</td><td>0.012914883693323394</td><td>0.02008926628895631</td><td>0.2515037385932779</td></tr><tr><td>100</td><td>0.454663560362543</td><td>0.03392623928699294</td><td>0.0425173750394616</td><td>-0.014229264948459427</td><td>0.00984848716926677</td><td>0.014144055045501064</td><td>0.2507902972183445</td></tr><tr><td>200</td><td>0.49813136462176405</td><td>0.0015499590113770365</td><td>0.0016008230816353776</td><td>-0.0005864886634594857</td><td>0.0004817351739587559</td><td>0.0005071672090879277</td><td>0.25000132724410706</td></tr><tr><td>300</td><td>0.49992298031771537</td><td>6.478243791602845e-05</td><td>6.50835801302632e-05</td><td>-2.417334652296672e-05</td><td>2.030454569652074e-05</td><td>2.0455116803672887e-05</td><td>0.2500000022542468</td></tr><tr><td>400</td><td>0.4999968254740715</td><td>2.6754571641105828e-06</td><td>2.67724008538189e-06</td><td>-9.963546075427979e-07</td><td>8.395512782941915e-07</td><td>8.404427389379597e-07</td><td>0.2500000000038296</td></tr><tr><td>500</td><td>0.4999998691553305</td><td>1.1030598086814448e-07</td><td>1.1031653670123697e-07</td><td>-4.106682140680841e-08</td><td>3.461957972173136e-08</td><td>3.4624857665587086e-08</td><td>0.2500000000000065</td></tr><tr><td>600</td><td>0.4999999946069656</td><td>4.546676050968681e-09</td><td>4.5467385418750775e-09</td><td>-1.6926542230385298e-09</td><td>1.4270109136387064e-09</td><td>1.4270421517669599e-09</td><td>0.25000000000000006</td></tr><tr><td>700</td><td>0.49999999977771487</td><td>1.8740178525317745e-10</td><td>1.8740216800013122e-10</td><td>-6.976631623332405e-11</td><td>5.881775294253615e-11</td><td>5.881791364488499e-11</td><td>0.24999999999999994</td></tr><tr><td>800</td><td>0.4999999999908381</td><td>7.724125150530604e-12</td><td>7.724129584793667e-12</td><td>-2.8755321969040876e-12</td><td>2.4243090090287257e-12</td><td>2.4243134432917884e-12</td><td>0.24999999999999997</td></tr><tr><td>900</td><td>0.49999999999962236</td><td>3.183605109459617e-13</td><td>3.1836051106374194e-13</td><td>-1.1856370164279036e-13</td><td>9.992413085096215e-14</td><td>9.992413096874239e-14</td><td>0.25</td></tr><tr><td>1000</td><td>0.49999999999998446</td><td>1.309483985468171e-14</td><td>1.3094839854684837e-14</td><td>-4.8965649801378376e-15</td><td>4.102033355217942e-15</td><td>4.102033355221069e-15</td><td>0.25</td></tr><tr><td>2000</td><td>0.4999999999999996</td><td>2.7755575615628894e-16</td><td>2.7755575615628894e-16</td><td>-2.220446049250317e-16</td><td>-1.9721522630525295e-31</td><td>-1.9721522630525295e-31</td><td>0.25000000000000006</td></tr><tr><td>3000</td><td>0.4999999999999996</td><td>2.7755575615628894e-16</td><td>2.7755575615628894e-16</td><td>-2.220446049250317e-16</td><td>-1.9721522630525295e-31</td><td>-1.9721522630525295e-31</td><td>0.25000000000000006</td></tr><tr><td>4000</td><td>0.4999999999999996</td><td>2.7755575615628894e-16</td><td>2.7755575615628894e-16</td><td>-2.220446049250317e-16</td><td>-1.9721522630525295e-31</td><td>-1.9721522630525295e-31</td><td>0.25000000000000006</td></tr><tr><td>5000</td><td>0.4999999999999996</td><td>2.7755575615628894e-16</td><td>2.7755575615628894e-16</td><td>-2.220446049250317e-16</td><td>-1.9721522630525295e-31</td><td>-1.9721522630525295e-31</td><td>0.25000000000000006</td></tr><tr><td>6000</td><td>0.4999999999999996</td><td>2.7755575615628894e-16</td><td>2.7755575615628894e-16</td><td>-2.220446049250317e-16</td><td>-1.9721522630525295e-31</td><td>-1.9721522630525295e-31</td><td>0.25000000000000006</td></tr><tr><td>7000</td><td>0.4999999999999996</td><td>2.7755575615628894e-16</td><td>2.7755575615628894e-16</td><td>-2.220446049250317e-16</td><td>-1.9721522630525295e-31</td><td>-1.9721522630525295e-31</td><td>0.25000000000000006</td></tr><tr><td>8000</td><td>0.4999999999999996</td><td>2.7755575615628894e-16</td><td>2.7755575615628894e-16</td><td>-2.220446049250317e-16</td><td>-1.9721522630525295e-31</td><td>-1.9721522630525295e-31</td><td>0.25000000000000006</td></tr><tr><td>9000</td><td>0.4999999999999996</td><td>2.7755575615628894e-16</td><td>2.7755575615628894e-16</td><td>-2.220446049250317e-16</td><td>-1.9721522630525295e-31</td><td>-1.9721522630525295e-31</td><td>0.25000000000000006</td></tr><tr><td>10000</td><td>0.4999999999999996</td><td>2.7755575615628894e-16</td><td>2.7755575615628894e-16</td><td>-2.220446049250317e-16</td><td>-1.9721522630525295e-31</td><td>-1.9721522630525295e-31</td><td>0.25000000000000006</td></tr></table>"
      ],
      "text/plain": [
       "<__main__.Table at 0x7f5748ed3be0>"
      ]
     },
     "metadata": {},
     "output_type": "display_data"
    },
    {
     "data": {
      "text/html": [
       "<h2>Optimized Function:</h2>"
      ],
      "text/plain": [
       "<IPython.core.display.HTML object>"
      ]
     },
     "metadata": {},
     "output_type": "display_data"
    },
    {
     "data": {
      "image/png": "[encoded data removed]",
      "text/latex": [
       "$$2.77555756156289 \\cdot 10^{-16} x_{0} + 2.77555756156289 \\cdot 10^{-16} x_{1} + 0.5$$"
      ],
      "text/plain": [
       "2.77555756156289e-16⋅x₀ + 2.77555756156289e-16⋅x₁ + 0.5"
      ]
     },
     "metadata": {},
     "output_type": "display_data"
    },
    {
     "data": {
      "text/html": [
       "<h2>Dataset evaluation:</h2>"
      ],
      "text/plain": [
       "<IPython.core.display.HTML object>"
      ]
     },
     "metadata": {},
     "output_type": "display_data"
    },
    {
     "data": {
      "text/html": [
       "<table><tr><th title=\"\">x_0</th><th title=\"\">x_1</th><th title=\"\">Y</th><th title=\"\">Ŷ</th><th title=\"\">(Y - Ŷ)²</th></tr><tr><td>0</td><td>0</td><td>0</td><td>0.5</td><td>0.25</td></tr><tr><td>0</td><td>1</td><td>1</td><td>0.5000000000000002</td><td>0.24999999999999978</td></tr><tr><td>1</td><td>0</td><td>1</td><td>0.5000000000000002</td><td>0.24999999999999978</td></tr><tr><td>1</td><td>1</td><td>0</td><td>0.5000000000000004</td><td>0.25000000000000044</td></tr></table>"
      ],
      "text/plain": [
       "<__main__.Table at 0x7f571a264cf8>"
      ]
     },
     "metadata": {},
     "output_type": "display_data"
    },
    {
     "data": {
      "image/png": "[encoded data removed]",
      "text/latex": [
       "$$2.77555756156289 \\cdot 10^{-16} x_{0} + 2.77555756156289 \\cdot 10^{-16} x_{1} + 0.5$$"
      ],
      "text/plain": [
       "2.77555756156289e-16⋅x₀ + 2.77555756156289e-16⋅x₁ + 0.5"
      ]
     },
     "execution_count": 5,
     "metadata": {},
     "output_type": "execute_result"
    }
   ],
   "source": [
    "def linear_xor():\n",
    "    data = [\n",
    "        {'X': [0, 0], 'Y': 0},\n",
    "        {'X': [0, 1], 'Y': 1},\n",
    "        {'X': [1, 0], 'Y': 1},\n",
    "        {'X': [1, 1], 'Y': 0},\n",
    "    ]\n",
    "\n",
    "    x = SymbolVector.x\n",
    "    w = SymbolVector.w\n",
    "    bias = sympy.Symbol(\"b\")\n",
    "    \n",
    "    return optimize(\"XOR (Linear)\", x[0]*w[0] + x[1]*w[1] + bias, data)\n",
    "\n",
    "linear_xor()"
   ]
  },
  {
   "cell_type": "code",
   "execution_count": 6,
   "metadata": {
    "scrolled": false
   },
   "outputs": [
    {
     "data": {
      "text/html": [
       "<h1>Optimizing Function XOR (With extra nonlinear term x_0*x_1)</h1>"
      ],
      "text/plain": [
       "<IPython.core.display.HTML object>"
      ]
     },
     "metadata": {},
     "output_type": "display_data"
    },
    {
     "data": {
      "text/html": [
       "<h2>Function:</h2>"
      ],
      "text/plain": [
       "<IPython.core.display.HTML object>"
      ]
     },
     "metadata": {},
     "output_type": "display_data"
    },
    {
     "data": {
      "image/png": "[encoded data removed]",
      "text/latex": [
       "$$b + w_{0} x_{0} + w_{1} x_{1} + w_{2} x_{0} x_{1}$$"
      ],
      "text/plain": [
       "b + w₀⋅x₀ + w₁⋅x₁ + w₂⋅x₀⋅x₁"
      ]
     },
     "metadata": {},
     "output_type": "display_data"
    },
    {
     "data": {
      "text/html": [
       "<h2>Dataset:</h2>"
      ],
      "text/plain": [
       "<IPython.core.display.HTML object>"
      ]
     },
     "metadata": {},
     "output_type": "display_data"
    },
    {
     "data": {
      "text/html": [
       "<table><tr><th title=\"\">x_0</th><th title=\"\">x_1</th><th title=\"\">Y</th></tr><tr><td>0</td><td>0</td><td>0</td></tr><tr><td>0</td><td>1</td><td>1</td></tr><tr><td>1</td><td>0</td><td>1</td></tr><tr><td>1</td><td>1</td><td>0</td></tr></table>"
      ],
      "text/plain": [
       "<__main__.Table at 0x7f571a2294e0>"
      ]
     },
     "metadata": {},
     "output_type": "display_data"
    },
    {
     "data": {
      "text/html": [
       "<h2>MSE:</h2>"
      ],
      "text/plain": [
       "<IPython.core.display.HTML object>"
      ]
     },
     "metadata": {},
     "output_type": "display_data"
    },
    {
     "data": {
      "image/png": "[encoded data removed]",
      "text/latex": [
       "$$\\frac{b^{2}}{4} + \\frac{1}{4} \\left(b + w_{0} - 1\\right)^{2} + \\frac{1}{4} \\left(b + w_{1} - 1\\right)^{2} + \\frac{1}{4} \\left(b + w_{0} + w_{1} + w_{2}\\right)^{2}$$"
      ],
      "text/plain": [
       " 2               2               2                     2\n",
       "b    (b + w₀ - 1)    (b + w₁ - 1)    (b + w₀ + w₁ + w₂) \n",
       "── + ───────────── + ───────────── + ───────────────────\n",
       "4          4               4                  4         "
      ]
     },
     "metadata": {},
     "output_type": "display_data"
    },
    {
     "data": {
      "text/html": [
       "<h2>Gradient Descent:</h2>"
      ],
      "text/plain": [
       "<IPython.core.display.HTML object>"
      ]
     },
     "metadata": {},
     "output_type": "display_data"
    },
    {
     "data": {
      "text/html": [
       "<table><tr><th title=\"\">loop</th><th title=\"\">b</th><th title=\"\">w_0</th><th title=\"\">w_1</th><th title=\"\">w_2</th><th title=\"2*b + w_0 + w_1 + w_2/2 - 1\">Derivative(b, mse)</th><th title=\"b + w_0 + w_1/2 + w_2/2 - 1/2\">Derivative(w_0, mse)</th><th title=\"b + w_0/2 + w_1 + w_2/2 - 1/2\">Derivative(w_1, mse)</th><th title=\"b/2 + w_0/2 + w_1/2 + w_2/2\">Derivative(w_2, mse)</th><th title=\"b**2/4 + (b + w_0 - 1)**2/4 + (b + w_1 - 1)**2/4 + (b + w_0 + w_1 + w_2)**2/4\">mse</th></tr><tr><td>0</td><td>-0.5748035754912146</td><td>-0.6060819147508532</td><td>0.8985478878532075</td><td>1.7692688044388776</td><td>-0.9725067756606361</td><td>-0.3469771440960252</td><td>0.40533775720600507</td><td>0.7434656010250087</td><td>1.938736706659633</td></tr><tr><td>1</td><td>-0.477552897925151</td><td>-0.5713842003412506</td><td>0.858014112132607</td><td>1.6949222443363767</td><td>-0.8210147618907573</td><td>-0.2724689200319097</td><td>0.4422302362050191</td><td>0.751999629101291</td><td>1.768010519686067</td></tr><tr><td>2</td><td>-0.3954514217360753</td><td>-0.5441373083380596</td><td>0.8137910885121051</td><td>1.6197222814262475</td><td>-0.7113879225849813</td><td>-0.22283204510495858</td><td>0.4561321533201238</td><td>0.7469623199321089</td><td>1.622131460405833</td></tr><tr><td>3</td><td>-0.32431262947757716</td><td>-0.5218541038275638</td><td>0.7681778731800928</td><td>1.5450260494330366</td><td>-0.629788464886107</td><td>-0.1895647719985763</td><td>0.45545121650525205</td><td>0.7335185946539942</td><td>1.493748567693995</td></tr><tr><td>4</td><td>-0.2613337829889665</td><td>-0.5028976266277062</td><td>0.7226327515295676</td><td>1.471674189967637</td><td>-0.567095346092253</td><td>-0.16707793886807032</td><td>0.44568725021056665</td><td>0.715037765940266</td><td>1.379030660247041</td></tr><tr><td>5</td><td>-0.2046242483797412</td><td>-0.48618983274089916</td><td>0.6780640265085109</td><td>1.4001704133736106</td><td>-0.5172890963050654</td><td>-0.1516968611795796</td><td>0.4304300684451255</td><td>0.6937101793807405</td><td>1.2757310647759312</td></tr><tr><td>6</td><td>-0.15289533874923467</td><td>-0.4710201466229412</td><td>0.6350210196639984</td><td>1.3307993954355366</td><td>-0.47639010673964377</td><td>-0.1410052778224084</td><td>0.41201530532106145</td><td>0.6709524648636795</td><td>1.1823452847593448</td></tr><tr><td>7</td><td>-0.10525632807527029</td><td>-0.45691961884070037</td><td>0.5938194891318922</td><td>1.2637041489491687</td><td>-0.44176071138476436</td><td>-0.1334141278754402</td><td>0.3919554261108561</td><td>0.6476738455825451</td><td>1.0977414662394558</td></tr><tr><td>8</td><td>-0.06108025693679385</td><td>-0.44357820605315634</td><td>0.5546239465208066</td><td>1.1989367643909141</td><td>-0.4116463912104804</td><td>-0.12787810753408985</td><td>0.3712229687528916</td><td>0.6244511239608852</td><td>1.0209956768147423</td></tr><tr><td>9</td><td>-0.019915617815745808</td><td>-0.4307903952997474</td><td>0.5175016496455175</td><td>1.1364916519948256</td><td>-0.3848741552883087</td><td>-0.12370936229532165</td><td>0.3504366601773108</td><td>0.6016436442624249</td><td>0.9513161656151181</td></tr><tr><td>10</td><td>0.018571797713085064</td><td>-0.4184194590702152</td><td>0.4824579836277864</td><td>1.0763272875685832</td><td>-0.3606542362319671</td><td>-0.12045502575894534</td><td>0.32998369559005547</td><td>0.5794688049196197</td><td>0.8880065123214875</td></tr><tr><td>20</td><td>0.29503688362220704</td><td>-0.30668949382158783</td><td>0.23269910884831174</td><td>0.5832574148993679</td><td>-0.19228791027917808</td><td>-0.10367434832554101</td><td>0.1660199530094088</td><td>0.4021519567741494</td><td>0.49510646114440976</td></tr><tr><td>30</td><td>0.4397212847041417</td><td>-0.20799290989668778</td><td>0.11495897112595396</td><td>0.23539308373444992</td><td>-0.09589482749522546</td><td>-0.09309559776234416</td><td>0.06838034274897672</td><td>0.2910402148339289</td><td>0.33018084986193097</td></tr><tr><td>40</td><td>0.5077641751780514</td><td>-0.11885748444665532</td><td>0.0745057363181183</td><td>-0.02151328104041873</td><td>-0.039580038292643546</td><td>-0.08459708162975414</td><td>0.012084528752632662</td><td>0.22094957300454782</td><td>0.2502581930780216</td></tr><tr><td>50</td><td>0.5312429418942337</td><td>-0.0375603241199708</td><td>0.0782133788420047</td><td>-0.22052212533470217</td><td>-0.007122124156849707</td><td>-0.07747175547208575</td><td>-0.019584903991098065</td><td>0.17568693564078275</td><td>0.20364107942215834</td></tr><tr><td>60</td><td>0.529258333997578</td><td>0.03707212783762979</td><td>0.10639012039337623</td><td>-0.3816751234810529</td><td>0.011141354485635635</td><td>-0.07131203970863045</td><td>-0.03665304343075729</td><td>0.1455227293737656</td><td>0.17141079007080434</td></tr><tr><td>70</td><td>0.5131604510117048</td><td>0.10588161348496486</td><td>0.14738485618194122</td><td>-0.5171972810629143</td><td>0.02098873115885863</td><td>-0.06586414794381687</td><td>-0.04511252659532869</td><td>0.12461481980784828</td><td>0.14645187470918053</td></tr><tr><td>80</td><td>0.48966505307977487</td><td>0.1695014924976659</td><td>0.19435101699852114</td><td>-0.6346175018228581</td><td>0.025873864744307612</td><td>-0.06096669683472769</td><td>-0.04854193458430012</td><td>0.10945003037655188</td><td>0.1259255971069276</td></tr><tr><td>90</td><td>0.4627187982409382</td><td>0.22843122583439646</td><td>0.2433095540755676</td><td>-0.7386381793021969</td><td>0.02785928674074195</td><td>-0.05651428853798002</td><td>-0.04907512441739442</td><td>0.09791069942435265</td><td>0.10856558594075416</td></tr><tr><td>100</td><td>0.4346156275622083</td><td>0.283081615027019</td><td>0.29198981973912175</td><td>-0.832255634910721</td><td>0.028174872435196896</td><td>-0.05243566499657237</td><td>-0.047981562640521</td><td>0.08871571370881409</td><td>0.09370302086094515</td></tr><tr><td>200</td><td>0.2129182436256491</td><td>0.6554099602178075</td><td>0.6554627015041062</td><td>-1.44239574272619</td><td>0.015511277610116947</td><td>-0.025138316767585267</td><td>-0.025111946124435902</td><td>0.04069758131068635</td><td>0.021655097118704433</td></tr><tr><td>300</td><td>0.10240866080835033</td><td>0.8342988260049741</td><td>0.8342991382613005</td><td>-1.7318895969805455</td><td>0.007470487392702396</td><td>-0.012087742546298075</td><td>-0.012087586418134899</td><td>0.019558514047039677</td><td>0.005007380154891485</td></tr><tr><td>400</td><td>0.04924511239822399</td><td>0.9203197315176272</td><td>0.9203197333663502</td><td>-1.8710746157552633</td><td>0.0035923818027936427</td><td>-0.0058125972786053914</td><td>-0.005812596354243915</td><td>0.009404980763469073</td><td>0.001157873271739814</td></tr><tr><td>500</td><td>0.02368036436359553</td><td>0.961684365576893</td><td>0.9616843655878385</td><td>-1.93800400119338</td><td>0.0017274592952326584</td><td>-0.0027950878622821085</td><td>-0.002795087856809375</td><td>0.004522547167473578</td><td>0.0002677389117575055</td></tr><tr><td>600</td><td>0.011387112548400807</td><td>0.9815752648628673</td><td>0.9815752648629321</td><td>-1.9701881523143483</td><td>0.0008306786654270759</td><td>-0.0013440663144399512</td><td>-0.0013440663144075327</td><td>0.00217474497992598</td><td>6.191016462568636e-05</td></tr><tr><td>700</td><td>0.005475689906825943</td><td>0.9911401476189001</td><td>0.9911401476189007</td><td>-1.9856644577120734</td><td>0.00039944619541587567</td><td>-0.0006463175208603067</td><td>-0.0006463175208600846</td><td>0.0010457637162766265</td><td>1.431569456535072e-05</td></tr><tr><td>800</td><td>0.0026330801446037846</td><td>0.9957395868309286</td><td>0.9957395868309286</td><td>-1.9931065066863247</td><td>0.00019208060790232295</td><td>-0.0003107929521657393</td><td>-0.0003107929521657393</td><td>0.0005028735600681733</td><td>3.310265965653749e-06</td></tr><tr><td>900</td><td>0.0012661621030188776</td><td>0.9979513066820483</td><td>0.9979513066820483</td><td>-1.9966851445790295</td><td>9.236528061973281e-05</td><td>-0.00014945016342338135</td><td>-0.00014945016342338135</td><td>0.00024181544404311417</td><td>7.654438779301429e-07</td></tr><tr><td>1000</td><td>0.000608855934144827</td><td>0.9990148504043016</td><td>0.9990148504043016</td><td>-1.9984059944701569</td><td>4.441544181443824e-05</td><td>-7.186569448125457e-05</td><td>-7.186569448125457e-05</td><td>0.00011628113629558179</td><td>1.7699614965672737e-07</td></tr><tr><td>2000</td><td>4.02500911591045e-07</td><td>0.9999993487398445</td><td>0.9999993487398445</td><td>-1.999998946238933</td><td>2.9362045683711813e-08</td><td>-4.750878801473846e-08</td><td>-4.750878801473846e-08</td><td>7.687083380947257e-08</td><td>7.735145175397227e-14</td></tr><tr><td>3000</td><td>2.6608416752502044e-10</td><td>0.9999999995694668</td><td>0.9999999995694668</td><td>-1.9999999993033826</td><td>1.9410695273336387e-11</td><td>-3.140687709901613e-11</td><td>-3.140687709901613e-11</td><td>5.0817572372352515e-11</td><td>3.3804360152930945e-20</td></tr><tr><td>4000</td><td>1.7604977806028909e-13</td><td>0.9999999999997151</td><td>0.9999999999997151</td><td>-1.999999999999539</td><td>1.2878587085651816e-14</td><td>-2.0761170560490427e-14</td><td>-2.0761170560490427e-14</td><td>3.3639757646142243e-14</td><td>1.479893636274685e-26</td></tr><tr><td>5000</td><td>4.364889532254884e-15</td><td>0.9999999999999925</td><td>0.9999999999999925</td><td>-1.9999999999999871</td><td>0.0</td><td>-5.551115123125783e-16</td><td>-5.551115123125783e-16</td><td>1.1102230246251565e-15</td><td>1.1178722987939824e-29</td></tr><tr><td>6000</td><td>4.364889532254884e-15</td><td>0.9999999999999925</td><td>0.9999999999999925</td><td>-1.9999999999999871</td><td>0.0</td><td>-5.551115123125783e-16</td><td>-5.551115123125783e-16</td><td>1.1102230246251565e-15</td><td>1.1178722987939824e-29</td></tr><tr><td>7000</td><td>4.364889532254884e-15</td><td>0.9999999999999925</td><td>0.9999999999999925</td><td>-1.9999999999999871</td><td>0.0</td><td>-5.551115123125783e-16</td><td>-5.551115123125783e-16</td><td>1.1102230246251565e-15</td><td>1.1178722987939824e-29</td></tr><tr><td>8000</td><td>4.364889532254884e-15</td><td>0.9999999999999925</td><td>0.9999999999999925</td><td>-1.9999999999999871</td><td>0.0</td><td>-5.551115123125783e-16</td><td>-5.551115123125783e-16</td><td>1.1102230246251565e-15</td><td>1.1178722987939824e-29</td></tr><tr><td>9000</td><td>4.364889532254884e-15</td><td>0.9999999999999925</td><td>0.9999999999999925</td><td>-1.9999999999999871</td><td>0.0</td><td>-5.551115123125783e-16</td><td>-5.551115123125783e-16</td><td>1.1102230246251565e-15</td><td>1.1178722987939824e-29</td></tr><tr><td>10000</td><td>4.364889532254884e-15</td><td>0.9999999999999925</td><td>0.9999999999999925</td><td>-1.9999999999999871</td><td>0.0</td><td>-5.551115123125783e-16</td><td>-5.551115123125783e-16</td><td>1.1102230246251565e-15</td><td>1.1178722987939824e-29</td></tr></table>"
      ],
      "text/plain": [
       "<__main__.Table at 0x7f571a1fd518>"
      ]
     },
     "metadata": {},
     "output_type": "display_data"
    },
    {
     "data": {
      "text/html": [
       "<h2>Optimized Function:</h2>"
      ],
      "text/plain": [
       "<IPython.core.display.HTML object>"
      ]
     },
     "metadata": {},
     "output_type": "display_data"
    },
    {
     "data": {
      "image/png": "[encoded data removed]",
      "text/latex": [
       "$$- 1.99999999999999 x_{0} x_{1} + 0.999999999999992 x_{0} + 0.999999999999992 x_{1} + 4.36488953225488 \\cdot 10^{-15}$$"
      ],
      "text/plain": [
       "-1.99999999999999⋅x₀⋅x₁ + 0.999999999999992⋅x₀ + 0.999999999999992⋅x₁ + 4.3648\n",
       "8953225488e-15"
      ]
     },
     "metadata": {},
     "output_type": "display_data"
    },
    {
     "data": {
      "text/html": [
       "<h2>Dataset evaluation:</h2>"
      ],
      "text/plain": [
       "<IPython.core.display.HTML object>"
      ]
     },
     "metadata": {},
     "output_type": "display_data"
    },
    {
     "data": {
      "text/html": [
       "<table><tr><th title=\"\">x_0</th><th title=\"\">x_1</th><th title=\"\">Y</th><th title=\"\">Ŷ</th><th title=\"\">(Y - Ŷ)²</th></tr><tr><td>0</td><td>0</td><td>0</td><td>4.36488953225488e-15</td><td>1.9052260628788223e-29</td></tr><tr><td>0</td><td>1</td><td>1</td><td>0.9999999999999963</td><td>1.342296134040128e-29</td></tr><tr><td>1</td><td>0</td><td>1</td><td>0.9999999999999963</td><td>1.342296134040128e-29</td></tr><tr><td>1</td><td>1</td><td>0</td><td>-1.5543122344752192e-15</td><td>2.4158865222393487e-30</td></tr></table>"
      ],
      "text/plain": [
       "<__main__.Table at 0x7f571a0a6320>"
      ]
     },
     "metadata": {},
     "output_type": "display_data"
    },
    {
     "data": {
      "image/png": "[encoded data removed]",
      "text/latex": [
       "$$- 1.99999999999999 x_{0} x_{1} + 0.999999999999992 x_{0} + 0.999999999999992 x_{1} + 4.36488953225488 \\cdot 10^{-15}$$"
      ],
      "text/plain": [
       "-1.99999999999999⋅x₀⋅x₁ + 0.999999999999992⋅x₀ + 0.999999999999992⋅x₁ + 4.3648\n",
       "8953225488e-15"
      ]
     },
     "execution_count": 6,
     "metadata": {},
     "output_type": "execute_result"
    }
   ],
   "source": [
    "def mul_xor():\n",
    "    data = [\n",
    "        {'X': [0, 0], 'Y': 0},\n",
    "        {'X': [0, 1], 'Y': 1},\n",
    "        {'X': [1, 0], 'Y': 1},\n",
    "        {'X': [1, 1], 'Y': 0},\n",
    "    ]\n",
    "\n",
    "    x = SymbolVector.x\n",
    "    w = SymbolVector.w\n",
    "    bias = sympy.Symbol(\"b\")\n",
    "    return optimize(\"XOR (With extra nonlinear term x_0*x_1)\", x[0]*w[0] + x[1]*w[1] + x[0]*x[1]*w[2]+ bias, data)\n",
    "    \n",
    "mul_xor()"
   ]
  },
  {
   "cell_type": "code",
   "execution_count": 7,
   "metadata": {
    "scrolled": false
   },
   "outputs": [],
   "source": [
    "class Neuron:\n",
    "    next_b = iter(SymbolVector('b'))\n",
    "    next_w = iter(SymbolVector('w'))\n",
    "    \n",
    "    def __init__(self, inputs, activation_function=None):\n",
    "        self.x = inputs\n",
    "        self.w = [next(Neuron.next_w) for input in inputs]\n",
    "        self.bias = next(Neuron.next_b)\n",
    "        self.expr = sum([x*w for x,w in zip(self.x, self.w)]) + self.bias\n",
    "        if activation_function is not None:\n",
    "            self.expr = activation_function(self.expr)\n",
    "\n",
    "\n",
    "class NeuralNetwork:\n",
    "    @staticmethod\n",
    "    def logistic(expr):\n",
    "        exp = sympy.functions.elementary.exponential.exp\n",
    "        return -1 + 2 / (1 + exp(-expr))\n",
    "    \n",
    "    def __init__(self, inputs, dims=[], activation_function=None):\n",
    "        dims = dims + [1]  # Add one last neuron to collect all the results\n",
    "        self.layers = [inputs]\n",
    "        \n",
    "        for dim in dims:\n",
    "            prev_layer = self.layers[-1]\n",
    "            self.layers.append([\n",
    "                Neuron(prev_layer, activation_function).expr\n",
    "                for i in range(dim)\n",
    "            ])\n",
    "\n",
    "        self.expr = self.layers[-1][0]\n",
    "        \n",
    "        \n",
    "#TODO: Draw a neural network"
   ]
  },
  {
   "cell_type": "code",
   "execution_count": 8,
   "metadata": {
    "scrolled": false
   },
   "outputs": [
    {
     "data": {
      "text/html": [
       "<h1>Optimizing Function XOR (2 layer net + logistic activation function)</h1>"
      ],
      "text/plain": [
       "<IPython.core.display.HTML object>"
      ]
     },
     "metadata": {},
     "output_type": "display_data"
    },
    {
     "data": {
      "text/html": [
       "<h2>Function:</h2>"
      ],
      "text/plain": [
       "<IPython.core.display.HTML object>"
      ]
     },
     "metadata": {},
     "output_type": "display_data"
    },
    {
     "data": {
      "image/png": "[encoded data removed]",
      "text/latex": [
       "$$-1 + \\frac{2}{e^{- b_{2} - w_{4} \\left(-1 + \\frac{2}{e^{- b_{0} - w_{0} x_{0} - w_{1} x_{1}} + 1}\\right) - w_{5} \\left(-1 + \\frac{2}{e^{- b_{1} - w_{2} x_{0} - w_{3} x_{1}} + 1}\\right)} + 1}$$"
      ],
      "text/plain": [
       "                                             2                                \n",
       "-1 + ─────────────────────────────────────────────────────────────────────────\n",
       "               ⎛                2            ⎞      ⎛                2        \n",
       "      -b₂ - w₄⋅⎜-1 + ────────────────────────⎟ - w₅⋅⎜-1 + ────────────────────\n",
       "               ⎜      -b₀ - w₀⋅x₀ - w₁⋅x₁    ⎟      ⎜      -b₁ - w₂⋅x₀ - w₃⋅x₁\n",
       "               ⎝     ℯ                    + 1⎠      ⎝     ℯ                   \n",
       "     ℯ                                                                        \n",
       "\n",
       "         \n",
       "─────────\n",
       "    ⎞    \n",
       "────⎟    \n",
       "    ⎟    \n",
       " + 1⎠    \n",
       "      + 1"
      ]
     },
     "metadata": {},
     "output_type": "display_data"
    },
    {
     "data": {
      "text/html": [
       "<h2>Dataset:</h2>"
      ],
      "text/plain": [
       "<IPython.core.display.HTML object>"
      ]
     },
     "metadata": {},
     "output_type": "display_data"
    },
    {
     "data": {
      "text/html": [
       "<table><tr><th title=\"\">x_0</th><th title=\"\">x_1</th><th title=\"\">Y</th></tr><tr><td>0</td><td>0</td><td>0</td></tr><tr><td>0</td><td>1</td><td>1</td></tr><tr><td>1</td><td>0</td><td>1</td></tr><tr><td>1</td><td>1</td><td>0</td></tr></table>"
      ],
      "text/plain": [
       "<__main__.Table at 0x7f571a1872b0>"
      ]
     },
     "metadata": {},
     "output_type": "display_data"
    },
    {
     "data": {
      "text/html": [
       "<h2>MSE:</h2>"
      ],
      "text/plain": [
       "<IPython.core.display.HTML object>"
      ]
     },
     "metadata": {},
     "output_type": "display_data"
    },
    {
     "data": {
      "image/png": "[encoded data removed]",
      "text/latex": [
       "$$\\frac{1}{4} \\left(-2 + \\frac{2}{e^{- b_{2} - w_{4} \\left(-1 + \\frac{2}{e^{- b_{0} - w_{0}} + 1}\\right) - w_{5} \\left(-1 + \\frac{2}{e^{- b_{1} - w_{2}} + 1}\\right)} + 1}\\right)^{2} + \\frac{1}{4} \\left(-2 + \\frac{2}{e^{- b_{2} - w_{4} \\left(-1 + \\frac{2}{e^{- b_{0} - w_{1}} + 1}\\right) - w_{5} \\left(-1 + \\frac{2}{e^{- b_{1} - w_{3}} + 1}\\right)} + 1}\\right)^{2} + \\frac{1}{4} \\left(-1 + \\frac{2}{e^{- b_{2} - w_{4} \\left(-1 + \\frac{2}{1 + e^{- b_{0}}}\\right) - w_{5} \\left(-1 + \\frac{2}{1 + e^{- b_{1}}}\\right)} + 1}\\right)^{2} + \\frac{1}{4} \\left(-1 + \\frac{2}{e^{- b_{2} - w_{4} \\left(-1 + \\frac{2}{e^{- b_{0} - w_{0} - w_{1}} + 1}\\right) - w_{5} \\left(-1 + \\frac{2}{e^{- b_{1} - w_{2} - w_{3}} + 1}\\right)} + 1}\\right)^{2}$$"
      ],
      "text/plain": [
       "                                                                   2          \n",
       "⎛                                  2                              ⎞    ⎛      \n",
       "⎜-2 + ────────────────────────────────────────────────────────────⎟    ⎜-2 + ─\n",
       "⎜               ⎛           2      ⎞      ⎛           2      ⎞    ⎟    ⎜      \n",
       "⎜      -b₂ - w₄⋅⎜-1 + ─────────────⎟ - w₅⋅⎜-1 + ─────────────⎟    ⎟    ⎜      \n",
       "⎜               ⎜      -b₀ - w₀    ⎟      ⎜      -b₁ - w₂    ⎟    ⎟    ⎜      \n",
       "⎜               ⎝     ℯ         + 1⎠      ⎝     ℯ         + 1⎠    ⎟    ⎜      \n",
       "⎝     ℯ                                                        + 1⎠    ⎝     ℯ\n",
       "──────────────────────────────────────────────────────────────────── + ───────\n",
       "                                 4                                            \n",
       "\n",
       "                                                            2                 \n",
       "                            2                              ⎞    ⎛             \n",
       "───────────────────────────────────────────────────────────⎟    ⎜-1 + ────────\n",
       "         ⎛           2      ⎞      ⎛           2      ⎞    ⎟    ⎜             \n",
       "-b₂ - w₄⋅⎜-1 + ─────────────⎟ - w₅⋅⎜-1 + ─────────────⎟    ⎟    ⎜      -b₂ - w\n",
       "         ⎜      -b₀ - w₁    ⎟      ⎜      -b₁ - w₃    ⎟    ⎟    ⎜             \n",
       "         ⎝     ℯ         + 1⎠      ⎝     ℯ         + 1⎠    ⎟    ⎜             \n",
       "                                                        + 1⎠    ⎝     ℯ       \n",
       "───────────────────────────────────────────────────────────── + ──────────────\n",
       "                          4                                                   \n",
       "\n",
       "                                           2                                  \n",
       "                2                         ⎞    ⎛                              \n",
       "──────────────────────────────────────────⎟    ⎜-1 + ─────────────────────────\n",
       "  ⎛        2    ⎞      ⎛        2    ⎞    ⎟    ⎜               ⎛             2\n",
       "₄⋅⎜-1 + ────────⎟ - w₅⋅⎜-1 + ────────⎟    ⎟    ⎜      -b₂ - w₄⋅⎜-1 + ─────────\n",
       "  ⎜          -b₀⎟      ⎜          -b₁⎟    ⎟    ⎜               ⎜      -b₀ - w₀\n",
       "  ⎝     1 + ℯ   ⎠      ⎝     1 + ℯ   ⎠    ⎟    ⎜               ⎝     ℯ        \n",
       "                                       + 1⎠    ⎝     ℯ                        \n",
       "──────────────────────────────────────────── + ───────────────────────────────\n",
       "              4                                                               \n",
       "\n",
       "                                              2\n",
       "         2                                   ⎞ \n",
       "─────────────────────────────────────────────⎟ \n",
       "         ⎞      ⎛             2         ⎞    ⎟ \n",
       "─────────⎟ - w₅⋅⎜-1 + ──────────────────⎟    ⎟ \n",
       " - w₁    ⎟      ⎜      -b₁ - w₂ - w₃    ⎟    ⎟ \n",
       "      + 1⎠      ⎝     ℯ              + 1⎠    ⎟ \n",
       "                                          + 1⎠ \n",
       "───────────────────────────────────────────────\n",
       "       4                                       "
      ]
     },
     "metadata": {},
     "output_type": "display_data"
    },
    {
     "data": {
      "text/html": [
       "<h2>Gradient Descent:</h2>"
      ],
      "text/plain": [
       "<IPython.core.display.HTML object>"
      ]
     },
     "metadata": {},
     "output_type": "display_data"
    },
    {
     "data": {
      "text/html": [
       "<table><tr><th title=\"\">loop</th><th title=\"\">b_0</th><th title=\"\">b_1</th><th title=\"\">b_2</th><th title=\"\">w_0</th><th title=\"\">w_1</th><th title=\"\">w_2</th><th title=\"\">w_3</th><th title=\"\">w_4</th><th title=\"\">w_5</th><th title=\"2*w_4*(-2 + 2/(exp(-b_2 - w_4*(-1 + 2/(exp(-b_0 - w_0) + 1)) - w_5*(-1 + 2/(exp(-b_1 - w_2) + 1))) + 1))*exp(-b_0 - w_0)*exp(-b_2 - w_4*(-1 + 2/(exp(-b_0 - w_0) + 1)) - w_5*(-1 + 2/(exp(-b_1 - w_2) + 1)))/((exp(-b_0 - w_0) + 1)**2*(exp(-b_2 - w_4*(-1 + 2/(exp(-b_0 - w_0) + 1)) - w_5*(-1 + 2/(exp(-b_1 - w_2) + 1))) + 1)**2) + 2*w_4*(-2 + 2/(exp(-b_2 - w_4*(-1 + 2/(exp(-b_0 - w_1) + 1)) - w_5*(-1 + 2/(exp(-b_1 - w_3) + 1))) + 1))*exp(-b_0 - w_1)*exp(-b_2 - w_4*(-1 + 2/(exp(-b_0 - w_1) + 1)) - w_5*(-1 + 2/(exp(-b_1 - w_3) + 1)))/((exp(-b_0 - w_1) + 1)**2*(exp(-b_2 - w_4*(-1 + 2/(exp(-b_0 - w_1) + 1)) - w_5*(-1 + 2/(exp(-b_1 - w_3) + 1))) + 1)**2) + 2*w_4*(-1 + 2/(exp(-b_2 - w_4*(-1 + 2/(1 + exp(-b_0))) - w_5*(-1 + 2/(1 + exp(-b_1)))) + 1))*exp(-b_0)*exp(-b_2 - w_4*(-1 + 2/(1 + exp(-b_0))) - w_5*(-1 + 2/(1 + exp(-b_1))))/((1 + exp(-b_0))**2*(exp(-b_2 - w_4*(-1 + 2/(1 + exp(-b_0))) - w_5*(-1 + 2/(1 + exp(-b_1)))) + 1)**2) + 2*w_4*(-1 + 2/(exp(-b_2 - w_4*(-1 + 2/(exp(-b_0 - w_0 - w_1) + 1)) - w_5*(-1 + 2/(exp(-b_1 - w_2 - w_3) + 1))) + 1))*exp(-b_0 - w_0 - w_1)*exp(-b_2 - w_4*(-1 + 2/(exp(-b_0 - w_0 - w_1) + 1)) - w_5*(-1 + 2/(exp(-b_1 - w_2 - w_3) + 1)))/((exp(-b_0 - w_0 - w_1) + 1)**2*(exp(-b_2 - w_4*(-1 + 2/(exp(-b_0 - w_0 - w_1) + 1)) - w_5*(-1 + 2/(exp(-b_1 - w_2 - w_3) + 1))) + 1)**2)\">Derivative(b_0, mse)</th><th title=\"2*w_5*(-2 + 2/(exp(-b_2 - w_4*(-1 + 2/(exp(-b_0 - w_0) + 1)) - w_5*(-1 + 2/(exp(-b_1 - w_2) + 1))) + 1))*exp(-b_1 - w_2)*exp(-b_2 - w_4*(-1 + 2/(exp(-b_0 - w_0) + 1)) - w_5*(-1 + 2/(exp(-b_1 - w_2) + 1)))/((exp(-b_1 - w_2) + 1)**2*(exp(-b_2 - w_4*(-1 + 2/(exp(-b_0 - w_0) + 1)) - w_5*(-1 + 2/(exp(-b_1 - w_2) + 1))) + 1)**2) + 2*w_5*(-2 + 2/(exp(-b_2 - w_4*(-1 + 2/(exp(-b_0 - w_1) + 1)) - w_5*(-1 + 2/(exp(-b_1 - w_3) + 1))) + 1))*exp(-b_1 - w_3)*exp(-b_2 - w_4*(-1 + 2/(exp(-b_0 - w_1) + 1)) - w_5*(-1 + 2/(exp(-b_1 - w_3) + 1)))/((exp(-b_1 - w_3) + 1)**2*(exp(-b_2 - w_4*(-1 + 2/(exp(-b_0 - w_1) + 1)) - w_5*(-1 + 2/(exp(-b_1 - w_3) + 1))) + 1)**2) + 2*w_5*(-1 + 2/(exp(-b_2 - w_4*(-1 + 2/(1 + exp(-b_0))) - w_5*(-1 + 2/(1 + exp(-b_1)))) + 1))*exp(-b_1)*exp(-b_2 - w_4*(-1 + 2/(1 + exp(-b_0))) - w_5*(-1 + 2/(1 + exp(-b_1))))/((1 + exp(-b_1))**2*(exp(-b_2 - w_4*(-1 + 2/(1 + exp(-b_0))) - w_5*(-1 + 2/(1 + exp(-b_1)))) + 1)**2) + 2*w_5*(-1 + 2/(exp(-b_2 - w_4*(-1 + 2/(exp(-b_0 - w_0 - w_1) + 1)) - w_5*(-1 + 2/(exp(-b_1 - w_2 - w_3) + 1))) + 1))*exp(-b_1 - w_2 - w_3)*exp(-b_2 - w_4*(-1 + 2/(exp(-b_0 - w_0 - w_1) + 1)) - w_5*(-1 + 2/(exp(-b_1 - w_2 - w_3) + 1)))/((exp(-b_1 - w_2 - w_3) + 1)**2*(exp(-b_2 - w_4*(-1 + 2/(exp(-b_0 - w_0 - w_1) + 1)) - w_5*(-1 + 2/(exp(-b_1 - w_2 - w_3) + 1))) + 1)**2)\">Derivative(b_1, mse)</th><th title=\"(-2 + 2/(exp(-b_2 - w_4*(-1 + 2/(exp(-b_0 - w_0) + 1)) - w_5*(-1 + 2/(exp(-b_1 - w_2) + 1))) + 1))*exp(-b_2 - w_4*(-1 + 2/(exp(-b_0 - w_0) + 1)) - w_5*(-1 + 2/(exp(-b_1 - w_2) + 1)))/(exp(-b_2 - w_4*(-1 + 2/(exp(-b_0 - w_0) + 1)) - w_5*(-1 + 2/(exp(-b_1 - w_2) + 1))) + 1)**2 + (-2 + 2/(exp(-b_2 - w_4*(-1 + 2/(exp(-b_0 - w_1) + 1)) - w_5*(-1 + 2/(exp(-b_1 - w_3) + 1))) + 1))*exp(-b_2 - w_4*(-1 + 2/(exp(-b_0 - w_1) + 1)) - w_5*(-1 + 2/(exp(-b_1 - w_3) + 1)))/(exp(-b_2 - w_4*(-1 + 2/(exp(-b_0 - w_1) + 1)) - w_5*(-1 + 2/(exp(-b_1 - w_3) + 1))) + 1)**2 + (-1 + 2/(exp(-b_2 - w_4*(-1 + 2/(1 + exp(-b_0))) - w_5*(-1 + 2/(1 + exp(-b_1)))) + 1))*exp(-b_2 - w_4*(-1 + 2/(1 + exp(-b_0))) - w_5*(-1 + 2/(1 + exp(-b_1))))/(exp(-b_2 - w_4*(-1 + 2/(1 + exp(-b_0))) - w_5*(-1 + 2/(1 + exp(-b_1)))) + 1)**2 + (-1 + 2/(exp(-b_2 - w_4*(-1 + 2/(exp(-b_0 - w_0 - w_1) + 1)) - w_5*(-1 + 2/(exp(-b_1 - w_2 - w_3) + 1))) + 1))*exp(-b_2 - w_4*(-1 + 2/(exp(-b_0 - w_0 - w_1) + 1)) - w_5*(-1 + 2/(exp(-b_1 - w_2 - w_3) + 1)))/(exp(-b_2 - w_4*(-1 + 2/(exp(-b_0 - w_0 - w_1) + 1)) - w_5*(-1 + 2/(exp(-b_1 - w_2 - w_3) + 1))) + 1)**2\">Derivative(b_2, mse)</th><th title=\"2*w_4*(-2 + 2/(exp(-b_2 - w_4*(-1 + 2/(exp(-b_0 - w_0) + 1)) - w_5*(-1 + 2/(exp(-b_1 - w_2) + 1))) + 1))*exp(-b_0 - w_0)*exp(-b_2 - w_4*(-1 + 2/(exp(-b_0 - w_0) + 1)) - w_5*(-1 + 2/(exp(-b_1 - w_2) + 1)))/((exp(-b_0 - w_0) + 1)**2*(exp(-b_2 - w_4*(-1 + 2/(exp(-b_0 - w_0) + 1)) - w_5*(-1 + 2/(exp(-b_1 - w_2) + 1))) + 1)**2) + 2*w_4*(-1 + 2/(exp(-b_2 - w_4*(-1 + 2/(exp(-b_0 - w_0 - w_1) + 1)) - w_5*(-1 + 2/(exp(-b_1 - w_2 - w_3) + 1))) + 1))*exp(-b_0 - w_0 - w_1)*exp(-b_2 - w_4*(-1 + 2/(exp(-b_0 - w_0 - w_1) + 1)) - w_5*(-1 + 2/(exp(-b_1 - w_2 - w_3) + 1)))/((exp(-b_0 - w_0 - w_1) + 1)**2*(exp(-b_2 - w_4*(-1 + 2/(exp(-b_0 - w_0 - w_1) + 1)) - w_5*(-1 + 2/(exp(-b_1 - w_2 - w_3) + 1))) + 1)**2)\">Derivative(w_0, mse)</th><th title=\"2*w_4*(-2 + 2/(exp(-b_2 - w_4*(-1 + 2/(exp(-b_0 - w_1) + 1)) - w_5*(-1 + 2/(exp(-b_1 - w_3) + 1))) + 1))*exp(-b_0 - w_1)*exp(-b_2 - w_4*(-1 + 2/(exp(-b_0 - w_1) + 1)) - w_5*(-1 + 2/(exp(-b_1 - w_3) + 1)))/((exp(-b_0 - w_1) + 1)**2*(exp(-b_2 - w_4*(-1 + 2/(exp(-b_0 - w_1) + 1)) - w_5*(-1 + 2/(exp(-b_1 - w_3) + 1))) + 1)**2) + 2*w_4*(-1 + 2/(exp(-b_2 - w_4*(-1 + 2/(exp(-b_0 - w_0 - w_1) + 1)) - w_5*(-1 + 2/(exp(-b_1 - w_2 - w_3) + 1))) + 1))*exp(-b_0 - w_0 - w_1)*exp(-b_2 - w_4*(-1 + 2/(exp(-b_0 - w_0 - w_1) + 1)) - w_5*(-1 + 2/(exp(-b_1 - w_2 - w_3) + 1)))/((exp(-b_0 - w_0 - w_1) + 1)**2*(exp(-b_2 - w_4*(-1 + 2/(exp(-b_0 - w_0 - w_1) + 1)) - w_5*(-1 + 2/(exp(-b_1 - w_2 - w_3) + 1))) + 1)**2)\">Derivative(w_1, mse)</th><th title=\"2*w_5*(-2 + 2/(exp(-b_2 - w_4*(-1 + 2/(exp(-b_0 - w_0) + 1)) - w_5*(-1 + 2/(exp(-b_1 - w_2) + 1))) + 1))*exp(-b_1 - w_2)*exp(-b_2 - w_4*(-1 + 2/(exp(-b_0 - w_0) + 1)) - w_5*(-1 + 2/(exp(-b_1 - w_2) + 1)))/((exp(-b_1 - w_2) + 1)**2*(exp(-b_2 - w_4*(-1 + 2/(exp(-b_0 - w_0) + 1)) - w_5*(-1 + 2/(exp(-b_1 - w_2) + 1))) + 1)**2) + 2*w_5*(-1 + 2/(exp(-b_2 - w_4*(-1 + 2/(exp(-b_0 - w_0 - w_1) + 1)) - w_5*(-1 + 2/(exp(-b_1 - w_2 - w_3) + 1))) + 1))*exp(-b_1 - w_2 - w_3)*exp(-b_2 - w_4*(-1 + 2/(exp(-b_0 - w_0 - w_1) + 1)) - w_5*(-1 + 2/(exp(-b_1 - w_2 - w_3) + 1)))/((exp(-b_1 - w_2 - w_3) + 1)**2*(exp(-b_2 - w_4*(-1 + 2/(exp(-b_0 - w_0 - w_1) + 1)) - w_5*(-1 + 2/(exp(-b_1 - w_2 - w_3) + 1))) + 1)**2)\">Derivative(w_2, mse)</th><th title=\"2*w_5*(-2 + 2/(exp(-b_2 - w_4*(-1 + 2/(exp(-b_0 - w_1) + 1)) - w_5*(-1 + 2/(exp(-b_1 - w_3) + 1))) + 1))*exp(-b_1 - w_3)*exp(-b_2 - w_4*(-1 + 2/(exp(-b_0 - w_1) + 1)) - w_5*(-1 + 2/(exp(-b_1 - w_3) + 1)))/((exp(-b_1 - w_3) + 1)**2*(exp(-b_2 - w_4*(-1 + 2/(exp(-b_0 - w_1) + 1)) - w_5*(-1 + 2/(exp(-b_1 - w_3) + 1))) + 1)**2) + 2*w_5*(-1 + 2/(exp(-b_2 - w_4*(-1 + 2/(exp(-b_0 - w_0 - w_1) + 1)) - w_5*(-1 + 2/(exp(-b_1 - w_2 - w_3) + 1))) + 1))*exp(-b_1 - w_2 - w_3)*exp(-b_2 - w_4*(-1 + 2/(exp(-b_0 - w_0 - w_1) + 1)) - w_5*(-1 + 2/(exp(-b_1 - w_2 - w_3) + 1)))/((exp(-b_1 - w_2 - w_3) + 1)**2*(exp(-b_2 - w_4*(-1 + 2/(exp(-b_0 - w_0 - w_1) + 1)) - w_5*(-1 + 2/(exp(-b_1 - w_2 - w_3) + 1))) + 1)**2)\">Derivative(w_3, mse)</th><th title=\"-(-2 + 2/(exp(-b_2 - w_4*(-1 + 2/(exp(-b_0 - w_0) + 1)) - w_5*(-1 + 2/(exp(-b_1 - w_2) + 1))) + 1))*(1 - 2/(exp(-b_0 - w_0) + 1))*exp(-b_2 - w_4*(-1 + 2/(exp(-b_0 - w_0) + 1)) - w_5*(-1 + 2/(exp(-b_1 - w_2) + 1)))/(exp(-b_2 - w_4*(-1 + 2/(exp(-b_0 - w_0) + 1)) - w_5*(-1 + 2/(exp(-b_1 - w_2) + 1))) + 1)**2 - (-2 + 2/(exp(-b_2 - w_4*(-1 + 2/(exp(-b_0 - w_1) + 1)) - w_5*(-1 + 2/(exp(-b_1 - w_3) + 1))) + 1))*(1 - 2/(exp(-b_0 - w_1) + 1))*exp(-b_2 - w_4*(-1 + 2/(exp(-b_0 - w_1) + 1)) - w_5*(-1 + 2/(exp(-b_1 - w_3) + 1)))/(exp(-b_2 - w_4*(-1 + 2/(exp(-b_0 - w_1) + 1)) - w_5*(-1 + 2/(exp(-b_1 - w_3) + 1))) + 1)**2 - (-1 + 2/(exp(-b_2 - w_4*(-1 + 2/(1 + exp(-b_0))) - w_5*(-1 + 2/(1 + exp(-b_1)))) + 1))*(1 - 2/(1 + exp(-b_0)))*exp(-b_2 - w_4*(-1 + 2/(1 + exp(-b_0))) - w_5*(-1 + 2/(1 + exp(-b_1))))/(exp(-b_2 - w_4*(-1 + 2/(1 + exp(-b_0))) - w_5*(-1 + 2/(1 + exp(-b_1)))) + 1)**2 - (-1 + 2/(exp(-b_2 - w_4*(-1 + 2/(exp(-b_0 - w_0 - w_1) + 1)) - w_5*(-1 + 2/(exp(-b_1 - w_2 - w_3) + 1))) + 1))*(1 - 2/(exp(-b_0 - w_0 - w_1) + 1))*exp(-b_2 - w_4*(-1 + 2/(exp(-b_0 - w_0 - w_1) + 1)) - w_5*(-1 + 2/(exp(-b_1 - w_2 - w_3) + 1)))/(exp(-b_2 - w_4*(-1 + 2/(exp(-b_0 - w_0 - w_1) + 1)) - w_5*(-1 + 2/(exp(-b_1 - w_2 - w_3) + 1))) + 1)**2\">Derivative(w_4, mse)</th><th title=\"-(-2 + 2/(exp(-b_2 - w_4*(-1 + 2/(exp(-b_0 - w_0) + 1)) - w_5*(-1 + 2/(exp(-b_1 - w_2) + 1))) + 1))*(1 - 2/(exp(-b_1 - w_2) + 1))*exp(-b_2 - w_4*(-1 + 2/(exp(-b_0 - w_0) + 1)) - w_5*(-1 + 2/(exp(-b_1 - w_2) + 1)))/(exp(-b_2 - w_4*(-1 + 2/(exp(-b_0 - w_0) + 1)) - w_5*(-1 + 2/(exp(-b_1 - w_2) + 1))) + 1)**2 - (-2 + 2/(exp(-b_2 - w_4*(-1 + 2/(exp(-b_0 - w_1) + 1)) - w_5*(-1 + 2/(exp(-b_1 - w_3) + 1))) + 1))*(1 - 2/(exp(-b_1 - w_3) + 1))*exp(-b_2 - w_4*(-1 + 2/(exp(-b_0 - w_1) + 1)) - w_5*(-1 + 2/(exp(-b_1 - w_3) + 1)))/(exp(-b_2 - w_4*(-1 + 2/(exp(-b_0 - w_1) + 1)) - w_5*(-1 + 2/(exp(-b_1 - w_3) + 1))) + 1)**2 - (-1 + 2/(exp(-b_2 - w_4*(-1 + 2/(1 + exp(-b_0))) - w_5*(-1 + 2/(1 + exp(-b_1)))) + 1))*(1 - 2/(1 + exp(-b_1)))*exp(-b_2 - w_4*(-1 + 2/(1 + exp(-b_0))) - w_5*(-1 + 2/(1 + exp(-b_1))))/(exp(-b_2 - w_4*(-1 + 2/(1 + exp(-b_0))) - w_5*(-1 + 2/(1 + exp(-b_1)))) + 1)**2 - (-1 + 2/(exp(-b_2 - w_4*(-1 + 2/(exp(-b_0 - w_0 - w_1) + 1)) - w_5*(-1 + 2/(exp(-b_1 - w_2 - w_3) + 1))) + 1))*(1 - 2/(exp(-b_1 - w_2 - w_3) + 1))*exp(-b_2 - w_4*(-1 + 2/(exp(-b_0 - w_0 - w_1) + 1)) - w_5*(-1 + 2/(exp(-b_1 - w_2 - w_3) + 1)))/(exp(-b_2 - w_4*(-1 + 2/(exp(-b_0 - w_0 - w_1) + 1)) - w_5*(-1 + 2/(exp(-b_1 - w_2 - w_3) + 1))) + 1)**2\">Derivative(w_5, mse)</th><th title=\"(-2 + 2/(exp(-b_2 - w_4*(-1 + 2/(exp(-b_0 - w_0) + 1)) - w_5*(-1 + 2/(exp(-b_1 - w_2) + 1))) + 1))**2/4 + (-2 + 2/(exp(-b_2 - w_4*(-1 + 2/(exp(-b_0 - w_1) + 1)) - w_5*(-1 + 2/(exp(-b_1 - w_3) + 1))) + 1))**2/4 + (-1 + 2/(exp(-b_2 - w_4*(-1 + 2/(1 + exp(-b_0))) - w_5*(-1 + 2/(1 + exp(-b_1)))) + 1))**2/4 + (-1 + 2/(exp(-b_2 - w_4*(-1 + 2/(exp(-b_0 - w_0 - w_1) + 1)) - w_5*(-1 + 2/(exp(-b_1 - w_2 - w_3) + 1))) + 1))**2/4\">mse</th></tr><tr><td>0</td><td>-1.2753368068220463</td><td>1.1190398883009247</td><td>0.6764842339424593</td><td>0.12525073326773867</td><td>-0.4570556465692765</td><td>-1.3629652838631263</td><td>-0.8603430932470864</td><td>-1.3742598923807376</td><td>0.6294066482924174</td><td>-0.02881702105621263</td><td>0.009140738539031388</td><td>0.07431008770139905</td><td>-0.0012236745271962737</td><td>-0.022997116742773105</td><td>0.0006802709068537</td><td>0.010494030030864434</td><td>-0.049530913631684256</td><td>2.2923973824383326e-05</td><td>0.273045473570534</td></tr><tr><td>1</td><td>-1.272455104716425</td><td>1.1181258144470216</td><td>0.6690532251723194</td><td>0.1253731007204583</td><td>-0.4547559348949992</td><td>-1.3630333109538117</td><td>-0.8613924962501728</td><td>-1.3693068010175693</td><td>0.629404355895035</td><td>-0.02809332734840918</td><td>0.008590900524311268</td><td>0.07265625368700673</td><td>-0.0006949174502946867</td><td>-0.02268465349944952</td><td>0.0002894390513151074</td><td>0.010201421433258443</td><td>-0.04843582956165639</td><td>0.00024673075824595964</td><td>0.2721031084889388</td></tr><tr><td>2</td><td>-1.2696457719815841</td><td>1.1172667243945904</td><td>0.6617875998036187</td><td>0.12544259246548775</td><td>-0.45248746954505425</td><td>-1.3630622548589433</td><td>-0.8624126383934986</td><td>-1.3644632180614036</td><td>0.6293796828192104</td><td>-0.027369362790766003</td><td>0.008041950448427008</td><td>0.07099635642927324</td><td>-0.00017017017690310748</td><td>-0.022366625039142198</td><td>-9.79925901396575e-05</td><td>0.009907884288515955</td><td>-0.047341421796151056</td><td>0.0004731733179882333</td><td>0.2712027961470614</td></tr><tr><td>3</td><td>-1.2669088357025076</td><td>1.1164625293497477</td><td>0.6546879641606913</td><td>0.12545960948317805</td><td>-0.45025080704114</td><td>-1.3630524555999293</td><td>-0.8634034268223502</td><td>-1.3597290758817884</td><td>0.6293323654874116</td><td>-0.026646520913671545</td><td>0.007494840905995328</td><td>0.06933367368912369</td><td>0.00034967423945730935</td><td>-0.02204382137278556</td><td>-0.0004814044793589045</td><td>0.00961399138355632</td><td>-0.046249590860290096</td><td>0.0007015316016238601</td><td>0.2703435365784691</td></tr><tr><td>4</td><td>-1.2642441836111404</td><td>1.1157130452591482</td><td>0.6477545967917789</td><td>0.12542464205923232</td><td>-0.44804642490386143</td><td>-1.3630043151519933</td><td>-0.8643648259607057</td><td>-1.3551041167957594</td><td>0.6292622123272492</td><td>-0.025926142041999375</td><td>0.00695048996266634</td><td>0.06767138173489912</td><td>0.0008637689053193898</td><td>-0.02171701938445924</td><td>-0.0008602089015300671</td><td>0.009320299214945097</td><td>-0.0451621572971799</td><td>0.0009310993163104339</td><td>0.2695242513053844</td></tr><tr><td>5</td><td>-1.2616515694069406</td><td>1.1150179962628815</td><td>0.640987458618289</td><td>0.1253382651687004</td><td>-0.4458747229654155</td><td>-1.3629182942618403</td><td>-0.8652968558822003</td><td>-1.3505879010660413</td><td>0.6291691023956182</td><td>-0.025209507701550116</td><td>0.006409777150086372</td><td>0.06601254105646967</td><td>0.0013713161949683375</td><td>-0.021386978628932428</td><td>-0.0012338521174257988</td><td>0.009027345318043941</td><td>-0.0440808550416963</td><td>0.0011611882715212227</td><td>0.26874379403620424</td></tr><tr><td>6</td><td>-1.2591306186367857</td><td>1.1143770185478727</td><td>0.634386204512642</td><td>0.12520113354920356</td><td>-0.4437360251025223</td><td>-1.3627949090500977</td><td>-0.8661995904140046</td><td>-1.3461798155618716</td><td>0.6290529835684661</td><td>-0.024497835836704084</td><td>0.005873539985734803</td><td>0.06436008382155123</td><td>0.0018715702630717063</td><td>-0.021054437524959217</td><td>-0.0016018161193661236</td><td>0.008735645894286648</td><td>-0.04300732589403686</td><td>0.0013911323178873933</td><td>0.2680009612523396</td></tr><tr><td>7</td><td>-1.2566808350531153</td><td>1.1137896645492993</td><td>0.627950196130487</td><td>0.1250139765228964</td><td>-0.44163058135002636</td><td>-1.3626347274381612</td><td>-0.8670731550034333</td><td>-1.3418790829724678</td><td>0.6289138703366773</td><td>-0.023792276843976782</td><td>0.005342571027605322</td><td>0.0627168031128536</td><td>0.0023638389700629744</td><td>-0.020720109965033952</td><td>-0.0019636199942705823</td><td>0.008445693747238005</td><td>-0.04194311508304606</td><td>0.0016202908548098444</td><td>0.26729450256563797</td></tr><tr><td>8</td><td>-1.2543016073687177</td><td>1.1132554074465388</td><td>0.6216785158192016</td><td>0.1247775926258901</td><td>-0.43955857035352297</td><td>-1.3624383654387342</td><td>-0.8679177243781571</td><td>-1.3376847714641633</td><td>0.6287518412511963</td><td>-0.023093910413025383</td><td>0.004817615464689548</td><td>0.06108534395417004</td><td>0.0028474852368211567</td><td>-0.02038468235393869</td><td>-0.002318820903038768</td><td>0.008157956532455332</td><td>-0.04088966789341931</td><td>0.0018480518897885032</td><td>0.2666231307409324</td></tr><tr><td>9</td><td>-1.251992216327415</td><td>1.1127736459000699</td><td>0.6155699814237846</td><td>0.12449284410220798</td><td>-0.4375201021181291</td><td>-1.3622064833484304</td><td>-0.8687335200314026</td><td>-1.3335958046748213</td><td>0.6285670360622174</td><td>-0.022403743154832113</td><td>0.004299369235934852</td><td>0.059468196105461675</td><td>0.0033219278528051274</td><td>-0.02004881108053561</td><td>-0.00266701469067852</td><td>0.007872875320903892</td><td>-0.03984832731694335</td><td>0.0020738346412607356</td><td>0.265985531292443</td></tr><tr><td>10</td><td>-1.2497518420119318</td><td>1.1123437089764765</td><td>0.6096231618132384</td><td>0.12416065131692747</td><td>-0.4355152210100755</td><td>-1.3619397818793626</td><td>-0.8695208075634929</td><td>-1.329610971943127</td><td>0.6283596525980913</td><td>-0.021722706986439584</td><td>0.003788477662914125</td><td>0.057867688581829134</td><td>0.0037866417682479517</td><td>-0.01971312042002167</td><td>-0.0030078361460490373</td><td>0.0075908634708684725</td><td>-0.038820332676064426</td><td>0.002297091684969138</td><td>0.2653803715774115</td></tr><tr><td>20</td><td>-1.2309066738706158</td><td>1.1107075754321618</td><td>0.5585892347632347</td><td>0.11846227701649754</td><td>-0.41728333047757604</td><td>-1.3575330742904057</td><td>-0.8759100007887644</td><td>-1.2951482767743665</td><td>0.6251220156192845</td><td>-0.015566198626343047</td><td>-0.00081062083116204</td><td>0.043171969918586815</td><td>0.007821797939238075</td><td>-0.016478313020422453</td><td>-0.005957123880755703</td><td>0.0050098223105589056</td><td>-0.02947427325982544</td><td>0.00429633692327111</td><td>0.2608219536939468</td></tr><tr><td>30</td><td>-1.2175943017400808</td><td>1.1131920157179553</td><td>0.5209269272876792</td><td>0.10926138718655241</td><td>-0.4021047827975567</td><td>-1.3505744185369897</td><td>-0.8799590011741556</td><td>-1.2691522394442798</td><td>0.6201380314661471</td><td>-0.010826000136110472</td><td>-0.004325967578429048</td><td>0.031524558391106405</td><td>0.010674339925365428</td><td>-0.013689050435805705</td><td>-0.008024732212905353</td><td>0.0029829572458389755</td><td>-0.02212072583561344</td><td>0.005706847959693326</td><td>0.2581528914532175</td></tr><tr><td>40</td><td>-1.2083864157478024</td><td>1.1187079633131656</td><td>0.49348013600214813</td><td>0.09769935155039211</td><td>-0.3894677363581764</td><td>-1.3419146653631477</td><td>-0.8822411320601903</td><td>-1.249618349297592</td><td>0.6140254897858617</td><td>-0.007460722630427512</td><td>-0.006794789736346125</td><td>0.022996093067590068</td><td>0.0124768022512435</td><td>-0.011450109902740306</td><td>-0.009308499663663664</td><td>0.0015223359874720725</td><td>-0.016697016006432044</td><td>0.006504747890939341</td><td>0.2564983341161179</td></tr><tr><td>50</td><td>-1.2020222612552527</td><td>1.1262951569571693</td><td>0.4733444822680744</td><td>0.0847137974701138</td><td>-0.37883965683108217</td><td>-1.332255347152073</td><td>-0.8832834962339753</td><td>-1.234770188437835</td><td>0.6073485679310721</td><td>-0.0051967242387954</td><td>-0.008423642793999462</td><td>0.017051169002880603</td><td>0.013486405039266049</td><td>-0.009704242209553432</td><td>-0.009996909446059726</td><td>0.0005303572592848076</td><td>-0.012835976300963566</td><td>0.006811343714337829</td><td>0.25535729440034316</td></tr><tr><td>60</td><td>-1.1975407808612115</td><td>1.135219571600843</td><td>0.4582387817021933</td><td>0.07098160526952728</td><td>-0.3697752646862596</td><td>-1.3221063210458452</td><td>-0.8834997308423848</td><td>-1.2232332290941519</td><td>0.6005304447620939</td><td>-0.003727241880297171</td><td>-0.009444527477626922</td><td>0.01302090584640192</td><td>0.013952977686440562</td><td>-0.008342570076877897</td><td>-0.010274416357455265</td><td>-0.0001146028708046351</td><td>-0.010125428264256865</td><td>0.00677652828143261</td><td>0.25447819750875006</td></tr><tr><td>70</td><td>-1.1942679085035286</td><td>1.144964757565186</td><td>0.44652164133845895</td><td>0.056953130413652436</td><td>-0.36193894069637045</td><td>-1.311809587688509</td><td>-0.8831872893693674</td><td>-1.2140202269486577</td><td>0.5938531269424523</td><td>-0.0027970808169209167</td><td>-0.010051533458631294</td><td>0.010322817876724233</td><td>0.014071166479505862</td><td>-0.007260460069061534</td><td>-0.010285943773724212</td><td>-0.0005181311475120735</td><td>-0.008218634696273229</td><td>0.006525882177463541</td><td>0.2537430223992036</td></tr><tr><td>80</td><td>-1.1917536669263797</td><td>1.155185093320853</td><td>0.4370699791960959</td><td>0.04291106390599991</td><td>-0.35509015348656864</td><td>-1.3015818872443954</td><td>-0.8825498088565983</td><td>-1.2064504476266928</td><td>0.5874892632576788</td><td>-0.002219875249705721</td><td>-0.010387167027070408</td><td>0.008518876102488263</td><td>0.013977131762230692</td><td>-0.00637568768226043</td><td>-0.010133684448201369</td><td>-0.00075936052314678</td><td>-0.006858154806270771</td><td>0.006148953136774604</td><td>0.2530972906592955</td></tr><tr><td>90</td><td>-1.1897065334499777</td><td>1.1656563826640614</td><td>0.42913683558613386</td><td>0.029024043271828642</td><td>-0.3490598547223893</td><td>-1.2915540840400395</td><td>-0.8817230586254726</td><td>-1.2000638762600555</td><td>0.5815365852040012</td><td>-0.0018685674065352723</td><td>-0.010549087028993084</td><td>0.0073035851689389475</td><td>0.013760515971006342</td><td>-0.005629291567177078</td><td>-0.009885436051096905</td><td>-0.0008933377890075478</td><td>-0.0058648135841236765</td><td>0.005704308224883971</td><td>0.2525149251857336</td></tr><tr><td>100</td><td>-1.1879410832883996</td><td>1.1762361637194427</td><td>0.4222325121725294</td><td>0.015386871525007395</td><td>-0.3437291498251368</td><td>-1.2818010239587638</td><td>-0.880796475798716</td><td>-1.194551607182063</td><td>0.5760449638362876</td><td>-0.0016598617979757917</td><td>-0.010601678021981975</td><td>0.006472629195944782</td><td>0.013478162873462662</td><td>-0.004980879152017569</td><td>-0.009584521715910645</td><td>-0.0009568504310602868</td><td>-0.0051182190157534335</td><td>0.005228300492072381</td><td>0.25198224094708627</td></tr><tr><td>200</td><td>-1.1730425876604842</td><td>1.2785807511079739</td><td>0.37267079205534526</td><td>-0.10455738109060227</td><td>-0.3173201826037594</td><td>-1.201859621449997</td><td>-0.8729186654338227</td><td>-1.1619116747177634</td><td>0.5462831784394307</td><td>-0.0015487674196323457</td><td>-0.009734099948148972</td><td>0.004278700685624248</td><td>0.010693741173340765</td><td>-0.0006873079663605279</td><td>-0.0065100960338156065</td><td>-0.0004541195850559475</td><td>-0.0020934108183995465</td><td>0.000930344693628786</td><td>0.24826692673958917</td></tr><tr><td>300</td><td>-1.1561157382413452</td><td>1.3717144347342454</td><td>0.3311185085802553</td><td>-0.2036054154194024</td><td>-0.3249102537196724</td><td>-1.1480497581732072</td><td>-0.8724915974045606</td><td>-1.1469274985664795</td><td>0.5520692163691959</td><td>-0.001851602124981644</td><td>-0.008947140466695726</td><td>0.004145571054163105</td><td>0.009302115029771001</td><td>0.002084645676611173</td><td>-0.004356023433831381</td><td>0.0003871033015460934</td><td>-0.0010173478167170083</td><td>-0.001909751562084453</td><td>0.2458768736507979</td></tr><tr><td>400</td><td>-1.1357732476933042</td><td>1.4587003214732688</td><td>0.2882660956873739</td><td>-0.2938293967856447</td><td>-0.3566697970138643</td><td>-1.112787559934041</td><td>-0.8806553064981854</td><td>-1.1401510909049362</td><td>0.5809933240321967</td><td>-0.002237348626315378</td><td>-0.008492948124527076</td><td>0.004478353931983134</td><td>0.00886122632351017</td><td>0.004215423480344833</td><td>-0.0027395392748545203</td><td>0.0012557249229969841</td><td>-0.0003578104129950549</td><td>-0.003768203364908844</td><td>0.24375063591658064</td></tr><tr><td>500</td><td>-1.1110012920063206</td><td>1.5424118148181136</td><td>0.24085644905682385</td><td>-0.38283040092782306</td><td>-0.40797277039712543</td><td>-1.0922979758856872</td><td>-0.8975274759229863</td><td>-1.1396640366929782</td><td>0.6253218774648465</td><td>-0.002747443728119296</td><td>-0.00828160177912629</td><td>0.005037760514889314</td><td>0.00902103481889283</td><td>0.00602678678380001</td><td>-0.0013713972407009417</td><td>0.002127088909021954</td><td>0.00028307240267126665</td><td>-0.005034969239616938</td><td>0.24143346272253238</td></tr><tr><td>600</td><td>-1.0802631721579925</td><td>1.6249504732521964</td><td>0.18707583932546498</td><td>-0.4755520234919113</td><td>-0.4765220527054443</td><td>-1.0848696486081906</td><td>-0.9230899433751159</td><td>-1.1463212099457536</td><td>0.6804074734264851</td><td>-0.0034447379900398867</td><td>-0.008253053579426146</td><td>0.005748793858367088</td><td>0.00958488573822678</td><td>0.007682897378264868</td><td>-0.00011319058106923352</td><td>0.0029923949488304194</td><td>0.0010961102500913061</td><td>-0.005945701712617636</td><td>0.23865210202587853</td></tr><tr><td>700</td><td>-1.0412862194573338</td><td>1.7079713130011644</td><td>0.12548212939565218</td><td>-0.5754207566116525</td><td>-0.5612641720349624</td><td>-1.0897600236997325</td><td>-0.9572462860943741</td><td>-1.1624519467045507</td><td>0.7434382988544584</td><td>-0.0044137838078034605</td><td>-0.008375872156540648</td><td>0.006603783513668984</td><td>0.010439547386595412</td><td>0.009276902277365797</td><td>0.0010987307456549918</td><td>0.0038449255209161703</td><td>0.0021967142640033355</td><td>-0.0066395188536173665</td><td>0.23516424271763045</td></tr><tr><td>800</td><td>-0.9908513418763022</td><td>1.7928936628248822</td><td>0.054540776192061165</td><td>-0.6850153285674897</td><td>-0.6619089169466654</td><td>-1.106667165051463</td><td>-0.9998564586261627</td><td>-1.191378189769323</td><td>0.8127031559918247</td><td>-0.005758797682692007</td><td>-0.008632129271445632</td><td>0.007625058887775649</td><td>0.011526487989200813</td><td>0.010873353389739479</td><td>0.0022932442028408065</td><td>0.004683611099532695</td><td>0.0036725459745655387</td><td>-0.007203252672512964</td><td>0.23068553174588513</td></tr><tr><td>900</td><td>-0.924631081469439</td><td>1.880973409932148</td><td>-0.02756989325297148</td><td>-0.8065532422135636</td><td>-0.7787802186713377</td><td>-1.1355041450425496</td><td>-1.050822546525121</td><td>-1.2372502523340154</td><td>0.8872511801395924</td><td>-0.007594836080644688</td><td>-0.009005458575678</td><td>0.008844916825898413</td><td>0.012831395487854667</td><td>0.012533731375283472</td><td>0.003487604468160835</td><td>0.005519324395026656</td><td>0.005603694310697793</td><td>-0.007708231050850049</td><td>0.22482788060407094</td></tr><tr><td>1000</td><td>-0.8372012691673972</td><td>1.973277335629366</td><td>-0.12296471442376979</td><td>-0.9423006076725834</td><td>-0.9128585288261977</td><td>-1.176378201056962</td><td>-1.1102527448768722</td><td>-1.3050100843753787</td><td>0.9669435761771331</td><td>-0.010017486636198489</td><td>-0.009473424445748377</td><td>0.010285368956454419</td><td>0.014376918905871363</td><td>0.01432851928467559</td><td>0.004706843344220044</td><td>0.006384719382785148</td><td>0.008067359907498656</td><td>-0.008254898122520636</td><td>0.21702214052381505</td></tr><tr><td>2000</td><td>0.5528528544142846</td><td>3.1351916707052134</td><td>-1.397974787196712</td><td>-2.700776004600663</td><td>-2.690488776754946</td><td>-2.0946441879542337</td><td>-2.0883645287794548</td><td>-2.8961230068161683</td><td>2.5595648853060053</td><td>-0.006611034005143556</td><td>-0.009567804265085151</td><td>0.006787269487933741</td><td>0.009960501294223071</td><td>0.01004064907391042</td><td>0.006500225361946388</td><td>0.006581647226234812</td><td>0.011301269902929224</td><td>-0.013903162281869602</td><td>0.027929858151899342</td></tr><tr><td>3000</td><td>0.850082073706924</td><td>3.64554746762413</td><td>-1.6796428552190175</td><td>-3.177599840778677</td><td>-3.1706763875973727</td><td>-2.4169462739178464</td><td>-2.413504520181024</td><td>-3.4988064102322944</td><td>3.2836450960452983</td><td>-0.0013419927803449052</td><td>-0.002683305116689614</td><td>0.001097410103257819</td><td>0.002296270436147158</td><td>0.00231018200525888</td><td>0.0016146309911221728</td><td>0.0016242167879199233</td><td>0.003233093699807731</td><td>-0.0037774867101130344</td><td>0.00474569808650558</td></tr><tr><td>4000</td><td>0.9409267623816187</td><td>3.8338989260270164</td><td>-1.7487054191490066</td><td>-3.3353861334670816</td><td>-3.329367730570942</td><td>-2.5297815074854917</td><td>-2.5269327078967105</td><td>-3.729006719718411</td><td>3.5499479061856376</td><td>-0.0006310245009128063</td><td>-0.0013504945366613237</td><td>0.0004420159557782695</td><td>0.0011097429238039265</td><td>0.0011157541923318024</td><td>0.0008077756149955048</td><td>0.0008115200769707397</td><td>0.0016757898625862104</td><td>-0.0019204312031337342</td><td>0.002164401484549567</td></tr><tr><td>5000</td><td>0.9906595753491517</td><td>3.941830305094338</td><td>-1.7818776326654882</td><td>-3.42325910526153</td><td>-3.4177014770288756</td><td>-2.594416486196088</td><td>-2.5918477449798405</td><td>-3.8641856739853004</td><td>3.704097114854778</td><td>-0.00039657708448072234</td><td>-0.0008717192648866248</td><td>0.00025123400481382526</td><td>0.0007035071341242422</td><td>0.0007070752327943652</td><td>0.0005229579262354311</td><td>0.0005250740823712862</td><td>0.0011020924370895887</td><td>-0.0012507976390412584</td><td>0.0013398244112162701</td></tr><tr><td>6000</td><td>1.024147106715362</td><td>4.015987654148614</td><td>-1.802345376611842</td><td>-3.4827798307675097</td><td>-3.477517299759799</td><td>-2.638982305274908</td><td>-2.636585928147978</td><td>-3.9585556593440128</td><td>3.8108730330105574</td><td>-0.00028457340811681296</td><td>-0.0006345990786015962</td><td>0.00016761555916506915</td><td>0.000506652448666626</td><td>0.0005091069752296251</td><td>0.0003821001050966677</td><td>0.00038351207511461345</td><td>0.0008128711177908677</td><td>-0.0009170008506966922</td><td>0.0009521347242459782</td></tr><tr><td>7000</td><td>1.0491224407668476</td><td>4.071944945301528</td><td>-1.8166492756745263</td><td>-3.527287643997684</td><td>-3.522237027797372</td><td>-2.67272932825288</td><td>-2.6704535538197325</td><td>-4.030587246432156</td><td>3.8919585110398693</td><td>-0.00022005148380043127</td><td>-0.0004952503342719322</td><td>0.00012246327715599494</td><td>0.00039247091779237505</td><td>0.0003943070450392753</td><td>0.0002991787286862384</td><td>0.0003002125307275907</td><td>0.0006406679143784236</td><td>-0.0007196901963688468</td><td>0.0007311540645945922</td></tr><tr><td>8000</td><td>1.0689138954860393</td><td>4.116635296766193</td><td>-1.8274136706739244</td><td>-3.562604159895625</td><td>-3.5577164771602074</td><td>-2.6997644337623687</td><td>-2.6975796540223542</td><td>-4.088626927234338</td><td>3.9570524655573633</td><td>-0.00017847127103872993</td><td>-0.0004042924492556006</td><td>9.482564372798692e-05</td><td>0.00031860997624547446</td><td>0.00032005930014300814</td><td>0.00024492256780284864</td><td>0.00024572543091187305</td><td>0.0005271171895507589</td><td>-0.0005902527928891912</td><td>0.0005898589810510393</td></tr><tr><td>9000</td><td>1.0852386718768035</td><td>4.153708251031219</td><td>-1.8359206562493844</td><td>-3.5917555494067184</td><td>-3.5869989376728486</td><td>-2.722250528843233</td><td>-2.7201378894873116</td><td>-4.137119039331113</td><td>4.01128401616778</td><td>-0.00014960148358550242</td><td>-0.0003405674333762474</td><td>7.643713566350945e-05</td><td>0.0002672109674908761</td><td>0.0002683983700317721</td><td>0.0002068178676974758</td><td>0.00020746719543144872</td><td>0.000446906942217212</td><td>-0.0004991785554546071</td><td>0.0004923573112119515</td></tr><tr><td>10000</td><td>1.0990920893726577</td><td>4.185307819550902</td><td>-1.84288096008332</td><td>-3.616503777957495</td><td>-3.6118560482801576</td><td>-2.7414601758718855</td><td>-2.739406762975229</td><td>-4.178698724568242</td><td>4.057678943358555</td><td>-0.0001284637405991433</td><td>-0.0002935933625266993</td><td>6.345357143822925e-05</td><td>0.00022952384631052842</td><td>0.0002305235582135913</td><td>0.00017866502718028065</td><td>0.00017920593825696473</td><td>0.0003873741475283141</td><td>-0.00043179314950655035</td><td>0.00042132583493969487</td></tr></table>"
      ],
      "text/plain": [
       "<__main__.Table at 0x7f571b30abe0>"
      ]
     },
     "metadata": {},
     "output_type": "display_data"
    },
    {
     "data": {
      "text/html": [
       "<h2>Optimized Function:</h2>"
      ],
      "text/plain": [
       "<IPython.core.display.HTML object>"
      ]
     },
     "metadata": {},
     "output_type": "display_data"
    },
    {
     "data": {
      "image/png": "[encoded data removed]",
      "text/latex": [
       "$$-1 + \\frac{2}{5.59499230333914 e^{\\frac{8.35747492396599}{0.333169158084013 e^{3.61652673034213 x_{0} + 3.61187910063598 x_{1}} + 1} - \\frac{8.11544424534701}{0.0152170742006621 e^{2.7414780423746 x_{0} + 2.73942468356905 x_{1}} + 1}} + 1}$$"
      ],
      "text/plain": [
       "                                                                              \n",
       "-1 + ─────────────────────────────────────────────────────────────────────────\n",
       "                                               8.35747492396599               \n",
       "                       ───────────────────────────────────────────────────────\n",
       "                                          3.61652673034213⋅x₀ + 3.611879100635\n",
       "                       0.333169158084013⋅ℯ                                    \n",
       "     5.59499230333914⋅ℯ                                                       \n",
       "\n",
       "   2                                                                          \n",
       "──────────────────────────────────────────────────────────────────────────────\n",
       "                                    8.11544424534701                          \n",
       "───────── - ────────────────────────────────────────────────────────────────  \n",
       "98⋅x₁                           2.7414780423746⋅x₀ + 2.73942468356905⋅x₁      \n",
       "      + 1   0.0152170742006621⋅ℯ                                         + 1  \n",
       "                                                                             +\n",
       "\n",
       "  \n",
       "──\n",
       "  \n",
       "  \n",
       "  \n",
       "  \n",
       " 1"
      ]
     },
     "metadata": {},
     "output_type": "display_data"
    },
    {
     "data": {
      "text/html": [
       "<h2>Dataset evaluation:</h2>"
      ],
      "text/plain": [
       "<IPython.core.display.HTML object>"
      ]
     },
     "metadata": {},
     "output_type": "display_data"
    },
    {
     "data": {
      "text/html": [
       "<table><tr><th title=\"\">x_0</th><th title=\"\">x_1</th><th title=\"\">Y</th><th title=\"\">Ŷ</th><th title=\"\">(Y - Ŷ)²</th></tr><tr><td>0</td><td>0</td><td>0</td><td>0.0015259551090123225</td><td>2.328538994720809e-06</td></tr><tr><td>0</td><td>1</td><td>1</td><td>0.9710278236441834</td><td>0.0008393870027925392</td></tr><tr><td>1</td><td>0</td><td>1</td><td>0.9710311235245581</td><td>0.0008391958042494103</td></tr><tr><td>1</td><td>1</td><td>0</td><td>0.002036363202250202</td><td>4.1467750914786975e-06</td></tr></table>"
      ],
      "text/plain": [
       "<__main__.Table at 0x7f571c05a550>"
      ]
     },
     "metadata": {},
     "output_type": "display_data"
    },
    {
     "data": {
      "image/png": "[encoded data removed]",
      "text/latex": [
       "$$-1 + \\frac{2}{5.59499230333914 e^{\\frac{8.35747492396599}{0.333169158084013 e^{3.61652673034213 x_{0} + 3.61187910063598 x_{1}} + 1} - \\frac{8.11544424534701}{0.0152170742006621 e^{2.7414780423746 x_{0} + 2.73942468356905 x_{1}} + 1}} + 1}$$"
      ],
      "text/plain": [
       "                                                                              \n",
       "-1 + ─────────────────────────────────────────────────────────────────────────\n",
       "                                               8.35747492396599               \n",
       "                       ───────────────────────────────────────────────────────\n",
       "                                          3.61652673034213⋅x₀ + 3.611879100635\n",
       "                       0.333169158084013⋅ℯ                                    \n",
       "     5.59499230333914⋅ℯ                                                       \n",
       "\n",
       "   2                                                                          \n",
       "──────────────────────────────────────────────────────────────────────────────\n",
       "                                    8.11544424534701                          \n",
       "───────── - ────────────────────────────────────────────────────────────────  \n",
       "98⋅x₁                           2.7414780423746⋅x₀ + 2.73942468356905⋅x₁      \n",
       "      + 1   0.0152170742006621⋅ℯ                                         + 1  \n",
       "                                                                             +\n",
       "\n",
       "  \n",
       "──\n",
       "  \n",
       "  \n",
       "  \n",
       "  \n",
       " 1"
      ]
     },
     "execution_count": 8,
     "metadata": {},
     "output_type": "execute_result"
    }
   ],
   "source": [
    "def neural_xor():\n",
    "    data = [\n",
    "        {'X': [0, 0], 'Y': 0},\n",
    "        {'X': [0, 1], 'Y': 1},\n",
    "        {'X': [1, 0], 'Y': 1},\n",
    "        {'X': [1, 1], 'Y': 0},\n",
    "    ]\n",
    "    x = SymbolVector.x\n",
    "\n",
    "    neural_network = NeuralNetwork(inputs=x[0:2], dims=[2], activation_function=NeuralNetwork.logistic)\n",
    "    return optimize(\"XOR (2 layer net + logistic activation function)\", neural_network.expr, data, simplify=False)\n",
    "\n",
    "neural_xor()    "
   ]
  },
  {
   "cell_type": "code",
   "execution_count": 9,
   "metadata": {
    "scrolled": false
   },
   "outputs": [
    {
     "data": {
      "text/html": [
       "<h1>Optimizing Function NAND (2 layer net + logistic activation function)</h1>"
      ],
      "text/plain": [
       "<IPython.core.display.HTML object>"
      ]
     },
     "metadata": {},
     "output_type": "display_data"
    },
    {
     "data": {
      "text/html": [
       "<h2>Function:</h2>"
      ],
      "text/plain": [
       "<IPython.core.display.HTML object>"
      ]
     },
     "metadata": {},
     "output_type": "display_data"
    },
    {
     "data": {
      "image/png": "[encoded data removed]",
      "text/latex": [
       "$$-1 + \\frac{2}{e^{- b_{5} - w_{10} \\left(-1 + \\frac{2}{e^{- b_{3} - w_{6} x_{0} - w_{7} x_{1}} + 1}\\right) - w_{11} \\left(-1 + \\frac{2}{e^{- b_{4} - w_{8} x_{0} - w_{9} x_{1}} + 1}\\right)} + 1}$$"
      ],
      "text/plain": [
       "                                              2                               \n",
       "-1 + ─────────────────────────────────────────────────────────────────────────\n",
       "                ⎛                2            ⎞       ⎛                2      \n",
       "      -b₅ - w₁₀⋅⎜-1 + ────────────────────────⎟ - w₁₁⋅⎜-1 + ──────────────────\n",
       "                ⎜      -b₃ - w₆⋅x₀ - w₇⋅x₁    ⎟       ⎜      -b₄ - w₈⋅x₀ - w₉⋅\n",
       "                ⎝     ℯ                    + 1⎠       ⎝     ℯ                 \n",
       "     ℯ                                                                        \n",
       "\n",
       "           \n",
       "───────────\n",
       "      ⎞    \n",
       "──────⎟    \n",
       "x₁    ⎟    \n",
       "   + 1⎠    \n",
       "        + 1"
      ]
     },
     "metadata": {},
     "output_type": "display_data"
    },
    {
     "data": {
      "text/html": [
       "<h2>Dataset:</h2>"
      ],
      "text/plain": [
       "<IPython.core.display.HTML object>"
      ]
     },
     "metadata": {},
     "output_type": "display_data"
    },
    {
     "data": {
      "text/html": [
       "<table><tr><th title=\"\">x_0</th><th title=\"\">x_1</th><th title=\"\">Y</th></tr><tr><td>0</td><td>0</td><td>1</td></tr><tr><td>0</td><td>1</td><td>1</td></tr><tr><td>1</td><td>0</td><td>1</td></tr><tr><td>1</td><td>1</td><td>0</td></tr></table>"
      ],
      "text/plain": [
       "<__main__.Table at 0x7f571c057ef0>"
      ]
     },
     "metadata": {},
     "output_type": "display_data"
    },
    {
     "data": {
      "text/html": [
       "<h2>MSE:</h2>"
      ],
      "text/plain": [
       "<IPython.core.display.HTML object>"
      ]
     },
     "metadata": {},
     "output_type": "display_data"
    },
    {
     "data": {
      "image/png": "[encoded data removed]",
      "text/latex": [
       "$$\\frac{1}{4} \\left(-2 + \\frac{2}{e^{- b_{5} - w_{10} \\left(-1 + \\frac{2}{1 + e^{- b_{3}}}\\right) - w_{11} \\left(-1 + \\frac{2}{1 + e^{- b_{4}}}\\right)} + 1}\\right)^{2} + \\frac{1}{4} \\left(-2 + \\frac{2}{e^{- b_{5} - w_{10} \\left(-1 + \\frac{2}{e^{- b_{3} - w_{6}} + 1}\\right) - w_{11} \\left(-1 + \\frac{2}{e^{- b_{4} - w_{8}} + 1}\\right)} + 1}\\right)^{2} + \\frac{1}{4} \\left(-2 + \\frac{2}{e^{- b_{5} - w_{10} \\left(-1 + \\frac{2}{e^{- b_{3} - w_{7}} + 1}\\right) - w_{11} \\left(-1 + \\frac{2}{e^{- b_{4} - w_{9}} + 1}\\right)} + 1}\\right)^{2} + \\frac{1}{4} \\left(-1 + \\frac{2}{e^{- b_{5} - w_{10} \\left(-1 + \\frac{2}{e^{- b_{3} - w_{6} - w_{7}} + 1}\\right) - w_{11} \\left(-1 + \\frac{2}{e^{- b_{4} - w_{8} - w_{9}} + 1}\\right)} + 1}\\right)^{2}$$"
      ],
      "text/plain": [
       "                                                           2                  \n",
       "⎛                              2                          ⎞    ⎛              \n",
       "⎜-2 + ────────────────────────────────────────────────────⎟    ⎜-2 + ─────────\n",
       "⎜                ⎛        2    ⎞       ⎛        2    ⎞    ⎟    ⎜              \n",
       "⎜      -b₅ - w₁₀⋅⎜-1 + ────────⎟ - w₁₁⋅⎜-1 + ────────⎟    ⎟    ⎜      -b₅ - w₁\n",
       "⎜                ⎜          -b₃⎟       ⎜          -b₄⎟    ⎟    ⎜              \n",
       "⎜                ⎝     1 + ℯ   ⎠       ⎝     1 + ℯ   ⎠    ⎟    ⎜              \n",
       "⎝     ℯ                                                + 1⎠    ⎝     ℯ        \n",
       "──────────────────────────────────────────────────────────── + ───────────────\n",
       "                             4                                                \n",
       "\n",
       "                                                      2                       \n",
       "                     2                               ⎞    ⎛                   \n",
       "─────────────────────────────────────────────────────⎟    ⎜-2 + ──────────────\n",
       "  ⎛           2      ⎞       ⎛           2      ⎞    ⎟    ⎜                ⎛  \n",
       "₀⋅⎜-1 + ─────────────⎟ - w₁₁⋅⎜-1 + ─────────────⎟    ⎟    ⎜      -b₅ - w₁₀⋅⎜-1\n",
       "  ⎜      -b₃ - w₆    ⎟       ⎜      -b₄ - w₈    ⎟    ⎟    ⎜                ⎜  \n",
       "  ⎝     ℯ         + 1⎠       ⎝     ℯ         + 1⎠    ⎟    ⎜                ⎝  \n",
       "                                                  + 1⎠    ⎝     ℯ             \n",
       "─────────────────────────────────────────────────────── + ────────────────────\n",
       "                   4                                                          \n",
       "\n",
       "                                                 2                            \n",
       "                2                               ⎞    ⎛                        \n",
       "────────────────────────────────────────────────⎟    ⎜-1 + ───────────────────\n",
       "         2      ⎞       ⎛           2      ⎞    ⎟    ⎜                ⎛       \n",
       " + ─────────────⎟ - w₁₁⋅⎜-1 + ─────────────⎟    ⎟    ⎜      -b₅ - w₁₀⋅⎜-1 + ──\n",
       "    -b₃ - w₇    ⎟       ⎜      -b₄ - w₉    ⎟    ⎟    ⎜                ⎜      -\n",
       "   ℯ         + 1⎠       ⎝     ℯ         + 1⎠    ⎟    ⎜                ⎝     ℯ \n",
       "                                             + 1⎠    ⎝     ℯ                  \n",
       "────────────────────────────────────────────────── + ─────────────────────────\n",
       "              4                                                               \n",
       "\n",
       "                                                      2\n",
       "                2                                    ⎞ \n",
       "─────────────────────────────────────────────────────⎟ \n",
       "      2         ⎞       ⎛             2         ⎞    ⎟ \n",
       "────────────────⎟ - w₁₁⋅⎜-1 + ──────────────────⎟    ⎟ \n",
       "b₃ - w₆ - w₇    ⎟       ⎜      -b₄ - w₈ - w₉    ⎟    ⎟ \n",
       "             + 1⎠       ⎝     ℯ              + 1⎠    ⎟ \n",
       "                                                  + 1⎠ \n",
       "───────────────────────────────────────────────────────\n",
       "              4                                        "
      ]
     },
     "metadata": {},
     "output_type": "display_data"
    },
    {
     "data": {
      "text/html": [
       "<h2>Gradient Descent:</h2>"
      ],
      "text/plain": [
       "<IPython.core.display.HTML object>"
      ]
     },
     "metadata": {},
     "output_type": "display_data"
    },
    {
     "data": {
      "text/html": [
       "<table><tr><th title=\"\">loop</th><th title=\"\">b_3</th><th title=\"\">b_4</th><th title=\"\">b_5</th><th title=\"\">w_10</th><th title=\"\">w_11</th><th title=\"\">w_6</th><th title=\"\">w_7</th><th title=\"\">w_8</th><th title=\"\">w_9</th><th title=\"2*w_10*(-2 + 2/(exp(-b_5 - w_10*(-1 + 2/(1 + exp(-b_3))) - w_11*(-1 + 2/(1 + exp(-b_4)))) + 1))*exp(-b_3)*exp(-b_5 - w_10*(-1 + 2/(1 + exp(-b_3))) - w_11*(-1 + 2/(1 + exp(-b_4))))/((1 + exp(-b_3))**2*(exp(-b_5 - w_10*(-1 + 2/(1 + exp(-b_3))) - w_11*(-1 + 2/(1 + exp(-b_4)))) + 1)**2) + 2*w_10*(-2 + 2/(exp(-b_5 - w_10*(-1 + 2/(exp(-b_3 - w_6) + 1)) - w_11*(-1 + 2/(exp(-b_4 - w_8) + 1))) + 1))*exp(-b_3 - w_6)*exp(-b_5 - w_10*(-1 + 2/(exp(-b_3 - w_6) + 1)) - w_11*(-1 + 2/(exp(-b_4 - w_8) + 1)))/((exp(-b_3 - w_6) + 1)**2*(exp(-b_5 - w_10*(-1 + 2/(exp(-b_3 - w_6) + 1)) - w_11*(-1 + 2/(exp(-b_4 - w_8) + 1))) + 1)**2) + 2*w_10*(-2 + 2/(exp(-b_5 - w_10*(-1 + 2/(exp(-b_3 - w_7) + 1)) - w_11*(-1 + 2/(exp(-b_4 - w_9) + 1))) + 1))*exp(-b_3 - w_7)*exp(-b_5 - w_10*(-1 + 2/(exp(-b_3 - w_7) + 1)) - w_11*(-1 + 2/(exp(-b_4 - w_9) + 1)))/((exp(-b_3 - w_7) + 1)**2*(exp(-b_5 - w_10*(-1 + 2/(exp(-b_3 - w_7) + 1)) - w_11*(-1 + 2/(exp(-b_4 - w_9) + 1))) + 1)**2) + 2*w_10*(-1 + 2/(exp(-b_5 - w_10*(-1 + 2/(exp(-b_3 - w_6 - w_7) + 1)) - w_11*(-1 + 2/(exp(-b_4 - w_8 - w_9) + 1))) + 1))*exp(-b_3 - w_6 - w_7)*exp(-b_5 - w_10*(-1 + 2/(exp(-b_3 - w_6 - w_7) + 1)) - w_11*(-1 + 2/(exp(-b_4 - w_8 - w_9) + 1)))/((exp(-b_3 - w_6 - w_7) + 1)**2*(exp(-b_5 - w_10*(-1 + 2/(exp(-b_3 - w_6 - w_7) + 1)) - w_11*(-1 + 2/(exp(-b_4 - w_8 - w_9) + 1))) + 1)**2)\">Derivative(b_3, mse)</th><th title=\"2*w_11*(-2 + 2/(exp(-b_5 - w_10*(-1 + 2/(1 + exp(-b_3))) - w_11*(-1 + 2/(1 + exp(-b_4)))) + 1))*exp(-b_4)*exp(-b_5 - w_10*(-1 + 2/(1 + exp(-b_3))) - w_11*(-1 + 2/(1 + exp(-b_4))))/((1 + exp(-b_4))**2*(exp(-b_5 - w_10*(-1 + 2/(1 + exp(-b_3))) - w_11*(-1 + 2/(1 + exp(-b_4)))) + 1)**2) + 2*w_11*(-2 + 2/(exp(-b_5 - w_10*(-1 + 2/(exp(-b_3 - w_6) + 1)) - w_11*(-1 + 2/(exp(-b_4 - w_8) + 1))) + 1))*exp(-b_4 - w_8)*exp(-b_5 - w_10*(-1 + 2/(exp(-b_3 - w_6) + 1)) - w_11*(-1 + 2/(exp(-b_4 - w_8) + 1)))/((exp(-b_4 - w_8) + 1)**2*(exp(-b_5 - w_10*(-1 + 2/(exp(-b_3 - w_6) + 1)) - w_11*(-1 + 2/(exp(-b_4 - w_8) + 1))) + 1)**2) + 2*w_11*(-2 + 2/(exp(-b_5 - w_10*(-1 + 2/(exp(-b_3 - w_7) + 1)) - w_11*(-1 + 2/(exp(-b_4 - w_9) + 1))) + 1))*exp(-b_4 - w_9)*exp(-b_5 - w_10*(-1 + 2/(exp(-b_3 - w_7) + 1)) - w_11*(-1 + 2/(exp(-b_4 - w_9) + 1)))/((exp(-b_4 - w_9) + 1)**2*(exp(-b_5 - w_10*(-1 + 2/(exp(-b_3 - w_7) + 1)) - w_11*(-1 + 2/(exp(-b_4 - w_9) + 1))) + 1)**2) + 2*w_11*(-1 + 2/(exp(-b_5 - w_10*(-1 + 2/(exp(-b_3 - w_6 - w_7) + 1)) - w_11*(-1 + 2/(exp(-b_4 - w_8 - w_9) + 1))) + 1))*exp(-b_4 - w_8 - w_9)*exp(-b_5 - w_10*(-1 + 2/(exp(-b_3 - w_6 - w_7) + 1)) - w_11*(-1 + 2/(exp(-b_4 - w_8 - w_9) + 1)))/((exp(-b_4 - w_8 - w_9) + 1)**2*(exp(-b_5 - w_10*(-1 + 2/(exp(-b_3 - w_6 - w_7) + 1)) - w_11*(-1 + 2/(exp(-b_4 - w_8 - w_9) + 1))) + 1)**2)\">Derivative(b_4, mse)</th><th title=\"(-2 + 2/(exp(-b_5 - w_10*(-1 + 2/(1 + exp(-b_3))) - w_11*(-1 + 2/(1 + exp(-b_4)))) + 1))*exp(-b_5 - w_10*(-1 + 2/(1 + exp(-b_3))) - w_11*(-1 + 2/(1 + exp(-b_4))))/(exp(-b_5 - w_10*(-1 + 2/(1 + exp(-b_3))) - w_11*(-1 + 2/(1 + exp(-b_4)))) + 1)**2 + (-2 + 2/(exp(-b_5 - w_10*(-1 + 2/(exp(-b_3 - w_6) + 1)) - w_11*(-1 + 2/(exp(-b_4 - w_8) + 1))) + 1))*exp(-b_5 - w_10*(-1 + 2/(exp(-b_3 - w_6) + 1)) - w_11*(-1 + 2/(exp(-b_4 - w_8) + 1)))/(exp(-b_5 - w_10*(-1 + 2/(exp(-b_3 - w_6) + 1)) - w_11*(-1 + 2/(exp(-b_4 - w_8) + 1))) + 1)**2 + (-2 + 2/(exp(-b_5 - w_10*(-1 + 2/(exp(-b_3 - w_7) + 1)) - w_11*(-1 + 2/(exp(-b_4 - w_9) + 1))) + 1))*exp(-b_5 - w_10*(-1 + 2/(exp(-b_3 - w_7) + 1)) - w_11*(-1 + 2/(exp(-b_4 - w_9) + 1)))/(exp(-b_5 - w_10*(-1 + 2/(exp(-b_3 - w_7) + 1)) - w_11*(-1 + 2/(exp(-b_4 - w_9) + 1))) + 1)**2 + (-1 + 2/(exp(-b_5 - w_10*(-1 + 2/(exp(-b_3 - w_6 - w_7) + 1)) - w_11*(-1 + 2/(exp(-b_4 - w_8 - w_9) + 1))) + 1))*exp(-b_5 - w_10*(-1 + 2/(exp(-b_3 - w_6 - w_7) + 1)) - w_11*(-1 + 2/(exp(-b_4 - w_8 - w_9) + 1)))/(exp(-b_5 - w_10*(-1 + 2/(exp(-b_3 - w_6 - w_7) + 1)) - w_11*(-1 + 2/(exp(-b_4 - w_8 - w_9) + 1))) + 1)**2\">Derivative(b_5, mse)</th><th title=\"-(-2 + 2/(exp(-b_5 - w_10*(-1 + 2/(1 + exp(-b_3))) - w_11*(-1 + 2/(1 + exp(-b_4)))) + 1))*(1 - 2/(1 + exp(-b_3)))*exp(-b_5 - w_10*(-1 + 2/(1 + exp(-b_3))) - w_11*(-1 + 2/(1 + exp(-b_4))))/(exp(-b_5 - w_10*(-1 + 2/(1 + exp(-b_3))) - w_11*(-1 + 2/(1 + exp(-b_4)))) + 1)**2 - (-2 + 2/(exp(-b_5 - w_10*(-1 + 2/(exp(-b_3 - w_6) + 1)) - w_11*(-1 + 2/(exp(-b_4 - w_8) + 1))) + 1))*(1 - 2/(exp(-b_3 - w_6) + 1))*exp(-b_5 - w_10*(-1 + 2/(exp(-b_3 - w_6) + 1)) - w_11*(-1 + 2/(exp(-b_4 - w_8) + 1)))/(exp(-b_5 - w_10*(-1 + 2/(exp(-b_3 - w_6) + 1)) - w_11*(-1 + 2/(exp(-b_4 - w_8) + 1))) + 1)**2 - (-2 + 2/(exp(-b_5 - w_10*(-1 + 2/(exp(-b_3 - w_7) + 1)) - w_11*(-1 + 2/(exp(-b_4 - w_9) + 1))) + 1))*(1 - 2/(exp(-b_3 - w_7) + 1))*exp(-b_5 - w_10*(-1 + 2/(exp(-b_3 - w_7) + 1)) - w_11*(-1 + 2/(exp(-b_4 - w_9) + 1)))/(exp(-b_5 - w_10*(-1 + 2/(exp(-b_3 - w_7) + 1)) - w_11*(-1 + 2/(exp(-b_4 - w_9) + 1))) + 1)**2 - (-1 + 2/(exp(-b_5 - w_10*(-1 + 2/(exp(-b_3 - w_6 - w_7) + 1)) - w_11*(-1 + 2/(exp(-b_4 - w_8 - w_9) + 1))) + 1))*(1 - 2/(exp(-b_3 - w_6 - w_7) + 1))*exp(-b_5 - w_10*(-1 + 2/(exp(-b_3 - w_6 - w_7) + 1)) - w_11*(-1 + 2/(exp(-b_4 - w_8 - w_9) + 1)))/(exp(-b_5 - w_10*(-1 + 2/(exp(-b_3 - w_6 - w_7) + 1)) - w_11*(-1 + 2/(exp(-b_4 - w_8 - w_9) + 1))) + 1)**2\">Derivative(w_10, mse)</th><th title=\"-(-2 + 2/(exp(-b_5 - w_10*(-1 + 2/(1 + exp(-b_3))) - w_11*(-1 + 2/(1 + exp(-b_4)))) + 1))*(1 - 2/(1 + exp(-b_4)))*exp(-b_5 - w_10*(-1 + 2/(1 + exp(-b_3))) - w_11*(-1 + 2/(1 + exp(-b_4))))/(exp(-b_5 - w_10*(-1 + 2/(1 + exp(-b_3))) - w_11*(-1 + 2/(1 + exp(-b_4)))) + 1)**2 - (-2 + 2/(exp(-b_5 - w_10*(-1 + 2/(exp(-b_3 - w_6) + 1)) - w_11*(-1 + 2/(exp(-b_4 - w_8) + 1))) + 1))*(1 - 2/(exp(-b_4 - w_8) + 1))*exp(-b_5 - w_10*(-1 + 2/(exp(-b_3 - w_6) + 1)) - w_11*(-1 + 2/(exp(-b_4 - w_8) + 1)))/(exp(-b_5 - w_10*(-1 + 2/(exp(-b_3 - w_6) + 1)) - w_11*(-1 + 2/(exp(-b_4 - w_8) + 1))) + 1)**2 - (-2 + 2/(exp(-b_5 - w_10*(-1 + 2/(exp(-b_3 - w_7) + 1)) - w_11*(-1 + 2/(exp(-b_4 - w_9) + 1))) + 1))*(1 - 2/(exp(-b_4 - w_9) + 1))*exp(-b_5 - w_10*(-1 + 2/(exp(-b_3 - w_7) + 1)) - w_11*(-1 + 2/(exp(-b_4 - w_9) + 1)))/(exp(-b_5 - w_10*(-1 + 2/(exp(-b_3 - w_7) + 1)) - w_11*(-1 + 2/(exp(-b_4 - w_9) + 1))) + 1)**2 - (-1 + 2/(exp(-b_5 - w_10*(-1 + 2/(exp(-b_3 - w_6 - w_7) + 1)) - w_11*(-1 + 2/(exp(-b_4 - w_8 - w_9) + 1))) + 1))*(1 - 2/(exp(-b_4 - w_8 - w_9) + 1))*exp(-b_5 - w_10*(-1 + 2/(exp(-b_3 - w_6 - w_7) + 1)) - w_11*(-1 + 2/(exp(-b_4 - w_8 - w_9) + 1)))/(exp(-b_5 - w_10*(-1 + 2/(exp(-b_3 - w_6 - w_7) + 1)) - w_11*(-1 + 2/(exp(-b_4 - w_8 - w_9) + 1))) + 1)**2\">Derivative(w_11, mse)</th><th title=\"2*w_10*(-2 + 2/(exp(-b_5 - w_10*(-1 + 2/(exp(-b_3 - w_6) + 1)) - w_11*(-1 + 2/(exp(-b_4 - w_8) + 1))) + 1))*exp(-b_3 - w_6)*exp(-b_5 - w_10*(-1 + 2/(exp(-b_3 - w_6) + 1)) - w_11*(-1 + 2/(exp(-b_4 - w_8) + 1)))/((exp(-b_3 - w_6) + 1)**2*(exp(-b_5 - w_10*(-1 + 2/(exp(-b_3 - w_6) + 1)) - w_11*(-1 + 2/(exp(-b_4 - w_8) + 1))) + 1)**2) + 2*w_10*(-1 + 2/(exp(-b_5 - w_10*(-1 + 2/(exp(-b_3 - w_6 - w_7) + 1)) - w_11*(-1 + 2/(exp(-b_4 - w_8 - w_9) + 1))) + 1))*exp(-b_3 - w_6 - w_7)*exp(-b_5 - w_10*(-1 + 2/(exp(-b_3 - w_6 - w_7) + 1)) - w_11*(-1 + 2/(exp(-b_4 - w_8 - w_9) + 1)))/((exp(-b_3 - w_6 - w_7) + 1)**2*(exp(-b_5 - w_10*(-1 + 2/(exp(-b_3 - w_6 - w_7) + 1)) - w_11*(-1 + 2/(exp(-b_4 - w_8 - w_9) + 1))) + 1)**2)\">Derivative(w_6, mse)</th><th title=\"2*w_10*(-2 + 2/(exp(-b_5 - w_10*(-1 + 2/(exp(-b_3 - w_7) + 1)) - w_11*(-1 + 2/(exp(-b_4 - w_9) + 1))) + 1))*exp(-b_3 - w_7)*exp(-b_5 - w_10*(-1 + 2/(exp(-b_3 - w_7) + 1)) - w_11*(-1 + 2/(exp(-b_4 - w_9) + 1)))/((exp(-b_3 - w_7) + 1)**2*(exp(-b_5 - w_10*(-1 + 2/(exp(-b_3 - w_7) + 1)) - w_11*(-1 + 2/(exp(-b_4 - w_9) + 1))) + 1)**2) + 2*w_10*(-1 + 2/(exp(-b_5 - w_10*(-1 + 2/(exp(-b_3 - w_6 - w_7) + 1)) - w_11*(-1 + 2/(exp(-b_4 - w_8 - w_9) + 1))) + 1))*exp(-b_3 - w_6 - w_7)*exp(-b_5 - w_10*(-1 + 2/(exp(-b_3 - w_6 - w_7) + 1)) - w_11*(-1 + 2/(exp(-b_4 - w_8 - w_9) + 1)))/((exp(-b_3 - w_6 - w_7) + 1)**2*(exp(-b_5 - w_10*(-1 + 2/(exp(-b_3 - w_6 - w_7) + 1)) - w_11*(-1 + 2/(exp(-b_4 - w_8 - w_9) + 1))) + 1)**2)\">Derivative(w_7, mse)</th><th title=\"2*w_11*(-2 + 2/(exp(-b_5 - w_10*(-1 + 2/(exp(-b_3 - w_6) + 1)) - w_11*(-1 + 2/(exp(-b_4 - w_8) + 1))) + 1))*exp(-b_4 - w_8)*exp(-b_5 - w_10*(-1 + 2/(exp(-b_3 - w_6) + 1)) - w_11*(-1 + 2/(exp(-b_4 - w_8) + 1)))/((exp(-b_4 - w_8) + 1)**2*(exp(-b_5 - w_10*(-1 + 2/(exp(-b_3 - w_6) + 1)) - w_11*(-1 + 2/(exp(-b_4 - w_8) + 1))) + 1)**2) + 2*w_11*(-1 + 2/(exp(-b_5 - w_10*(-1 + 2/(exp(-b_3 - w_6 - w_7) + 1)) - w_11*(-1 + 2/(exp(-b_4 - w_8 - w_9) + 1))) + 1))*exp(-b_4 - w_8 - w_9)*exp(-b_5 - w_10*(-1 + 2/(exp(-b_3 - w_6 - w_7) + 1)) - w_11*(-1 + 2/(exp(-b_4 - w_8 - w_9) + 1)))/((exp(-b_4 - w_8 - w_9) + 1)**2*(exp(-b_5 - w_10*(-1 + 2/(exp(-b_3 - w_6 - w_7) + 1)) - w_11*(-1 + 2/(exp(-b_4 - w_8 - w_9) + 1))) + 1)**2)\">Derivative(w_8, mse)</th><th title=\"2*w_11*(-2 + 2/(exp(-b_5 - w_10*(-1 + 2/(exp(-b_3 - w_7) + 1)) - w_11*(-1 + 2/(exp(-b_4 - w_9) + 1))) + 1))*exp(-b_4 - w_9)*exp(-b_5 - w_10*(-1 + 2/(exp(-b_3 - w_7) + 1)) - w_11*(-1 + 2/(exp(-b_4 - w_9) + 1)))/((exp(-b_4 - w_9) + 1)**2*(exp(-b_5 - w_10*(-1 + 2/(exp(-b_3 - w_7) + 1)) - w_11*(-1 + 2/(exp(-b_4 - w_9) + 1))) + 1)**2) + 2*w_11*(-1 + 2/(exp(-b_5 - w_10*(-1 + 2/(exp(-b_3 - w_6 - w_7) + 1)) - w_11*(-1 + 2/(exp(-b_4 - w_8 - w_9) + 1))) + 1))*exp(-b_4 - w_8 - w_9)*exp(-b_5 - w_10*(-1 + 2/(exp(-b_3 - w_6 - w_7) + 1)) - w_11*(-1 + 2/(exp(-b_4 - w_8 - w_9) + 1)))/((exp(-b_4 - w_8 - w_9) + 1)**2*(exp(-b_5 - w_10*(-1 + 2/(exp(-b_3 - w_6 - w_7) + 1)) - w_11*(-1 + 2/(exp(-b_4 - w_8 - w_9) + 1))) + 1)**2)\">Derivative(w_9, mse)</th><th title=\"(-2 + 2/(exp(-b_5 - w_10*(-1 + 2/(1 + exp(-b_3))) - w_11*(-1 + 2/(1 + exp(-b_4)))) + 1))**2/4 + (-2 + 2/(exp(-b_5 - w_10*(-1 + 2/(exp(-b_3 - w_6) + 1)) - w_11*(-1 + 2/(exp(-b_4 - w_8) + 1))) + 1))**2/4 + (-2 + 2/(exp(-b_5 - w_10*(-1 + 2/(exp(-b_3 - w_7) + 1)) - w_11*(-1 + 2/(exp(-b_4 - w_9) + 1))) + 1))**2/4 + (-1 + 2/(exp(-b_5 - w_10*(-1 + 2/(exp(-b_3 - w_6 - w_7) + 1)) - w_11*(-1 + 2/(exp(-b_4 - w_8 - w_9) + 1))) + 1))**2/4\">mse</th></tr><tr><td>0</td><td>0.6974650178155379</td><td>-0.04634938985070559</td><td>1.0520916207441895</td><td>1.4047279996153406</td><td>1.605840039655875</td><td>-0.7344925896839257</td><td>0.07761718760617252</td><td>-1.2626335607915988</td><td>0.4878192921304828</td><td>-0.18061303663949863</td><td>-0.15730659226458923</td><td>-0.2673427757301576</td><td>-0.023700895564789624</td><td>0.11028930781478258</td><td>-0.12867445169575042</td><td>0.020051524629429853</td><td>-0.09090071074415212</td><td>0.014432708694841326</td><td>0.2878555941102631</td></tr><tr><td>1</td><td>0.7155263214794878</td><td>-0.03061873062424666</td><td>1.0788258983172052</td><td>1.4070980891718194</td><td>1.5948111088743968</td><td>-0.7216251445143507</td><td>0.07561203514322953</td><td>-1.2535434897171835</td><td>0.48637602126099866</td><td>-0.16565468665464064</td><td>-0.14326128566489912</td><td>-0.2452042089980085</td><td>-0.024880992039750097</td><td>0.10073225900955415</td><td>-0.11767540001228022</td><td>0.026000366256562466</td><td>-0.08212173873022512</td><td>0.020751443150296763</td><td>0.2718508100859495</td></tr><tr><td>2</td><td>0.7320917901449518</td><td>-0.016292602057756747</td><td>1.103346319217006</td><td>1.4095861883757945</td><td>1.5847378829734413</td><td>-0.7098576045131226</td><td>0.07301199851757328</td><td>-1.245331315844161</td><td>0.48430087694596896</td><td>-0.15230757940528217</td><td>-0.1308460304214163</td><td>-0.22550392920717283</td><td>-0.02562936700569373</td><td>0.09227559037753083</td><td>-0.10768924453811651</td><td>0.0309682729853104</td><td>-0.0741779396827782</td><td>0.026018038559149463</td><td>0.2583591327339194</td></tr><tr><td>3</td><td>0.74732254808548</td><td>-0.0032079990156151164</td><td>1.1258967121377235</td><td>1.4121491250763638</td><td>1.5755103239356882</td><td>-0.699088680059311</td><td>0.06991517121904224</td><td>-1.2379135218758832</td><td>0.481699073090054</td><td>-0.1403929506478313</td><td>-0.11985602609760894</td><td>-0.2079598391953708</td><td>-0.026051588103402423</td><td>0.0847837655233448</td><td>-0.09864980859529272</td><td>0.03512340883542676</td><td>-0.06701397926244511</td><td>0.030409093831958143</td><td>0.24691044515287125</td></tr><tr><td>4</td><td>0.7613618431502631</td><td>0.008777603594145778</td><td>1.1466926960572605</td><td>1.414754283886704</td><td>1.5670319473833538</td><td>-0.6892236991997818</td><td>0.06640283033549957</td><td>-1.2312121239496387</td><td>0.4786581637068582</td><td>-0.12974242750638137</td><td>-0.11010693789673023</td><td>-0.19231043319877034</td><td>-0.02623055393450515</td><td>0.07813221193089581</td><td>-0.09047702827585402</td><td>0.03860797735719716</td><td>-0.06056289432312609</td><td>0.034074393266378566</td><td>0.23712871955597586</td></tr><tr><td>5</td><td>0.7743360859009013</td><td>0.0197882973838188</td><td>1.1659237393771376</td><td>1.4173773392801545</td><td>1.5592187261902644</td><td>-0.6801759963721964</td><td>0.06254203259977985</td><td>-1.2251558345173261</td><td>0.47525072438022037</td><td>-0.12020273198812428</td><td>-0.10143626114410745</td><td>-0.17832029120258164</td><td>-0.026230504788373982</td><td>0.07220988318507945</td><td>-0.08308728833913481</td><td>0.04154020922235048</td><td>-0.054754847541244926</td><td>0.03713895544722751</td><td>0.22871336738399486</td></tr><tr><td>6</td><td>0.7863563590997137</td><td>0.029931923498229547</td><td>1.1837557684973956</td><td>1.420000389758992</td><td>1.5519977378717564</td><td>-0.6718672675382829</td><td>0.0583880116775448</td><td>-1.2196803497632016</td><td>0.47153682883549763</td><td>-0.11163726982725516</td><td>-0.0937026147567494</td><td>-0.16578133724545108</td><td>-0.026100788800472823</td><td>0.0669196248944503</td><td>-0.07639931375256218</td><td>0.04401739757354747</td><td>-0.049522088732121446</td><td>0.039706103441489005</td><td>0.22142371546957257</td></tr><tr><td>7</td><td>0.7975200860824392</td><td>0.03930218497390449</td><td>1.2003339022219408</td><td>1.4226104686390393</td><td>1.5453057753823114</td><td>-0.6642273361630266</td><td>0.05398627192019005</td><td>-1.2147281408899895</td><td>0.4675662184913487</td><td>-0.10392594030988336</td><td>-0.08678399131759106</td><td>-0.15451176719273035</td><td>-0.025879090717302024</td><td>0.062177400403588004</td><td>-0.07033724728241175</td><td>0.04611914258796823</td><td>-0.04480152241351257</td><td>0.04186075043707338</td><td>0.21506646160046897</td></tr><tr><td>8</td><td>0.8079126801134275</td><td>0.047980584105663596</td><td>1.215785078941214</td><td>1.4251983777107695</td><td>1.5390880353419525</td><td>-0.6571936114347855</td><td>0.049374357661393226</td><td>-1.2102479886486381</td><td>0.4633801434476414</td><td>-0.09696402110708602</td><td>-0.08057559107701837</td><td>-0.1443538359875084</td><td>-0.025594066415834064</td><td>0.05791100392903982</td><td>-0.06483201278193063</td><td>0.0479103909658799</td><td>-0.04053582402858912</td><td>0.043672492454268866</td><td>0.20948571240495278</td></tr><tr><td>9</td><td>0.8176090822241362</td><td>0.056038143213365435</td><td>1.2302204625399646</td><td>1.427757784352353</td><td>1.5332969349490484</td><td>-0.6507104101565925</td><td>0.044583318564805234</td><td>-1.2061944062457792</td><td>0.4590128942022145</td><td>-0.09066064536487169</td><td>-0.0749875962314733</td><td>-0.135171207748281</td><td>-0.025267431123150823</td><td>0.05405861435475049</td><td>-0.05982167519736831</td><td>0.049444100216088624</td><td>-0.03667371228732431</td><td>0.04519833464711332</td><td>0.20455514874116454</td></tr><tr><td>10</td><td>0.8266751467606234</td><td>0.06353690283651277</td><td>1.2437375833147928</td><td>1.430284527464668</td><td>1.5278910735135733</td><td>-0.6447282426368557</td><td>0.03963890854319637</td><td>-1.2025270350170467</td><td>0.4544930607375032</td><td>-0.08493716846271898</td><td>-0.0699430711285832</td><td>-0.12684626113717246</td><td>-0.024915585919336184</td><td>0.0505673760916527</td><td>-0.05525124301513395</td><td>0.05076348737192614</td><td>-0.03316975680203822</td><td>0.046485005636146125</td><td>0.2001718936551286</td></tr><tr><td>20</td><td>0.8926789755673424</td><td>0.1171064195533686</td><td>1.3431864684474335</td><td>1.4536220208974424</td><td>1.4888779914915242</td><td>-0.6047805011097228</td><td>-0.014865298288616036</td><td>-1.1808559123045488</td><td>0.4047018664515601</td><td>-0.048299131037887785</td><td>-0.038553735427182115</td><td>-0.0739662531830307</td><td>-0.021639544143068463</td><td>0.0281318734823892</td><td>-0.02549036186873062</td><td>0.057563789873363504</td><td>-0.011049818348195045</td><td>0.052096054836494515</td><td>0.1734429482796296</td></tr><tr><td>30</td><td>0.9320965471039842</td><td>0.14847456235085554</td><td>1.4045315467158064</td><td>1.4744010365915976</td><td>1.4664013804958362</td><td>-0.5866919680981928</td><td>-0.07365707211482352</td><td>-1.174933216299072</td><td>0.3522145923078683</td><td>-0.030623701313096538</td><td>-0.02444121008205235</td><td>-0.048932823366696854</td><td>-0.02004360012394765</td><td>0.01671932098986715</td><td>-0.010684821815184598</td><td>0.05992885705554987</td><td>-0.0009719817336740696</td><td>0.05252930698863904</td><td>0.15965349509756505</td></tr><tr><td>40</td><td>0.957885767433652</td><td>0.16935564116959492</td><td>1.446740559333157</td><td>1.4942848756117362</td><td>1.4530969671749225</td><td>-0.5801770321039915</td><td>-0.13414660757631824</td><td>-1.1765069052470511</td><td>0.30008915002721953</td><td>-0.02086320952641768</td><td>-0.017395989458928264</td><td>-0.03540483732807764</td><td>-0.019906697146181457</td><td>0.009658481931137657</td><td>-0.0022071710783960335</td><td>0.06103136487960273</td><td>0.004061478097689648</td><td>0.05147162669761751</td><td>0.14979241039481156</td></tr><tr><td>50</td><td>0.9759364423244855</td><td>0.18495744302751121</td><td>1.478306890534065</td><td>1.514499175902406</td><td>1.4457740791456357</td><td>-0.5805139416504685</td><td>-0.19543167509385181</td><td>-1.1818378855978575</td><td>0.24934255437021596</td><td>-0.015166478249918625</td><td>-0.013877571895329129</td><td>-0.02764334827540854</td><td>-0.020725767657155787</td><td>0.0047606978069571</td><td>0.002998696067223</td><td>0.061494503891098104</td><td>0.0065401981042317245</td><td>0.04977517551085832</td><td>0.1414141468361864</td></tr><tr><td>60</td><td>0.98946748520443</td><td>0.19802040806655358</td><td>1.5037226694869819</td><td>1.5358139179025165</td><td>1.4427251235941358</td><td>-0.5851012514187666</td><td>-0.2569388446763739</td><td>-1.1889287159247184</td><td>0.2004765213721606</td><td>-0.011880050804626577</td><td>-0.012341467413513468</td><td>-0.023148835192906253</td><td>-0.022107764427228074</td><td>0.0011441128578217538</td><td>0.0062437145222777185</td><td>0.06142702264686721</td><td>0.0075601725563017655</td><td>0.04769781671217109</td><td>0.13371527778911385</td></tr><tr><td>70</td><td>1.000466077488182</td><td>0.21012441140495577</td><td>1.5256105386182413</td><td>1.5586512047750452</td><td>1.4428811128536685</td><td>-0.5923121817935965</td><td>-0.318144514152735</td><td>-1.1966087278541662</td><td>0.15381337210412188</td><td>-0.010152272164198908</td><td>-0.011976054776495854</td><td>-0.02062561764456397</td><td>-0.023754644591156747</td><td>-0.0016132173672022132</td><td>0.008199964672180482</td><td>0.06084112348449752</td><td>0.007703853705348845</td><td>0.04535938032872498</td><td>0.12641862462074116</td></tr><tr><td>80</td><td>1.0102394540509696</td><td>0.22220076035382821</td><td>1.5455654841541748</td><td>1.5831693986333173</td><td>1.4455001245375378</td><td>-0.6010563886946262</td><td>-0.37853802429201006</td><td>-1.204176125718774</td><td>0.10957217775486094</td><td>-0.009464045579037544</td><td>-0.012289399311662084</td><td>-0.01930258926713295</td><td>-0.025442209226679124</td><td>-0.0037512140574569725</td><td>0.009277563037362054</td><td>0.059759584679279124</td><td>0.007331248281968919</td><td>0.042851470146674515</td><td>0.11943871645928822</td></tr><tr><td>90</td><td>1.019655776834468</td><td>0.23477191496291763</td><td>1.5645455852712673</td><td>1.6093325356385135</td><td>1.4500391325827442</td><td>-0.6105916993783259</td><td>-0.4376462697889138</td><td>-1.211231391417947</td><td>0.06788344042212965</td><td>-0.00945576984217393</td><td>-0.012957769097445199</td><td>-0.01867898951410442</td><td>-0.02701161301272582</td><td>-0.005429374899799437</td><td>0.009763539887940736</td><td>0.05823851073346519</td><td>0.00668528076676967</td><td>0.04025975562108448</td><td>0.11276052218810703</td></tr><tr><td>100</td><td>1.0292695193549029</td><td>0.24808811881915624</td><td>1.5830887716832769</td><td>1.6369730616785663</td><td>1.4560935194483002</td><td>-0.6204278649485497</td><td>-0.49506529564031754</td><td>-1.217581456063877</td><td>0.028795083712947887</td><td>-0.009863165373448071</td><td>-0.013764732971846765</td><td>-0.018421087770567987</td><td>-0.028363219903949924</td><td>-0.006764182040587596</td><td>0.009871952824031305</td><td>0.05636043857922761</td><td>0.005932461659342532</td><td>0.03766190356115917</td><td>0.1063909456561149</td></tr><tr><td>200</td><td>1.1576801134165178</td><td>0.4102823969403732</td><td>1.7567357859529718</td><td>1.940973320809006</td><td>1.5579523242938107</td><td>-0.7098809401334752</td><td>-0.9435705171279227</td><td>-1.2521375351742043</td><td>-0.2403210945179538</td><td>-0.014834052921512866</td><td>-0.01691274721465586</td><td>-0.015438889811402824</td><td>-0.029438605208252564</td><td>-0.012036339403115638</td><td>0.008240216466930163</td><td>0.03345669188523851</td><td>0.0023372833126551543</td><td>0.018279356600035396</td><td>0.059752274657350654</td></tr><tr><td>300</td><td>1.3050263454545052</td><td>0.5672817151172317</td><td>1.887606349416816</td><td>2.2028625937831663</td><td>1.67847759796339</td><td>-0.7899552566450109</td><td>-1.1972017181031767</td><td>-1.2766406538954855</td><td>-0.3748453197755923</td><td>-0.014074712079974884</td><td>-0.014166995494407312</td><td>-0.0108930180909846</td><td>-0.022774643909025068</td><td>-0.011580688973701314</td><td>0.007714720333502428</td><td>0.018734224833521697</td><td>0.002619193544290851</td><td>0.009757724668356074</td><td>0.035883281328093</td></tr><tr><td>400</td><td>1.4345434373060917</td><td>0.6932038133092769</td><td>1.9801152238647601</td><td>2.401120140344626</td><td>1.7850869467037602</td><td>-0.8621708447540543</td><td>-1.343735474306658</td><td>-1.303044637389802</td><td>-0.451716943591012</td><td>-0.011754318080301585</td><td>-0.011075118964228359</td><td>-0.00781198013272124</td><td>-0.017117193118067798</td><td>-0.009659349012488118</td><td>0.006646414261358358</td><td>0.01134305801518681</td><td>0.002575866030658059</td><td>0.006052887129125306</td><td>0.02327862534662749</td></tr><tr><td>500</td><td>1.54086606904694</td><td>0.7914265106435887</td><td>2.0478319290190212</td><td>2.5512764122546705</td><td>1.8721433678142572</td><td>-0.9225869147211241</td><td>-1.4362675640965967</td><td>-1.32713485970601</td><td>-0.5022388571218123</td><td>-0.009554023119960429</td><td>-0.008667487255859644</td><td>-0.005855260264789688</td><td>-0.013116945474298796</td><td>-0.007788670597150445</td><td>0.005441162380553449</td><td>0.007515337391044713</td><td>0.0022164373587984735</td><td>0.00422308326362828</td><td>0.016142667863923547</td></tr><tr><td>600</td><td>1.6273287523757218</td><td>0.8689612420070235</td><td>2.0995999544689457</td><td>2.667846692128589</td><td>1.942351100370669</td><td>-0.9717603303006371</td><td>-1.4998135044802936</td><td>-1.3473261232731792</td><td>-0.5388942848231413</td><td>-0.0077964228813702935</td><td>-0.0069169119475852685</td><td>-0.004570333288764375</td><td>-0.010334587127255651</td><td>-0.006305059093993109</td><td>0.004423147821342727</td><td>0.0053619565844876035</td><td>0.0018245647098995305</td><td>0.0031844865938003685</td><td>0.011837973696330703</td></tr><tr><td>700</td><td>1.6983328479341075</td><td>0.9315170156882502</td><td>2.1406773403382817</td><td>2.7609071738754345</td><td>1.9995977382088737</td><td>-1.011922897322569</td><td>-1.5464371431106747</td><td>-1.3638785172669627</td><td>-0.5672670226907838</td><td>-0.00645231982080125</td><td>-0.005648046231176047</td><td>-0.0036882882485563886</td><td>-0.008367172105606708</td><td>-0.00518690608855931</td><td>0.003637651609540077</td><td>0.004049327167739184</td><td>0.0014950629706953818</td><td>0.0025288297241738995</td><td>0.009086161014605472</td></tr><tr><td>800</td><td>1.757559861381852</td><td>0.9831393601822728</td><td>2.174273332878778</td><td>2.8371501849461453</td><td>2.0471131270794056</td><td>-1.0452192887883096</td><td>-1.582410800050124</td><td>-1.3774986195723875</td><td>-0.5902145520106526</td><td>-0.005428568195423658</td><td>-0.004712821277872831</td><td>-0.0030578467460169456</td><td>-0.006940071715343388</td><td>-0.004347055762091954</td><td>0.003043165128882662</td><td>0.003193304243982365</td><td>0.0012375437222202626</td><td>0.0020824238138720174</td><td>0.007233841968429919</td></tr><tr><td>900</td><td>1.8077781792681025</td><td>1.026619602682806</td><td>2.202431911685783</td><td>2.90103828078269</td><td>2.087279392908043</td><td>-1.0733090146812256</td><td>-1.6112537878074655</td><td>-1.3888503280733187</td><td>-0.609367752653347</td><td>-0.0046405545789358175</td><td>-0.004007970873412627</td><td>-0.002591339178565206</td><td>-0.005876567424169806</td><td>-0.0037079016271618047</td><td>0.0025902009421434787</td><td>0.002603510806684607</td><td>0.0010394547316330575</td><td>0.0017613729055420725</td><td>0.005930245768889624</td></tr><tr><td>1000</td><td>1.8510121914380775</td><td>1.0638968919168827</td><td>2.226509044835264</td><td>2.955605936076447</td><td>2.121805223711791</td><td>-1.0974034070550753</td><td>-1.6350769175982174</td><td>-1.3984547531484042</td><td>-0.6257362083626595</td><td>-0.004024453115891884</td><td>-0.003464574549064915</td><td>-0.0022358038909722705</td><td>-0.005063509103500223</td><td>-0.0032125178155607836</td><td>0.002239586229942793</td><td>0.0021786363545492574</td><td>0.0008863124577431335</td><td>0.0015207431562391134</td><td>0.004977567858491493</td></tr><tr><td>2000</td><td>2.098107337834172</td><td>1.2758742778441572</td><td>2.3633312624364557</td><td>3.2635363484970648</td><td>2.319725566599511</td><td>-1.2346234225072714</td><td>-1.7592011219778716</td><td>-1.4501797197227329</td><td>-0.7199003120255072</td><td>-0.0015771749947545485</td><td>-0.0013529792457373448</td><td>-0.0008766049464838054</td><td>-0.001958007220461334</td><td>-0.001273594072732012</td><td>0.0008787391501955716</td><td>0.0007466829030365516</td><td>0.0003141708439665775</td><td>0.0006133732115347124</td><td>0.0016991980562727654</td></tr><tr><td>3000</td><td>2.2184807391780987</td><td>1.3793087325416795</td><td>2.4306197014180553</td><td>3.4131809557780928</td><td>2.4176032796765554</td><td>-1.3020270879896163</td><td>-1.8151222064808046</td><td>-1.4736887255417843</td><td>-0.7674353776162297</td><td>-0.0009330579462775636</td><td>-0.0008033530850453678</td><td>-0.0005250793846461016</td><td>-0.0011624409280657421</td><td>-0.0007645461916351482</td><td>0.0005255305614003183</td><td>0.00042624363945238815</td><td>0.00017897452289357234</td><td>0.00037445206001730856</td><td>0.000961194518451772</td></tr><tr><td>4000</td><td>2.2961180212647676</td><td>1.4462550333543602</td><td>2.4745388364696206</td><td>3.5101045596175777</td><td>2.4815819437745326</td><td>-1.3459505835259327</td><td>-1.8502790599683663</td><td>-1.4884422741232635</td><td>-0.7989376529659996</td><td>-0.0006510182530921147</td><td>-0.0005622556418652595</td><td>-0.000370322491456814</td><td>-0.0008146040565789738</td><td>-0.0005396758521260116</td><td>0.0003700360046976826</td><td>0.00029240606947099714</td><td>0.00012267014314718255</td><td>0.00026710897774487015</td><td>0.0006550343814304339</td></tr><tr><td>5000</td><td>2.352791734472648</td><td>1.4952602095341112</td><td>2.5069191617237334</td><td>3.581154890673639</td><td>2.528779446560279</td><td>-1.3782795370766974</td><td>-1.8756017354171388</td><td>-1.4990680298066423</td><td>-0.8223813682433123</td><td>-0.0004956167948802622</td><td>-0.0004290733296803027</td><td>-0.000284460071953619</td><td>-0.000622589439451021</td><td>-0.00041469239494654973</td><td>0.0002837531404814602</td><td>0.00022035176431038747</td><td>9.250512906192456e-05</td><td>0.00020669702728741857</td><td>0.0004912075570160592</td></tr><tr><td>6000</td><td>2.3971446822297824</td><td>1.5336947223584354</td><td>2.532471183067562</td><td>3.6369644226999878</td><td>2.566032032721759</td><td>-1.4037466544432247</td><td>-1.8952515224756072</td><td>-1.5073230236519035</td><td>-0.840996579045848</td><td>-0.0003980943685176384</td><td>-0.00034530185419065094</td><td>-0.00023022463287103695</td><td>-0.000501790710371153</td><td>-0.0003356583566390698</td><td>0.0002292521325251483</td><td>0.00017576828137586952</td><td>7.390670362980567e-05</td><td>0.00016814198829789482</td><td>0.00039033682209305457</td></tr><tr><td>7000</td><td>2.4334374105355425</td><td>1.5651989652369318</td><td>2.5535280650552274</td><td>3.6827782127022397</td><td>2.596731677667332</td><td>-1.4246969154515627</td><td>-1.9112341329213425</td><td>-1.514049977150342</td><td>-0.8564040772654709</td><td>-0.00033155211838490077</td><td>-0.00028802954903493197</td><td>-0.00019300008375851561</td><td>-0.0004191605898638862</td><td>-0.0002813726858605439</td><td>0.00019185155534940773</td><td>0.00014564134570283556</td><td>6.136737459130529e-05</td><td>0.00014147339940602993</td><td>0.0003224454803481367</td></tr><tr><td>8000</td><td>2.4640685111471092</td><td>1.5918263188053356</td><td>2.5714096974379026</td><td>3.7215536532867937</td><td>2.622799549504231</td><td>-1.4424573437306747</td><td>-1.9246625292069381</td><td>-1.5197145507932472</td><td>-0.8695299579846585</td><td>-0.0002834214698064653</td><td>-0.0002465342515880727</td><td>-0.00016593260925541747</td><td>-0.00035925277767314307</td><td>-0.00024187880750160638</td><td>0.00016466446517397662</td><td>0.0001240059636613765</td><td>5.237412647148503e-05</td><td>0.0001219639550083717</td><td>0.0002738505938409602</td></tr><tr><td>9000</td><td>2.490515963100184</td><td>1.6148442387375181</td><td>2.5869331074798865</td><td>3.7551162686743353</td><td>2.6454259233726796</td><td>-1.4578495799916844</td><td>-1.9362155048197571</td><td>-1.5245998302298203</td><td>-0.8809520328585854</td><td>-0.000247079709362259</td><td>-0.00021515725962567464</td><td>-0.00014539721170377952</td><td>-0.0003139199976997081</td><td>-0.00021190479372350018</td><td>0.0001440469077074881</td><td>0.00010776072237770896</td><td>4.562561480180949e-05</td><td>0.00010709089484843527</td><td>0.00023746393683212995</td></tr><tr><td>10000</td><td>2.513752201431186</td><td>1.635087929820786</td><td>2.600638146117397</td><td>3.784669308884865</td><td>2.6653978038297343</td><td>-1.4714165938001662</td><td>-1.9463362218095244</td><td>-1.5288901866856992</td><td>-0.8910545473797896</td><td>-0.000218719857093967</td><td>-0.00019064091908875872</td><td>-0.00012930247812354155</td><td>-0.00027847289889271264</td><td>-0.00018840640188368053</td><td>0.000127895803998119</td><td>9.514042102321679e-05</td><td>4.038365353455e-05</td><td>9.53879455305427e-05</td><td>0.00020926410053799516</td></tr></table>"
      ],
      "text/plain": [
       "<__main__.Table at 0x7f571b30abe0>"
      ]
     },
     "metadata": {},
     "output_type": "display_data"
    },
    {
     "data": {
      "text/html": [
       "<h2>Optimized Function:</h2>"
      ],
      "text/plain": [
       "<IPython.core.display.HTML object>"
      ]
     },
     "metadata": {},
     "output_type": "display_data"
    },
    {
     "data": {
      "image/png": "[encoded data removed]",
      "text/latex": [
       "$$-1 + \\frac{2}{46.9678217810879 e^{- \\frac{5.33083328893985}{0.194931513698026 e^{1.52889422505105 x_{0} + 0.891064086174343 x_{1}} + 1} - \\frac{7.56939431234951}{0.0809621049894767 e^{1.47142938338057 x_{0} + 1.94634573585163 x_{1}} + 1}} + 1}$$"
      ],
      "text/plain": [
       "                                                                              \n",
       "-1 + ─────────────────────────────────────────────────────────────────────────\n",
       "                                                  5.33083328893985            \n",
       "                       - ─────────────────────────────────────────────────────\n",
       "                                            1.52889422505105⋅x₀ + 0.8910640861\n",
       "                         0.194931513698026⋅ℯ                                  \n",
       "     46.9678217810879⋅ℯ                                                       \n",
       "\n",
       "     2                                                                        \n",
       "──────────────────────────────────────────────────────────────────────────────\n",
       "                                        7.56939431234951                      \n",
       "──────────── - ───────────────────────────────────────────────────────────────\n",
       "74343⋅x₁                           1.47142938338057⋅x₀ + 1.94634573585163⋅x₁  \n",
       "         + 1   0.0809621049894767⋅ℯ                                          +\n",
       "                                                                              \n",
       "\n",
       "      \n",
       "──────\n",
       "      \n",
       "──    \n",
       "      \n",
       " 1    \n",
       "   + 1"
      ]
     },
     "metadata": {},
     "output_type": "display_data"
    },
    {
     "data": {
      "text/html": [
       "<h2>Dataset evaluation:</h2>"
      ],
      "text/plain": [
       "<IPython.core.display.HTML object>"
      ]
     },
     "metadata": {},
     "output_type": "display_data"
    },
    {
     "data": {
      "text/html": [
       "<table><tr><th title=\"\">x_0</th><th title=\"\">x_1</th><th title=\"\">Y</th><th title=\"\">Ŷ</th><th title=\"\">(Y - Ŷ)²</th></tr><tr><td>0</td><td>0</td><td>1</td><td>0.9990136978217559</td><td>9.727919868091278e-07</td></tr><tr><td>0</td><td>1</td><td>1</td><td>0.979992791963407</td><td>0.0004002883734195095</td></tr><tr><td>1</td><td>0</td><td>1</td><td>0.9791576828356339</td><td>0.00043440218478003103</td></tr><tr><td>1</td><td>1</td><td>0</td><td>0.0011371120903649334</td><td>1.2930239060541085e-06</td></tr></table>"
      ],
      "text/plain": [
       "<__main__.Table at 0x7f571c057ef0>"
      ]
     },
     "metadata": {},
     "output_type": "display_data"
    },
    {
     "data": {
      "image/png": "[encoded data removed]",
      "text/latex": [
       "$$-1 + \\frac{2}{46.9678217810879 e^{- \\frac{5.33083328893985}{0.194931513698026 e^{1.52889422505105 x_{0} + 0.891064086174343 x_{1}} + 1} - \\frac{7.56939431234951}{0.0809621049894767 e^{1.47142938338057 x_{0} + 1.94634573585163 x_{1}} + 1}} + 1}$$"
      ],
      "text/plain": [
       "                                                                              \n",
       "-1 + ─────────────────────────────────────────────────────────────────────────\n",
       "                                                  5.33083328893985            \n",
       "                       - ─────────────────────────────────────────────────────\n",
       "                                            1.52889422505105⋅x₀ + 0.8910640861\n",
       "                         0.194931513698026⋅ℯ                                  \n",
       "     46.9678217810879⋅ℯ                                                       \n",
       "\n",
       "     2                                                                        \n",
       "──────────────────────────────────────────────────────────────────────────────\n",
       "                                        7.56939431234951                      \n",
       "──────────── - ───────────────────────────────────────────────────────────────\n",
       "74343⋅x₁                           1.47142938338057⋅x₀ + 1.94634573585163⋅x₁  \n",
       "         + 1   0.0809621049894767⋅ℯ                                          +\n",
       "                                                                              \n",
       "\n",
       "      \n",
       "──────\n",
       "      \n",
       "──    \n",
       "      \n",
       " 1    \n",
       "   + 1"
      ]
     },
     "execution_count": 9,
     "metadata": {},
     "output_type": "execute_result"
    }
   ],
   "source": [
    "def neural_nand():\n",
    "    data = [\n",
    "        {'X': [0, 0], 'Y': 1},\n",
    "        {'X': [0, 1], 'Y': 1},\n",
    "        {'X': [1, 0], 'Y': 1},\n",
    "        {'X': [1, 1], 'Y': 0},\n",
    "    ]\n",
    "    x = SymbolVector.x\n",
    "\n",
    "    neural_network = NeuralNetwork(inputs=x[0:2], dims=[2], activation_function=NeuralNetwork.logistic)\n",
    "    return optimize(\"NAND (2 layer net + logistic activation function)\", neural_network.expr, data, simplify=False)\n",
    "\n",
    "neural_nand()    "
   ]
  }
 ],
 "metadata": {
  "kernelspec": {
   "display_name": "Python 3",
   "language": "python",
   "name": "python3"
  },
  "language_info": {
   "codemirror_mode": {
    "name": "ipython",
    "version": 3
   },
   "file_extension": ".py",
   "mimetype": "text/x-python",
   "name": "python",
   "nbconvert_exporter": "python",
   "pygments_lexer": "ipython3",
   "version": "3.6.3"
  }
 },
 "nbformat": 4,
 "nbformat_minor": 2
}
