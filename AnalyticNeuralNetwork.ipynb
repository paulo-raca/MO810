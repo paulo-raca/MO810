{
 "cells": [
  {
   "cell_type": "markdown",
   "metadata": {},
   "source": [
    "# Analytic neural networks\n",
    "\n",
    "On the last 2 classes of [MO810](https://www.ic.unicamp.br/~meidanis/courses/mo810/2018s1/), we expanded the cost function of a neural network for it's training data, calculated it's partial derivative for each parameter being optimized and finally used these derivatives to implement a gradient descent to optimize the function. \n",
    "\n",
    "1000s of iterations later, we had a reasonably trainned model.\n",
    "\n",
    "Doing all this work analytically instead of numerically is something that caught my attention: It's a lot of work (and really not pratical for anything vaguely complex), but it's an excelent exercise.\n",
    "\n",
    "Now, humans suck at making expansions and derivatives. It takes a lot of time, and there will most certainly be a mistake at the end. [SymPy](https://simpy.readthedocs.io), on the other hand, is _perfect_ for this.\n",
    "\n",
    "So, this notebook receives a dataset and a SimPy expression and does it all magically.\n",
    "\n",
    "Dataset inputs are mapped to the symbols $x_i$, and all remaining symbols are considered variables to optimized (By convention, $w_i$ is used for coefficients and $b_i$ is used for constants)\n",
    "\n",
    "Finally, at the end of the file, I used this to fit a 3-neurol, 2-layer neural network with a logistic activation function to fit the XOR function"
   ]
  },
  {
   "cell_type": "code",
   "execution_count": 1,
   "metadata": {},
   "outputs": [],
   "source": [
    "from IPython.display import HTML, display, display_html\n",
    "\n",
    "class Table:\n",
    "    \"\"\" Just a component to display tabular data on Jupyter \"\"\"\n",
    "    \n",
    "    def __init__(self, headers, header_exprs):\n",
    "        self.headers = headers\n",
    "        self.header_exprs = header_exprs\n",
    "        self.data = []\n",
    "        \n",
    "    def append(self, row):\n",
    "        self.data.append(row)\n",
    "    \n",
    "    def _repr_html_(self):\n",
    "        html = [\"<table>\"]\n",
    "        html.append(\"<tr>\")\n",
    "        for header, expr in zip(self.headers, self.header_exprs):\n",
    "            html.append(f'<th title=\"{expr}\">{header}</th>')\n",
    "        html.append(\"</tr>\")\n",
    "        for row in self.data:\n",
    "            html.append(\"<tr>\")\n",
    "            for cell in row:\n",
    "                html.append(f\"<td>{cell}</td>\")\n",
    "            html.append(\"</tr>\")\n",
    "        html.append(\"</table>\")\n",
    "        return ''.join(html)"
   ]
  },
  {
   "cell_type": "code",
   "execution_count": 2,
   "metadata": {},
   "outputs": [],
   "source": [
    "import sympy\n",
    "\n",
    "class SymbolVectorMetaclass(type):\n",
    "    def __getattr__(cls, key):\n",
    "        return cls(key)\n",
    "\n",
    "        \n",
    "class SymbolVector(metaclass = SymbolVectorMetaclass):\n",
    "    \"\"\"\n",
    "    And infinite array of symbols.\n",
    "    \n",
    "    SymbolVector.x yields [x_0, x_1, x_2, ...]\n",
    "    \"\"\"\n",
    "    def __init__(self, name):\n",
    "        self.name = name\n",
    "\n",
    "    @staticmethod\n",
    "    def __getattr__(cls, key):\n",
    "        return Vector(key)\n",
    "        \n",
    "    def __getitem__( self, key ) :\n",
    "        if isinstance( key, slice ) :\n",
    "            if (key.start is not None and key.start < 0) or (key.stop is not None and key.stop < 0):\n",
    "                raise IndexError(\"Negative indexes are not supported\")\n",
    "            return [self[ii] for ii in range(*key.indices(sys.maxsize))]\n",
    "\n",
    "        elif isinstance(key, int):\n",
    "            if key < 0:\n",
    "                raise IndexError(\"Negative indexes are not supported\")\n",
    "            return sympy.Symbol(f'{self.name}_{key}')\n",
    "\n",
    "        else:\n",
    "            raise TypeError(\"Invalid argument type.\")\n",
    "    \n",
    "    def __repr__(self):\n",
    "        return self.name + '[]'\n"
   ]
  },
  {
   "cell_type": "code",
   "execution_count": 10,
   "metadata": {},
   "outputs": [],
   "source": [
    "import random\n",
    "import re\n",
    "import sympy\n",
    "import sys\n",
    "sympy.init_printing()\n",
    "\n",
    "def optimize(function_name, function, data, step=0.1, iterations=5000, simplify=True, verbose=True):\n",
    "    \"\"\"\n",
    "    This is where the magic happens:\n",
    "    - Expand the function and data into a cost function for the dataset\n",
    "    - Calculate partial derivatives of the cost for each parameter\n",
    "    - Perform a gradient descent to optimize the function to fit the data\n",
    "    - Returns the fitted function\n",
    "    \"\"\"\n",
    "    x = SymbolVector.x[:len(data[0]['X'])]\n",
    "        \n",
    "    if verbose:\n",
    "        display(HTML(f'<h1>Optimizing Function {function_name}</h1>'))\n",
    "\n",
    "        display(HTML(f'<h2>Function:</h2>'), function)\n",
    "        \n",
    "        table = Table(\n",
    "            x + ['Y'],\n",
    "            [''] * (len(x) + 1)\n",
    "        )\n",
    "        for row in data:\n",
    "            table.append(row['X'] + [row['Y']])\n",
    "            \n",
    "        display(HTML(f'<h2>Dataset:</h2>'), table)\n",
    "\n",
    "\n",
    "    # Calculate cost function for the dataset, and partial derivatives for each parameter\n",
    "\n",
    "    cost_symbol = sympy.Symbol(\"cost\")\n",
    "    cost = sum([\n",
    "        (function.subs(zip(x, row['X'])) - row['Y']) ** 2    \n",
    "        for row in data\n",
    "    ])\n",
    "    if simplify:\n",
    "        cost = sympy.simplify(cost)\n",
    "    \n",
    "    if verbose:\n",
    "        display(HTML(f'<h2>Cost:</h2>'), cost)\n",
    "\n",
    "    optimization_parameters = sorted(list(cost.free_symbols), key=str)\n",
    "\n",
    "    cost_derivates = [\n",
    "        sympy.diff(cost, parameter)\n",
    "        for parameter in optimization_parameters\n",
    "    ]\n",
    "    if simplify:\n",
    "        cost_derivates = [\n",
    "            sympy.simplify(x)\n",
    "            for x in cost_derivates\n",
    "        ]\n",
    "\n",
    "    cost_fast = sympy.lambdify(optimization_parameters, cost)\n",
    "    cost_derivates_fast = [\n",
    "        sympy.lambdify(optimization_parameters, expr)\n",
    "        for expr in cost_derivates\n",
    "    ]\n",
    "    \n",
    "    #if verbose:\n",
    "        #display(HTML(f'<h2>Cost derivatives:</h2>'), *cost_derivates)\n",
    "\n",
    "    # Optimize equation with gradient descent -- Initial values are random noise\n",
    "    \n",
    "    w = [\n",
    "        random.gauss(0,1) \n",
    "        for symbol in optimization_parameters\n",
    "    ]\n",
    "\n",
    "    table = Table(\n",
    "        ['loop'] + optimization_parameters + [sympy.Derivative(parameter, cost_symbol) for parameter in optimization_parameters] + [cost_symbol], \n",
    "        [''] + [''] * len(optimization_parameters) + cost_derivates + [cost]\n",
    "    )\n",
    "\n",
    "    num_table_rows = iterations // 10\n",
    "    for i in range(iterations+1):\n",
    "        gradient = [d(*w) for d in cost_derivates_fast]\n",
    "        if re.match('^[0-9]0*$', str(i)):\n",
    "            table.append([i] + w + gradient + [cost_fast(*w)])\n",
    "            \n",
    "        w = [\n",
    "            parameter - step * gradient\n",
    "            for parameter, gradient in zip(w, gradient)\n",
    "        ]\n",
    "\n",
    "    if verbose:\n",
    "        display(HTML(f'<h2>Gradient Descent:</h2>'), table)\n",
    "        \n",
    "    optimized_model = function.subs(zip(optimization_parameters, w))\n",
    "    optimized_model_fast = sympy.lambdify(x, optimized_model)\n",
    "    \n",
    "    if verbose:\n",
    "        display(HTML(f'<h2>Optimized Function:</h2>'), optimized_model)\n",
    "        \n",
    "        table = Table(\n",
    "            x + ['Y', 'Ŷ'],\n",
    "            [''] * (len(x) + 2)\n",
    "        )\n",
    "        for row in data:\n",
    "            table.append(row['X'] + [row['Y'], optimized_model_fast(*row['X'])])\n",
    "            \n",
    "        display(HTML(f'<h2>Dataset evaluation:</h2>'), table)\n",
    "        \n",
    "    return optimized_model\n"
   ]
  },
  {
   "cell_type": "code",
   "execution_count": 11,
   "metadata": {},
   "outputs": [
    {
     "data": {
      "text/html": [
       "<h1>Optimizing Function NOT (Linear)</h1>"
      ],
      "text/plain": [
       "<IPython.core.display.HTML object>"
      ]
     },
     "metadata": {},
     "output_type": "display_data"
    },
    {
     "data": {
      "text/html": [
       "<h2>Function:</h2>"
      ],
      "text/plain": [
       "<IPython.core.display.HTML object>"
      ]
     },
     "metadata": {},
     "output_type": "display_data"
    },
    {
     "data": {
      "image/png": "[encoded data removed]",
      "text/latex": [
       "$$b + w_{0} x_{0}$$"
      ],
      "text/plain": [
       "b + w₀⋅x₀"
      ]
     },
     "metadata": {},
     "output_type": "display_data"
    },
    {
     "data": {
      "text/html": [
       "<h2>Dataset:</h2>"
      ],
      "text/plain": [
       "<IPython.core.display.HTML object>"
      ]
     },
     "metadata": {},
     "output_type": "display_data"
    },
    {
     "data": {
      "text/html": [
       "<table><tr><th title=\"\">x_0</th><th title=\"\">Y</th></tr><tr><td>0</td><td>1</td></tr><tr><td>1</td><td>0</td></tr></table>"
      ],
      "text/plain": [
       "<__main__.Table at 0x7fe4eeecca90>"
      ]
     },
     "metadata": {},
     "output_type": "display_data"
    },
    {
     "data": {
      "text/html": [
       "<h2>Cost:</h2>"
      ],
      "text/plain": [
       "<IPython.core.display.HTML object>"
      ]
     },
     "metadata": {},
     "output_type": "display_data"
    },
    {
     "data": {
      "image/png": "[encoded data removed]",
      "text/latex": [
       "$$\\left(b - 1\\right)^{2} + \\left(b + w_{0}\\right)^{2}$$"
      ],
      "text/plain": [
       "       2           2\n",
       "(b - 1)  + (b + w₀) "
      ]
     },
     "metadata": {},
     "output_type": "display_data"
    },
    {
     "data": {
      "text/html": [
       "<h2>Gradient Descent:</h2>"
      ],
      "text/plain": [
       "<IPython.core.display.HTML object>"
      ]
     },
     "metadata": {},
     "output_type": "display_data"
    },
    {
     "data": {
      "text/html": [
       "<table><tr><th title=\"\">loop</th><th title=\"\">b</th><th title=\"\">w_0</th><th title=\"4*b + 2*w_0 - 2\">Derivative(b, cost)</th><th title=\"2*b + 2*w_0\">Derivative(w_0, cost)</th><th title=\"(b - 1)**2 + (b + w_0)**2\">cost</th></tr><tr><td>0</td><td>-0.032341351209205275</td><td>0.7390707508278905</td><td>-0.6512239031810401</td><td>1.4134587992373706</td><td>1.5651951097018348</td></tr><tr><td>1</td><td>0.03278103910889873</td><td>0.5977248709041535</td><td>-0.6734261017560981</td><td>1.2610118200261045</td><td>1.3330502208686488</td></tr><tr><td>2</td><td>0.10012364928450854</td><td>0.47162368890154305</td><td>-0.6562580250588798</td><td>1.1434946763721032</td><td>1.1366724652998654</td></tr><tr><td>3</td><td>0.16574945179039652</td><td>0.3572742212643327</td><td>-0.6224537503097485</td><td>1.0460473461094586</td><td>0.9695277397636843</td></tr><tr><td>4</td><td>0.22799482682137137</td><td>0.25266948665338684</td><td>-0.5826817194077408</td><td>0.9613286269495165</td><td>0.827030169662725</td></tr><tr><td>5</td><td>0.28626299876214545</td><td>0.1565366239584352</td><td>-0.5418747570345479</td><td>0.8855992454411613</td><td>0.7054920128174937</td></tr><tr><td>6</td><td>0.34045047446560023</td><td>0.06797669941431907</td><td>-0.502244703308961</td><td>0.8168543477598386</td><td>0.6018183329961896</td></tr><tr><td>7</td><td>0.39067494479649634</td><td>-0.013708735361664795</td><td>-0.4647176915373441</td><td>0.7539324188696631</td><td>0.5133805459544181</td></tr><tr><td>8</td><td>0.43714671395023075</td><td>-0.08910197724863111</td><td>-0.42961709869633946</td><td>0.6960894734031993</td><td>0.4379389603627092</td></tr><tr><td>9</td><td>0.4801084238198647</td><td>-0.15871092458895103</td><td>-0.39698815389844344</td><td>0.6427949984618273</td><td>0.3735836034949505</td></tr><tr><td>10</td><td>0.5198072392097091</td><td>-0.22299042443513378</td><td>-0.3667518920314312</td><td>0.5936336295491506</td><td>0.3186853090483261</td></tr><tr><td>20</td><td>0.7830780377590616</td><td>-0.6490128672812455</td><td>-0.16571358352624443</td><td>0.26813034095563215</td><td>0.06502860763770499</td></tr><tr><td>30</td><td>0.9020115803915781</td><td>-0.841451406554691</td><td>-0.07485649154306939</td><td>0.12112034767377433</td><td>0.013269265032510146</td></tr><tr><td>40</td><td>0.9557364787481843</td><td>-0.9283801181528</td><td>-0.03381432131286255</td><td>0.054712721190768754</td><td>0.0027076297786346347</td></tr><tr><td>50</td><td>0.9800051952944467</td><td>-0.9676477263879985</td><td>-0.015274671598210166</td><td>0.024714937812896576</td><td>0.000552499252987051</td></tr><tr><td>60</td><td>0.990967907570237</td><td>-0.9853857674591128</td><td>-0.006899904637277299</td><td>0.011164280222248468</td><td>0.00011273898188000406</td></tr><tr><td>70</td><td>0.9959200054783668</td><td>-0.9933984301900842</td><td>-0.0031168384667012994</td><td>0.005043150576565125</td><td>2.3004697231034313e-05</td></tr><tr><td>80</td><td>0.9981569768659915</td><td>-0.9970179259271219</td><td>-0.0014079443902779154</td><td>0.002278101877739136</td><td>4.694171313830253e-06</td></tr><tr><td>90</td><td>0.9991674659722016</td><td>-0.9986529316462314</td><td>-0.0006359994036562178</td><td>0.0010290686519405234</td><td>9.578584800438495e-07</td></tr><tr><td>100</td><td>0.9996239260947665</td><td>-0.9993914996390503</td><td>-0.00028729489903467353</td><td>0.0004648529114323896</td><td>1.9545363951439153e-07</td></tr><tr><td>200</td><td>0.9999998669590717</td><td>-0.9999997847352561</td><td>-1.0163422548004064e-07</td><td>1.6444763129008777e-07</td><td>2.4460644455248926e-14</td></tr><tr><td>300</td><td>0.9999999999529351</td><td>-0.9999999999238475</td><td>-3.595479469709062e-11</td><td>5.817524240114835e-11</td><td>3.06119522761593e-21</td></tr><tr><td>400</td><td>0.9999999999999833</td><td>-0.9999999999999731</td><td>-1.2878587085651816e-14</td><td>2.042810365310288e-14</td><td>3.8166076670724077e-28</td></tr><tr><td>500</td><td>0.9999999999999994</td><td>-0.9999999999999992</td><td>-4.440892098500626e-16</td><td>4.440892098500626e-16</td><td>3.5745259767827097e-31</td></tr><tr><td>600</td><td>0.9999999999999994</td><td>-0.9999999999999992</td><td>-4.440892098500626e-16</td><td>4.440892098500626e-16</td><td>3.5745259767827097e-31</td></tr><tr><td>700</td><td>0.9999999999999994</td><td>-0.9999999999999992</td><td>-4.440892098500626e-16</td><td>4.440892098500626e-16</td><td>3.5745259767827097e-31</td></tr><tr><td>800</td><td>0.9999999999999994</td><td>-0.9999999999999992</td><td>-4.440892098500626e-16</td><td>4.440892098500626e-16</td><td>3.5745259767827097e-31</td></tr><tr><td>900</td><td>0.9999999999999994</td><td>-0.9999999999999992</td><td>-4.440892098500626e-16</td><td>4.440892098500626e-16</td><td>3.5745259767827097e-31</td></tr><tr><td>1000</td><td>0.9999999999999994</td><td>-0.9999999999999992</td><td>-4.440892098500626e-16</td><td>4.440892098500626e-16</td><td>3.5745259767827097e-31</td></tr><tr><td>2000</td><td>0.9999999999999994</td><td>-0.9999999999999992</td><td>-4.440892098500626e-16</td><td>4.440892098500626e-16</td><td>3.5745259767827097e-31</td></tr><tr><td>3000</td><td>0.9999999999999994</td><td>-0.9999999999999992</td><td>-4.440892098500626e-16</td><td>4.440892098500626e-16</td><td>3.5745259767827097e-31</td></tr><tr><td>4000</td><td>0.9999999999999994</td><td>-0.9999999999999992</td><td>-4.440892098500626e-16</td><td>4.440892098500626e-16</td><td>3.5745259767827097e-31</td></tr><tr><td>5000</td><td>0.9999999999999994</td><td>-0.9999999999999992</td><td>-4.440892098500626e-16</td><td>4.440892098500626e-16</td><td>3.5745259767827097e-31</td></tr></table>"
      ],
      "text/plain": [
       "<__main__.Table at 0x7fe4eee9fd30>"
      ]
     },
     "metadata": {},
     "output_type": "display_data"
    },
    {
     "data": {
      "text/html": [
       "<h2>Optimized Function:</h2>"
      ],
      "text/plain": [
       "<IPython.core.display.HTML object>"
      ]
     },
     "metadata": {},
     "output_type": "display_data"
    },
    {
     "data": {
      "image/png": "[encoded data removed]",
      "text/latex": [
       "$$- 0.999999999999999 x_{0} + 0.999999999999999$$"
      ],
      "text/plain": [
       "-0.999999999999999⋅x₀ + 0.999999999999999"
      ]
     },
     "metadata": {},
     "output_type": "display_data"
    },
    {
     "data": {
      "text/html": [
       "<h2>Dataset evaluation:</h2>"
      ],
      "text/plain": [
       "<IPython.core.display.HTML object>"
      ]
     },
     "metadata": {},
     "output_type": "display_data"
    },
    {
     "data": {
      "text/html": [
       "<table><tr><th title=\"\">x_0</th><th title=\"\">Y</th><th title=\"\">Ŷ</th></tr><tr><td>0</td><td>1</td><td>0.999999999999999</td></tr><tr><td>1</td><td>0</td><td>0.0</td></tr></table>"
      ],
      "text/plain": [
       "<__main__.Table at 0x7fe4ef069828>"
      ]
     },
     "metadata": {},
     "output_type": "display_data"
    },
    {
     "data": {
      "image/png": "[encoded data removed]",
      "text/latex": [
       "$$- 0.999999999999999 x_{0} + 0.999999999999999$$"
      ],
      "text/plain": [
       "-0.999999999999999⋅x₀ + 0.999999999999999"
      ]
     },
     "execution_count": 11,
     "metadata": {},
     "output_type": "execute_result"
    }
   ],
   "source": [
    "def linear_not():\n",
    "    data = [\n",
    "        {'X': [0], 'Y': 1},\n",
    "        {'X': [1], 'Y': 0},\n",
    "    ]\n",
    "\n",
    "    x = SymbolVector.x\n",
    "    w = SymbolVector.w\n",
    "    bias = sympy.Symbol(\"b\")\n",
    "    \n",
    "    return optimize(\"NOT (Linear)\", x[0]*w[0] + bias, data)\n",
    "\n",
    "linear_not()"
   ]
  },
  {
   "cell_type": "code",
   "execution_count": 12,
   "metadata": {},
   "outputs": [
    {
     "data": {
      "text/html": [
       "<h1>Optimizing Function XOR (Linear)</h1>"
      ],
      "text/plain": [
       "<IPython.core.display.HTML object>"
      ]
     },
     "metadata": {},
     "output_type": "display_data"
    },
    {
     "data": {
      "text/html": [
       "<h2>Function:</h2>"
      ],
      "text/plain": [
       "<IPython.core.display.HTML object>"
      ]
     },
     "metadata": {},
     "output_type": "display_data"
    },
    {
     "data": {
      "image/png": "[encoded data removed]",
      "text/latex": [
       "$$b + w_{0} x_{0} + w_{1} x_{1}$$"
      ],
      "text/plain": [
       "b + w₀⋅x₀ + w₁⋅x₁"
      ]
     },
     "metadata": {},
     "output_type": "display_data"
    },
    {
     "data": {
      "text/html": [
       "<h2>Dataset:</h2>"
      ],
      "text/plain": [
       "<IPython.core.display.HTML object>"
      ]
     },
     "metadata": {},
     "output_type": "display_data"
    },
    {
     "data": {
      "text/html": [
       "<table><tr><th title=\"\">x_0</th><th title=\"\">x_1</th><th title=\"\">Y</th></tr><tr><td>0</td><td>0</td><td>0</td></tr><tr><td>0</td><td>1</td><td>1</td></tr><tr><td>1</td><td>0</td><td>1</td></tr><tr><td>1</td><td>1</td><td>0</td></tr></table>"
      ],
      "text/plain": [
       "<__main__.Table at 0x7fe4f0f9ef98>"
      ]
     },
     "metadata": {},
     "output_type": "display_data"
    },
    {
     "data": {
      "text/html": [
       "<h2>Cost:</h2>"
      ],
      "text/plain": [
       "<IPython.core.display.HTML object>"
      ]
     },
     "metadata": {},
     "output_type": "display_data"
    },
    {
     "data": {
      "image/png": "[encoded data removed]",
      "text/latex": [
       "$$b^{2} + \\left(b + w_{0} - 1\\right)^{2} + \\left(b + w_{0} + w_{1}\\right)^{2} + \\left(b + w_{1} - 1\\right)^{2}$$"
      ],
      "text/plain": [
       " 2               2                2               2\n",
       "b  + (b + w₀ - 1)  + (b + w₀ + w₁)  + (b + w₁ - 1) "
      ]
     },
     "metadata": {},
     "output_type": "display_data"
    },
    {
     "data": {
      "text/html": [
       "<h2>Gradient Descent:</h2>"
      ],
      "text/plain": [
       "<IPython.core.display.HTML object>"
      ]
     },
     "metadata": {},
     "output_type": "display_data"
    },
    {
     "data": {
      "text/html": [
       "<table><tr><th title=\"\">loop</th><th title=\"\">b</th><th title=\"\">w_0</th><th title=\"\">w_1</th><th title=\"8*b + 4*w_0 + 4*w_1 - 4\">Derivative(b, cost)</th><th title=\"4*b + 4*w_0 + 2*w_1 - 2\">Derivative(w_0, cost)</th><th title=\"4*b + 2*w_0 + 4*w_1 - 2\">Derivative(w_1, cost)</th><th title=\"b**2 + (b + w_0 - 1)**2 + (b + w_0 + w_1)**2 + (b + w_1 - 1)**2\">cost</th></tr><tr><td>0</td><td>-2.124852232626655</td><td>-0.8260320572339751</td><td>-0.594924979115175</td><td>-26.68264600640984</td><td>-14.993387117672869</td><td>-14.531172961435269</td><td>46.53398955931457</td></tr><tr><td>1</td><td>0.5434123680143292</td><td>0.6733066545333118</td><td>0.8581923170283521</td><td>6.47329483036129</td><td>4.5832607242472685</td><td>4.953032049237349</td><td>4.80880752659422</td></tr><tr><td>2</td><td>-0.10391711502179979</td><td>0.21498058210858495</td><td>0.36288911210461716</td><td>-2.51985814332159</td><td>-0.829967907443625</td><td>-0.5341508474515606</td><td>1.5747604747718313</td></tr><tr><td>3</td><td>0.1480686993103592</td><td>0.29797737285294745</td><td>0.4163041968497732</td><td>0.04167587329375633</td><td>0.616792682352773</td><td>0.8534463303464246</td><td>1.262208253948004</td></tr><tr><td>4</td><td>0.14390111198098357</td><td>0.23629810461767015</td><td>0.33095956381513075</td><td>-0.5797604304209276</td><td>0.18271599402487648</td><td>0.3720389124197977</td><td>1.1863786619192214</td></tr><tr><td>5</td><td>0.20187715502307635</td><td>0.2180265052151825</td><td>0.293755672573151</td><td>-0.33785404866205515</td><td>0.26712598609933724</td><td>0.4185843208152744</td><td>1.1409620370325841</td></tr><tr><td>6</td><td>0.23566255988928186</td><td>0.19131390660524877</td><td>0.25189724049162354</td><td>-0.34185493249825605</td><td>0.21170034696136963</td><td>0.33286701473411906</td><td>1.1073572803074432</td></tr><tr><td>7</td><td>0.2698480531391075</td><td>0.17014387190911182</td><td>0.21861053901821165</td><td>-0.286197931177846</td><td>0.19718877822930037</td><td>0.2941221124475002</td><td>1.0818588334062125</td></tr><tr><td>8</td><td>0.2984678462568921</td><td>0.15042499408618176</td><td>0.18919832777346163</td><td>-0.25376394250628964</td><td>0.17396801691921882</td><td>0.2515146842937783</td><td>1.062448444735373</td></tr><tr><td>9</td><td>0.3238442405075211</td><td>0.1330281923942599</td><td>0.1640468593440838</td><td>-0.22094586898645652</td><td>0.15558345029529153</td><td>0.21762078419493935</td><td>1.0476589393462283</td></tr><tr><td>10</td><td>0.3459388274061667</td><td>0.11746984736473073</td><td>0.14228478092458988</td><td>-0.19347086759338383</td><td>0.1382042609327695</td><td>0.1878341280524879</td><td>1.03638355996061</td></tr><tr><td>20</td><td>0.4597227123164595</td><td>0.032624344633441056</td><td>0.035288827835741235</td><td>-0.05056561159159445</td><td>0.03996588347108479</td><td>0.04529484987568516</td><td>1.002469454300009</td></tr><tr><td>30</td><td>0.4894696901340437</td><td>0.00873474346961719</td><td>0.009020840174982711</td><td>-0.013220144349250784</td><td>0.010859414764608923</td><td>0.011431608175340002</td><td>1.000168594564481</td></tr><tr><td>40</td><td>0.49724689937472305</td><td>0.0023056977550124542</td><td>0.0023364171548384233</td><td>-0.00345634536281203</td><td>0.002883222828618928</td><td>0.002944661628270768</td><td>1.0000115217324632</td></tr><tr><td>50</td><td>0.49928021462336974</td><td>0.0006051804603730198</td><td>0.0006084789308131637</td><td>-0.0009036454482971301</td><td>0.0007585381965974024</td><td>0.0007651351374777455</td><td>1.0000007875259425</td></tr><tr><td>60</td><td>0.49981181545503495</td><td>0.00015847572129504424</td><td>0.0001588298918617401</td><td>-0.00023625390709325345</td><td>0.0001988244890435203</td><td>0.00019953283017677746</td><td>1.0000000538299831</td></tr><tr><td>70</td><td>0.4999508000244052</td><td>4.1460025313391614e-05</td><td>4.1498054088422334e-05</td><td>-6.176748715169822e-05</td><td>5.2036307051005974e-05</td><td>5.211236460109304e-05</td><td>1.0000000036794736</td></tr><tr><td>80</td><td>0.499987136894802</td><td>1.0842460700294827e-05</td><td>1.0846544008947454e-05</td><td>-1.6148822747030778e-05</td><td>1.3610510027130677e-05</td><td>1.361867664435884e-05</td><td>1.0000000002515057</td></tr><tr><td>90</td><td>0.4999966370008656</td><td>2.8350255717598585e-06</td><td>2.835464013675495e-06</td><td>-4.222034733381008e-06</td><td>3.559033776857424e-06</td><td>3.5599106606211434e-06</td><td>1.0000000000171914</td></tr><tr><td>100</td><td>0.4999991207594897</td><td>7.412380491618349e-07</td><td>7.412851265087852e-07</td><td>-1.1038313796341015e-06</td><td>9.305604085057634e-07</td><td>9.306545632095152e-07</td><td>1.000000000001175</td></tr><tr><td>200</td><td>0.49999999999868805</td><td>1.106074704564098e-12</td><td>1.1060747045641874e-12</td><td>-1.6466827901240322e-12</td><td>1.3887270243262886e-12</td><td>1.3887270243266465e-12</td><td>0.9999999999999999</td></tr><tr><td>300</td><td>0.4999999999999999</td><td>5.551115426811514e-17</td><td>5.551115426811514e-17</td><td>0.0</td><td>1.2147429265783174e-23</td><td>1.2147429265783174e-23</td><td>0.9999999999999999</td></tr><tr><td>400</td><td>0.4999999999999999</td><td>5.551115123125784e-17</td><td>5.551115123125784e-17</td><td>0.0</td><td>4.930380657631324e-32</td><td>4.930380657631324e-32</td><td>0.9999999999999999</td></tr><tr><td>500</td><td>0.4999999999999999</td><td>5.551115123125784e-17</td><td>5.551115123125784e-17</td><td>0.0</td><td>4.930380657631324e-32</td><td>4.930380657631324e-32</td><td>0.9999999999999999</td></tr><tr><td>600</td><td>0.4999999999999999</td><td>5.551115123125784e-17</td><td>5.551115123125784e-17</td><td>0.0</td><td>4.930380657631324e-32</td><td>4.930380657631324e-32</td><td>0.9999999999999999</td></tr><tr><td>700</td><td>0.4999999999999999</td><td>5.551115123125784e-17</td><td>5.551115123125784e-17</td><td>0.0</td><td>4.930380657631324e-32</td><td>4.930380657631324e-32</td><td>0.9999999999999999</td></tr><tr><td>800</td><td>0.4999999999999999</td><td>5.551115123125784e-17</td><td>5.551115123125784e-17</td><td>0.0</td><td>4.930380657631324e-32</td><td>4.930380657631324e-32</td><td>0.9999999999999999</td></tr><tr><td>900</td><td>0.4999999999999999</td><td>5.551115123125784e-17</td><td>5.551115123125784e-17</td><td>0.0</td><td>4.930380657631324e-32</td><td>4.930380657631324e-32</td><td>0.9999999999999999</td></tr><tr><td>1000</td><td>0.4999999999999999</td><td>5.551115123125784e-17</td><td>5.551115123125784e-17</td><td>0.0</td><td>4.930380657631324e-32</td><td>4.930380657631324e-32</td><td>0.9999999999999999</td></tr><tr><td>2000</td><td>0.4999999999999999</td><td>5.551115123125784e-17</td><td>5.551115123125784e-17</td><td>0.0</td><td>4.930380657631324e-32</td><td>4.930380657631324e-32</td><td>0.9999999999999999</td></tr><tr><td>3000</td><td>0.4999999999999999</td><td>5.551115123125784e-17</td><td>5.551115123125784e-17</td><td>0.0</td><td>4.930380657631324e-32</td><td>4.930380657631324e-32</td><td>0.9999999999999999</td></tr><tr><td>4000</td><td>0.4999999999999999</td><td>5.551115123125784e-17</td><td>5.551115123125784e-17</td><td>0.0</td><td>4.930380657631324e-32</td><td>4.930380657631324e-32</td><td>0.9999999999999999</td></tr><tr><td>5000</td><td>0.4999999999999999</td><td>5.551115123125784e-17</td><td>5.551115123125784e-17</td><td>0.0</td><td>4.930380657631324e-32</td><td>4.930380657631324e-32</td><td>0.9999999999999999</td></tr></table>"
      ],
      "text/plain": [
       "<__main__.Table at 0x7fe4ef192780>"
      ]
     },
     "metadata": {},
     "output_type": "display_data"
    },
    {
     "data": {
      "text/html": [
       "<h2>Optimized Function:</h2>"
      ],
      "text/plain": [
       "<IPython.core.display.HTML object>"
      ]
     },
     "metadata": {},
     "output_type": "display_data"
    },
    {
     "data": {
      "image/png": "[encoded data removed]",
      "text/latex": [
       "$$5.55111512312578 \\cdot 10^{-17} x_{0} + 5.55111512312578 \\cdot 10^{-17} x_{1} + 0.5$$"
      ],
      "text/plain": [
       "5.55111512312578e-17⋅x₀ + 5.55111512312578e-17⋅x₁ + 0.5"
      ]
     },
     "metadata": {},
     "output_type": "display_data"
    },
    {
     "data": {
      "text/html": [
       "<h2>Dataset evaluation:</h2>"
      ],
      "text/plain": [
       "<IPython.core.display.HTML object>"
      ]
     },
     "metadata": {},
     "output_type": "display_data"
    },
    {
     "data": {
      "text/html": [
       "<table><tr><th title=\"\">x_0</th><th title=\"\">x_1</th><th title=\"\">Y</th><th title=\"\">Ŷ</th></tr><tr><td>0</td><td>0</td><td>0</td><td>0.5</td></tr><tr><td>0</td><td>1</td><td>1</td><td>0.5</td></tr><tr><td>1</td><td>0</td><td>1</td><td>0.5</td></tr><tr><td>1</td><td>1</td><td>0</td><td>0.5</td></tr></table>"
      ],
      "text/plain": [
       "<__main__.Table at 0x7fe4ef15f240>"
      ]
     },
     "metadata": {},
     "output_type": "display_data"
    },
    {
     "data": {
      "image/png": "[encoded data removed]",
      "text/latex": [
       "$$5.55111512312578 \\cdot 10^{-17} x_{0} + 5.55111512312578 \\cdot 10^{-17} x_{1} + 0.5$$"
      ],
      "text/plain": [
       "5.55111512312578e-17⋅x₀ + 5.55111512312578e-17⋅x₁ + 0.5"
      ]
     },
     "execution_count": 12,
     "metadata": {},
     "output_type": "execute_result"
    }
   ],
   "source": [
    "def linear_xor():\n",
    "    data = [\n",
    "        {'X': [0, 0], 'Y': 0},\n",
    "        {'X': [0, 1], 'Y': 1},\n",
    "        {'X': [1, 0], 'Y': 1},\n",
    "        {'X': [1, 1], 'Y': 0},\n",
    "    ]\n",
    "\n",
    "    x = SymbolVector.x\n",
    "    w = SymbolVector.w\n",
    "    bias = sympy.Symbol(\"b\")\n",
    "    \n",
    "    return optimize(\"XOR (Linear)\", x[0]*w[0] + x[1]*w[1] + bias, data)\n",
    "\n",
    "linear_xor()"
   ]
  },
  {
   "cell_type": "code",
   "execution_count": 13,
   "metadata": {},
   "outputs": [
    {
     "data": {
      "text/html": [
       "<h1>Optimizing Function XOR (With extra nonlinear term x_0*x_1)</h1>"
      ],
      "text/plain": [
       "<IPython.core.display.HTML object>"
      ]
     },
     "metadata": {},
     "output_type": "display_data"
    },
    {
     "data": {
      "text/html": [
       "<h2>Function:</h2>"
      ],
      "text/plain": [
       "<IPython.core.display.HTML object>"
      ]
     },
     "metadata": {},
     "output_type": "display_data"
    },
    {
     "data": {
      "image/png": "[encoded data removed]",
      "text/latex": [
       "$$b + w_{0} x_{0} + w_{1} x_{1} + w_{2} x_{0} x_{1}$$"
      ],
      "text/plain": [
       "b + w₀⋅x₀ + w₁⋅x₁ + w₂⋅x₀⋅x₁"
      ]
     },
     "metadata": {},
     "output_type": "display_data"
    },
    {
     "data": {
      "text/html": [
       "<h2>Dataset:</h2>"
      ],
      "text/plain": [
       "<IPython.core.display.HTML object>"
      ]
     },
     "metadata": {},
     "output_type": "display_data"
    },
    {
     "data": {
      "text/html": [
       "<table><tr><th title=\"\">x_0</th><th title=\"\">x_1</th><th title=\"\">Y</th></tr><tr><td>0</td><td>0</td><td>0</td></tr><tr><td>0</td><td>1</td><td>1</td></tr><tr><td>1</td><td>0</td><td>1</td></tr><tr><td>1</td><td>1</td><td>0</td></tr></table>"
      ],
      "text/plain": [
       "<__main__.Table at 0x7fe4ef1180b8>"
      ]
     },
     "metadata": {},
     "output_type": "display_data"
    },
    {
     "data": {
      "text/html": [
       "<h2>Cost:</h2>"
      ],
      "text/plain": [
       "<IPython.core.display.HTML object>"
      ]
     },
     "metadata": {},
     "output_type": "display_data"
    },
    {
     "data": {
      "image/png": "[encoded data removed]",
      "text/latex": [
       "$$b^{2} + \\left(b + w_{0} - 1\\right)^{2} + \\left(b + w_{1} - 1\\right)^{2} + \\left(b + w_{0} + w_{1} + w_{2}\\right)^{2}$$"
      ],
      "text/plain": [
       " 2               2               2                     2\n",
       "b  + (b + w₀ - 1)  + (b + w₁ - 1)  + (b + w₀ + w₁ + w₂) "
      ]
     },
     "metadata": {},
     "output_type": "display_data"
    },
    {
     "data": {
      "text/html": [
       "<h2>Gradient Descent:</h2>"
      ],
      "text/plain": [
       "<IPython.core.display.HTML object>"
      ]
     },
     "metadata": {},
     "output_type": "display_data"
    },
    {
     "data": {
      "text/html": [
       "<table><tr><th title=\"\">loop</th><th title=\"\">b</th><th title=\"\">w_0</th><th title=\"\">w_1</th><th title=\"\">w_2</th><th title=\"8*b + 4*w_0 + 4*w_1 + 2*w_2 - 4\">Derivative(b, cost)</th><th title=\"4*b + 4*w_0 + 2*w_1 + 2*w_2 - 2\">Derivative(w_0, cost)</th><th title=\"4*b + 2*w_0 + 4*w_1 + 2*w_2 - 2\">Derivative(w_1, cost)</th><th title=\"2*b + 2*w_0 + 2*w_1 + 2*w_2\">Derivative(w_2, cost)</th><th title=\"b**2 + (b + w_0 - 1)**2 + (b + w_1 - 1)**2 + (b + w_0 + w_1 + w_2)**2\">cost</th></tr><tr><td>0</td><td>-0.4096849220744966</td><td>-0.06672057051580652</td><td>-0.920927060570166</td><td>-0.07512313565216235</td><td>-11.378316172244187</td><td>-5.89772236280587</td><td>-7.606135342914588</td><td>-2.944911377625263</td><td>9.947492883089568</td></tr><tr><td>1</td><td>0.7281466951499221</td><td>0.5230516657647805</td><td>-0.1603135262787072</td><td>0.21936800211036395</td><td>3.714862123364398</td><td>3.1229023953221238</td><td>1.7561720112351487</td><td>2.6205056734927186</td><td>2.496828892313764</td></tr><tr><td>2</td><td>0.35666048281348234</td><td>0.21076142623256805</td><td>-0.3359307274022221</td><td>-0.0426825652389079</td><td>-1.7327584726485727</td><td>-0.4875389490980586</td><td>-1.5809232563676385</td><td>0.37761723280984083</td><td>1.3089494103397405</td></tr><tr><td>3</td><td>0.5299363300783396</td><td>0.2595153211423739</td><td>-0.1778384017654582</td><td>-0.080444288519892</td><td>0.4053097410945963</td><td>0.6412412243121539</td><td>-0.23346622150351026</td><td>1.0623379218707267</td><td>1.0270806806681967</td></tr><tr><td>4</td><td>0.48940535596888</td><td>0.1953911987111585</td><td>-0.15449177961510718</td><td>-0.18667808070696468</td><td>-0.2945156372786837</td><td>0.056846498076009944</td><td>-0.642919458576521</td><td>0.6872533887159333</td><td>0.8992900703865123</td></tr><tr><td>5</td><td>0.5188569196967484</td><td>0.1897065489035575</td><td>-0.09019983375745508</td><td>-0.255403419578558</td><td>0.03807537900128111</td><td>0.1430473677291978</td><td>-0.4167653975928277</td><td>0.7259204305285857</td><td>0.8123205982635647</td></tr><tr><td>6</td><td>0.5150493817966203</td><td>0.17540181213063774</td><td>-0.048523293998172304</td><td>-0.32799546263141655</td><td>-0.02808179836000857</td><td>0.008767262449854374</td><td>-0.4390829498077656</td><td>0.6278648745953384</td><td>0.7442443192174251</td></tr><tr><td>7</td><td>0.5178575616326212</td><td>0.1745250858856523</td><td>-0.004614999017395746</td><td>-0.3907819500909504</td><td>0.040936940352095164</td><td>-0.021263308143598447</td><td>-0.3795434779496942</td><td>0.5939713968198548</td><td>0.687938197597376</td></tr><tr><td>8</td><td>0.5137638675974117</td><td>0.17665141670001214</td><td>0.03333934877757368</td><td>-0.45017908977293586</td><td>0.04971582314376466</td><td>-0.07201834480102909</td><td>-0.35864248064590604</td><td>0.5471510866041234</td><td>0.6397550823561973</td></tr><tr><td>9</td><td>0.5087922852830352</td><td>0.18385325118011506</td><td>0.06920359684216429</td><td>-0.5048941984333482</td><td>0.07277727748670237</td><td>-0.10079905732976668</td><td>-0.33009836600566833</td><td>0.5139098697439328</td><td>0.5974496698779033</td></tr><tr><td>10</td><td>0.501514557534365</td><td>0.19393315691309174</td><td>0.10221343344273112</td><td>-0.5562851854077414</td><td>0.0841324508827288</td><td>-0.12635264614019326</td><td>-0.30979209308091493</td><td>0.48275192496489305</td><td>0.5595628064535436</td></tr><tr><td>20</td><td>0.39597467674779546</td><td>0.35988881195897826</td><td>0.3500404816413942</td><td>-0.9492969211887277</td><td>0.10892074600639878</td><td>-0.17505892426757197</td><td>-0.19475558490274025</td><td>0.3132140983188805</td><td>0.3054326483864445</td></tr><tr><td>30</td><td>0.2969474664998424</td><td>0.5195921821422687</td><td>0.518534725726413</td><td>-1.2210752042377992</td><td>0.08593695499786769</td><td>-0.13892236245432832</td><td>-0.1410372752860396</td><td>0.2279983402614496</td><td>0.1688781305571576</td></tr><tr><td>40</td><td>0.2211002224058198</td><td>0.6422591194158443</td><td>0.6421455758977681</td><td>-1.4209903720061852</td><td>0.0644398164886375</td><td>-0.10425222493017738</td><td>-0.10447931196632965</td><td>0.16902909142649403</td><td>0.09340039793405128</td></tr><tr><td>50</td><td>0.1644573190453278</td><td>0.7339031976064224</td><td>0.7338910059640024</td><td>-1.5694277833265935</td><td>0.047979799991134</td><td>-0.07763148811818121</td><td>-0.07765587140302133</td><td>0.12564747857831815</td><td>0.05165667960955689</td></tr><tr><td>60</td><td>0.12230746290277983</td><td>0.8021024462771972</td><td>0.8021011372095601</td><td>-1.6797930404134076</td><td>0.0356879563424517</td><td>-0.05774416968778695</td><td>-0.05774678782306086</td><td>0.09343601195225881</td><td>0.028569609131255988</td></tr><tr><td>70</td><td>0.09095852927497451</td><td>0.852826016477187</td><td>0.8528258759171198</td><td>-1.7618672785783625</td><td>0.026541246620297998</td><td>-0.04294462231383944</td><td>-0.042944903433973725</td><td>0.06948628618183772</td><td>0.015800910435599915</td></tr><tr><td>80</td><td>0.06764451105115954</td><td>0.8905488828699586</td><td>0.8905488677774362</td><td>-1.8229043494179837</td><td>0.019738392162888196</td><td>-0.03193738759662246</td><td>-0.03193741778166714</td><td>0.0516758245611415</td><td>0.008738963471973019</td></tr><tr><td>90</td><td>0.050306198592204414</td><td>0.918602860929981</td><td>0.918602859309434</td><td>-1.8682966599325077</td><td>0.014679149830279792</td><td>-0.02375136315740578</td><td>-0.02375136639849984</td><td>0.038430517798223374</td><td>0.0048332330517168835</td></tr><tr><td>100</td><td>0.037411955748275404</td><td>0.9394661840240954</td><td>0.9394661838500906</td><td>-1.9020542280175563</td><td>0.010916661447834375</td><td>-0.017663529245448117</td><td>-0.01766352959345774</td><td>0.028580191209810035</td><td>0.0026731021141269133</td></tr><tr><td>200</td><td>0.001935973802395322</td><td>0.9968675285863949</td><td>0.9968675285863949</td><td>-1.9949315547839996</td><td>0.0005649095423236692</td><td>-0.0009140428400487011</td><td>-0.0009140428400487011</td><td>0.0014789523823712791</td><td>7.158032668152785e-06</td></tr><tr><td>300</td><td>0.00010018173286417594</td><td>0.999837902551174</td><td>0.999837902551174</td><td>-1.9997377208183098</td><td>2.9232635686652752e-05</td><td>-4.7299398119093894e-05</td><td>-4.7299398119093894e-05</td><td>7.653203380497686e-05</td><td>1.9167779415378534e-08</td></tr><tr><td>400</td><td>5.184150522753103e-06</td><td>0.9999916118682514</td><td>0.9999916118682514</td><td>-1.9999864277177286</td><td>1.5127147352583795e-06</td><td>-2.4476238582593624e-06</td><td>-2.4476238582593624e-06</td><td>3.960338593955726e-06</td><td>5.132747847890857e-11</td></tr><tr><td>500</td><td>2.68266637873896e-07</td><td>0.9999995659354619</td><td>0.9999995659354619</td><td>-1.9999992976688241</td><td>7.827915003278073e-08</td><td>-1.26658325161344e-07</td><td>-1.26658325161344e-07</td><td>2.0493747499017445e-07</td><td>1.374447185726931e-13</td></tr><tr><td>600</td><td>1.3882117888729396e-08</td><td>0.9999999775382613</td><td>0.9999999775382613</td><td>-1.9999999636561434</td><td>4.050747205743836e-09</td><td>-6.554247367063226e-09</td><td>-6.554247367063226e-09</td><td>1.0604994216123487e-08</td><td>3.6804945851266586e-16</td></tr><tr><td>700</td><td>7.183644606180588e-10</td><td>0.999999998837662</td><td>0.999999998837662</td><td>-1.9999999981192977</td><td>2.0961617713712323e-10</td><td>-3.3916558450641787e-10</td><td>-3.3916558450641787e-10</td><td>5.487814647153755e-10</td><td>9.855627533937078e-19</td></tr><tr><td>800</td><td>3.717345109695249e-11</td><td>0.999999999939852</td><td>0.999999999939852</td><td>-1.9999999999026785</td><td>1.0846595636434468e-11</td><td>-1.7551293751694175e-11</td><td>-1.7551293751694175e-11</td><td>2.8398172702281954e-11</td><td>2.639135847803572e-21</td></tr><tr><td>900</td><td>1.923632931858915e-12</td><td>0.9999999999968875</td><td>0.9999999999968875</td><td>-1.999999999994964</td><td>5.604806487678794e-13</td><td>-9.086065233532281e-13</td><td>-9.086065233532281e-13</td><td>1.4690471061840071e-12</td><td>7.06650689760482e-24</td></tr><tr><td>1000</td><td>9.970502002900769e-14</td><td>0.9999999999998389</td><td>0.9999999999998389</td><td>-1.9999999999997393</td><td>3.069809482100338e-14</td><td>-4.6629367034256575e-14</td><td>-4.6629367034256575e-14</td><td>7.638334409421077e-14</td><td>1.8938468725386364e-26</td></tr><tr><td>2000</td><td>1.27675647831893e-15</td><td>0.9999999999999979</td><td>0.9999999999999979</td><td>-1.9999999999999967</td><td>0.0</td><td>-4.440892098500626e-16</td><td>-4.440892098500626e-16</td><td>4.440892098500626e-16</td><td>2.887354172625344e-30</td></tr><tr><td>3000</td><td>1.27675647831893e-15</td><td>0.9999999999999979</td><td>0.9999999999999979</td><td>-1.9999999999999967</td><td>0.0</td><td>-4.440892098500626e-16</td><td>-4.440892098500626e-16</td><td>4.440892098500626e-16</td><td>2.887354172625344e-30</td></tr><tr><td>4000</td><td>1.27675647831893e-15</td><td>0.9999999999999979</td><td>0.9999999999999979</td><td>-1.9999999999999967</td><td>0.0</td><td>-4.440892098500626e-16</td><td>-4.440892098500626e-16</td><td>4.440892098500626e-16</td><td>2.887354172625344e-30</td></tr><tr><td>5000</td><td>1.27675647831893e-15</td><td>0.9999999999999979</td><td>0.9999999999999979</td><td>-1.9999999999999967</td><td>0.0</td><td>-4.440892098500626e-16</td><td>-4.440892098500626e-16</td><td>4.440892098500626e-16</td><td>2.887354172625344e-30</td></tr></table>"
      ],
      "text/plain": [
       "<__main__.Table at 0x7fe4ef165d30>"
      ]
     },
     "metadata": {},
     "output_type": "display_data"
    },
    {
     "data": {
      "text/html": [
       "<h2>Optimized Function:</h2>"
      ],
      "text/plain": [
       "<IPython.core.display.HTML object>"
      ]
     },
     "metadata": {},
     "output_type": "display_data"
    },
    {
     "data": {
      "image/png": "[encoded data removed]",
      "text/latex": [
       "$$- 2.0 x_{0} x_{1} + 0.999999999999998 x_{0} + 0.999999999999998 x_{1} + 1.27675647831893 \\cdot 10^{-15}$$"
      ],
      "text/plain": [
       "-2.0⋅x₀⋅x₁ + 0.999999999999998⋅x₀ + 0.999999999999998⋅x₁ + 1.27675647831893e-1\n",
       "5"
      ]
     },
     "metadata": {},
     "output_type": "display_data"
    },
    {
     "data": {
      "text/html": [
       "<h2>Dataset evaluation:</h2>"
      ],
      "text/plain": [
       "<IPython.core.display.HTML object>"
      ]
     },
     "metadata": {},
     "output_type": "display_data"
    },
    {
     "data": {
      "text/html": [
       "<table><tr><th title=\"\">x_0</th><th title=\"\">x_1</th><th title=\"\">Y</th><th title=\"\">Ŷ</th></tr><tr><td>0</td><td>0</td><td>0</td><td>1.27675647831893e-15</td></tr><tr><td>0</td><td>1</td><td>1</td><td>0.9999999999999993</td></tr><tr><td>1</td><td>0</td><td>1</td><td>0.9999999999999993</td></tr><tr><td>1</td><td>1</td><td>0</td><td>-2.6645352591003757e-15</td></tr></table>"
      ],
      "text/plain": [
       "<__main__.Table at 0x7fe4ef04a908>"
      ]
     },
     "metadata": {},
     "output_type": "display_data"
    },
    {
     "data": {
      "image/png": "[encoded data removed]",
      "text/latex": [
       "$$- 2.0 x_{0} x_{1} + 0.999999999999998 x_{0} + 0.999999999999998 x_{1} + 1.27675647831893 \\cdot 10^{-15}$$"
      ],
      "text/plain": [
       "-2.0⋅x₀⋅x₁ + 0.999999999999998⋅x₀ + 0.999999999999998⋅x₁ + 1.27675647831893e-1\n",
       "5"
      ]
     },
     "execution_count": 13,
     "metadata": {},
     "output_type": "execute_result"
    }
   ],
   "source": [
    "def mul_xor():\n",
    "    data = [\n",
    "        {'X': [0, 0], 'Y': 0},\n",
    "        {'X': [0, 1], 'Y': 1},\n",
    "        {'X': [1, 0], 'Y': 1},\n",
    "        {'X': [1, 1], 'Y': 0},\n",
    "    ]\n",
    "\n",
    "    x = SymbolVector.x\n",
    "    w = SymbolVector.w\n",
    "    bias = sympy.Symbol(\"b\")\n",
    "    return optimize(\"XOR (With extra nonlinear term x_0*x_1)\", x[0]*w[0] + x[1]*w[1] + x[0]*x[1]*w[2]+ bias, data)\n",
    "    \n",
    "mul_xor()"
   ]
  },
  {
   "cell_type": "code",
   "execution_count": 7,
   "metadata": {},
   "outputs": [],
   "source": [
    "class Neuron:\n",
    "    next_b = iter(SymbolVector('b'))\n",
    "    next_w = iter(SymbolVector('w'))\n",
    "    \n",
    "    def __init__(self, inputs, activation_function=None):\n",
    "        self.x = inputs\n",
    "        self.w = [next(Neuron.next_w) for input in inputs]\n",
    "        self.bias = next(Neuron.next_b)\n",
    "        self.expr = sum([x*w for x,w in zip(self.x, self.w)]) + self.bias\n",
    "        if activation_function is not None:\n",
    "            self.expr = activation_function(self.expr)\n",
    "\n",
    "\n",
    "class NeuralNetwork:\n",
    "    @staticmethod\n",
    "    def logistic(expr):\n",
    "        exp = sympy.functions.elementary.exponential.exp\n",
    "        return -1 + 2 / (1 + exp(-expr))\n",
    "    \n",
    "    def __init__(self, inputs, dims=[], activation_function=None):\n",
    "        dims = dims + [1]  # Add one last neuron to collect all the results\n",
    "        self.layers = [inputs]\n",
    "        \n",
    "        for dim in dims:\n",
    "            prev_layer = self.layers[-1]\n",
    "            self.layers.append([\n",
    "                Neuron(prev_layer, activation_function).expr\n",
    "                for i in range(dim)\n",
    "            ])\n",
    "\n",
    "        self.expr = self.layers[-1][0]\n",
    "        \n",
    "        \n",
    "#TODO: Draw a neural network"
   ]
  },
  {
   "cell_type": "code",
   "execution_count": 8,
   "metadata": {},
   "outputs": [
    {
     "data": {
      "text/html": [
       "<h1>Optimizing Function XOR (2 layer net + logistic activation function)</h1>"
      ],
      "text/plain": [
       "<IPython.core.display.HTML object>"
      ]
     },
     "metadata": {},
     "output_type": "display_data"
    },
    {
     "data": {
      "text/html": [
       "<h2>Function:</h2>"
      ],
      "text/plain": [
       "<IPython.core.display.HTML object>"
      ]
     },
     "metadata": {},
     "output_type": "display_data"
    },
    {
     "data": {
      "image/png": "[encoded data removed]",
      "text/latex": [
       "$$-1 + \\frac{2}{e^{- b_{2} - w_{4} \\left(-1 + \\frac{2}{e^{- b_{0} - w_{0} x_{0} - w_{1} x_{1}} + 1}\\right) - w_{5} \\left(-1 + \\frac{2}{e^{- b_{1} - w_{2} x_{0} - w_{3} x_{1}} + 1}\\right)} + 1}$$"
      ],
      "text/plain": [
       "                                             2                                \n",
       "-1 + ─────────────────────────────────────────────────────────────────────────\n",
       "               ⎛                2            ⎞      ⎛                2        \n",
       "      -b₂ - w₄⋅⎜-1 + ────────────────────────⎟ - w₅⋅⎜-1 + ────────────────────\n",
       "               ⎜      -b₀ - w₀⋅x₀ - w₁⋅x₁    ⎟      ⎜      -b₁ - w₂⋅x₀ - w₃⋅x₁\n",
       "               ⎝     ℯ                    + 1⎠      ⎝     ℯ                   \n",
       "     ℯ                                                                        \n",
       "\n",
       "         \n",
       "─────────\n",
       "    ⎞    \n",
       "────⎟    \n",
       "    ⎟    \n",
       " + 1⎠    \n",
       "      + 1"
      ]
     },
     "metadata": {},
     "output_type": "display_data"
    },
    {
     "data": {
      "text/html": [
       "<h2>Cost:</h2>"
      ],
      "text/plain": [
       "<IPython.core.display.HTML object>"
      ]
     },
     "metadata": {},
     "output_type": "display_data"
    },
    {
     "data": {
      "image/png": "[encoded data removed]",
      "text/latex": [
       "$$\\left(-2 + \\frac{2}{e^{- b_{2} - w_{4} \\left(-1 + \\frac{2}{e^{- b_{0} - w_{0}} + 1}\\right) - w_{5} \\left(-1 + \\frac{2}{e^{- b_{1} - w_{2}} + 1}\\right)} + 1}\\right)^{2} + \\left(-2 + \\frac{2}{e^{- b_{2} - w_{4} \\left(-1 + \\frac{2}{e^{- b_{0} - w_{1}} + 1}\\right) - w_{5} \\left(-1 + \\frac{2}{e^{- b_{1} - w_{3}} + 1}\\right)} + 1}\\right)^{2} + \\left(-1 + \\frac{2}{e^{- b_{2} - w_{4} \\left(-1 + \\frac{2}{1 + e^{- b_{0}}}\\right) - w_{5} \\left(-1 + \\frac{2}{1 + e^{- b_{1}}}\\right)} + 1}\\right)^{2} + \\left(-1 + \\frac{2}{e^{- b_{2} - w_{4} \\left(-1 + \\frac{2}{e^{- b_{0} - w_{0} - w_{1}} + 1}\\right) - w_{5} \\left(-1 + \\frac{2}{e^{- b_{1} - w_{2} - w_{3}} + 1}\\right)} + 1}\\right)^{2}$$"
      ],
      "text/plain": [
       "                                                                   2          \n",
       "⎛                                  2                              ⎞    ⎛      \n",
       "⎜-2 + ────────────────────────────────────────────────────────────⎟  + ⎜-2 + ─\n",
       "⎜               ⎛           2      ⎞      ⎛           2      ⎞    ⎟    ⎜      \n",
       "⎜      -b₂ - w₄⋅⎜-1 + ─────────────⎟ - w₅⋅⎜-1 + ─────────────⎟    ⎟    ⎜      \n",
       "⎜               ⎜      -b₀ - w₀    ⎟      ⎜      -b₁ - w₂    ⎟    ⎟    ⎜      \n",
       "⎜               ⎝     ℯ         + 1⎠      ⎝     ℯ         + 1⎠    ⎟    ⎜      \n",
       "⎝     ℯ                                                        + 1⎠    ⎝     ℯ\n",
       "\n",
       "                                                            2                 \n",
       "                            2                              ⎞    ⎛             \n",
       "───────────────────────────────────────────────────────────⎟  + ⎜-1 + ────────\n",
       "         ⎛           2      ⎞      ⎛           2      ⎞    ⎟    ⎜             \n",
       "-b₂ - w₄⋅⎜-1 + ─────────────⎟ - w₅⋅⎜-1 + ─────────────⎟    ⎟    ⎜      -b₂ - w\n",
       "         ⎜      -b₀ - w₁    ⎟      ⎜      -b₁ - w₃    ⎟    ⎟    ⎜             \n",
       "         ⎝     ℯ         + 1⎠      ⎝     ℯ         + 1⎠    ⎟    ⎜             \n",
       "                                                        + 1⎠    ⎝     ℯ       \n",
       "\n",
       "                                           2                                  \n",
       "                2                         ⎞    ⎛                              \n",
       "──────────────────────────────────────────⎟  + ⎜-1 + ─────────────────────────\n",
       "  ⎛        2    ⎞      ⎛        2    ⎞    ⎟    ⎜               ⎛             2\n",
       "₄⋅⎜-1 + ────────⎟ - w₅⋅⎜-1 + ────────⎟    ⎟    ⎜      -b₂ - w₄⋅⎜-1 + ─────────\n",
       "  ⎜          -b₀⎟      ⎜          -b₁⎟    ⎟    ⎜               ⎜      -b₀ - w₀\n",
       "  ⎝     1 + ℯ   ⎠      ⎝     1 + ℯ   ⎠    ⎟    ⎜               ⎝     ℯ        \n",
       "                                       + 1⎠    ⎝     ℯ                        \n",
       "\n",
       "                                              2\n",
       "         2                                   ⎞ \n",
       "─────────────────────────────────────────────⎟ \n",
       "         ⎞      ⎛             2         ⎞    ⎟ \n",
       "─────────⎟ - w₅⋅⎜-1 + ──────────────────⎟    ⎟ \n",
       " - w₁    ⎟      ⎜      -b₁ - w₂ - w₃    ⎟    ⎟ \n",
       "      + 1⎠      ⎝     ℯ              + 1⎠    ⎟ \n",
       "                                          + 1⎠ "
      ]
     },
     "metadata": {},
     "output_type": "display_data"
    },
    {
     "data": {
      "text/html": [
       "<h2>Gradient Descent:</h2>"
      ],
      "text/plain": [
       "<IPython.core.display.HTML object>"
      ]
     },
     "metadata": {},
     "output_type": "display_data"
    },
    {
     "data": {
      "text/html": [
       "<table><tr><th title=\"\">loop</th><th title=\"\">b_0</th><th title=\"\">b_1</th><th title=\"\">b_2</th><th title=\"\">w_0</th><th title=\"\">w_1</th><th title=\"\">w_2</th><th title=\"\">w_3</th><th title=\"\">w_4</th><th title=\"\">w_5</th><th title=\"8*w_4*(-2 + 2/(exp(-b_2 - w_4*(-1 + 2/(exp(-b_0 - w_0) + 1)) - w_5*(-1 + 2/(exp(-b_1 - w_2) + 1))) + 1))*exp(-b_0 - w_0)*exp(-b_2 - w_4*(-1 + 2/(exp(-b_0 - w_0) + 1)) - w_5*(-1 + 2/(exp(-b_1 - w_2) + 1)))/((exp(-b_0 - w_0) + 1)**2*(exp(-b_2 - w_4*(-1 + 2/(exp(-b_0 - w_0) + 1)) - w_5*(-1 + 2/(exp(-b_1 - w_2) + 1))) + 1)**2) + 8*w_4*(-2 + 2/(exp(-b_2 - w_4*(-1 + 2/(exp(-b_0 - w_1) + 1)) - w_5*(-1 + 2/(exp(-b_1 - w_3) + 1))) + 1))*exp(-b_0 - w_1)*exp(-b_2 - w_4*(-1 + 2/(exp(-b_0 - w_1) + 1)) - w_5*(-1 + 2/(exp(-b_1 - w_3) + 1)))/((exp(-b_0 - w_1) + 1)**2*(exp(-b_2 - w_4*(-1 + 2/(exp(-b_0 - w_1) + 1)) - w_5*(-1 + 2/(exp(-b_1 - w_3) + 1))) + 1)**2) + 8*w_4*(-1 + 2/(exp(-b_2 - w_4*(-1 + 2/(1 + exp(-b_0))) - w_5*(-1 + 2/(1 + exp(-b_1)))) + 1))*exp(-b_0)*exp(-b_2 - w_4*(-1 + 2/(1 + exp(-b_0))) - w_5*(-1 + 2/(1 + exp(-b_1))))/((1 + exp(-b_0))**2*(exp(-b_2 - w_4*(-1 + 2/(1 + exp(-b_0))) - w_5*(-1 + 2/(1 + exp(-b_1)))) + 1)**2) + 8*w_4*(-1 + 2/(exp(-b_2 - w_4*(-1 + 2/(exp(-b_0 - w_0 - w_1) + 1)) - w_5*(-1 + 2/(exp(-b_1 - w_2 - w_3) + 1))) + 1))*exp(-b_0 - w_0 - w_1)*exp(-b_2 - w_4*(-1 + 2/(exp(-b_0 - w_0 - w_1) + 1)) - w_5*(-1 + 2/(exp(-b_1 - w_2 - w_3) + 1)))/((exp(-b_0 - w_0 - w_1) + 1)**2*(exp(-b_2 - w_4*(-1 + 2/(exp(-b_0 - w_0 - w_1) + 1)) - w_5*(-1 + 2/(exp(-b_1 - w_2 - w_3) + 1))) + 1)**2)\">Derivative(b_0, cost)</th><th title=\"8*w_5*(-2 + 2/(exp(-b_2 - w_4*(-1 + 2/(exp(-b_0 - w_0) + 1)) - w_5*(-1 + 2/(exp(-b_1 - w_2) + 1))) + 1))*exp(-b_1 - w_2)*exp(-b_2 - w_4*(-1 + 2/(exp(-b_0 - w_0) + 1)) - w_5*(-1 + 2/(exp(-b_1 - w_2) + 1)))/((exp(-b_1 - w_2) + 1)**2*(exp(-b_2 - w_4*(-1 + 2/(exp(-b_0 - w_0) + 1)) - w_5*(-1 + 2/(exp(-b_1 - w_2) + 1))) + 1)**2) + 8*w_5*(-2 + 2/(exp(-b_2 - w_4*(-1 + 2/(exp(-b_0 - w_1) + 1)) - w_5*(-1 + 2/(exp(-b_1 - w_3) + 1))) + 1))*exp(-b_1 - w_3)*exp(-b_2 - w_4*(-1 + 2/(exp(-b_0 - w_1) + 1)) - w_5*(-1 + 2/(exp(-b_1 - w_3) + 1)))/((exp(-b_1 - w_3) + 1)**2*(exp(-b_2 - w_4*(-1 + 2/(exp(-b_0 - w_1) + 1)) - w_5*(-1 + 2/(exp(-b_1 - w_3) + 1))) + 1)**2) + 8*w_5*(-1 + 2/(exp(-b_2 - w_4*(-1 + 2/(1 + exp(-b_0))) - w_5*(-1 + 2/(1 + exp(-b_1)))) + 1))*exp(-b_1)*exp(-b_2 - w_4*(-1 + 2/(1 + exp(-b_0))) - w_5*(-1 + 2/(1 + exp(-b_1))))/((1 + exp(-b_1))**2*(exp(-b_2 - w_4*(-1 + 2/(1 + exp(-b_0))) - w_5*(-1 + 2/(1 + exp(-b_1)))) + 1)**2) + 8*w_5*(-1 + 2/(exp(-b_2 - w_4*(-1 + 2/(exp(-b_0 - w_0 - w_1) + 1)) - w_5*(-1 + 2/(exp(-b_1 - w_2 - w_3) + 1))) + 1))*exp(-b_1 - w_2 - w_3)*exp(-b_2 - w_4*(-1 + 2/(exp(-b_0 - w_0 - w_1) + 1)) - w_5*(-1 + 2/(exp(-b_1 - w_2 - w_3) + 1)))/((exp(-b_1 - w_2 - w_3) + 1)**2*(exp(-b_2 - w_4*(-1 + 2/(exp(-b_0 - w_0 - w_1) + 1)) - w_5*(-1 + 2/(exp(-b_1 - w_2 - w_3) + 1))) + 1)**2)\">Derivative(b_1, cost)</th><th title=\"4*(-2 + 2/(exp(-b_2 - w_4*(-1 + 2/(exp(-b_0 - w_0) + 1)) - w_5*(-1 + 2/(exp(-b_1 - w_2) + 1))) + 1))*exp(-b_2 - w_4*(-1 + 2/(exp(-b_0 - w_0) + 1)) - w_5*(-1 + 2/(exp(-b_1 - w_2) + 1)))/(exp(-b_2 - w_4*(-1 + 2/(exp(-b_0 - w_0) + 1)) - w_5*(-1 + 2/(exp(-b_1 - w_2) + 1))) + 1)**2 + 4*(-2 + 2/(exp(-b_2 - w_4*(-1 + 2/(exp(-b_0 - w_1) + 1)) - w_5*(-1 + 2/(exp(-b_1 - w_3) + 1))) + 1))*exp(-b_2 - w_4*(-1 + 2/(exp(-b_0 - w_1) + 1)) - w_5*(-1 + 2/(exp(-b_1 - w_3) + 1)))/(exp(-b_2 - w_4*(-1 + 2/(exp(-b_0 - w_1) + 1)) - w_5*(-1 + 2/(exp(-b_1 - w_3) + 1))) + 1)**2 + 4*(-1 + 2/(exp(-b_2 - w_4*(-1 + 2/(1 + exp(-b_0))) - w_5*(-1 + 2/(1 + exp(-b_1)))) + 1))*exp(-b_2 - w_4*(-1 + 2/(1 + exp(-b_0))) - w_5*(-1 + 2/(1 + exp(-b_1))))/(exp(-b_2 - w_4*(-1 + 2/(1 + exp(-b_0))) - w_5*(-1 + 2/(1 + exp(-b_1)))) + 1)**2 + 4*(-1 + 2/(exp(-b_2 - w_4*(-1 + 2/(exp(-b_0 - w_0 - w_1) + 1)) - w_5*(-1 + 2/(exp(-b_1 - w_2 - w_3) + 1))) + 1))*exp(-b_2 - w_4*(-1 + 2/(exp(-b_0 - w_0 - w_1) + 1)) - w_5*(-1 + 2/(exp(-b_1 - w_2 - w_3) + 1)))/(exp(-b_2 - w_4*(-1 + 2/(exp(-b_0 - w_0 - w_1) + 1)) - w_5*(-1 + 2/(exp(-b_1 - w_2 - w_3) + 1))) + 1)**2\">Derivative(b_2, cost)</th><th title=\"8*w_4*(-2 + 2/(exp(-b_2 - w_4*(-1 + 2/(exp(-b_0 - w_0) + 1)) - w_5*(-1 + 2/(exp(-b_1 - w_2) + 1))) + 1))*exp(-b_0 - w_0)*exp(-b_2 - w_4*(-1 + 2/(exp(-b_0 - w_0) + 1)) - w_5*(-1 + 2/(exp(-b_1 - w_2) + 1)))/((exp(-b_0 - w_0) + 1)**2*(exp(-b_2 - w_4*(-1 + 2/(exp(-b_0 - w_0) + 1)) - w_5*(-1 + 2/(exp(-b_1 - w_2) + 1))) + 1)**2) + 8*w_4*(-1 + 2/(exp(-b_2 - w_4*(-1 + 2/(exp(-b_0 - w_0 - w_1) + 1)) - w_5*(-1 + 2/(exp(-b_1 - w_2 - w_3) + 1))) + 1))*exp(-b_0 - w_0 - w_1)*exp(-b_2 - w_4*(-1 + 2/(exp(-b_0 - w_0 - w_1) + 1)) - w_5*(-1 + 2/(exp(-b_1 - w_2 - w_3) + 1)))/((exp(-b_0 - w_0 - w_1) + 1)**2*(exp(-b_2 - w_4*(-1 + 2/(exp(-b_0 - w_0 - w_1) + 1)) - w_5*(-1 + 2/(exp(-b_1 - w_2 - w_3) + 1))) + 1)**2)\">Derivative(w_0, cost)</th><th title=\"8*w_4*(-2 + 2/(exp(-b_2 - w_4*(-1 + 2/(exp(-b_0 - w_1) + 1)) - w_5*(-1 + 2/(exp(-b_1 - w_3) + 1))) + 1))*exp(-b_0 - w_1)*exp(-b_2 - w_4*(-1 + 2/(exp(-b_0 - w_1) + 1)) - w_5*(-1 + 2/(exp(-b_1 - w_3) + 1)))/((exp(-b_0 - w_1) + 1)**2*(exp(-b_2 - w_4*(-1 + 2/(exp(-b_0 - w_1) + 1)) - w_5*(-1 + 2/(exp(-b_1 - w_3) + 1))) + 1)**2) + 8*w_4*(-1 + 2/(exp(-b_2 - w_4*(-1 + 2/(exp(-b_0 - w_0 - w_1) + 1)) - w_5*(-1 + 2/(exp(-b_1 - w_2 - w_3) + 1))) + 1))*exp(-b_0 - w_0 - w_1)*exp(-b_2 - w_4*(-1 + 2/(exp(-b_0 - w_0 - w_1) + 1)) - w_5*(-1 + 2/(exp(-b_1 - w_2 - w_3) + 1)))/((exp(-b_0 - w_0 - w_1) + 1)**2*(exp(-b_2 - w_4*(-1 + 2/(exp(-b_0 - w_0 - w_1) + 1)) - w_5*(-1 + 2/(exp(-b_1 - w_2 - w_3) + 1))) + 1)**2)\">Derivative(w_1, cost)</th><th title=\"8*w_5*(-2 + 2/(exp(-b_2 - w_4*(-1 + 2/(exp(-b_0 - w_0) + 1)) - w_5*(-1 + 2/(exp(-b_1 - w_2) + 1))) + 1))*exp(-b_1 - w_2)*exp(-b_2 - w_4*(-1 + 2/(exp(-b_0 - w_0) + 1)) - w_5*(-1 + 2/(exp(-b_1 - w_2) + 1)))/((exp(-b_1 - w_2) + 1)**2*(exp(-b_2 - w_4*(-1 + 2/(exp(-b_0 - w_0) + 1)) - w_5*(-1 + 2/(exp(-b_1 - w_2) + 1))) + 1)**2) + 8*w_5*(-1 + 2/(exp(-b_2 - w_4*(-1 + 2/(exp(-b_0 - w_0 - w_1) + 1)) - w_5*(-1 + 2/(exp(-b_1 - w_2 - w_3) + 1))) + 1))*exp(-b_1 - w_2 - w_3)*exp(-b_2 - w_4*(-1 + 2/(exp(-b_0 - w_0 - w_1) + 1)) - w_5*(-1 + 2/(exp(-b_1 - w_2 - w_3) + 1)))/((exp(-b_1 - w_2 - w_3) + 1)**2*(exp(-b_2 - w_4*(-1 + 2/(exp(-b_0 - w_0 - w_1) + 1)) - w_5*(-1 + 2/(exp(-b_1 - w_2 - w_3) + 1))) + 1)**2)\">Derivative(w_2, cost)</th><th title=\"8*w_5*(-2 + 2/(exp(-b_2 - w_4*(-1 + 2/(exp(-b_0 - w_1) + 1)) - w_5*(-1 + 2/(exp(-b_1 - w_3) + 1))) + 1))*exp(-b_1 - w_3)*exp(-b_2 - w_4*(-1 + 2/(exp(-b_0 - w_1) + 1)) - w_5*(-1 + 2/(exp(-b_1 - w_3) + 1)))/((exp(-b_1 - w_3) + 1)**2*(exp(-b_2 - w_4*(-1 + 2/(exp(-b_0 - w_1) + 1)) - w_5*(-1 + 2/(exp(-b_1 - w_3) + 1))) + 1)**2) + 8*w_5*(-1 + 2/(exp(-b_2 - w_4*(-1 + 2/(exp(-b_0 - w_0 - w_1) + 1)) - w_5*(-1 + 2/(exp(-b_1 - w_2 - w_3) + 1))) + 1))*exp(-b_1 - w_2 - w_3)*exp(-b_2 - w_4*(-1 + 2/(exp(-b_0 - w_0 - w_1) + 1)) - w_5*(-1 + 2/(exp(-b_1 - w_2 - w_3) + 1)))/((exp(-b_1 - w_2 - w_3) + 1)**2*(exp(-b_2 - w_4*(-1 + 2/(exp(-b_0 - w_0 - w_1) + 1)) - w_5*(-1 + 2/(exp(-b_1 - w_2 - w_3) + 1))) + 1)**2)\">Derivative(w_3, cost)</th><th title=\"-4*(-2 + 2/(exp(-b_2 - w_4*(-1 + 2/(exp(-b_0 - w_0) + 1)) - w_5*(-1 + 2/(exp(-b_1 - w_2) + 1))) + 1))*(1 - 2/(exp(-b_0 - w_0) + 1))*exp(-b_2 - w_4*(-1 + 2/(exp(-b_0 - w_0) + 1)) - w_5*(-1 + 2/(exp(-b_1 - w_2) + 1)))/(exp(-b_2 - w_4*(-1 + 2/(exp(-b_0 - w_0) + 1)) - w_5*(-1 + 2/(exp(-b_1 - w_2) + 1))) + 1)**2 - 4*(-2 + 2/(exp(-b_2 - w_4*(-1 + 2/(exp(-b_0 - w_1) + 1)) - w_5*(-1 + 2/(exp(-b_1 - w_3) + 1))) + 1))*(1 - 2/(exp(-b_0 - w_1) + 1))*exp(-b_2 - w_4*(-1 + 2/(exp(-b_0 - w_1) + 1)) - w_5*(-1 + 2/(exp(-b_1 - w_3) + 1)))/(exp(-b_2 - w_4*(-1 + 2/(exp(-b_0 - w_1) + 1)) - w_5*(-1 + 2/(exp(-b_1 - w_3) + 1))) + 1)**2 - 4*(-1 + 2/(exp(-b_2 - w_4*(-1 + 2/(1 + exp(-b_0))) - w_5*(-1 + 2/(1 + exp(-b_1)))) + 1))*(1 - 2/(1 + exp(-b_0)))*exp(-b_2 - w_4*(-1 + 2/(1 + exp(-b_0))) - w_5*(-1 + 2/(1 + exp(-b_1))))/(exp(-b_2 - w_4*(-1 + 2/(1 + exp(-b_0))) - w_5*(-1 + 2/(1 + exp(-b_1)))) + 1)**2 - 4*(-1 + 2/(exp(-b_2 - w_4*(-1 + 2/(exp(-b_0 - w_0 - w_1) + 1)) - w_5*(-1 + 2/(exp(-b_1 - w_2 - w_3) + 1))) + 1))*(1 - 2/(exp(-b_0 - w_0 - w_1) + 1))*exp(-b_2 - w_4*(-1 + 2/(exp(-b_0 - w_0 - w_1) + 1)) - w_5*(-1 + 2/(exp(-b_1 - w_2 - w_3) + 1)))/(exp(-b_2 - w_4*(-1 + 2/(exp(-b_0 - w_0 - w_1) + 1)) - w_5*(-1 + 2/(exp(-b_1 - w_2 - w_3) + 1))) + 1)**2\">Derivative(w_4, cost)</th><th title=\"-4*(-2 + 2/(exp(-b_2 - w_4*(-1 + 2/(exp(-b_0 - w_0) + 1)) - w_5*(-1 + 2/(exp(-b_1 - w_2) + 1))) + 1))*(1 - 2/(exp(-b_1 - w_2) + 1))*exp(-b_2 - w_4*(-1 + 2/(exp(-b_0 - w_0) + 1)) - w_5*(-1 + 2/(exp(-b_1 - w_2) + 1)))/(exp(-b_2 - w_4*(-1 + 2/(exp(-b_0 - w_0) + 1)) - w_5*(-1 + 2/(exp(-b_1 - w_2) + 1))) + 1)**2 - 4*(-2 + 2/(exp(-b_2 - w_4*(-1 + 2/(exp(-b_0 - w_1) + 1)) - w_5*(-1 + 2/(exp(-b_1 - w_3) + 1))) + 1))*(1 - 2/(exp(-b_1 - w_3) + 1))*exp(-b_2 - w_4*(-1 + 2/(exp(-b_0 - w_1) + 1)) - w_5*(-1 + 2/(exp(-b_1 - w_3) + 1)))/(exp(-b_2 - w_4*(-1 + 2/(exp(-b_0 - w_1) + 1)) - w_5*(-1 + 2/(exp(-b_1 - w_3) + 1))) + 1)**2 - 4*(-1 + 2/(exp(-b_2 - w_4*(-1 + 2/(1 + exp(-b_0))) - w_5*(-1 + 2/(1 + exp(-b_1)))) + 1))*(1 - 2/(1 + exp(-b_1)))*exp(-b_2 - w_4*(-1 + 2/(1 + exp(-b_0))) - w_5*(-1 + 2/(1 + exp(-b_1))))/(exp(-b_2 - w_4*(-1 + 2/(1 + exp(-b_0))) - w_5*(-1 + 2/(1 + exp(-b_1)))) + 1)**2 - 4*(-1 + 2/(exp(-b_2 - w_4*(-1 + 2/(exp(-b_0 - w_0 - w_1) + 1)) - w_5*(-1 + 2/(exp(-b_1 - w_2 - w_3) + 1))) + 1))*(1 - 2/(exp(-b_1 - w_2 - w_3) + 1))*exp(-b_2 - w_4*(-1 + 2/(exp(-b_0 - w_0 - w_1) + 1)) - w_5*(-1 + 2/(exp(-b_1 - w_2 - w_3) + 1)))/(exp(-b_2 - w_4*(-1 + 2/(exp(-b_0 - w_0 - w_1) + 1)) - w_5*(-1 + 2/(exp(-b_1 - w_2 - w_3) + 1))) + 1)**2\">Derivative(w_5, cost)</th><th title=\"(-2 + 2/(exp(-b_2 - w_4*(-1 + 2/(exp(-b_0 - w_0) + 1)) - w_5*(-1 + 2/(exp(-b_1 - w_2) + 1))) + 1))**2 + (-2 + 2/(exp(-b_2 - w_4*(-1 + 2/(exp(-b_0 - w_1) + 1)) - w_5*(-1 + 2/(exp(-b_1 - w_3) + 1))) + 1))**2 + (-1 + 2/(exp(-b_2 - w_4*(-1 + 2/(1 + exp(-b_0))) - w_5*(-1 + 2/(1 + exp(-b_1)))) + 1))**2 + (-1 + 2/(exp(-b_2 - w_4*(-1 + 2/(exp(-b_0 - w_0 - w_1) + 1)) - w_5*(-1 + 2/(exp(-b_1 - w_2 - w_3) + 1))) + 1))**2\">cost</th></tr><tr><td>0</td><td>1.4870369231095775</td><td>-1.2297389195929216</td><td>0.7855918359430497</td><td>-0.8962569756918207</td><td>0.0021260141106337073</td><td>0.08132024226016914</td><td>-0.19394524393427467</td><td>-0.40474336242668757</td><td>-1.079185372957108</td><td>-0.01784948113537429</td><td>-0.04104690879888949</td><td>0.11097574075566763</td><td>-0.012526100617309084</td><td>-0.030854813102697935</td><td>-0.011273278384140134</td><td>-0.023754366532560786</td><td>0.0469193699428479</td><td>-0.06324814941048865</td><td>1.0082464943890441</td></tr><tr><td>1</td><td>1.488821871223115</td><td>-1.2256342287130326</td><td>0.7744942618674829</td><td>-0.8950043656300898</td><td>0.005211495420903501</td><td>0.08244757009858315</td><td>-0.1915698072810186</td><td>-0.40943529942097234</td><td>-1.072860558016059</td><td>-0.015241748999851187</td><td>-0.0341339809879489</td><td>0.09226031877664748</td><td>-0.011102730714127824</td><td>-0.03006127926247032</td><td>-0.008353963665106268</td><td>-0.020648324485214975</td><td>0.038163500400576866</td><td>-0.05245097271307275</td><td>1.0061958832739677</td></tr><tr><td>2</td><td>1.4903460461231</td><td>-1.2222208306142377</td><td>0.7652682299898181</td><td>-0.893894092558677</td><td>0.008217623347150534</td><td>0.08328296646509378</td><td>-0.18950497483249712</td><td>-0.41325164946103005</td><td>-1.0676154607447519</td><td>-0.012961360460793374</td><td>-0.028246892583250305</td><td>0.07624025892209868</td><td>-0.009844214706848861</td><td>-0.02934142560058526</td><td>-0.005872818223722154</td><td>-0.01797726169966868</td><td>0.03065535825043393</td><td>-0.04326614039684665</td><td>1.0047609736304024</td></tr><tr><td>3</td><td>1.4916421821691792</td><td>-1.2193961413559127</td><td>0.7576442040976082</td><td>-0.8929096710879921</td><td>0.01115176590720906</td><td>0.083870248287466</td><td>-0.18770724866253025</td><td>-0.4163171852860734</td><td>-1.0632888467050672</td><td>-0.011000847219721312</td><td>-0.02328720673644416</td><td>0.0626860217039737</td><td>-0.008749264065817122</td><td>-0.028702942062508882</td><td>-0.0037895403009155504</td><td>-0.01570383015723928</td><td>0.02429912410989872</td><td>-0.03553386314119247</td><td>1.0037606222890556</td></tr><tr><td>4</td><td>1.4927422668911514</td><td>-1.2170674206822683</td><td>0.7513756019272109</td><td>-0.8920347446814104</td><td>0.01402206011345995</td><td>0.08424920231755756</td><td>-0.18613686564680632</td><td>-0.4187470976970633</td><td>-1.059735460390948</td><td>-0.009338807999835969</td><td>-0.01914586227661784</td><td>0.0513278312246489</td><td>-0.007808566145710752</td><td>-0.028146254948120987</td><td>-0.002058514136066253</td><td>-0.013784314506334008</td><td>0.018976198032744626</td><td>-0.029079994544591425</td><td>1.0030620201430058</td></tr><tr><td>5</td><td>1.493676147691135</td><td>-1.2151528344546065</td><td>0.746242818804746</td><td>-0.8912538880668394</td><td>0.016836685608272048</td><td>0.08445505373116419</td><td>-0.1847584341961729</td><td>-0.4206447175003378</td><td>-1.0568274609364887</td><td>-0.007946040585606301</td><td>-0.015712998573213788</td><td>0.041884761064351794</td><td>-0.007008129043905437</td><td>-0.027667112052557737</td><td>-0.0006332135990203269</td><td>-0.012173331522544073</td><td>0.014559663345870597</td><td>-0.023730738038237387</td><td>1.0025701518766315</td></tr><tr><td>6</td><td>1.4944707517496958</td><td>-1.2135815345972851</td><td>0.7420543426983108</td><td>-0.8905530751624489</td><td>0.019603396813527824</td><td>0.08451837509106622</td><td>-0.1835411010439185</td><td>-0.42210068383492483</td><td>-1.054454387132665</td><td>-0.006790103880960421</td><td>-0.012884319458755303</td><td>0.03408434314835396</td><td>-0.006331808914932915</td><td>-0.02725860261125277</td><td>0.0005308946228586853</td><td>-0.010826966688285547</td><td>0.010924293765944254</td><td>-0.019322073868685175</td><td>1.0022183818948798</td></tr><tr><td>7</td><td>1.4951497621377918</td><td>-1.2122931026514097</td><td>0.7386459083834754</td><td>-0.8899198942709555</td><td>0.0223292570746531</td><td>0.08446528562878035</td><td>-0.18245840437508995</td><td>-0.42319311321151926</td><td>-1.0525221797457964</td><td>-0.005838432717876665</td><td>-0.010564733008052885</td><td>0.0276744297223126</td><td>-0.005763064377087457</td><td>-0.026912613095677683</td><td>0.0014746485822886846</td><td>-0.009704651449362722</td><td>0.007952814325133242</td><td>-0.015705058777957026</td><td>1.001960728038199</td></tr><tr><td>8</td><td>1.4957336054095796</td><td>-1.2112366293506043</td><td>0.7358784654112441</td><td>-0.8893435878332467</td><td>0.02502051838422087</td><td>0.08431782077055149</td><td>-0.1814879392301537</td><td>-0.4239883946440326</td><td>-1.0509516738680007</td><td>-0.005060274900908393</td><td>-0.008670020616108914</td><td>0.022429273190635868</td><td>-0.005286071318034824</td><td>-0.026620800544724127</td><td>0.0022343693512445473</td><td>-0.00877011080253981</td><td>0.005539303571207133</td><td>-0.012748158232817358</td><td>1.0017658740155424</td></tr><tr><td>9</td><td>1.4962396328996703</td><td>-1.2103696272889934</td><td>0.7336355380921805</td><td>-0.8888149807014433</td><td>0.027682598438693282</td><td>0.08409438383542703</td><td>-0.1806109281498997</td><td>-0.4245423250011533</td><td>-1.0496768580447189</td><td>-0.004427750387912391</td><td>-0.007127184901039391</td><td>0.018151610482181613</td><td>-0.0048863544337379855</td><td>-0.026375191595384373</td><td>0.002841637712464651</td><td>-0.00799167433929071</td><td>0.0035905790855664532</td><td>-0.010337602584648747</td><td>1.0016127172803948</td></tr><tr><td>10</td><td>1.4966824079384615</td><td>-1.2096569087988895</td><td>0.7318203770439624</td><td>-0.8883263452580694</td><td>0.03032011759823172</td><td>0.08381022006418057</td><td>-0.17981176071597063</td><td>-0.42490138290970997</td><td>-1.048643097786254</td><td>-0.003916302000237792</td><td>-0.005873981753810403</td><td>0.014672191947782298</td><td>-0.004551079374109188</td><td>-0.026168511543332357</td><td>0.0033234461898718204</td><td>-0.007342183618839093</td><td>0.0020262632191479363</td><td>-0.00837653392779858</td><td>1.001487159355569</td></tr><tr><td>20</td><td>1.4994706279219865</td><td>-1.2066499606913732</td><td>0.7251366943951831</td><td>-0.884655501921353</td><td>0.055946315120500856</td><td>0.07951593483109695</td><td>-0.17414751838089523</td><td>-0.42359695645995366</td><td>-1.0447908453086212</td><td>-0.0021314725661446404</td><td>-0.0012004285825874539</td><td>0.0016280005703770972</td><td>-0.0029844152158670922</td><td>-0.025210079735050794</td><td>0.004753021573081495</td><td>-0.004384199229525182</td><td>-0.0030910093093785423</td><td>-0.0009563367143054502</td><td>1.000672052404599</td></tr><tr><td>30</td><td>1.5015414426500273</td><td>-1.2058002920794095</td><td>0.7245127315138067</td><td>-0.8819723334604277</td><td>0.08099258889629385</td><td>0.07485914610973556</td><td>-0.17028548252327738</td><td>-0.4205660503651052</td><td>-1.044452014310441</td><td>-0.002075892201769902</td><td>-0.0006148389610486915</td><td>-6.334095675125662e-05</td><td>-0.0023599608828905327</td><td>-0.024884987939636935</td><td>0.004466371517928669</td><td>-0.003322397968938351</td><td>-0.0026970590611932743</td><td>0.00011236921132584676</td><td>0.9999866362833931</td></tr><tr><td>40</td><td>1.5036699122239907</td><td>-1.2052514665401048</td><td>0.7247869959367353</td><td>-0.8798475747693392</td><td>0.1057823837812702</td><td>0.07058545677274958</td><td>-0.16733083501177323</td><td>-0.4183071087241965</td><td>-1.044733545768083</td><td>-0.0021988931510928816</td><td>-0.0004893167217695504</td><td>-0.00047308128836537344</td><td>-0.001842126922303941</td><td>-0.024687960295375677</td><td>0.004039255112413431</td><td>-0.0025240567291961724</td><td>-0.0016993254131590085</td><td>0.00045312567974770124</td><td>0.9993309036189475</td></tr><tr><td>50</td><td>1.5059281508870932</td><td>-1.2047971840885514</td><td>0.7253850234434511</td><td>-0.8782338272356326</td><td>0.13040757711905107</td><td>0.06672818618427276</td><td>-0.16513904314973946</td><td>-0.4170761783282086</td><td>-1.045302761648885</td><td>-0.002329598621574655</td><td>-0.0004137536908471462</td><td>-0.0007447687622804122</td><td>-0.0013348108732915975</td><td>-0.024560001361447793</td><td>0.0036428076789874753</td><td>-0.0017943237002766843</td><td>-0.0006603761650478823</td><td>0.000706083886112957</td><td>0.9986949219737463</td></tr><tr><td>60</td><td>1.5083137330965453</td><td>-1.2044149996949443</td><td>0.7262464085240219</td><td>-0.8771276966424973</td><td>0.15493250397341993</td><td>0.06324778913731711</td><td>-0.16365795455801843</td><td>-0.41687652193478963</td><td>-1.0461165724951287</td><td>-0.002452564817869582</td><td>-0.0003439996374780818</td><td>-0.0010036075018634572</td><td>-0.0008260165954860066</td><td>-0.02449294674283191</td><td>0.0032895501309072595</td><td>-0.0011045422916637349</td><td>0.0003589749829050193</td><td>0.0009441525294582309</td><td>0.9980706678809796</td></tr><tr><td>70</td><td>1.5108190496213048</td><td>-1.2041017007919266</td><td>0.7273664704316224</td><td>-0.8765322262614507</td><td>0.17941681408178844</td><td>0.06010257885475058</td><td>-0.1628522792935201</td><td>-0.41768518411407807</td><td>-1.0471659027440379</td><td>-0.002568767822919024</td><td>-0.0002761231058871494</td><td>-0.0012625864098094186</td><td>-0.0003126315816710107</td><td>-0.024484290796822406</td><td>0.0029755188630827822</td><td>-0.0004453672003567888</td><td>0.0013538693031215354</td><td>0.0011772960192261983</td><td>0.9974507679705957</td></tr><tr><td>80</td><td>1.513438401405446</td><td>-1.2038553278716613</td><td>0.7287459639222813</td><td>-0.8764530812102898</td><td>0.20391809640422387</td><td>0.057255586414074924</td><td>-0.1626944435175331</td><td>-0.419478170206789</td><td>-1.0484472505142044</td><td>-0.0026805867935505157</td><td>-0.00021049302867065522</td><td>-0.0015225228096787946</td><td>0.00020772733073530503</td><td>-0.024532292765324572</td><td>0.0026957647554714803</td><td>0.00018970932760734027</td><td>0.002325616394679292</td><td>0.0014083093591694684</td><td>0.9968283396220605</td></tr><tr><td>90</td><td>1.5161684335801655</td><td>-1.203673288792276</td><td>0.7303856688833172</td><td>-0.8768983324751505</td><td>0.22849231552954968</td><td>0.054674561798352804</td><td>-0.16316292318253675</td><td>-0.4222332033962958</td><td>-1.0499593280673913</td><td>-0.0027902639679569102</td><td>-0.000147890691978958</td><td>-0.0017829719709887004</td><td>0.0007375198793438537</td><td>-0.02463544546862221</td><td>0.00244590171466319</td><td>0.0008062817771661845</td><td>0.003276174408115201</td><td>0.0016389909340882858</td><td>0.9961968648247843</td></tr><tr><td>100</td><td>1.5190079249390405</td><td>-1.2035521952632</td><td>0.7322858557906996</td><td>-0.8778785594997925</td><td>0.25319400753739946</td><td>0.05233135833072408</td><td>-0.16424150239043617</td><td>-0.4259299899613934</td><td>-1.0517025085881149</td><td>-0.0028998050819315363</td><td>-8.911631033792222e-05</td><td>-0.002043397192914076</td><td>0.0012793066984556623</td><td>-0.02479241297767984</td><td>0.002222158301981969</td><td>0.0014093353924310714</td><td>0.004207525595866485</td><td>0.0018708758760722366</td><td>0.9955500807830737</td></tr><tr><td>200</td><td>1.5543889840331386</td><td>-1.2043346934879866</td><td>0.765323557314465</td><td>-0.9212621550886306</td><td>0.5185114775935686</td><td>0.03781021826852841</td><td>-0.20792024367575596</td><td>-0.5115260771409752</td><td>-1.0829080350111295</td><td>-0.0043526236465501605</td><td>8.853810389500283e-05</td><td>-0.004542026327945425</td><td>0.007909927161259225</td><td>-0.029136029602775698</td><td>0.0008719745521085509</td><td>0.007515033152114187</td><td>0.012844640314509798</td><td>0.004552254952626178</td><td>0.9868739303725043</td></tr><tr><td>300</td><td>1.612156768074422</td><td>-1.1995536327897451</td><td>0.8212186479091478</td><td>-1.0468687387679814</td><td>0.8513957126037421</td><td>0.033091464801238236</td><td>-0.32011700621674677</td><td>-0.6807577905089659</td><td>-1.1484080960846352</td><td>-0.0077307562245622075</td><td>-0.0015493571596815747</td><td>-0.006540152181865211</td><td>0.017944582855400723</td><td>-0.0383301765487018</td><td>4.072479939404294e-05</td><td>0.015434208618222034</td><td>0.021081670010777348</td><td>0.009089189618340543</td><td>0.9686809709476043</td></tr><tr><td>400</td><td>1.7205476832599937</td><td>-1.157697316383512</td><td>0.8937916464514482</td><td>-1.2896375807463614</td><td>1.2977200415211942</td><td>0.040056441900128206</td><td>-0.5234768467152391</td><td>-0.9328794439892671</td><td>-1.27946539006215</td><td>-0.014514232293430102</td><td>-0.008065254612703077</td><td>-0.007964379272890731</td><td>0.03107542695658662</td><td>-0.05149234483760265</td><td>-0.0018174682131941178</td><td>0.02551348263212272</td><td>0.029492933276390215</td><td>0.01828567122977126</td><td>0.928113685983262</td></tr><tr><td>500</td><td>1.8981884991194538</td><td>-1.0108369520173996</td><td>0.9868971517816785</td><td>-1.667679662049107</td><td>1.8790657036951173</td><td>0.08717060710072415</td><td>-0.8197494688461708</td><td>-1.2718520334942098</td><td>-1.5374812079233</td><td>-0.019777735660160944</td><td>-0.022702866611337497</td><td>-0.011753277706662735</td><td>0.04439406562270676</td><td>-0.06440867415449364</td><td>-0.009716189246582546</td><td>0.0320630329590911</td><td>0.03847602307124115</td><td>0.03459972694037483</td><td>0.8456794985779021</td></tr><tr><td>600</td><td>2.0603433265218447</td><td>-0.7014493899873808</td><td>1.187180150483762</td><td>-2.1788037940690286</td><td>2.57309674742197</td><td>0.34048310308330604</td><td>-1.065288271838264</td><td>-1.7022295940984506</td><td>-1.9843070733233101</td><td>-0.008003287301454956</td><td>-0.03935416381579884</td><td>-0.03558669677859133</td><td>0.060483839654507224</td><td>-0.07398790873990732</td><td>-0.053158980873738215</td><td>0.006563740652691719</td><td>0.04792659049788767</td><td>0.056938181963872986</td><td>0.7004846407983988</td></tr><tr><td>700</td><td>2.0535514839049602</td><td>-0.21625709763873627</td><td>1.8766338071266997</td><td>-2.960909287073347</td><td>3.264535498923211</td><td>1.0844314831215884</td><td>-1.1272370403770824</td><td>-2.2485491234505472</td><td>-2.7236521921495442</td><td>-0.0034665110282040487</td><td>-0.05446278497047938</td><td>-0.08737611809545778</td><td>0.08193484557455516</td><td>-0.05573499668692219</td><td>-0.05772021678527586</td><td>0.04146442234168321</td><td>0.062365363697260257</td><td>0.07298274562343178</td><td>0.3704083151370203</td></tr><tr><td>800</td><td>2.099118274000131</td><td>0.21549382569404318</td><td>2.6809020259479026</td><td>-3.558541302239583</td><td>3.6868986003484867</td><td>1.5434351136360056</td><td>-1.5612058718780453</td><td>-2.7702709299663972</td><td>-3.247039626224848</td><td>-0.003496113487742418</td><td>-0.029548825017980104</td><td>-0.06671678054060518</td><td>0.0388817241247736</td><td>-0.02919682390129525</td><td>-0.036277331299455526</td><td>0.03575941098487108</td><td>0.03802781948014508</td><td>0.033618534975669884</td><td>0.1336431555671318</td></tr><tr><td>900</td><td>2.1250969895843035</td><td>0.42602372422714235</td><td>3.2018556196139176</td><td>-3.829768262458537</td><td>3.8958039641103603</td><td>1.8246683484979016</td><td>-1.8367090622082742</td><td>-3.047407858209875</td><td>-3.4821394311538194</td><td>-0.0019347866132139804</td><td>-0.01477337025873484</td><td>-0.039796953574657304</td><td>0.01858609501370737</td><td>-0.01467839950980147</td><td>-0.02133129439194522</td><td>0.02078102721481609</td><td>0.019833577675081728</td><td>0.016274846689716026</td><td>0.059584834818343146</td></tr><tr><td>1000</td><td>2.1408887515525343</td><td>0.5408254421423823</td><td>3.523838110257571</td><td>-3.972077956741444</td><td>4.009662846260727</td><td>1.9964256478248124</td><td>-2.0036296618813285</td><td>-3.2028275305387024</td><td>-3.608448304360811</td><td>-0.0012984957829549303</td><td>-0.008934091146165318</td><td>-0.026032213263862975</td><td>0.010898421348740427</td><td>-0.00883690031837316</td><td>-0.013813939704731932</td><td>0.013397079612196865</td><td>0.012192201164851575</td><td>0.009841835515114994</td><td>0.034427498069218285</td></tr><tr><td>2000</td><td>2.1980941229139184</td><td>0.863953227570473</td><td>4.548610260796878</td><td>-4.3476528184473775</td><td>4.325747663214535</td><td>2.528514452926849</td><td>-2.5187849011062284</td><td>-3.654707928593731</td><td>-3.976806458432455</td><td>-0.00030016361188029664</td><td>-0.0014016899563730999</td><td>-0.004774475220287223</td><td>0.0015556954526639002</td><td>-0.0013601188872246605</td><td>-0.00241418514104813</td><td>0.0023396243074289952</td><td>0.002024419572839575</td><td>0.00169056771373723</td><td>0.005043034900955135</td></tr><tr><td>3000</td><td>2.2203947844498595</td><td>0.9623471171095497</td><td>4.890561455997979</td><td>-4.455735789290462</td><td>4.421304120487987</td><td>2.6995612270314635</td><td>-2.6847245544882843</td><td>-3.798966421789316</td><td>-4.098535806457787</td><td>-0.00017018433881244954</td><td>-0.0007111758801759676</td><td>-0.0025216265794052537</td><td>0.0007740990136771208</td><td>-0.0006920115663645078</td><td>-0.0012470927848060216</td><td>0.0012112665225432462</td><td>0.0010599606383763747</td><td>0.0009037279668742655</td><td>0.002554709595757405</td></tr><tr><td>4000</td><td>2.2345483674263646</td><td>1.0197083345106968</td><td>5.096382751900954</td><td>-4.517916519429408</td><td>4.477241671151874</td><td>2.8006170024810784</td><td>-2.782952315071404</td><td>-3.885402165887757</td><td>-4.172674675624668</td><td>-0.00011896481188433683</td><td>-0.0004679475326134835</td><td>-0.0016993016911305216</td><td>0.000505412520820685</td><td>-0.0004575133044049405</td><td>-0.0008281544840375913</td><td>0.0008056141997873235</td><td>0.0007132475487621919</td><td>0.0006153805525816267</td><td>0.001686598888763555</td></tr><tr><td>5000</td><td>2.2449542822087656</td><td>1.0598129857441028</td><td>5.243265244679907</td><td>-4.561145433597152</td><td>4.516541220265317</td><td>2.8718096971707867</td><td>-2.8522473854115664</td><td>-3.9470567246068313</td><td>-4.2260832909791155</td><td>-9.153422386364723e-05</td><td>-0.00034576540218894127</td><td>-0.0012772725737097692</td><td>0.0003720386059886836</td><td>-0.00033966029310441713</td><td>-0.0006156480459427391</td><td>0.0005995903198701131</td><td>0.0005362605493316533</td><td>0.0004663700668482694</td><td>0.001251354780632436</td></tr></table>"
      ],
      "text/plain": [
       "<__main__.Table at 0x7fe4eef27f98>"
      ]
     },
     "metadata": {},
     "output_type": "display_data"
    },
    {
     "data": {
      "text/html": [
       "<h2>Optimized Function:</h2>"
      ],
      "text/plain": [
       "<IPython.core.display.HTML object>"
      ]
     },
     "metadata": {},
     "output_type": "display_data"
    },
    {
     "data": {
      "image/png": "[encoded data removed]",
      "text/latex": [
       "$$-1 + \\frac{2}{1.49015077688711 \\cdot 10^{-6} e^{\\frac{7.89422070132353}{0.105931413618014 e^{4.56118263745775 x_{0} - 4.51657518629463 x_{1}} + 1} + \\frac{8.4522598559716}{0.346508627287914 e^{- 2.87187126197538 x_{0} + 2.85230734444355 x_{1}} + 1}} + 1}$$"
      ],
      "text/plain": [
       "                                                                              \n",
       "-1 + ─────────────────────────────────────────────────────────────────────────\n",
       "                                                  7.89422070132353            \n",
       "                          ────────────────────────────────────────────────────\n",
       "                                             4.56118263745775⋅x₀ - 4.516575186\n",
       "                          0.105931413618014⋅ℯ                                 \n",
       "     1.49015077688711e-6⋅ℯ                                                    \n",
       "\n",
       "     2                                                                        \n",
       "──────────────────────────────────────────────────────────────────────────────\n",
       "                                        8.4522598559716                       \n",
       "──────────── + ───────────────────────────────────────────────────────────────\n",
       "29463⋅x₁                          -2.87187126197538⋅x₀ + 2.85230734444355⋅x₁  \n",
       "         + 1   0.346508627287914⋅ℯ                                           +\n",
       "                                                                              \n",
       "\n",
       "      \n",
       "──────\n",
       "      \n",
       "──    \n",
       "      \n",
       " 1    \n",
       "   + 1"
      ]
     },
     "metadata": {},
     "output_type": "display_data"
    },
    {
     "data": {
      "text/html": [
       "<h2>Dataset evaluation:</h2>"
      ],
      "text/plain": [
       "<IPython.core.display.HTML object>"
      ]
     },
     "metadata": {},
     "output_type": "display_data"
    },
    {
     "data": {
      "text/html": [
       "<table><tr><th title=\"\">x_0</th><th title=\"\">x_1</th><th title=\"\">Y</th><th title=\"\">Ŷ</th></tr><tr><td>0</td><td>0</td><td>0</td><td>0.0006958052745520416</td></tr><tr><td>0</td><td>1</td><td>1</td><td>0.9738733722496302</td></tr><tr><td>1</td><td>0</td><td>1</td><td>0.9761735895676009</td></tr><tr><td>1</td><td>1</td><td>0</td><td>0.0004964780094314225</td></tr></table>"
      ],
      "text/plain": [
       "<__main__.Table at 0x7fe4ef190f98>"
      ]
     },
     "metadata": {},
     "output_type": "display_data"
    },
    {
     "data": {
      "image/png": "[encoded data removed]",
      "text/latex": [
       "$$-1 + \\frac{2}{1.49015077688711 \\cdot 10^{-6} e^{\\frac{7.89422070132353}{0.105931413618014 e^{4.56118263745775 x_{0} - 4.51657518629463 x_{1}} + 1} + \\frac{8.4522598559716}{0.346508627287914 e^{- 2.87187126197538 x_{0} + 2.85230734444355 x_{1}} + 1}} + 1}$$"
      ],
      "text/plain": [
       "                                                                              \n",
       "-1 + ─────────────────────────────────────────────────────────────────────────\n",
       "                                                  7.89422070132353            \n",
       "                          ────────────────────────────────────────────────────\n",
       "                                             4.56118263745775⋅x₀ - 4.516575186\n",
       "                          0.105931413618014⋅ℯ                                 \n",
       "     1.49015077688711e-6⋅ℯ                                                    \n",
       "\n",
       "     2                                                                        \n",
       "──────────────────────────────────────────────────────────────────────────────\n",
       "                                        8.4522598559716                       \n",
       "──────────── + ───────────────────────────────────────────────────────────────\n",
       "29463⋅x₁                          -2.87187126197538⋅x₀ + 2.85230734444355⋅x₁  \n",
       "         + 1   0.346508627287914⋅ℯ                                           +\n",
       "                                                                              \n",
       "\n",
       "      \n",
       "──────\n",
       "      \n",
       "──    \n",
       "      \n",
       " 1    \n",
       "   + 1"
      ]
     },
     "execution_count": 8,
     "metadata": {},
     "output_type": "execute_result"
    }
   ],
   "source": [
    "def neural_xor():\n",
    "    data = [\n",
    "        {'X': [0, 0], 'Y': 0},\n",
    "        {'X': [0, 1], 'Y': 1},\n",
    "        {'X': [1, 0], 'Y': 1},\n",
    "        {'X': [1, 1], 'Y': 0},\n",
    "    ]\n",
    "    x = SymbolVector.x\n",
    "\n",
    "    neural_network = NeuralNetwork(inputs=x[0:2], dims=[2], activation_function=NeuralNetwork.logistic)\n",
    "    return optimize(\"XOR (2 layer net + logistic activation function)\", neural_network.expr, data, simplify=False)\n",
    "\n",
    "neural_xor()    "
   ]
  },
  {
   "cell_type": "code",
   "execution_count": 9,
   "metadata": {},
   "outputs": [
    {
     "data": {
      "text/html": [
       "<h1>Optimizing Function NAND (2 layer net + logistic activation function)</h1>"
      ],
      "text/plain": [
       "<IPython.core.display.HTML object>"
      ]
     },
     "metadata": {},
     "output_type": "display_data"
    },
    {
     "data": {
      "text/html": [
       "<h2>Function:</h2>"
      ],
      "text/plain": [
       "<IPython.core.display.HTML object>"
      ]
     },
     "metadata": {},
     "output_type": "display_data"
    },
    {
     "data": {
      "image/png": "[encoded data removed]",
      "text/latex": [
       "$$-1 + \\frac{2}{e^{- b_{5} - w_{10} \\left(-1 + \\frac{2}{e^{- b_{3} - w_{6} x_{0} - w_{7} x_{1}} + 1}\\right) - w_{11} \\left(-1 + \\frac{2}{e^{- b_{4} - w_{8} x_{0} - w_{9} x_{1}} + 1}\\right)} + 1}$$"
      ],
      "text/plain": [
       "                                              2                               \n",
       "-1 + ─────────────────────────────────────────────────────────────────────────\n",
       "                ⎛                2            ⎞       ⎛                2      \n",
       "      -b₅ - w₁₀⋅⎜-1 + ────────────────────────⎟ - w₁₁⋅⎜-1 + ──────────────────\n",
       "                ⎜      -b₃ - w₆⋅x₀ - w₇⋅x₁    ⎟       ⎜      -b₄ - w₈⋅x₀ - w₉⋅\n",
       "                ⎝     ℯ                    + 1⎠       ⎝     ℯ                 \n",
       "     ℯ                                                                        \n",
       "\n",
       "           \n",
       "───────────\n",
       "      ⎞    \n",
       "──────⎟    \n",
       "x₁    ⎟    \n",
       "   + 1⎠    \n",
       "        + 1"
      ]
     },
     "metadata": {},
     "output_type": "display_data"
    },
    {
     "data": {
      "text/html": [
       "<h2>Cost:</h2>"
      ],
      "text/plain": [
       "<IPython.core.display.HTML object>"
      ]
     },
     "metadata": {},
     "output_type": "display_data"
    },
    {
     "data": {
      "image/png": "[encoded data removed]",
      "text/latex": [
       "$$\\left(-2 + \\frac{2}{e^{- b_{5} - w_{10} \\left(-1 + \\frac{2}{1 + e^{- b_{3}}}\\right) - w_{11} \\left(-1 + \\frac{2}{1 + e^{- b_{4}}}\\right)} + 1}\\right)^{2} + \\left(-2 + \\frac{2}{e^{- b_{5} - w_{10} \\left(-1 + \\frac{2}{e^{- b_{3} - w_{6}} + 1}\\right) - w_{11} \\left(-1 + \\frac{2}{e^{- b_{4} - w_{8}} + 1}\\right)} + 1}\\right)^{2} + \\left(-2 + \\frac{2}{e^{- b_{5} - w_{10} \\left(-1 + \\frac{2}{e^{- b_{3} - w_{7}} + 1}\\right) - w_{11} \\left(-1 + \\frac{2}{e^{- b_{4} - w_{9}} + 1}\\right)} + 1}\\right)^{2} + \\left(-1 + \\frac{2}{e^{- b_{5} - w_{10} \\left(-1 + \\frac{2}{e^{- b_{3} - w_{6} - w_{7}} + 1}\\right) - w_{11} \\left(-1 + \\frac{2}{e^{- b_{4} - w_{8} - w_{9}} + 1}\\right)} + 1}\\right)^{2}$$"
      ],
      "text/plain": [
       "                                                           2                  \n",
       "⎛                              2                          ⎞    ⎛              \n",
       "⎜-2 + ────────────────────────────────────────────────────⎟  + ⎜-2 + ─────────\n",
       "⎜                ⎛        2    ⎞       ⎛        2    ⎞    ⎟    ⎜              \n",
       "⎜      -b₅ - w₁₀⋅⎜-1 + ────────⎟ - w₁₁⋅⎜-1 + ────────⎟    ⎟    ⎜      -b₅ - w₁\n",
       "⎜                ⎜          -b₃⎟       ⎜          -b₄⎟    ⎟    ⎜              \n",
       "⎜                ⎝     1 + ℯ   ⎠       ⎝     1 + ℯ   ⎠    ⎟    ⎜              \n",
       "⎝     ℯ                                                + 1⎠    ⎝     ℯ        \n",
       "\n",
       "                                                      2                       \n",
       "                     2                               ⎞    ⎛                   \n",
       "─────────────────────────────────────────────────────⎟  + ⎜-2 + ──────────────\n",
       "  ⎛           2      ⎞       ⎛           2      ⎞    ⎟    ⎜                ⎛  \n",
       "₀⋅⎜-1 + ─────────────⎟ - w₁₁⋅⎜-1 + ─────────────⎟    ⎟    ⎜      -b₅ - w₁₀⋅⎜-1\n",
       "  ⎜      -b₃ - w₆    ⎟       ⎜      -b₄ - w₈    ⎟    ⎟    ⎜                ⎜  \n",
       "  ⎝     ℯ         + 1⎠       ⎝     ℯ         + 1⎠    ⎟    ⎜                ⎝  \n",
       "                                                  + 1⎠    ⎝     ℯ             \n",
       "\n",
       "                                                 2                            \n",
       "                2                               ⎞    ⎛                        \n",
       "────────────────────────────────────────────────⎟  + ⎜-1 + ───────────────────\n",
       "         2      ⎞       ⎛           2      ⎞    ⎟    ⎜                ⎛       \n",
       " + ─────────────⎟ - w₁₁⋅⎜-1 + ─────────────⎟    ⎟    ⎜      -b₅ - w₁₀⋅⎜-1 + ──\n",
       "    -b₃ - w₇    ⎟       ⎜      -b₄ - w₉    ⎟    ⎟    ⎜                ⎜      -\n",
       "   ℯ         + 1⎠       ⎝     ℯ         + 1⎠    ⎟    ⎜                ⎝     ℯ \n",
       "                                             + 1⎠    ⎝     ℯ                  \n",
       "\n",
       "                                                      2\n",
       "                2                                    ⎞ \n",
       "─────────────────────────────────────────────────────⎟ \n",
       "      2         ⎞       ⎛             2         ⎞    ⎟ \n",
       "────────────────⎟ - w₁₁⋅⎜-1 + ──────────────────⎟    ⎟ \n",
       "b₃ - w₆ - w₇    ⎟       ⎜      -b₄ - w₈ - w₉    ⎟    ⎟ \n",
       "             + 1⎠       ⎝     ℯ              + 1⎠    ⎟ \n",
       "                                                  + 1⎠ "
      ]
     },
     "metadata": {},
     "output_type": "display_data"
    },
    {
     "data": {
      "text/html": [
       "<h2>Gradient Descent:</h2>"
      ],
      "text/plain": [
       "<IPython.core.display.HTML object>"
      ]
     },
     "metadata": {},
     "output_type": "display_data"
    },
    {
     "data": {
      "text/html": [
       "<table><tr><th title=\"\">loop</th><th title=\"\">b_3</th><th title=\"\">b_4</th><th title=\"\">b_5</th><th title=\"\">w_10</th><th title=\"\">w_11</th><th title=\"\">w_6</th><th title=\"\">w_7</th><th title=\"\">w_8</th><th title=\"\">w_9</th><th title=\"8*w_10*(-2 + 2/(exp(-b_5 - w_10*(-1 + 2/(1 + exp(-b_3))) - w_11*(-1 + 2/(1 + exp(-b_4)))) + 1))*exp(-b_3)*exp(-b_5 - w_10*(-1 + 2/(1 + exp(-b_3))) - w_11*(-1 + 2/(1 + exp(-b_4))))/((1 + exp(-b_3))**2*(exp(-b_5 - w_10*(-1 + 2/(1 + exp(-b_3))) - w_11*(-1 + 2/(1 + exp(-b_4)))) + 1)**2) + 8*w_10*(-2 + 2/(exp(-b_5 - w_10*(-1 + 2/(exp(-b_3 - w_6) + 1)) - w_11*(-1 + 2/(exp(-b_4 - w_8) + 1))) + 1))*exp(-b_3 - w_6)*exp(-b_5 - w_10*(-1 + 2/(exp(-b_3 - w_6) + 1)) - w_11*(-1 + 2/(exp(-b_4 - w_8) + 1)))/((exp(-b_3 - w_6) + 1)**2*(exp(-b_5 - w_10*(-1 + 2/(exp(-b_3 - w_6) + 1)) - w_11*(-1 + 2/(exp(-b_4 - w_8) + 1))) + 1)**2) + 8*w_10*(-2 + 2/(exp(-b_5 - w_10*(-1 + 2/(exp(-b_3 - w_7) + 1)) - w_11*(-1 + 2/(exp(-b_4 - w_9) + 1))) + 1))*exp(-b_3 - w_7)*exp(-b_5 - w_10*(-1 + 2/(exp(-b_3 - w_7) + 1)) - w_11*(-1 + 2/(exp(-b_4 - w_9) + 1)))/((exp(-b_3 - w_7) + 1)**2*(exp(-b_5 - w_10*(-1 + 2/(exp(-b_3 - w_7) + 1)) - w_11*(-1 + 2/(exp(-b_4 - w_9) + 1))) + 1)**2) + 8*w_10*(-1 + 2/(exp(-b_5 - w_10*(-1 + 2/(exp(-b_3 - w_6 - w_7) + 1)) - w_11*(-1 + 2/(exp(-b_4 - w_8 - w_9) + 1))) + 1))*exp(-b_3 - w_6 - w_7)*exp(-b_5 - w_10*(-1 + 2/(exp(-b_3 - w_6 - w_7) + 1)) - w_11*(-1 + 2/(exp(-b_4 - w_8 - w_9) + 1)))/((exp(-b_3 - w_6 - w_7) + 1)**2*(exp(-b_5 - w_10*(-1 + 2/(exp(-b_3 - w_6 - w_7) + 1)) - w_11*(-1 + 2/(exp(-b_4 - w_8 - w_9) + 1))) + 1)**2)\">Derivative(b_3, cost)</th><th title=\"8*w_11*(-2 + 2/(exp(-b_5 - w_10*(-1 + 2/(1 + exp(-b_3))) - w_11*(-1 + 2/(1 + exp(-b_4)))) + 1))*exp(-b_4)*exp(-b_5 - w_10*(-1 + 2/(1 + exp(-b_3))) - w_11*(-1 + 2/(1 + exp(-b_4))))/((1 + exp(-b_4))**2*(exp(-b_5 - w_10*(-1 + 2/(1 + exp(-b_3))) - w_11*(-1 + 2/(1 + exp(-b_4)))) + 1)**2) + 8*w_11*(-2 + 2/(exp(-b_5 - w_10*(-1 + 2/(exp(-b_3 - w_6) + 1)) - w_11*(-1 + 2/(exp(-b_4 - w_8) + 1))) + 1))*exp(-b_4 - w_8)*exp(-b_5 - w_10*(-1 + 2/(exp(-b_3 - w_6) + 1)) - w_11*(-1 + 2/(exp(-b_4 - w_8) + 1)))/((exp(-b_4 - w_8) + 1)**2*(exp(-b_5 - w_10*(-1 + 2/(exp(-b_3 - w_6) + 1)) - w_11*(-1 + 2/(exp(-b_4 - w_8) + 1))) + 1)**2) + 8*w_11*(-2 + 2/(exp(-b_5 - w_10*(-1 + 2/(exp(-b_3 - w_7) + 1)) - w_11*(-1 + 2/(exp(-b_4 - w_9) + 1))) + 1))*exp(-b_4 - w_9)*exp(-b_5 - w_10*(-1 + 2/(exp(-b_3 - w_7) + 1)) - w_11*(-1 + 2/(exp(-b_4 - w_9) + 1)))/((exp(-b_4 - w_9) + 1)**2*(exp(-b_5 - w_10*(-1 + 2/(exp(-b_3 - w_7) + 1)) - w_11*(-1 + 2/(exp(-b_4 - w_9) + 1))) + 1)**2) + 8*w_11*(-1 + 2/(exp(-b_5 - w_10*(-1 + 2/(exp(-b_3 - w_6 - w_7) + 1)) - w_11*(-1 + 2/(exp(-b_4 - w_8 - w_9) + 1))) + 1))*exp(-b_4 - w_8 - w_9)*exp(-b_5 - w_10*(-1 + 2/(exp(-b_3 - w_6 - w_7) + 1)) - w_11*(-1 + 2/(exp(-b_4 - w_8 - w_9) + 1)))/((exp(-b_4 - w_8 - w_9) + 1)**2*(exp(-b_5 - w_10*(-1 + 2/(exp(-b_3 - w_6 - w_7) + 1)) - w_11*(-1 + 2/(exp(-b_4 - w_8 - w_9) + 1))) + 1)**2)\">Derivative(b_4, cost)</th><th title=\"4*(-2 + 2/(exp(-b_5 - w_10*(-1 + 2/(1 + exp(-b_3))) - w_11*(-1 + 2/(1 + exp(-b_4)))) + 1))*exp(-b_5 - w_10*(-1 + 2/(1 + exp(-b_3))) - w_11*(-1 + 2/(1 + exp(-b_4))))/(exp(-b_5 - w_10*(-1 + 2/(1 + exp(-b_3))) - w_11*(-1 + 2/(1 + exp(-b_4)))) + 1)**2 + 4*(-2 + 2/(exp(-b_5 - w_10*(-1 + 2/(exp(-b_3 - w_6) + 1)) - w_11*(-1 + 2/(exp(-b_4 - w_8) + 1))) + 1))*exp(-b_5 - w_10*(-1 + 2/(exp(-b_3 - w_6) + 1)) - w_11*(-1 + 2/(exp(-b_4 - w_8) + 1)))/(exp(-b_5 - w_10*(-1 + 2/(exp(-b_3 - w_6) + 1)) - w_11*(-1 + 2/(exp(-b_4 - w_8) + 1))) + 1)**2 + 4*(-2 + 2/(exp(-b_5 - w_10*(-1 + 2/(exp(-b_3 - w_7) + 1)) - w_11*(-1 + 2/(exp(-b_4 - w_9) + 1))) + 1))*exp(-b_5 - w_10*(-1 + 2/(exp(-b_3 - w_7) + 1)) - w_11*(-1 + 2/(exp(-b_4 - w_9) + 1)))/(exp(-b_5 - w_10*(-1 + 2/(exp(-b_3 - w_7) + 1)) - w_11*(-1 + 2/(exp(-b_4 - w_9) + 1))) + 1)**2 + 4*(-1 + 2/(exp(-b_5 - w_10*(-1 + 2/(exp(-b_3 - w_6 - w_7) + 1)) - w_11*(-1 + 2/(exp(-b_4 - w_8 - w_9) + 1))) + 1))*exp(-b_5 - w_10*(-1 + 2/(exp(-b_3 - w_6 - w_7) + 1)) - w_11*(-1 + 2/(exp(-b_4 - w_8 - w_9) + 1)))/(exp(-b_5 - w_10*(-1 + 2/(exp(-b_3 - w_6 - w_7) + 1)) - w_11*(-1 + 2/(exp(-b_4 - w_8 - w_9) + 1))) + 1)**2\">Derivative(b_5, cost)</th><th title=\"-4*(-2 + 2/(exp(-b_5 - w_10*(-1 + 2/(1 + exp(-b_3))) - w_11*(-1 + 2/(1 + exp(-b_4)))) + 1))*(1 - 2/(1 + exp(-b_3)))*exp(-b_5 - w_10*(-1 + 2/(1 + exp(-b_3))) - w_11*(-1 + 2/(1 + exp(-b_4))))/(exp(-b_5 - w_10*(-1 + 2/(1 + exp(-b_3))) - w_11*(-1 + 2/(1 + exp(-b_4)))) + 1)**2 - 4*(-2 + 2/(exp(-b_5 - w_10*(-1 + 2/(exp(-b_3 - w_6) + 1)) - w_11*(-1 + 2/(exp(-b_4 - w_8) + 1))) + 1))*(1 - 2/(exp(-b_3 - w_6) + 1))*exp(-b_5 - w_10*(-1 + 2/(exp(-b_3 - w_6) + 1)) - w_11*(-1 + 2/(exp(-b_4 - w_8) + 1)))/(exp(-b_5 - w_10*(-1 + 2/(exp(-b_3 - w_6) + 1)) - w_11*(-1 + 2/(exp(-b_4 - w_8) + 1))) + 1)**2 - 4*(-2 + 2/(exp(-b_5 - w_10*(-1 + 2/(exp(-b_3 - w_7) + 1)) - w_11*(-1 + 2/(exp(-b_4 - w_9) + 1))) + 1))*(1 - 2/(exp(-b_3 - w_7) + 1))*exp(-b_5 - w_10*(-1 + 2/(exp(-b_3 - w_7) + 1)) - w_11*(-1 + 2/(exp(-b_4 - w_9) + 1)))/(exp(-b_5 - w_10*(-1 + 2/(exp(-b_3 - w_7) + 1)) - w_11*(-1 + 2/(exp(-b_4 - w_9) + 1))) + 1)**2 - 4*(-1 + 2/(exp(-b_5 - w_10*(-1 + 2/(exp(-b_3 - w_6 - w_7) + 1)) - w_11*(-1 + 2/(exp(-b_4 - w_8 - w_9) + 1))) + 1))*(1 - 2/(exp(-b_3 - w_6 - w_7) + 1))*exp(-b_5 - w_10*(-1 + 2/(exp(-b_3 - w_6 - w_7) + 1)) - w_11*(-1 + 2/(exp(-b_4 - w_8 - w_9) + 1)))/(exp(-b_5 - w_10*(-1 + 2/(exp(-b_3 - w_6 - w_7) + 1)) - w_11*(-1 + 2/(exp(-b_4 - w_8 - w_9) + 1))) + 1)**2\">Derivative(w_10, cost)</th><th title=\"-4*(-2 + 2/(exp(-b_5 - w_10*(-1 + 2/(1 + exp(-b_3))) - w_11*(-1 + 2/(1 + exp(-b_4)))) + 1))*(1 - 2/(1 + exp(-b_4)))*exp(-b_5 - w_10*(-1 + 2/(1 + exp(-b_3))) - w_11*(-1 + 2/(1 + exp(-b_4))))/(exp(-b_5 - w_10*(-1 + 2/(1 + exp(-b_3))) - w_11*(-1 + 2/(1 + exp(-b_4)))) + 1)**2 - 4*(-2 + 2/(exp(-b_5 - w_10*(-1 + 2/(exp(-b_3 - w_6) + 1)) - w_11*(-1 + 2/(exp(-b_4 - w_8) + 1))) + 1))*(1 - 2/(exp(-b_4 - w_8) + 1))*exp(-b_5 - w_10*(-1 + 2/(exp(-b_3 - w_6) + 1)) - w_11*(-1 + 2/(exp(-b_4 - w_8) + 1)))/(exp(-b_5 - w_10*(-1 + 2/(exp(-b_3 - w_6) + 1)) - w_11*(-1 + 2/(exp(-b_4 - w_8) + 1))) + 1)**2 - 4*(-2 + 2/(exp(-b_5 - w_10*(-1 + 2/(exp(-b_3 - w_7) + 1)) - w_11*(-1 + 2/(exp(-b_4 - w_9) + 1))) + 1))*(1 - 2/(exp(-b_4 - w_9) + 1))*exp(-b_5 - w_10*(-1 + 2/(exp(-b_3 - w_7) + 1)) - w_11*(-1 + 2/(exp(-b_4 - w_9) + 1)))/(exp(-b_5 - w_10*(-1 + 2/(exp(-b_3 - w_7) + 1)) - w_11*(-1 + 2/(exp(-b_4 - w_9) + 1))) + 1)**2 - 4*(-1 + 2/(exp(-b_5 - w_10*(-1 + 2/(exp(-b_3 - w_6 - w_7) + 1)) - w_11*(-1 + 2/(exp(-b_4 - w_8 - w_9) + 1))) + 1))*(1 - 2/(exp(-b_4 - w_8 - w_9) + 1))*exp(-b_5 - w_10*(-1 + 2/(exp(-b_3 - w_6 - w_7) + 1)) - w_11*(-1 + 2/(exp(-b_4 - w_8 - w_9) + 1)))/(exp(-b_5 - w_10*(-1 + 2/(exp(-b_3 - w_6 - w_7) + 1)) - w_11*(-1 + 2/(exp(-b_4 - w_8 - w_9) + 1))) + 1)**2\">Derivative(w_11, cost)</th><th title=\"8*w_10*(-2 + 2/(exp(-b_5 - w_10*(-1 + 2/(exp(-b_3 - w_6) + 1)) - w_11*(-1 + 2/(exp(-b_4 - w_8) + 1))) + 1))*exp(-b_3 - w_6)*exp(-b_5 - w_10*(-1 + 2/(exp(-b_3 - w_6) + 1)) - w_11*(-1 + 2/(exp(-b_4 - w_8) + 1)))/((exp(-b_3 - w_6) + 1)**2*(exp(-b_5 - w_10*(-1 + 2/(exp(-b_3 - w_6) + 1)) - w_11*(-1 + 2/(exp(-b_4 - w_8) + 1))) + 1)**2) + 8*w_10*(-1 + 2/(exp(-b_5 - w_10*(-1 + 2/(exp(-b_3 - w_6 - w_7) + 1)) - w_11*(-1 + 2/(exp(-b_4 - w_8 - w_9) + 1))) + 1))*exp(-b_3 - w_6 - w_7)*exp(-b_5 - w_10*(-1 + 2/(exp(-b_3 - w_6 - w_7) + 1)) - w_11*(-1 + 2/(exp(-b_4 - w_8 - w_9) + 1)))/((exp(-b_3 - w_6 - w_7) + 1)**2*(exp(-b_5 - w_10*(-1 + 2/(exp(-b_3 - w_6 - w_7) + 1)) - w_11*(-1 + 2/(exp(-b_4 - w_8 - w_9) + 1))) + 1)**2)\">Derivative(w_6, cost)</th><th title=\"8*w_10*(-2 + 2/(exp(-b_5 - w_10*(-1 + 2/(exp(-b_3 - w_7) + 1)) - w_11*(-1 + 2/(exp(-b_4 - w_9) + 1))) + 1))*exp(-b_3 - w_7)*exp(-b_5 - w_10*(-1 + 2/(exp(-b_3 - w_7) + 1)) - w_11*(-1 + 2/(exp(-b_4 - w_9) + 1)))/((exp(-b_3 - w_7) + 1)**2*(exp(-b_5 - w_10*(-1 + 2/(exp(-b_3 - w_7) + 1)) - w_11*(-1 + 2/(exp(-b_4 - w_9) + 1))) + 1)**2) + 8*w_10*(-1 + 2/(exp(-b_5 - w_10*(-1 + 2/(exp(-b_3 - w_6 - w_7) + 1)) - w_11*(-1 + 2/(exp(-b_4 - w_8 - w_9) + 1))) + 1))*exp(-b_3 - w_6 - w_7)*exp(-b_5 - w_10*(-1 + 2/(exp(-b_3 - w_6 - w_7) + 1)) - w_11*(-1 + 2/(exp(-b_4 - w_8 - w_9) + 1)))/((exp(-b_3 - w_6 - w_7) + 1)**2*(exp(-b_5 - w_10*(-1 + 2/(exp(-b_3 - w_6 - w_7) + 1)) - w_11*(-1 + 2/(exp(-b_4 - w_8 - w_9) + 1))) + 1)**2)\">Derivative(w_7, cost)</th><th title=\"8*w_11*(-2 + 2/(exp(-b_5 - w_10*(-1 + 2/(exp(-b_3 - w_6) + 1)) - w_11*(-1 + 2/(exp(-b_4 - w_8) + 1))) + 1))*exp(-b_4 - w_8)*exp(-b_5 - w_10*(-1 + 2/(exp(-b_3 - w_6) + 1)) - w_11*(-1 + 2/(exp(-b_4 - w_8) + 1)))/((exp(-b_4 - w_8) + 1)**2*(exp(-b_5 - w_10*(-1 + 2/(exp(-b_3 - w_6) + 1)) - w_11*(-1 + 2/(exp(-b_4 - w_8) + 1))) + 1)**2) + 8*w_11*(-1 + 2/(exp(-b_5 - w_10*(-1 + 2/(exp(-b_3 - w_6 - w_7) + 1)) - w_11*(-1 + 2/(exp(-b_4 - w_8 - w_9) + 1))) + 1))*exp(-b_4 - w_8 - w_9)*exp(-b_5 - w_10*(-1 + 2/(exp(-b_3 - w_6 - w_7) + 1)) - w_11*(-1 + 2/(exp(-b_4 - w_8 - w_9) + 1)))/((exp(-b_4 - w_8 - w_9) + 1)**2*(exp(-b_5 - w_10*(-1 + 2/(exp(-b_3 - w_6 - w_7) + 1)) - w_11*(-1 + 2/(exp(-b_4 - w_8 - w_9) + 1))) + 1)**2)\">Derivative(w_8, cost)</th><th title=\"8*w_11*(-2 + 2/(exp(-b_5 - w_10*(-1 + 2/(exp(-b_3 - w_7) + 1)) - w_11*(-1 + 2/(exp(-b_4 - w_9) + 1))) + 1))*exp(-b_4 - w_9)*exp(-b_5 - w_10*(-1 + 2/(exp(-b_3 - w_7) + 1)) - w_11*(-1 + 2/(exp(-b_4 - w_9) + 1)))/((exp(-b_4 - w_9) + 1)**2*(exp(-b_5 - w_10*(-1 + 2/(exp(-b_3 - w_7) + 1)) - w_11*(-1 + 2/(exp(-b_4 - w_9) + 1))) + 1)**2) + 8*w_11*(-1 + 2/(exp(-b_5 - w_10*(-1 + 2/(exp(-b_3 - w_6 - w_7) + 1)) - w_11*(-1 + 2/(exp(-b_4 - w_8 - w_9) + 1))) + 1))*exp(-b_4 - w_8 - w_9)*exp(-b_5 - w_10*(-1 + 2/(exp(-b_3 - w_6 - w_7) + 1)) - w_11*(-1 + 2/(exp(-b_4 - w_8 - w_9) + 1)))/((exp(-b_4 - w_8 - w_9) + 1)**2*(exp(-b_5 - w_10*(-1 + 2/(exp(-b_3 - w_6 - w_7) + 1)) - w_11*(-1 + 2/(exp(-b_4 - w_8 - w_9) + 1))) + 1)**2)\">Derivative(w_9, cost)</th><th title=\"(-2 + 2/(exp(-b_5 - w_10*(-1 + 2/(1 + exp(-b_3))) - w_11*(-1 + 2/(1 + exp(-b_4)))) + 1))**2 + (-2 + 2/(exp(-b_5 - w_10*(-1 + 2/(exp(-b_3 - w_6) + 1)) - w_11*(-1 + 2/(exp(-b_4 - w_8) + 1))) + 1))**2 + (-2 + 2/(exp(-b_5 - w_10*(-1 + 2/(exp(-b_3 - w_7) + 1)) - w_11*(-1 + 2/(exp(-b_4 - w_9) + 1))) + 1))**2 + (-1 + 2/(exp(-b_5 - w_10*(-1 + 2/(exp(-b_3 - w_6 - w_7) + 1)) - w_11*(-1 + 2/(exp(-b_4 - w_8 - w_9) + 1))) + 1))**2\">cost</th></tr><tr><td>0</td><td>-2.1442690324943325</td><td>-0.07221859188092404</td><td>1.3748740250834182</td><td>-1.1169226409673718</td><td>-0.6362873099854016</td><td>1.0248166603181799</td><td>0.06914472440609735</td><td>0.049023566539743824</td><td>-0.8748348144331551</td><td>-0.05748163621238764</td><td>-0.011194974270247376</td><td>0.0787005564343029</td><td>-0.0037471189733028765</td><td>-0.10089867424613662</td><td>-0.07961121813814234</td><td>-0.11565090039522163</td><td>-0.04149444631761838</td><td>-0.06562898391592849</td><td>0.7538238693535572</td></tr><tr><td>1</td><td>-2.1385208688730937</td><td>-0.07109909445389931</td><td>1.3670039694399878</td><td>-1.1165479290700415</td><td>-0.6261974425607879</td><td>1.0327777821319941</td><td>0.08070981444561952</td><td>0.05317301117150566</td><td>-0.8682719160415623</td><td>-0.05866362997773811</td><td>-0.010917655885852182</td><td>0.07780161941991692</td><td>-0.00040678167698163237</td><td>-0.10107140352336495</td><td>-0.08150177256339193</td><td>-0.11857470556470656</td><td>-0.04145728396241147</td><td>-0.06570219742846288</td><td>0.7492431450846363</td></tr><tr><td>2</td><td>-2.13265450587532</td><td>-0.07000732886531409</td><td>1.359223807497996</td><td>-1.1165072509023433</td><td>-0.6160903022084514</td><td>1.0409279593883334</td><td>0.09256728500209017</td><td>0.05731873956774681</td><td>-0.861701696298716</td><td>-0.059871299106417405</td><td>-0.010636133530800507</td><td>0.07685377605795504</td><td>0.003082832653206413</td><td>-0.10120448321931802</td><td>-0.08344119474212056</td><td>-0.12157688910370422</td><td>-0.04139306263286085</td><td>-0.06573407072200935</td><td>0.7445602409214017</td></tr><tr><td>3</td><td>-2.1266673759646784</td><td>-0.06894371551223404</td><td>1.3515384298922006</td><td>-1.116815534167664</td><td>-0.6059698538865196</td><td>1.0492720788625454</td><td>0.10472497391246059</td><td>0.06145804583103289</td><td>-0.8551282892265151</td><td>-0.061103889563151687</td><td>-0.010351050883855087</td><td>0.07585888353131792</td><td>0.006724033718951722</td><td>-0.10129805530484123</td><td>-0.08542954466924652</td><td>-0.12465879370813192</td><td>-0.04130121661912797</td><td>-0.06572398361291738</td><td>0.739769101634456</td></tr><tr><td>4</td><td>-2.120556987008363</td><td>-0.06790861042384852</td><td>1.3439525415390687</td><td>-1.1174879375395592</td><td>-0.5958400483560354</td><td>1.05781503332947</td><td>0.11719085328327378</td><td>0.06558816749294569</td><td>-0.8485558908652233</td><td>-0.062360240952571325</td><td>-0.01006300329104777</td><td>0.07481876880240765</td><td>0.010519113735824759</td><td>-0.10135236946858306</td><td>-0.08746653216777496</td><td>-0.1278215319328822</td><td>-0.0411811987331334</td><td>-0.06567140464363226</td><td>0.7348630647559776</td></tr><tr><td>5</td><td>-2.114320962913106</td><td>-0.06690231009474375</td><td>1.336470664658828</td><td>-1.1185398489131417</td><td>-0.5857048114091772</td><td>1.0665616865462475</td><td>0.129973006476562</td><td>0.06970628736625903</td><td>-0.8419887504008601</td><td>-0.06363870000593803</td><td>-0.009772520146601169</td><td>0.0737351483375541</td><td>0.01447035664504051</td><td>-0.10136776442126043</td><td>-0.08955143476766401</td><td>-0.13106591017829022</td><td>-0.041032471736866846</td><td>-0.06557588072225373</td><td>0.7298348456951577</td></tr><tr><td>6</td><td>-2.107957092912512</td><td>-0.06592505808008363</td><td>1.3290971498250725</td><td>-1.1199868845776457</td><td>-0.5755680349670511</td><td>1.0755168300230138</td><td>0.143079597494391</td><td>0.07380953453994571</td><td>-0.8354311623286347</td><td>-0.06493702121200812</td><td>-0.009480046774076448</td><td>0.07260953774828949</td><td>0.018580040737617265</td><td>-0.10134464541805054</td><td>-0.09168300228893955</td><td>-0.13439233796542688</td><td>-0.04085449852009566</td><td>-0.06543702421933889</td><td>0.7246765308541436</td></tr><tr><td>7</td><td>-2.1014633907913116</td><td>-0.06497705340267598</td><td>1.3218361960502436</td><td>-1.1218448886514074</td><td>-0.565433570425246</td><td>1.0846851302519078</td><td>0.1565188312909337</td><td>0.07789498439195527</td><td>-0.8288874599067008</td><td>-0.06625225353966704</td><td>-0.009185926126110827</td><td>0.07144315158195058</td><td>0.02285043181568186</td><td>-0.1012834580195349</td><td>-0.09385934683120759</td><td>-0.13780072073558353</td><td>-0.04064673120512193</td><td>-0.06525449765844202</td><td>0.7193795805310401</td></tr><tr><td>8</td><td>-2.094838165437345</td><td>-0.0640584607900649</td><td>1.3146918808920485</td><td>-1.1241299318329756</td><td>-0.5553052246232925</td><td>1.0940710649350285</td><td>0.17029890336449205</td><td>0.08195965751246746</td><td>-0.8223620101408565</td><td>-0.06758061235986224</td><td>-0.008890380670107986</td><td>0.07023679372972941</td><td>0.02728376355760867</td><td>-0.10118465817982605</td><td>-0.09607781697922238</td><td>-0.14129033442632352</td><td>-0.04040859942666693</td><td>-0.0650279962218978</td><td>0.7139348436724198</td></tr><tr><td>9</td><td>-2.088080104201359</td><td>-0.0631694227230541</td><td>1.3076682015190755</td><td>-1.1268583081887364</td><td>-0.5451867588053099</td><td>1.1036788466329508</td><td>0.1844279368071244</td><td>0.08600051745513415</td><td>-0.8158592105186667</td><td>-0.06891733595460713</td><td>-0.008593494883119127</td><td>0.06899073921930737</td><td>0.03188220129071155</td><td>-0.10104867883069987</td><td>-0.09833485525386358</td><td>-0.14485968019016</td><td>-0.04013949811685209</td><td>-0.06475722838931394</td><td>0.7083325868481007</td></tr><tr><td>10</td><td>-2.081188370605898</td><td>-0.06231007323474219</td><td>1.3007691275971447</td><td>-1.1300465283178076</td><td>-0.5350818909222399</td><td>1.1135123321583371</td><td>0.1989139048261404</td><td>0.09001446726681936</td><td>-0.8093834876797353</td><td>-0.07025652644446513</td><td>-0.008295198844895088</td><td>0.06770460854583182</td><td>0.03664778492778367</td><td>-0.10087589322762891</td><td>-0.10062583821211854</td><td>-0.1485063178734896</td><td>-0.039838775220905384</td><td>-0.06444189513548551</td><td>0.7025625401590714</td></tr><tr><td>20</td><td>-2.0053587318948076</td><td>-0.0554071727942732</td><td>1.2396558626024552</td><td>-1.1909454745418244</td><td>-0.4355924243857201</td><td>1.2245837086042397</td><td>0.36479968839129984</td><td>0.12793703273108806</td><td>-0.7471179683306841</td><td>-0.08130001765619871</td><td>-0.005089483830427802</td><td>0.051828725681986654</td><td>0.09358272570012517</td><td>-0.09708045406420757</td><td>-0.12323162445714074</td><td>-0.18757684960922819</td><td>-0.03489841900554864</td><td>-0.058725899513071826</td><td>0.6332057412290122</td></tr><tr><td>30</td><td>-1.925340928036907</td><td>-0.0521888364381151</td><td>1.1990712900844718</td><td>-1.3147712304765768</td><td>-0.3419520324342189</td><td>1.353336631145848</td><td>0.5675748969132596</td><td>0.15909978140575756</td><td>-0.6928705622075406</td><td>-0.07194530357690407</td><td>-0.0006032255540077622</td><td>0.023324201205007777</td><td>0.16056281650329052</td><td>-0.08824086051938518</td><td>-0.12974733329601637</td><td>-0.21654205537952995</td><td>-0.02581083025235243</td><td>-0.04774495223927839</td><td>0.5382930542615799</td></tr><tr><td>40</td><td>-1.8726889983999107</td><td>-0.05393757044838434</td><td>1.195311708474172</td><td>-1.4986375102438225</td><td>-0.26023754367370555</td><td>1.4716932354120447</td><td>0.7831659043247081</td><td>0.1797677248836951</td><td>-0.6517595106133806</td><td>-0.02320636268782561</td><td>0.004279853170549387</td><td>-0.02099659949352578</td><td>0.20432680438784007</td><td>-0.07277440707159556</td><td>-0.09804784523192217</td><td>-0.20642316411151926</td><td>-0.014565550930688259</td><td>-0.032777974568745746</td><td>0.4318442283916602</td></tr><tr><td>50</td><td>-1.8747867721020923</td><td>-0.05911624875878813</td><td>1.231746586553299</td><td>-1.7062990205243802</td><td>-0.19514056800619883</td><td>1.5498895586869035</td><td>0.9739996053402473</td><td>0.190568076209503</td><td>-0.6251004884764704</td><td>0.02891821511723669</td><td>0.0055000185764011306</td><td>-0.049740869837483104</td><td>0.20573904901524181</td><td>-0.056202974859536674</td><td>-0.0564401456709786</td><td>-0.17066517874439613</td><td>-0.007198489285491071</td><td>-0.02006165162001831</td><td>0.3396504267755226</td></tr><tr><td>60</td><td>-1.9172714743566046</td><td>-0.06407458844067505</td><td>1.2843876030443049</td><td>-1.9048375994621813</td><td>-0.14508389053665097</td><td>1.5946547478449058</td><td>1.1292199714040219</td><td>0.19612106385676217</td><td>-0.6089988338023365</td><td>0.054610279893427593</td><td>0.004124407703918975</td><td>-0.05310051674711447</td><td>0.18830257649198384</td><td>-0.04322312872798545</td><td>-0.033961701651815085</td><td>-0.13765263438760394</td><td>-0.004037842321353659</td><td>-0.011996136166949042</td><td>0.26695377775630164</td></tr><tr><td>70</td><td>-1.9765607918510246</td><td>-0.06749773303996691</td><td>1.3352244735821814</td><td>-2.0837584339548787</td><td>-0.10651337319347902</td><td>1.6238680813745952</td><td>1.2544411105492865</td><td>0.19941078348509236</td><td>-0.5994101725558757</td><td>0.0629587216109525</td><td>0.002641778925215287</td><td>-0.04754309105861179</td><td>0.1673548085745921</td><td>-0.03336000368918906</td><td>-0.024971461106978593</td><td>-0.11103580991410558</td><td>-0.0025379513480887333</td><td>-0.007089446332927317</td><td>0.21096146532765533</td></tr><tr><td>80</td><td>-2.0402338050017605</td><td>-0.06964343510359947</td><td>1.3798958226385603</td><td>-2.2418392072841664</td><td>-0.07672867746914969</td><td>1.6470246612919257</td><td>1.3553649851836147</td><td>0.2015086172883579</td><td>-0.5937853927671539</td><td>0.0636549520680309</td><td>0.0016213474612908948</td><td>-0.041287400282472575</td><td>0.14702053853461503</td><td>-0.025787433918694726</td><td>-0.021522635229578424</td><td>-0.08941172813287747</td><td>-0.001630453456177191</td><td>-0.004109108847436319</td><td>0.16848671487013184</td></tr><tr><td>90</td><td>-2.1028676019255137</td><td>-0.07094844707801742</td><td>1.4187109961264386</td><td>-2.380391789806822</td><td>-0.05366045727559918</td><td>1.6678023170087903</td><td>1.4366726427080705</td><td>0.2028461498105317</td><td>-0.5905571955462058</td><td>0.060996557807953294</td><td>0.0009729177914360055</td><td>-0.035989899339450876</td><td>0.12861642502623485</td><td>-0.020043592172835835</td><td>-0.020058080815969964</td><td>-0.07215436390289218</td><td>-0.001022103592849604</td><td>-0.0023199867534427166</td><td>0.13643708685810688</td></tr><tr><td>100</td><td>-2.1621053208658916</td><td>-0.07172122589271467</td><td>1.4526901706000401</td><td>-2.5015902998246142</td><td>-0.03565684028974</td><td>1.6874426086017702</td><td>1.5024760345258446</td><td>0.2036682375854392</td><td>-0.5887622071392346</td><td>0.05694390700646054</td><td>0.000561889410676958</td><td>-0.03168634159239819</td><td>0.11257395781195907</td><td>-0.01574065961693198</td><td>-0.019170403552799045</td><td>-0.05866936761706398</td><td>-0.000606702494768227</td><td>-0.0012543920396527958</td><td>0.11216444777810095</td></tr><tr><td>200</td><td>-2.546665566390521</td><td>-0.07140669968536892</td><td>1.6547950799231639</td><td>-3.1736255276965153</td><td>0.033987537449348446</td><td>1.8350436836501407</td><td>1.7919081022479153</td><td>0.2034337958645562</td><td>-0.5887634678803971</td><td>0.024918516492235525</td><td>-0.00021273491615447586</td><td>-0.01314391571115267</td><td>0.03985719859017192</td><td>-0.0029146133549179717</td><td>-0.010597091636395613</td><td>-0.014302727329410826</td><td>0.00019524453642032528</td><td>0.00027536840589793924</td><td>0.030459233318539974</td></tr><tr><td>300</td><td>-2.7331807207599637</td><td>-0.06930890334916666</td><td>1.7557132843581613</td><td>-3.4657406964465807</td><td>0.05263195784320398</td><td>1.9166360234715452</td><td>1.8918458321255989</td><td>0.20170344740549073</td><td>-0.5911101998224291</td><td>0.014041076816064913</td><td>-0.0001950501355611013</td><td>-0.0078229048293872</td><td>0.021624570151249682</td><td>-0.001194924713149879</td><td>-0.006292960327711761</td><td>-0.007111014595540564</td><td>0.00014500823987827498</td><td>0.00019133850673781479</td><td>0.015325520878971634</td></tr><tr><td>400</td><td>-2.848030835074086</td><td>-0.0675400329482424</td><td>1.8210033464271835</td><td>-3.6415555738845913</td><td>0.06159275820195794</td><td>1.9687165477417827</td><td>1.9488272742602553</td><td>0.20048282210534724</td><td>-0.5927061244294639</td><td>0.009431772962459551</td><td>-0.00015957415255292445</td><td>-0.005475420061639303</td><td>0.014368401198406943</td><td>-0.0006729324158946631</td><td>-0.004324932734895752</td><td>-0.004601010186614633</td><td>0.00010216383394199896</td><td>0.0001327061121485771</td><td>0.00982157113298102</td></tr><tr><td>500</td><td>-2.929160574856131</td><td>-0.06608418374527619</td><td>1.8688174627768463</td><td>-3.764905378194373</td><td>0.06705089788060462</td><td>2.00618087759114</td><td>1.9881143937235546</td><td>0.1996012183826029</td><td>-0.5938494039507176</td><td>0.0069932436633887655</td><td>-0.00013274867927949287</td><td>-0.004185667070490845</td><td>0.010616586150059268</td><td>-0.00044278497862918886</td><td>-0.003251775788731188</td><td>-0.003366322480235469</td><td>7.59675107845401e-05</td><td>9.846018719267732e-05</td><td>0.007098985675956237</td></tr><tr><td>600</td><td>-2.9912126267309884</td><td>-0.06485872244709144</td><td>1.9063969739578324</td><td>-3.859060026101316</td><td>0.0708095636497272</td><td>2.0351767748336087</td><td>2.0179044060006297</td><td>0.1989302376385933</td><td>-0.594719881755011</td><td>0.005511753591671012</td><td>-0.00011313526455119914</td><td>-0.003378258728730493</td><td>0.008360978744298558</td><td>-0.0003189158512406018</td><td>-0.0025882326281799657</td><td>-0.0026406744609917838</td><td>5.921563618114259e-05</td><td>7.694109709531851e-05</td><td>0.005506184147456467</td></tr><tr><td>700</td><td>-3.0411466987175384</td><td>-0.06380349161819594</td><td>1.9372954926675858</td><td>-3.934815117343824</td><td>0.07359763870407889</td><td>2.0587129722122164</td><td>2.04180995005339</td><td>0.19839776496492345</td><td>-0.5954131312097154</td><td>0.00452593690033546</td><td>-9.843024764370653e-05</td><td>-0.0028278774367335004</td><td>0.006868006311923856</td><td>-0.00024356090291197184</td><td>-0.002141311343061363</td><td>-0.002165864827816141</td><td>4.784507674766145e-05</td><td>6.244118162777252e-05</td><td>0.004471716763637448</td></tr><tr><td>800</td><td>-3.08276093609504</td><td>-0.06287772879703712</td><td>1.963504223850224</td><td>-3.9979885513211433</td><td>0.07577107496886333</td><td>2.0784605021271894</td><td>2.0617269093315995</td><td>0.1979616059161861</td><td>-0.5959837464401464</td><td>0.0038267939886193238</td><td>-8.706927709541134e-05</td><td>-0.002429690389857103</td><td>0.0058121542582650395</td><td>-0.00019377829004361513</td><td>-0.001821440548978522</td><td>-0.0018321461149710056</td><td>3.97310273335063e-05</td><td>5.212178545859069e-05</td><td>0.0037504403145114246</td></tr><tr><td>900</td><td>-3.118337065097973</td><td>-0.062053308292509955</td><td>1.9862458635071967</td><td>-4.052050148821578</td><td>0.0775265499697204</td><td>2.095435640723232</td><td>2.078769038564138</td><td>0.197595530263841</td><td>-0.5964652558268456</td><td>0.0033071655046205206</td><td>-7.805321284338787e-05</td><td>-0.0021287123716653483</td><td>0.005028542128918493</td><td>-0.00015888471891008682</td><td>-0.001581960293145346</td><td>-0.0015853191280889647</td><td>3.370432745691036e-05</td><td>4.445945333428099e-05</td><td>0.0032210881186821713</td></tr><tr><td>1000</td><td>-3.1493455109860626</td><td>-0.06131021589037332</td><td>2.006323082521043</td><td>-4.0992260679958274</td><td>0.07898262206625373</td><td>2.110299472742768</td><td>2.093644402112491</td><td>0.19728233352694138</td><td>-0.5968795086240629</td><td>0.002906867042496833</td><td>-7.07335644639682e-05</td><td>-0.0018934571146067983</td><td>0.0044252808288721725</td><td>-0.00013331479450827963</td><td>-0.0013963593663973723</td><td>-0.0013956551962474514</td><td>2.9081905086991385e-05</td><td>3.857661012670798e-05</td><td>0.002817268694939163</td></tr><tr><td>2000</td><td>-3.337998710703121</td><td>-0.056311075963479375</td><td>2.1337145475867487</td><td>-4.38790984083963</td><td>0.08647338365556927</td><td>2.2020226411907657</td><td>2.184891840818512</td><td>0.19552518186617568</td><td>-0.5992624014867474</td><td>0.0012811403312189473</td><td>-3.666568855795286e-05</td><td>-0.0008962119080711129</td><td>0.0019725346595291337</td><td>-4.337555793827345e-05</td><td>-0.000630065779296182</td><td>-0.000625097024236734</td><td>1.0937041227402467e-05</td><td>1.5254067553529e-05</td><td>0.0012144238513699286</td></tr><tr><td>3000</td><td>-3.4389746205926484</td><td>-0.0533112866612993</td><td>2.205684118808922</td><td>-4.543994288748219</td><td>0.08959854426670066</td><td>2.2519645627573617</td><td>2.2344218510272986</td><td>0.19471096387926207</td><td>-0.6004195745889773</td><td>0.000807655080026487</td><td>-2.486120968506302e-05</td><td>-0.0005863862589807153</td><td>0.0012536143582421106</td><td>-2.2695141105639257e-05</td><td>-0.0004016632648322471</td><td>-0.00039830231921354135</td><td>6.115855766661268e-06</td><td>8.879468118343799e-06</td><td>0.0007598125722070568</td></tr><tr><td>4000</td><td>-3.5074957890043774</td><td>-0.051153582689927014</td><td>2.2560551128451554</td><td>-4.650669496527108</td><td>0.09139635574386372</td><td>2.2861627177464325</td><td>2.2683383178989747</td><td>0.19421604076986052</td><td>-0.6011499982208676</td><td>0.0005855079475629418</td><td>-1.884771648560612e-05</td><td>-0.0004357608016226423</td><td>0.000914331578480565</td><td>-1.428408266802931e-05</td><td>-0.00029323959265044623</td><td>-0.00029088133168697476</td><td>4.020555077706722e-06</td><td>6.041190271593178e-06</td><td>0.0005487072505966166</td></tr><tr><td>5000</td><td>-3.5591386997241448</td><td>-0.04946453750172196</td><td>2.2948465896635035</td><td>-4.731508649709349</td><td>0.09258636235197137</td><td>2.3120924680044204</td><td>2.2940651397182905</td><td>0.1938756258347085</td><td>-0.6016691153520811</td><td>0.00045741642318026783</td><td>-1.5194543365594185e-05</td><td>-0.0003467592999243515</td><td>0.0007177597923967175</td><td>-9.926099461940162e-06</td><td>-0.0002302402836767347</td><td>-0.00022849363031901364</td><td>2.88779668951793e-06</td><td>4.474565188557344e-06</td><td>0.00042767935946945814</td></tr></table>"
      ],
      "text/plain": [
       "<__main__.Table at 0x7fe4eec100f0>"
      ]
     },
     "metadata": {},
     "output_type": "display_data"
    },
    {
     "data": {
      "text/html": [
       "<h2>Optimized Function:</h2>"
      ],
      "text/plain": [
       "<IPython.core.display.HTML object>"
      ]
     },
     "metadata": {},
     "output_type": "display_data"
    },
    {
     "data": {
      "image/png": "[encoded data removed]",
      "text/latex": [
       "$$-1 + \\frac{2}{0.000974219094771787 e^{- \\frac{0.185174709923835}{1.05070673430965 e^{- 0.19387533705504 x_{0} + 0.6016695628086 x_{1}} + 1} + \\frac{9.46316085137718}{35.1345311870658 e^{- 2.31211549203279 x_{0} - 2.29408798908132 x_{1}} + 1}} + 1}$$"
      ],
      "text/plain": [
       "                                                                              \n",
       "-1 + ─────────────────────────────────────────────────────────────────────────\n",
       "                                                    0.185174709923835         \n",
       "                           - ─────────────────────────────────────────────────\n",
       "                                               -0.19387533705504⋅x₀ + 0.601669\n",
       "                             1.05070673430965⋅ℯ                               \n",
       "     0.000974219094771787⋅ℯ                                                   \n",
       "\n",
       "     2                                                                        \n",
       "──────────────────────────────────────────────────────────────────────────────\n",
       "                                         9.46316085137718                     \n",
       "────────────── + ─────────────────────────────────────────────────────────────\n",
       "5628086⋅x₁                         -2.31211549203279⋅x₀ - 2.29408798908132⋅x₁ \n",
       "           + 1   35.1345311870658⋅ℯ                                           \n",
       "                                                                              \n",
       "\n",
       "       \n",
       "───────\n",
       "       \n",
       "───    \n",
       "       \n",
       "+ 1    \n",
       "    + 1"
      ]
     },
     "metadata": {},
     "output_type": "display_data"
    },
    {
     "data": {
      "text/html": [
       "<h2>Dataset evaluation:</h2>"
      ],
      "text/plain": [
       "<IPython.core.display.HTML object>"
      ]
     },
     "metadata": {},
     "output_type": "display_data"
    },
    {
     "data": {
      "text/html": [
       "<table><tr><th title=\"\">x_0</th><th title=\"\">x_1</th><th title=\"\">Y</th><th title=\"\">Ŷ</th></tr><tr><td>0</td><td>0</td><td>1</td><td>0.9976895065286089</td></tr><tr><td>0</td><td>1</td><td>1</td><td>0.985428450550957</td></tr><tr><td>1</td><td>0</td><td>1</td><td>0.9855202183844851</td></tr><tr><td>1</td><td>1</td><td>0</td><td>0.0005018344182892154</td></tr></table>"
      ],
      "text/plain": [
       "<__main__.Table at 0x7fe4eecb65f8>"
      ]
     },
     "metadata": {},
     "output_type": "display_data"
    },
    {
     "data": {
      "image/png": "[encoded data removed]",
      "text/latex": [
       "$$-1 + \\frac{2}{0.000974219094771787 e^{- \\frac{0.185174709923835}{1.05070673430965 e^{- 0.19387533705504 x_{0} + 0.6016695628086 x_{1}} + 1} + \\frac{9.46316085137718}{35.1345311870658 e^{- 2.31211549203279 x_{0} - 2.29408798908132 x_{1}} + 1}} + 1}$$"
      ],
      "text/plain": [
       "                                                                              \n",
       "-1 + ─────────────────────────────────────────────────────────────────────────\n",
       "                                                    0.185174709923835         \n",
       "                           - ─────────────────────────────────────────────────\n",
       "                                               -0.19387533705504⋅x₀ + 0.601669\n",
       "                             1.05070673430965⋅ℯ                               \n",
       "     0.000974219094771787⋅ℯ                                                   \n",
       "\n",
       "     2                                                                        \n",
       "──────────────────────────────────────────────────────────────────────────────\n",
       "                                         9.46316085137718                     \n",
       "────────────── + ─────────────────────────────────────────────────────────────\n",
       "5628086⋅x₁                         -2.31211549203279⋅x₀ - 2.29408798908132⋅x₁ \n",
       "           + 1   35.1345311870658⋅ℯ                                           \n",
       "                                                                              \n",
       "\n",
       "       \n",
       "───────\n",
       "       \n",
       "───    \n",
       "       \n",
       "+ 1    \n",
       "    + 1"
      ]
     },
     "execution_count": 9,
     "metadata": {},
     "output_type": "execute_result"
    }
   ],
   "source": [
    "def neural_nand():\n",
    "    data = [\n",
    "        {'X': [0, 0], 'Y': 1},\n",
    "        {'X': [0, 1], 'Y': 1},\n",
    "        {'X': [1, 0], 'Y': 1},\n",
    "        {'X': [1, 1], 'Y': 0},\n",
    "    ]\n",
    "    x = SymbolVector.x\n",
    "\n",
    "    neural_network = NeuralNetwork(inputs=x[0:2], dims=[2], activation_function=NeuralNetwork.logistic)\n",
    "    return optimize(\"NAND (2 layer net + logistic activation function)\", neural_network.expr, data, simplify=False)\n",
    "\n",
    "neural_nand()    "
   ]
  }
 ],
 "metadata": {
  "kernelspec": {
   "display_name": "Python 3",
   "language": "python",
   "name": "python3"
  },
  "language_info": {
   "codemirror_mode": {
    "name": "ipython",
    "version": 3
   },
   "file_extension": ".py",
   "mimetype": "text/x-python",
   "name": "python",
   "nbconvert_exporter": "python",
   "pygments_lexer": "ipython3",
   "version": "3.6.3"
  }
 },
 "nbformat": 4,
 "nbformat_minor": 2
}
