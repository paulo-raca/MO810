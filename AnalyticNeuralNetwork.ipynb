{
 "cells": [
  {
   "cell_type": "markdown",
   "metadata": {},
   "source": [
    "# Analytic neural networks\n",
    "\n",
    "On the last 2 classes of [MO810](https://www.ic.unicamp.br/~meidanis/courses/mo810/2018s1/), we expanded the cost function of a neural network for it's training data, calculated it's partial derivative for each parameter being optimized and finally used these derivatives to implement a gradient descent to optimize the function. \n",
    "\n",
    "1000s of iterations later, we had a reasonably trainned model.\n",
    "\n",
    "Doing all this work analytically instead of numerically is something that caught my attention: It's a lot of work (and really not pratical for anything vaguely complex), but it's an excelent exercise.\n",
    "\n",
    "Now, humans suck at making expansions and derivatives. It takes a lot of time, and there will most certainly be a mistake at the end. [SymPy](https://simpy.readthedocs.io), on the other hand, is _perfect_ for this.\n",
    "\n",
    "So, this notebook receives a dataset and a SimPy expression and does it all magically.\n",
    "\n",
    "Dataset inputs are mapped to the symbols $x_i$, and all remaining symbols are considered variables to optimized (By convention, $w_i$ is used for coefficients and $b_i$ is used for constants)\n",
    "\n",
    "Finally, at the end of the file, I used this to fit a 3-neurol, 2-layer neural network with a logistic activation function to fit the XOR function"
   ]
  },
  {
   "cell_type": "code",
   "execution_count": 6,
   "metadata": {
    "scrolled": false
   },
   "outputs": [],
   "source": [
    "from IPython.display import HTML, display, display_html\n",
    "\n",
    "class Table:\n",
    "    \"\"\" Just a component to display tabular data on Jupyter \"\"\"\n",
    "    \n",
    "    def __init__(self, headers, header_exprs):\n",
    "        self.headers = headers\n",
    "        self.header_exprs = header_exprs\n",
    "        self.data = []\n",
    "        \n",
    "    def append(self, row):\n",
    "        self.data.append(row)\n",
    "    \n",
    "    def _repr_html_(self):\n",
    "        html = [\"<table>\"]\n",
    "        html.append(\"<tr>\")\n",
    "        for header, expr in zip(self.headers, self.header_exprs):\n",
    "            html.append(f'<th title=\"{expr}\">{header}</th>')\n",
    "        html.append(\"</tr>\")\n",
    "        for row in self.data:\n",
    "            html.append(\"<tr>\")\n",
    "            for cell in row:\n",
    "                html.append(f\"<td>{cell}</td>\")\n",
    "            html.append(\"</tr>\")\n",
    "        html.append(\"</table>\")\n",
    "        return ''.join(html)"
   ]
  },
  {
   "cell_type": "code",
   "execution_count": 8,
   "metadata": {
    "scrolled": false
   },
   "outputs": [],
   "source": [
    "import sympy\n",
    "\n",
    "class SymbolVectorMetaclass(type):\n",
    "    def __getattr__(cls, key):\n",
    "        return cls(key)\n",
    "\n",
    "        \n",
    "class SymbolVector(metaclass = SymbolVectorMetaclass):\n",
    "    \"\"\"\n",
    "    And infinite array of symbols.\n",
    "    \n",
    "    SymbolVector.x yields [x_0, x_1, x_2, ...]\n",
    "    \"\"\"\n",
    "    def __init__(self, name):\n",
    "        self.name = name\n",
    "\n",
    "    @staticmethod\n",
    "    def __getattr__(cls, key):\n",
    "        return Vector(key)\n",
    "        \n",
    "    def __getitem__( self, key ) :\n",
    "        if isinstance( key, slice ) :\n",
    "            if (key.start is not None and key.start < 0) or (key.stop is not None and key.stop < 0):\n",
    "                raise IndexError(\"Negative indexes are not supported\")\n",
    "            return [self[ii] for ii in range(*key.indices(sys.maxsize))]\n",
    "\n",
    "        elif isinstance(key, int):\n",
    "            if key < 0:\n",
    "                raise IndexError(\"Negative indexes are not supported\")\n",
    "            return sympy.Symbol(f'{self.name}_{key}')\n",
    "\n",
    "        else:\n",
    "            raise TypeError(\"Invalid argument type.\")\n",
    "    \n",
    "    def __repr__(self):\n",
    "        return self.name + '[]'\n"
   ]
  },
  {
   "cell_type": "code",
   "execution_count": 21,
   "metadata": {
    "scrolled": false
   },
   "outputs": [],
   "source": [
    "import random\n",
    "import re\n",
    "import sympy\n",
    "import sys\n",
    "sympy.init_printing()\n",
    "\n",
    "def optimize(function_name, function, data, step=0.1, iterations=5000, simplify=True, verbose=True):\n",
    "    \"\"\"\n",
    "    This is where the magic happens:\n",
    "    - Expand the function and data into a cost function for the dataset\n",
    "    - Calculate partial derivatives of the cost for each parameter\n",
    "    - Perform a gradient descent to optimize the function to fit the data\n",
    "    - Returns the fitted function\n",
    "    \"\"\"\n",
    "    x = SymbolVector.x[:len(data[0]['X'])]\n",
    "        \n",
    "    if verbose:\n",
    "        display(HTML(f'<h1>Optimizing Function {function_name}</h1>'))\n",
    "\n",
    "        display(HTML(f'<h2>Function:</h2>'), function)\n",
    "        \n",
    "        table = Table(\n",
    "            x + ['Y'],\n",
    "            [''] * (len(x) + 1)\n",
    "        )\n",
    "        for row in data:\n",
    "            table.append(row['X'] + [row['Y']])\n",
    "            \n",
    "        display(HTML(f'<h2>Dataset:</h2>'), table)\n",
    "\n",
    "\n",
    "    # Calculate cost function for the dataset, and partial derivatives for each parameter\n",
    "\n",
    "    mse_symbol = sympy.Symbol(\"mse\")\n",
    "    mse = sympy.Rational(1, len(data)) * sum([\n",
    "        (function.subs(zip(x, row['X'])) - row['Y']) ** 2    \n",
    "        for row in data\n",
    "    ])\n",
    "    display(mse)\n",
    "    if simplify:\n",
    "        mse = sympy.simplify(mse)\n",
    "    \n",
    "    if verbose:\n",
    "        display(HTML(f'<h2>MSE:</h2>'), mse)\n",
    "\n",
    "    optimization_parameters = sorted(list(mse.free_symbols), key=str)\n",
    "\n",
    "    mse_derivates = [\n",
    "        sympy.diff(mse, parameter)\n",
    "        for parameter in optimization_parameters\n",
    "    ]\n",
    "    if simplify:\n",
    "        mse_derivates = [\n",
    "            sympy.simplify(x)\n",
    "            for x in mse_derivates\n",
    "        ]\n",
    "\n",
    "    mse_fast = sympy.lambdify(optimization_parameters, mse)\n",
    "    mse_derivates_fast = [\n",
    "        sympy.lambdify(optimization_parameters, expr)\n",
    "        for expr in mse_derivates\n",
    "    ]\n",
    "    \n",
    "    #if verbose:\n",
    "        #display(HTML(f'<h2>Cost derivatives:</h2>'), *cost_derivates)\n",
    "\n",
    "    # Optimize equation with gradient descent -- Initial values are random noise\n",
    "    \n",
    "    w = [\n",
    "        random.gauss(0,1) \n",
    "        for symbol in optimization_parameters\n",
    "    ]\n",
    "\n",
    "    table = Table(\n",
    "        ['loop'] + optimization_parameters + [sympy.Derivative(parameter, mse_symbol) for parameter in optimization_parameters] + [mse_symbol], \n",
    "        [''] + [''] * len(optimization_parameters) + mse_derivates + [mse]\n",
    "    )\n",
    "\n",
    "    num_table_rows = iterations // 10\n",
    "    for i in range(iterations+1):\n",
    "        gradient = [d(*w) for d in mse_derivates_fast]\n",
    "        if re.match('^[0-9]0*$', str(i)):\n",
    "            table.append([i] + w + gradient + [mse_fast(*w)])\n",
    "            \n",
    "        w = [\n",
    "            parameter - step * gradient\n",
    "            for parameter, gradient in zip(w, gradient)\n",
    "        ]\n",
    "\n",
    "    if verbose:\n",
    "        display(HTML(f'<h2>Gradient Descent:</h2>'), table)\n",
    "        \n",
    "    optimized_model = function.subs(zip(optimization_parameters, w))\n",
    "    optimized_model_fast = sympy.lambdify(x, optimized_model)\n",
    "    \n",
    "    if verbose:\n",
    "        display(HTML(f'<h2>Optimized Function:</h2>'), optimized_model)\n",
    "        \n",
    "        table = Table(\n",
    "            x + ['Y', 'Ŷ'],\n",
    "            [''] * (len(x) + 2)\n",
    "        )\n",
    "        for row in data:\n",
    "            table.append(row['X'] + [row['Y'], optimized_model_fast(*row['X'])])\n",
    "            \n",
    "        display(HTML(f'<h2>Dataset evaluation:</h2>'), table)\n",
    "        \n",
    "    return optimized_model\n"
   ]
  },
  {
   "cell_type": "code",
   "execution_count": 22,
   "metadata": {
    "scrolled": false
   },
   "outputs": [
    {
     "data": {
      "text/html": [
       "<h1>Optimizing Function NOT (Linear)</h1>"
      ],
      "text/plain": [
       "<IPython.core.display.HTML object>"
      ]
     },
     "metadata": {},
     "output_type": "display_data"
    },
    {
     "data": {
      "text/html": [
       "<h2>Function:</h2>"
      ],
      "text/plain": [
       "<IPython.core.display.HTML object>"
      ]
     },
     "metadata": {},
     "output_type": "display_data"
    },
    {
     "data": {
      "image/png": "[encoded data removed]",
      "text/latex": [
       "$$b + w_{0} x_{0}$$"
      ],
      "text/plain": [
       "b + w₀⋅x₀"
      ]
     },
     "metadata": {},
     "output_type": "display_data"
    },
    {
     "data": {
      "text/html": [
       "<h2>Dataset:</h2>"
      ],
      "text/plain": [
       "<IPython.core.display.HTML object>"
      ]
     },
     "metadata": {},
     "output_type": "display_data"
    },
    {
     "data": {
      "text/html": [
       "<table><tr><th title=\"\">x_0</th><th title=\"\">Y</th></tr><tr><td>0</td><td>1</td></tr><tr><td>1</td><td>0</td></tr></table>"
      ],
      "text/plain": [
       "<__main__.Table at 0x7f73097062b0>"
      ]
     },
     "metadata": {},
     "output_type": "display_data"
    },
    {
     "data": {
      "image/png": "[encoded data removed]",
      "text/latex": [
       "$$\\frac{1}{2} \\left(b - 1\\right)^{2} + \\frac{1}{2} \\left(b + w_{0}\\right)^{2}$$"
      ],
      "text/plain": [
       "       2           2\n",
       "(b - 1)    (b + w₀) \n",
       "──────── + ─────────\n",
       "   2           2    "
      ]
     },
     "metadata": {},
     "output_type": "display_data"
    },
    {
     "data": {
      "text/html": [
       "<h2>MSE:</h2>"
      ],
      "text/plain": [
       "<IPython.core.display.HTML object>"
      ]
     },
     "metadata": {},
     "output_type": "display_data"
    },
    {
     "data": {
      "image/png": "[encoded data removed]",
      "text/latex": [
       "$$\\frac{1}{2} \\left(b - 1\\right)^{2} + \\frac{1}{2} \\left(b + w_{0}\\right)^{2}$$"
      ],
      "text/plain": [
       "       2           2\n",
       "(b - 1)    (b + w₀) \n",
       "──────── + ─────────\n",
       "   2           2    "
      ]
     },
     "metadata": {},
     "output_type": "display_data"
    },
    {
     "data": {
      "text/html": [
       "<h2>Gradient Descent:</h2>"
      ],
      "text/plain": [
       "<IPython.core.display.HTML object>"
      ]
     },
     "metadata": {},
     "output_type": "display_data"
    },
    {
     "data": {
      "text/html": [
       "<table><tr><th title=\"\">loop</th><th title=\"\">b</th><th title=\"\">w_0</th><th title=\"2*b + w_0 - 1\">Derivative(b, mse)</th><th title=\"b + w_0\">Derivative(w_0, mse)</th><th title=\"(b - 1)**2/2 + (b + w_0)**2/2\">mse</th></tr><tr><td>0</td><td>-1.3248994995832575</td><td>0.013197503377062606</td><td>-3.6366014957894524</td><td>-1.3117019962061949</td><td>3.562859905006899</td></tr><tr><td>1</td><td>-0.9612393500043122</td><td>0.1443677029976821</td><td>-2.778110997010942</td><td>-0.8168716470066301</td><td>2.256869537844331</td></tr><tr><td>2</td><td>-0.6834282503032179</td><td>0.2260548676983451</td><td>-2.1408016329080906</td><td>-0.45737338260487276</td><td>1.5215605425171885</td></tr><tr><td>3</td><td>-0.4693480870124088</td><td>0.27179220595883236</td><td>-1.6669039680659852</td><td>-0.19755588105357647</td><td>1.0990060634729402</td></tr><tr><td>4</td><td>-0.3026576902058103</td><td>0.29154779406419</td><td>-1.3137675863474305</td><td>-0.011109896141620279</td><td>0.8485202438223072</td></tr><tr><td>5</td><td>-0.17128093157106725</td><td>0.292658783678352</td><td>-1.0499030794637825</td><td>0.12137785210728477</td><td>0.6933158018220825</td></tr><tr><td>6</td><td>-0.06629062362468899</td><td>0.2805209984676235</td><td>-0.8520602487817543</td><td>0.21423037484293453</td><td>0.5914351737676361</td></tr><tr><td>7</td><td>0.018915401253486452</td><td>0.25909796098333004</td><td>-0.703071236509697</td><td>0.2780133622368165</td><td>0.5199092097399134</td></tr><tr><td>8</td><td>0.08922252490445616</td><td>0.2312966247596484</td><td>-0.5902583254314393</td><td>0.32051914966410455</td><td>0.4661240672214073</td></tr><tr><td>9</td><td>0.1482483574476001</td><td>0.19924470979323794</td><td>-0.5042585753115618</td><td>0.34749306724083806</td><td>0.42311614618557836</td></tr><tr><td>10</td><td>0.19867421497875629</td><td>0.16449540306915414</td><td>-0.43815616697333337</td><td>0.3631696180479104</td><td>0.38700759260648887</td></tr><tr><td>20</td><td>0.4943346031801627</td><td>-0.18816289346897272</td><td>-0.19949368710864732</td><td>0.30617170971119</td><td>0.1747193046842183</td></tr><tr><td>30</td><td>0.6592345275037819</td><td>-0.4489348608554716</td><td>-0.13046580584790785</td><td>0.2102996666483103</td><td>0.08017352851898062</td></tr><tr><td>40</td><td>0.7692418044394274</td><td>-0.6266400514832856</td><td>-0.0881564426044309</td><td>0.14260175295614175</td><td>0.03679230238226798</td></tr><tr><td>50</td><td>0.8436820866619581</td><td>-0.7470730073891334</td><td>-0.05970883406521721</td><td>0.0966090792728247</td><td>0.01688430211415125</td></tr><tr><td>60</td><td>0.8941060835291075</td><td>-0.8286600777881562</td><td>-0.04044791072994125</td><td>0.06544600574095127</td><td>0.0077483506064944955</td></tr><tr><td>70</td><td>0.9282645167991468</td><td>-0.8839295516077308</td><td>-0.027400518009437214</td><td>0.044334965191416</td><td>0.003555784344291981</td></tr><tr><td>80</td><td>0.9514043832133645</td><td>-0.9213706404130981</td><td>-0.018561873986369104</td><td>0.030033742800266383</td><td>0.0016317798387330408</td></tr><tr><td>90</td><td>0.9670799737289623</td><td>-0.9467342785866762</td><td>-0.012574331128751726</td><td>0.020345695142286013</td><td>0.0007488377202543278</td></tr><tr><td>100</td><td>0.9776990559639008</td><td>-0.9639163145685626</td><td>-0.008518202640760975</td><td>0.013782741395338194</td><td>0.00034364803263599807</td></tr><tr><td>200</td><td>0.9995461064666947</td><td>-0.9992655848358383</td><td>-0.00017337190244881562</td><td>0.0002805216308564562</td><td>1.4235586247735488e-07</td></tr><tr><td>300</td><td>0.9999907618556755</td><td>-0.9999850523684901</td><td>-3.528657139151292e-06</td><td>5.709487185368012e-06</td><td>5.897077724026489e-11</td></tr><tr><td>400</td><td>0.9999998119750463</td><td>-0.9999996957692342</td><td>-7.181914163378877e-08</td><td>1.1620581208404701e-07</td><td>2.442858699135357e-14</td></tr><tr><td>500</td><td>0.9999999961731078</td><td>-0.9999999938079582</td><td>-1.4617427268603933e-09</td><td>2.3651495206777895e-09</td><td>1.0119518264715111e-17</td></tr><tr><td>600</td><td>0.9999999999221109</td><td>-0.9999999998739727</td><td>-2.975097945778771e-11</td><td>4.813816012472216e-11</td><td>4.192000262548548e-21</td></tr><tr><td>700</td><td>0.9999999999984147</td><td>-0.9999999999974349</td><td>-6.055156376305604e-13</td><td>9.797718192317006e-13</td><td>1.7365445693227057e-24</td></tr><tr><td>800</td><td>0.9999999999999678</td><td>-0.9999999999999478</td><td>-1.2212453270876722e-14</td><td>1.9984014443252818e-14</td><td>7.179866832675615e-28</td></tr><tr><td>900</td><td>0.999999999999999</td><td>-0.9999999999999984</td><td>-4.440892098500626e-16</td><td>5.551115123125783e-16</td><td>6.532754371361504e-31</td></tr><tr><td>1000</td><td>0.999999999999999</td><td>-0.9999999999999984</td><td>-4.440892098500626e-16</td><td>5.551115123125783e-16</td><td>6.532754371361504e-31</td></tr><tr><td>2000</td><td>0.999999999999999</td><td>-0.9999999999999984</td><td>-4.440892098500626e-16</td><td>5.551115123125783e-16</td><td>6.532754371361504e-31</td></tr><tr><td>3000</td><td>0.999999999999999</td><td>-0.9999999999999984</td><td>-4.440892098500626e-16</td><td>5.551115123125783e-16</td><td>6.532754371361504e-31</td></tr><tr><td>4000</td><td>0.999999999999999</td><td>-0.9999999999999984</td><td>-4.440892098500626e-16</td><td>5.551115123125783e-16</td><td>6.532754371361504e-31</td></tr><tr><td>5000</td><td>0.999999999999999</td><td>-0.9999999999999984</td><td>-4.440892098500626e-16</td><td>5.551115123125783e-16</td><td>6.532754371361504e-31</td></tr></table>"
      ],
      "text/plain": [
       "<__main__.Table at 0x7f732c66b390>"
      ]
     },
     "metadata": {},
     "output_type": "display_data"
    },
    {
     "data": {
      "text/html": [
       "<h2>Optimized Function:</h2>"
      ],
      "text/plain": [
       "<IPython.core.display.HTML object>"
      ]
     },
     "metadata": {},
     "output_type": "display_data"
    },
    {
     "data": {
      "image/png": "[encoded data removed]",
      "text/latex": [
       "$$- 0.999999999999998 x_{0} + 0.999999999999999$$"
      ],
      "text/plain": [
       "-0.999999999999998⋅x₀ + 0.999999999999999"
      ]
     },
     "metadata": {},
     "output_type": "display_data"
    },
    {
     "data": {
      "text/html": [
       "<h2>Dataset evaluation:</h2>"
      ],
      "text/plain": [
       "<IPython.core.display.HTML object>"
      ]
     },
     "metadata": {},
     "output_type": "display_data"
    },
    {
     "data": {
      "text/html": [
       "<table><tr><th title=\"\">x_0</th><th title=\"\">Y</th><th title=\"\">Ŷ</th></tr><tr><td>0</td><td>1</td><td>0.999999999999999</td></tr><tr><td>1</td><td>0</td><td>9.992007221626409e-16</td></tr></table>"
      ],
      "text/plain": [
       "<__main__.Table at 0x7f73096b8898>"
      ]
     },
     "metadata": {},
     "output_type": "display_data"
    },
    {
     "data": {
      "image/png": "[encoded data removed]",
      "text/latex": [
       "$$- 0.999999999999998 x_{0} + 0.999999999999999$$"
      ],
      "text/plain": [
       "-0.999999999999998⋅x₀ + 0.999999999999999"
      ]
     },
     "execution_count": 22,
     "metadata": {},
     "output_type": "execute_result"
    }
   ],
   "source": [
    "def linear_not():\n",
    "    data = [\n",
    "        {'X': [0], 'Y': 1},\n",
    "        {'X': [1], 'Y': 0},\n",
    "    ]\n",
    "\n",
    "    x = SymbolVector.x\n",
    "    w = SymbolVector.w\n",
    "    bias = sympy.Symbol(\"b\")\n",
    "    \n",
    "    return optimize(\"NOT (Linear)\", x[0]*w[0] + bias, data)\n",
    "\n",
    "linear_not()"
   ]
  },
  {
   "cell_type": "code",
   "execution_count": 23,
   "metadata": {
    "scrolled": false
   },
   "outputs": [
    {
     "data": {
      "text/html": [
       "<h1>Optimizing Function XOR (Linear)</h1>"
      ],
      "text/plain": [
       "<IPython.core.display.HTML object>"
      ]
     },
     "metadata": {},
     "output_type": "display_data"
    },
    {
     "data": {
      "text/html": [
       "<h2>Function:</h2>"
      ],
      "text/plain": [
       "<IPython.core.display.HTML object>"
      ]
     },
     "metadata": {},
     "output_type": "display_data"
    },
    {
     "data": {
      "image/png": "[encoded data removed]",
      "text/latex": [
       "$$b + w_{0} x_{0} + w_{1} x_{1}$$"
      ],
      "text/plain": [
       "b + w₀⋅x₀ + w₁⋅x₁"
      ]
     },
     "metadata": {},
     "output_type": "display_data"
    },
    {
     "data": {
      "text/html": [
       "<h2>Dataset:</h2>"
      ],
      "text/plain": [
       "<IPython.core.display.HTML object>"
      ]
     },
     "metadata": {},
     "output_type": "display_data"
    },
    {
     "data": {
      "text/html": [
       "<table><tr><th title=\"\">x_0</th><th title=\"\">x_1</th><th title=\"\">Y</th></tr><tr><td>0</td><td>0</td><td>0</td></tr><tr><td>0</td><td>1</td><td>1</td></tr><tr><td>1</td><td>0</td><td>1</td></tr><tr><td>1</td><td>1</td><td>0</td></tr></table>"
      ],
      "text/plain": [
       "<__main__.Table at 0x7f7309699da0>"
      ]
     },
     "metadata": {},
     "output_type": "display_data"
    },
    {
     "data": {
      "image/png": "[encoded data removed]",
      "text/latex": [
       "$$\\frac{b^{2}}{4} + \\frac{1}{4} \\left(b + w_{0} - 1\\right)^{2} + \\frac{1}{4} \\left(b + w_{0} + w_{1}\\right)^{2} + \\frac{1}{4} \\left(b + w_{1} - 1\\right)^{2}$$"
      ],
      "text/plain": [
       " 2               2                2               2\n",
       "b    (b + w₀ - 1)    (b + w₀ + w₁)    (b + w₁ - 1) \n",
       "── + ───────────── + ────────────── + ─────────────\n",
       "4          4               4                4      "
      ]
     },
     "metadata": {},
     "output_type": "display_data"
    },
    {
     "data": {
      "text/html": [
       "<h2>MSE:</h2>"
      ],
      "text/plain": [
       "<IPython.core.display.HTML object>"
      ]
     },
     "metadata": {},
     "output_type": "display_data"
    },
    {
     "data": {
      "image/png": "[encoded data removed]",
      "text/latex": [
       "$$\\frac{b^{2}}{4} + \\frac{1}{4} \\left(b + w_{0} - 1\\right)^{2} + \\frac{1}{4} \\left(b + w_{0} + w_{1}\\right)^{2} + \\frac{1}{4} \\left(b + w_{1} - 1\\right)^{2}$$"
      ],
      "text/plain": [
       " 2               2                2               2\n",
       "b    (b + w₀ - 1)    (b + w₀ + w₁)    (b + w₁ - 1) \n",
       "── + ───────────── + ────────────── + ─────────────\n",
       "4          4               4                4      "
      ]
     },
     "metadata": {},
     "output_type": "display_data"
    },
    {
     "data": {
      "text/html": [
       "<h2>Gradient Descent:</h2>"
      ],
      "text/plain": [
       "<IPython.core.display.HTML object>"
      ]
     },
     "metadata": {},
     "output_type": "display_data"
    },
    {
     "data": {
      "text/html": [
       "<table><tr><th title=\"\">loop</th><th title=\"\">b</th><th title=\"\">w_0</th><th title=\"\">w_1</th><th title=\"2*b + w_0 + w_1 - 1\">Derivative(b, mse)</th><th title=\"b + w_0 + w_1/2 - 1/2\">Derivative(w_0, mse)</th><th title=\"b + w_0/2 + w_1 - 1/2\">Derivative(w_1, mse)</th><th title=\"b**2/4 + (b + w_0 - 1)**2/4 + (b + w_0 + w_1)**2/4 + (b + w_1 - 1)**2/4\">mse</th></tr><tr><td>0</td><td>-1.5792505827031893</td><td>-0.6053352752094366</td><td>0.585707020706962</td><td>-4.178129419908854</td><td>-2.3917323475591448</td><td>-1.7962111996009456</td><td>4.79156223975655</td></tr><tr><td>1</td><td>-1.161437640712304</td><td>-0.3661620404535222</td><td>0.7653281406670566</td><td>-2.923709181211074</td><td>-1.644935610832298</td><td>-1.0791905202720087</td><td>2.566969294765977</td></tr><tr><td>2</td><td>-0.8690667225911965</td><td>-0.2016684793702924</td><td>0.8732471926942574</td><td>-2.066554731858428</td><td>-1.13411160561436</td><td>-0.5966537695820852</td><td>1.5184698237215968</td></tr><tr><td>3</td><td>-0.6624112494053538</td><td>-0.08825731880885637</td><td>0.9329125696524659</td><td>-1.4801672479670978</td><td>-0.7842122833879771</td><td>-0.27362733915731596</td><td>1.017252574723347</td></tr><tr><td>4</td><td>-0.514394524608644</td><td>-0.00983609047005865</td><td>0.9602753035681976</td><td>-1.0783498361191488</td><td>-0.5440929632946038</td><td>-0.059037266275475786</td><td>0.7712659440942312</td></tr><tr><td>5</td><td>-0.4065595409967291</td><td>0.04457320585940173</td><td>0.9661790301957451</td><td>-0.8023668459383113</td><td>-0.3788968200394548</td><td>0.08190609212871691</td><td>0.6448203111328922</td></tr><tr><td>6</td><td>-0.32632285640289793</td><td>0.08246288786334721</td><td>0.9579884209828734</td><td>-0.6121944039595751</td><td>-0.264865758048114</td><td>0.17289700851164913</td><td>0.5748309827128605</td></tr><tr><td>7</td><td>-0.26510341600694043</td><td>0.10894946366815861</td><td>0.9406987201317085</td><td>-0.4805586482140136</td><td>-0.18580459227292756</td><td>0.23007003595884745</td><td>0.5319301705160735</td></tr><tr><td>8</td><td>-0.21704755118553906</td><td>0.12752992289545137</td><td>0.9176917165358238</td><td>-0.38887346293980296</td><td>-0.1306717700221758</td><td>0.26440912679801043</td><td>0.5024111345027452</td></tr><tr><td>9</td><td>-0.17816020489155876</td><td>0.14059709989766894</td><td>0.8912508038560227</td><td>-0.3244725060294258</td><td>-0.09193770306587845</td><td>0.28338914891329847</td><td>0.4798444867606644</td></tr><tr><td>10</td><td>-0.1457129542886162</td><td>0.1497908702042568</td><td>0.8629118889646928</td><td>-0.2787231494082828</td><td>-0.06446613960201297</td><td>0.292094369778205</td><td>0.46118520673230873</td></tr><tr><td>20</td><td>0.0492745480312753</td><td>0.165686845641912</td><td>0.5926587417210901</td><td>-0.14310531657444725</td><td>0.011290764533732345</td><td>0.22477671257332144</td><td>0.3497939116472663</td></tr><tr><td>30</td><td>0.17274571941109315</td><td>0.14805875080659525</td><td>0.4037025970058496</td><td>-0.1027472133653688</td><td>0.02265576872061323</td><td>0.15047769182024034</td><td>0.2988635425935064</td></tr><tr><td>40</td><td>0.26210945563641863</td><td>0.12402637105510536</td><td>0.2770897850635738</td><td>-0.07466493260848356</td><td>0.024680719223310915</td><td>0.10121242622754512</td><td>0.2744340354662764</td></tr><tr><td>50</td><td>0.3270643921803662</td><td>0.09997451184957623</td><td>0.19161923186238344</td><td>-0.05427747192730792</td><td>0.022848519961134184</td><td>0.06867087996753779</td><td>0.2624147192494776</td></tr><tr><td>60</td><td>0.374283544956475</td><td>0.07855227358606383</td><td>0.13342335274389025</td><td>-0.03945728375709598</td><td>0.019547494914483945</td><td>0.04698303449339716</td><td>0.25638228199611207</td></tr><tr><td>70</td><td>0.40860975503200103</td><td>0.060621733060974306</td><td>0.09347507504863807</td><td>-0.02868368182638556</td><td>0.015969025617294366</td><td>0.03239569661112625</td><td>0.25330883444444546</td></tr><tr><td>80</td><td>0.4335633757716063</td><td>0.046175492053807936</td><td>0.06584600147925347</td><td>-0.02085175492372597</td><td>0.012661868565040972</td><td>0.022497123277763723</td><td>0.2517256669151541</td></tr><tr><td>90</td><td>0.4517035429707871</td><td>0.034828579701592526</td><td>0.04660604030824346</td><td>-0.015158294048589864</td><td>0.009835142826501324</td><td>0.015723873129826774</td><td>0.2509037317089268</td></tr><tr><td>100</td><td>0.46489063391364144</td><td>0.026073864523396936</td><td>0.03312546523902368</td><td>-0.011019402410296503</td><td>0.007527231056550229</td><td>0.011053031414363562</td><td>0.25047464252199164</td></tr><tr><td>200</td><td>0.49855289466704833</td><td>0.0011991369677355134</td><td>0.0012408861758225057</td><td>-0.0004541875223453215</td><td>0.000372474722695103</td><td>0.00039334932673860934</td><td>0.2500007960035685</td></tr><tr><td>300</td><td>0.4999403545526996</td><td>5.016171828414125e-05</td><td>5.040889569054396e-05</td><td>-1.8720280626146775e-05</td><td>1.5720718828987028e-05</td><td>1.5844307532173914e-05</td><td>0.25000000135192596</td></tr><tr><td>400</td><td>0.49999754158919696</td><td>2.0718814984876936e-06</td><td>2.073344919543944e-06</td><td>-7.715951880507846e-07</td><td>6.501431552108365e-07</td><td>6.508748657415835e-07</td><td>0.25000000000229666</td></tr><tr><td>500</td><td>0.49999989867150046</td><td>8.542271948688119e-08</td><td>8.543138371680329e-08</td><td>-3.180289586727587e-08</td><td>2.680991182393123e-08</td><td>2.681424390810009e-08</td><td>0.250000000000004</td></tr><tr><td>600</td><td>0.49999999582353577</td><td>3.5210274453775983e-09</td><td>3.521078735983054e-09</td><td>-1.3108222786596846e-09</td><td>1.1051025963135433e-09</td><td>1.10512824076713e-09</td><td>0.25</td></tr><tr><td>700</td><td>0.49999999982785837</td><td>1.4512734308189653e-10</td><td>1.4512764265409707e-10</td><td>-5.4028282824736394e-11</td><td>4.554955262412438e-11</td><td>4.554968566287122e-11</td><td>0.25</td></tr><tr><td>800</td><td>0.4999999999929048</td><td>5.981753157036155e-12</td><td>5.981753254026628e-12</td><td>-2.226920200486119e-12</td><td>1.877425168450645e-12</td><td>1.877425265441118e-12</td><td>0.25</td></tr><tr><td>900</td><td>0.49999999999970757</td><td>2.465530391283277e-13</td><td>2.4655303913090384e-13</td><td>-9.175941111330094e-14</td><td>7.741056132668509e-14</td><td>7.741056132926124e-14</td><td>0.25</td></tr><tr><td>1000</td><td>0.49999999999998795</td><td>1.0157747514446472e-14</td><td>1.0157747514446543e-14</td><td>-3.776344605472881e-15</td><td>3.163342459307986e-15</td><td>3.163342459308057e-15</td><td>0.25</td></tr><tr><td>2000</td><td>0.4999999999999996</td><td>2.7755575615628894e-16</td><td>2.7755575615628894e-16</td><td>-2.220446049250317e-16</td><td>-1.9721522630525295e-31</td><td>-1.9721522630525295e-31</td><td>0.25000000000000006</td></tr><tr><td>3000</td><td>0.4999999999999996</td><td>2.7755575615628894e-16</td><td>2.7755575615628894e-16</td><td>-2.220446049250317e-16</td><td>-1.9721522630525295e-31</td><td>-1.9721522630525295e-31</td><td>0.25000000000000006</td></tr><tr><td>4000</td><td>0.4999999999999996</td><td>2.7755575615628894e-16</td><td>2.7755575615628894e-16</td><td>-2.220446049250317e-16</td><td>-1.9721522630525295e-31</td><td>-1.9721522630525295e-31</td><td>0.25000000000000006</td></tr><tr><td>5000</td><td>0.4999999999999996</td><td>2.7755575615628894e-16</td><td>2.7755575615628894e-16</td><td>-2.220446049250317e-16</td><td>-1.9721522630525295e-31</td><td>-1.9721522630525295e-31</td><td>0.25000000000000006</td></tr></table>"
      ],
      "text/plain": [
       "<__main__.Table at 0x7f7309653860>"
      ]
     },
     "metadata": {},
     "output_type": "display_data"
    },
    {
     "data": {
      "text/html": [
       "<h2>Optimized Function:</h2>"
      ],
      "text/plain": [
       "<IPython.core.display.HTML object>"
      ]
     },
     "metadata": {},
     "output_type": "display_data"
    },
    {
     "data": {
      "image/png": "[encoded data removed]",
      "text/latex": [
       "$$2.77555756156289 \\cdot 10^{-16} x_{0} + 2.77555756156289 \\cdot 10^{-16} x_{1} + 0.5$$"
      ],
      "text/plain": [
       "2.77555756156289e-16⋅x₀ + 2.77555756156289e-16⋅x₁ + 0.5"
      ]
     },
     "metadata": {},
     "output_type": "display_data"
    },
    {
     "data": {
      "text/html": [
       "<h2>Dataset evaluation:</h2>"
      ],
      "text/plain": [
       "<IPython.core.display.HTML object>"
      ]
     },
     "metadata": {},
     "output_type": "display_data"
    },
    {
     "data": {
      "text/html": [
       "<table><tr><th title=\"\">x_0</th><th title=\"\">x_1</th><th title=\"\">Y</th><th title=\"\">Ŷ</th></tr><tr><td>0</td><td>0</td><td>0</td><td>0.5</td></tr><tr><td>0</td><td>1</td><td>1</td><td>0.5000000000000002</td></tr><tr><td>1</td><td>0</td><td>1</td><td>0.5000000000000002</td></tr><tr><td>1</td><td>1</td><td>0</td><td>0.5000000000000004</td></tr></table>"
      ],
      "text/plain": [
       "<__main__.Table at 0x7f7309604ba8>"
      ]
     },
     "metadata": {},
     "output_type": "display_data"
    },
    {
     "data": {
      "image/png": "[encoded data removed]",
      "text/latex": [
       "$$2.77555756156289 \\cdot 10^{-16} x_{0} + 2.77555756156289 \\cdot 10^{-16} x_{1} + 0.5$$"
      ],
      "text/plain": [
       "2.77555756156289e-16⋅x₀ + 2.77555756156289e-16⋅x₁ + 0.5"
      ]
     },
     "execution_count": 23,
     "metadata": {},
     "output_type": "execute_result"
    }
   ],
   "source": [
    "def linear_xor():\n",
    "    data = [\n",
    "        {'X': [0, 0], 'Y': 0},\n",
    "        {'X': [0, 1], 'Y': 1},\n",
    "        {'X': [1, 0], 'Y': 1},\n",
    "        {'X': [1, 1], 'Y': 0},\n",
    "    ]\n",
    "\n",
    "    x = SymbolVector.x\n",
    "    w = SymbolVector.w\n",
    "    bias = sympy.Symbol(\"b\")\n",
    "    \n",
    "    return optimize(\"XOR (Linear)\", x[0]*w[0] + x[1]*w[1] + bias, data)\n",
    "\n",
    "linear_xor()"
   ]
  },
  {
   "cell_type": "code",
   "execution_count": 24,
   "metadata": {
    "scrolled": false
   },
   "outputs": [
    {
     "data": {
      "text/html": [
       "<h1>Optimizing Function XOR (With extra nonlinear term x_0*x_1)</h1>"
      ],
      "text/plain": [
       "<IPython.core.display.HTML object>"
      ]
     },
     "metadata": {},
     "output_type": "display_data"
    },
    {
     "data": {
      "text/html": [
       "<h2>Function:</h2>"
      ],
      "text/plain": [
       "<IPython.core.display.HTML object>"
      ]
     },
     "metadata": {},
     "output_type": "display_data"
    },
    {
     "data": {
      "image/png": "[encoded data removed]",
      "text/latex": [
       "$$b + w_{0} x_{0} + w_{1} x_{1} + w_{2} x_{0} x_{1}$$"
      ],
      "text/plain": [
       "b + w₀⋅x₀ + w₁⋅x₁ + w₂⋅x₀⋅x₁"
      ]
     },
     "metadata": {},
     "output_type": "display_data"
    },
    {
     "data": {
      "text/html": [
       "<h2>Dataset:</h2>"
      ],
      "text/plain": [
       "<IPython.core.display.HTML object>"
      ]
     },
     "metadata": {},
     "output_type": "display_data"
    },
    {
     "data": {
      "text/html": [
       "<table><tr><th title=\"\">x_0</th><th title=\"\">x_1</th><th title=\"\">Y</th></tr><tr><td>0</td><td>0</td><td>0</td></tr><tr><td>0</td><td>1</td><td>1</td></tr><tr><td>1</td><td>0</td><td>1</td></tr><tr><td>1</td><td>1</td><td>0</td></tr></table>"
      ],
      "text/plain": [
       "<__main__.Table at 0x7f730961fe10>"
      ]
     },
     "metadata": {},
     "output_type": "display_data"
    },
    {
     "data": {
      "image/png": "[encoded data removed]",
      "text/latex": [
       "$$\\frac{b^{2}}{4} + \\frac{1}{4} \\left(b + w_{0} - 1\\right)^{2} + \\frac{1}{4} \\left(b + w_{1} - 1\\right)^{2} + \\frac{1}{4} \\left(b + w_{0} + w_{1} + w_{2}\\right)^{2}$$"
      ],
      "text/plain": [
       " 2               2               2                     2\n",
       "b    (b + w₀ - 1)    (b + w₁ - 1)    (b + w₀ + w₁ + w₂) \n",
       "── + ───────────── + ───────────── + ───────────────────\n",
       "4          4               4                  4         "
      ]
     },
     "metadata": {},
     "output_type": "display_data"
    },
    {
     "data": {
      "text/html": [
       "<h2>MSE:</h2>"
      ],
      "text/plain": [
       "<IPython.core.display.HTML object>"
      ]
     },
     "metadata": {},
     "output_type": "display_data"
    },
    {
     "data": {
      "image/png": "[encoded data removed]",
      "text/latex": [
       "$$\\frac{b^{2}}{4} + \\frac{1}{4} \\left(b + w_{0} - 1\\right)^{2} + \\frac{1}{4} \\left(b + w_{1} - 1\\right)^{2} + \\frac{1}{4} \\left(b + w_{0} + w_{1} + w_{2}\\right)^{2}$$"
      ],
      "text/plain": [
       " 2               2               2                     2\n",
       "b    (b + w₀ - 1)    (b + w₁ - 1)    (b + w₀ + w₁ + w₂) \n",
       "── + ───────────── + ───────────── + ───────────────────\n",
       "4          4               4                  4         "
      ]
     },
     "metadata": {},
     "output_type": "display_data"
    },
    {
     "data": {
      "text/html": [
       "<h2>Gradient Descent:</h2>"
      ],
      "text/plain": [
       "<IPython.core.display.HTML object>"
      ]
     },
     "metadata": {},
     "output_type": "display_data"
    },
    {
     "data": {
      "text/html": [
       "<table><tr><th title=\"\">loop</th><th title=\"\">b</th><th title=\"\">w_0</th><th title=\"\">w_1</th><th title=\"\">w_2</th><th title=\"2*b + w_0 + w_1 + w_2/2 - 1\">Derivative(b, mse)</th><th title=\"b + w_0 + w_1/2 + w_2/2 - 1/2\">Derivative(w_0, mse)</th><th title=\"b + w_0/2 + w_1 + w_2/2 - 1/2\">Derivative(w_1, mse)</th><th title=\"b/2 + w_0/2 + w_1/2 + w_2/2\">Derivative(w_2, mse)</th><th title=\"b**2/4 + (b + w_0 - 1)**2/4 + (b + w_1 - 1)**2/4 + (b + w_0 + w_1 + w_2)**2/4\">mse</th></tr><tr><td>0</td><td>0.3012938696184531</td><td>-0.21146707486270974</td><td>-0.09065258951182782</td><td>1.1634054510613578</td><td>-0.11782919960695241</td><td>0.12620322553050842</td><td>0.1866104682059494</td><td>0.5812898281526367</td><td>0.7234679763352152</td></tr><tr><td>1</td><td>0.31307678957914836</td><td>-0.2240873974157606</td><td>-0.10931363633242276</td><td>1.1052764682460943</td><td>-0.1546092204668395</td><td>0.08697080812022354</td><td>0.1443576886618924</td><td>0.5424761120385296</td><td>0.6847679621053437</td></tr><tr><td>2</td><td>0.32853771162583234</td><td>-0.23278447822778295</td><td>-0.12374940519861201</td><td>1.0510288570422412</td><td>-0.17394403165360967</td><td>0.059392959319863964</td><td>0.11391049583444944</td><td>0.5115163426208393</td><td>0.6511391888845273</td></tr><tr><td>3</td><td>0.3459321147911933</td><td>-0.23872377415976934</td><td>-0.13514045478205694</td><td>0.9998772227801573</td><td>-0.18206138796936103</td><td>0.03957672463047415</td><td>0.09136838431933031</td><td>0.48597255431476216</td><td>0.6210682682954988</td></tr><tr><td>4</td><td>0.3641382535881294</td><td>-0.24268144662281677</td><td>-0.14427729321398997</td><td>0.9512799673486811</td><td>-0.18304224898620736</td><td>0.024958144032658225</td><td>0.07416022073707168</td><td>0.4642297405500019</td><td>0.5937721847366613</td></tr><tr><td>5</td><td>0.3824424784867501</td><td>-0.2451772610260826</td><td>-0.15169331528769714</td><td>0.904856993293681</td><td>-0.17955712269343901</td><td>0.01384705646365944</td><td>0.06058902933285221</td><td>0.4452144477333257</td><td>0.5687960055387988</td></tr><tr><td>6</td><td>0.400398190756094</td><td>-0.24656196667244853</td><td>-0.15775221822098237</td><td>0.8603355485203484</td><td>-0.17335002912106873</td><td>0.0051278892333285475</td><td>0.049532763459061574</td><td>0.42820977719150577</td><td>0.5458378557201647</td></tr><tr><td>7</td><td>0.4177331936682009</td><td>-0.2470747555957814</td><td>-0.16270549456688854</td><td>0.8175145708011978</td><td>-0.1655565774256692</td><td>-0.0019370238104259307</td><td>0.0402476067040205</td><td>0.41273375715336436</td><td>0.524672198428682</td></tr><tr><td>8</td><td>0.4342888514107678</td><td>-0.2468810532147388</td><td>-0.1667302552372906</td><td>0.7762411950858614</td><td>-0.15691300808756312</td><td>-0.007836731879685643</td><td>0.03223866710903853</td><td>0.3984593690222999</td><td>0.5051156944945686</td></tr><tr><td>9</td><td>0.4499801522195241</td><td>-0.24609738002677023</td><td>-0.16995412194819445</td><td>0.7363952581836314</td><td>-0.14789356844410087</td><td>-0.012896659689527634</td><td>0.025174969349760185</td><td>0.3851619542140954</td><td>0.48701155469648616</td></tr><tr><td>10</td><td>0.46476950906393416</td><td>-0.24480771405781745</td><td>-0.17247161888317047</td><td>0.6978790627622219</td><td>-0.1388007834320086</td><td>-0.017334483054357613</td><td>0.018833564532965863</td><td>0.3726846194425841</td><td>0.47022196908111585</td></tr><tr><td>20</td><td>0.5668325961697684</td><td>-0.2131019588610188</td><td>-0.1697916666396946</td><td>0.3716673735407813</td><td>-0.06339474639078582</td><td>-0.045331509240707</td><td>-0.023676363130044925</td><td>0.2778031721049182</td><td>0.35280533290552274</td></tr><tr><td>30</td><td>0.6079344422455003</td><td>-0.16086676491022536</td><td>-0.13493529310810995</td><td>0.12309350375729862</td><td>-0.01838642164868537</td><td>-0.05885321734013074</td><td>-0.04588748143907298</td><td>0.21761294399223183</td><td>0.28561747747438365</td></tr><tr><td>40</td><td>0.6135893608598105</td><td>-0.09890972331441993</td><td>-0.08338359325767498</td><td>-0.07537303056280782</td><td>0.007198889866122271</td><td>-0.06469867436485076</td><td>-0.056935609336478246</td><td>0.1779615068624539</td><td>0.23985389261668597</td></tr><tr><td>50</td><td>0.5993536581820915</td><td>-0.03330135028427154</td><td>-0.024005282695879038</td><td>-0.2403361907841812</td><td>0.021232587991941963</td><td>-0.06611842884221011</td><td>-0.06147039504801394</td><td>0.15085541720887985</td><td>0.20472345921608087</td></tr><tr><td>60</td><td>0.5744527084620493</td><td>0.03248017485263768</td><td>0.038046073907464936</td><td>-0.3819826057735222</td><td>0.028440362797440125</td><td>-0.0650353826183416</td><td>-0.062252433090928</td><td>0.13149817572431485</td><td>0.1759554867547725</td></tr><tr><td>70</td><td>0.54432233733536</td><td>0.09649450814827124</td><td>0.09982701751246831</td><td>-0.5066413037222399</td><td>0.031645548470339485</td><td>-0.06259029762125465</td><td>-0.06092404293915604</td><td>0.11700127963692974</td><td>0.151671556203123</td></tr><tr><td>80</td><td>0.5121355435840234</td><td>0.15771197835983902</td><td>0.15970727481654165</td><td>-0.6183154227730778</td><td>0.03253262895788847</td><td>-0.05945655203440575</td><td>-0.05845890380605437</td><td>0.10561968699366314</td><td>0.1308981706816384</td></tr><tr><td>90</td><td>0.47971624993690526</td><td>0.21563884170092731</td><td>0.21683349939428664</td><td>-0.719600416876962</td><td>0.03210463253054344</td><td>-0.056028367103505144</td><td>-0.05543103825682544</td><td>0.09629408707757864</td><td>0.11302711502497512</td></tr><tr><td>100</td><td>0.4480859938024462</td><td>0.2700935671562848</td><td>0.2708088528470443</td><td>-0.8122348843202466</td><td>0.030956965448098228</td><td>-0.05253345477787014</td><td>-0.05217581193249038</td><td>0.08837676474276429</td><td>0.09761643378228614</td></tr><tr><td>200</td><td>0.2173944430535698</td><td>0.6482194622423747</td><td>0.6482236971122076</td><td>-1.43076715969782</td><td>0.015848465612812057</td><td>-0.025657825996861727</td><td>-0.025655708561945212</td><td>0.041535221355166074</td><td>0.022569787256243597</td></tr><tr><td>300</td><td>0.10454927016640457</td><td>0.8308355560320515</td><td>0.830835581104722</td><td>-1.72628594330684</td><td>0.007626705816162649</td><td>-0.01234035490260288</td><td>-0.012340342366267687</td><td>0.019967231998168966</td><td>0.005218887359415206</td></tr><tr><td>400</td><td>0.05027439126120395</td><td>0.9186543251612396</td><td>0.9186543253096832</td><td>-1.8683799318719065</td><td>0.003667467057377194</td><td>-0.005934086858668253</td><td>-0.005934086784446402</td><td>0.009601554930110057</td><td>0.0012067807905193758</td></tr><tr><td>500</td><td>0.024175310481676288</td><td>0.9608835259460602</td><td>0.9608835259469393</td><td>-1.9367082154523765</td><td>0.0017635651301639577</td><td>-0.0028535083249821014</td><td>-0.002853508324542564</td><td>0.00461707346114959</td><td>0.00027904796100701327</td></tr><tr><td>600</td><td>0.011625115942471342</td><td>0.9811901672818877</td><td>0.9811901672818927</td><td>-1.969565051339345</td><td>0.0008480407790504296</td><td>-0.0013721588043671407</td><td>-0.0013721588043645871</td><td>0.0022201995834534305</td><td>6.452519393241221e-05</td></tr><tr><td>700</td><td>0.005590137952982571</td><td>0.9909549667902735</td><td>0.9909549667902735</td><td>-1.9853648288372912</td><td>0.00040779506786670083</td><td>-0.0006598262802527399</td><td>-0.0006598262802527399</td><td>0.0010676213481192187</td><td>1.4920376543839748e-05</td></tr><tr><td>800</td><td>0.0026881144659493153</td><td>0.9956505394284437</td><td>0.9956505394284437</td><td>-1.9929624249624944</td><td>0.00019609530753883497</td><td>-0.0003172888726323819</td><td>-0.0003172888726323819</td><td>0.0005133841801712169</td><td>3.4500886032692977e-06</td></tr><tr><td>900</td><td>0.0012926263077624738</td><td>0.997908486699288</td><td>0.997908486699288</td><td>-1.9966158603915256</td><td>9.429581833830802e-05</td><td>-0.00015257383906830402</td><td>-0.00015257383906830402</td><td>0.00024686965740639</td><td>7.977755343798063e-07</td></tr><tr><td>1000</td><td>0.0006215817044568701</td><td>0.9989942596754038</td><td>0.9989942596754038</td><td>-1.9983726779709474</td><td>4.5343774247585955e-05</td><td>-7.336776791111443e-05</td><td>-7.336776791111443e-05</td><td>0.00011871154215847834</td><td>1.8447230678418528e-07</td></tr><tr><td>2000</td><td>4.1091363089463403e-07</td><td>0.9999993351277788</td><td>0.9999993351277788</td><td>-1.9999989242141478</td><td>2.9975745663435305e-08</td><td>-4.850177470760997e-08</td><td>-4.850177470760997e-08</td><td>7.847752037104527e-08</td><td>8.061870700288018e-14</td></tr><tr><td>3000</td><td>2.716457455711704e-10</td><td>0.9999999995604679</td><td>0.9999999995604679</td><td>-1.999999999288822</td><td>1.9816148721929494e-11</td><td>-3.2063462995779446e-11</td><td>-3.2063462995779446e-11</td><td>5.18797227400114e-11</td><td>3.5232275266256675e-20</td></tr><tr><td>4000</td><td>1.796959317132935e-13</td><td>0.9999999999997093</td><td>0.9999999999997093</td><td>-1.99999999999953</td><td>1.3100631690576847e-14</td><td>-2.120525977034049e-14</td><td>-2.120525977034049e-14</td><td>3.430589146091734e-14</td><td>1.54002071908763e-26</td></tr><tr><td>5000</td><td>4.369511664488824e-15</td><td>0.9999999999999925</td><td>0.9999999999999925</td><td>-1.9999999999999871</td><td>0.0</td><td>-5.551115123125783e-16</td><td>-5.551115123125783e-16</td><td>1.1102230246251565e-15</td><td>1.1188815877268732e-29</td></tr></table>"
      ],
      "text/plain": [
       "<__main__.Table at 0x7f7309565940>"
      ]
     },
     "metadata": {},
     "output_type": "display_data"
    },
    {
     "data": {
      "text/html": [
       "<h2>Optimized Function:</h2>"
      ],
      "text/plain": [
       "<IPython.core.display.HTML object>"
      ]
     },
     "metadata": {},
     "output_type": "display_data"
    },
    {
     "data": {
      "image/png": "[encoded data removed]",
      "text/latex": [
       "$$- 1.99999999999999 x_{0} x_{1} + 0.999999999999992 x_{0} + 0.999999999999992 x_{1} + 4.36951166448882 \\cdot 10^{-15}$$"
      ],
      "text/plain": [
       "-1.99999999999999⋅x₀⋅x₁ + 0.999999999999992⋅x₀ + 0.999999999999992⋅x₁ + 4.3695\n",
       "1166448882e-15"
      ]
     },
     "metadata": {},
     "output_type": "display_data"
    },
    {
     "data": {
      "text/html": [
       "<h2>Dataset evaluation:</h2>"
      ],
      "text/plain": [
       "<IPython.core.display.HTML object>"
      ]
     },
     "metadata": {},
     "output_type": "display_data"
    },
    {
     "data": {
      "text/html": [
       "<table><tr><th title=\"\">x_0</th><th title=\"\">x_1</th><th title=\"\">Y</th><th title=\"\">Ŷ</th></tr><tr><td>0</td><td>0</td><td>0</td><td>4.36951166448882e-15</td></tr><tr><td>0</td><td>1</td><td>1</td><td>0.9999999999999963</td></tr><tr><td>1</td><td>0</td><td>1</td><td>0.9999999999999963</td></tr><tr><td>1</td><td>1</td><td>0</td><td>-1.5543122344752192e-15</td></tr></table>"
      ],
      "text/plain": [
       "<__main__.Table at 0x7f7309565c88>"
      ]
     },
     "metadata": {},
     "output_type": "display_data"
    },
    {
     "data": {
      "image/png": "[encoded data removed]",
      "text/latex": [
       "$$- 1.99999999999999 x_{0} x_{1} + 0.999999999999992 x_{0} + 0.999999999999992 x_{1} + 4.36951166448882 \\cdot 10^{-15}$$"
      ],
      "text/plain": [
       "-1.99999999999999⋅x₀⋅x₁ + 0.999999999999992⋅x₀ + 0.999999999999992⋅x₁ + 4.3695\n",
       "1166448882e-15"
      ]
     },
     "execution_count": 24,
     "metadata": {},
     "output_type": "execute_result"
    }
   ],
   "source": [
    "def mul_xor():\n",
    "    data = [\n",
    "        {'X': [0, 0], 'Y': 0},\n",
    "        {'X': [0, 1], 'Y': 1},\n",
    "        {'X': [1, 0], 'Y': 1},\n",
    "        {'X': [1, 1], 'Y': 0},\n",
    "    ]\n",
    "\n",
    "    x = SymbolVector.x\n",
    "    w = SymbolVector.w\n",
    "    bias = sympy.Symbol(\"b\")\n",
    "    return optimize(\"XOR (With extra nonlinear term x_0*x_1)\", x[0]*w[0] + x[1]*w[1] + x[0]*x[1]*w[2]+ bias, data)\n",
    "    \n",
    "mul_xor()"
   ]
  },
  {
   "cell_type": "code",
   "execution_count": 25,
   "metadata": {
    "scrolled": false
   },
   "outputs": [],
   "source": [
    "class Neuron:\n",
    "    next_b = iter(SymbolVector('b'))\n",
    "    next_w = iter(SymbolVector('w'))\n",
    "    \n",
    "    def __init__(self, inputs, activation_function=None):\n",
    "        self.x = inputs\n",
    "        self.w = [next(Neuron.next_w) for input in inputs]\n",
    "        self.bias = next(Neuron.next_b)\n",
    "        self.expr = sum([x*w for x,w in zip(self.x, self.w)]) + self.bias\n",
    "        if activation_function is not None:\n",
    "            self.expr = activation_function(self.expr)\n",
    "\n",
    "\n",
    "class NeuralNetwork:\n",
    "    @staticmethod\n",
    "    def logistic(expr):\n",
    "        exp = sympy.functions.elementary.exponential.exp\n",
    "        return -1 + 2 / (1 + exp(-expr))\n",
    "    \n",
    "    def __init__(self, inputs, dims=[], activation_function=None):\n",
    "        dims = dims + [1]  # Add one last neuron to collect all the results\n",
    "        self.layers = [inputs]\n",
    "        \n",
    "        for dim in dims:\n",
    "            prev_layer = self.layers[-1]\n",
    "            self.layers.append([\n",
    "                Neuron(prev_layer, activation_function).expr\n",
    "                for i in range(dim)\n",
    "            ])\n",
    "\n",
    "        self.expr = self.layers[-1][0]\n",
    "        \n",
    "        \n",
    "#TODO: Draw a neural network"
   ]
  },
  {
   "cell_type": "code",
   "execution_count": 27,
   "metadata": {
    "scrolled": false
   },
   "outputs": [
    {
     "data": {
      "text/html": [
       "<h1>Optimizing Function XOR (2 layer net + logistic activation function)</h1>"
      ],
      "text/plain": [
       "<IPython.core.display.HTML object>"
      ]
     },
     "metadata": {},
     "output_type": "display_data"
    },
    {
     "data": {
      "text/html": [
       "<h2>Function:</h2>"
      ],
      "text/plain": [
       "<IPython.core.display.HTML object>"
      ]
     },
     "metadata": {},
     "output_type": "display_data"
    },
    {
     "data": {
      "image/png": "[encoded data removed]",
      "text/latex": [
       "$$-1 + \\frac{2}{e^{- b_{5} - w_{10} \\left(-1 + \\frac{2}{e^{- b_{3} - w_{6} x_{0} - w_{7} x_{1}} + 1}\\right) - w_{11} \\left(-1 + \\frac{2}{e^{- b_{4} - w_{8} x_{0} - w_{9} x_{1}} + 1}\\right)} + 1}$$"
      ],
      "text/plain": [
       "                                              2                               \n",
       "-1 + ─────────────────────────────────────────────────────────────────────────\n",
       "                ⎛                2            ⎞       ⎛                2      \n",
       "      -b₅ - w₁₀⋅⎜-1 + ────────────────────────⎟ - w₁₁⋅⎜-1 + ──────────────────\n",
       "                ⎜      -b₃ - w₆⋅x₀ - w₇⋅x₁    ⎟       ⎜      -b₄ - w₈⋅x₀ - w₉⋅\n",
       "                ⎝     ℯ                    + 1⎠       ⎝     ℯ                 \n",
       "     ℯ                                                                        \n",
       "\n",
       "           \n",
       "───────────\n",
       "      ⎞    \n",
       "──────⎟    \n",
       "x₁    ⎟    \n",
       "   + 1⎠    \n",
       "        + 1"
      ]
     },
     "metadata": {},
     "output_type": "display_data"
    },
    {
     "data": {
      "text/html": [
       "<h2>Dataset:</h2>"
      ],
      "text/plain": [
       "<IPython.core.display.HTML object>"
      ]
     },
     "metadata": {},
     "output_type": "display_data"
    },
    {
     "data": {
      "text/html": [
       "<table><tr><th title=\"\">x_0</th><th title=\"\">x_1</th><th title=\"\">Y</th></tr><tr><td>0</td><td>0</td><td>0</td></tr><tr><td>0</td><td>1</td><td>1</td></tr><tr><td>1</td><td>0</td><td>1</td></tr><tr><td>1</td><td>1</td><td>0</td></tr></table>"
      ],
      "text/plain": [
       "<__main__.Table at 0x7f73094df780>"
      ]
     },
     "metadata": {},
     "output_type": "display_data"
    },
    {
     "data": {
      "image/png": "[encoded data removed]",
      "text/latex": [
       "$$\\frac{1}{4} \\left(-2 + \\frac{2}{e^{- b_{5} - w_{10} \\left(-1 + \\frac{2}{e^{- b_{3} - w_{6}} + 1}\\right) - w_{11} \\left(-1 + \\frac{2}{e^{- b_{4} - w_{8}} + 1}\\right)} + 1}\\right)^{2} + \\frac{1}{4} \\left(-2 + \\frac{2}{e^{- b_{5} - w_{10} \\left(-1 + \\frac{2}{e^{- b_{3} - w_{7}} + 1}\\right) - w_{11} \\left(-1 + \\frac{2}{e^{- b_{4} - w_{9}} + 1}\\right)} + 1}\\right)^{2} + \\frac{1}{4} \\left(-1 + \\frac{2}{e^{- b_{5} - w_{10} \\left(-1 + \\frac{2}{1 + e^{- b_{3}}}\\right) - w_{11} \\left(-1 + \\frac{2}{1 + e^{- b_{4}}}\\right)} + 1}\\right)^{2} + \\frac{1}{4} \\left(-1 + \\frac{2}{e^{- b_{5} - w_{10} \\left(-1 + \\frac{2}{e^{- b_{3} - w_{6} - w_{7}} + 1}\\right) - w_{11} \\left(-1 + \\frac{2}{e^{- b_{4} - w_{8} - w_{9}} + 1}\\right)} + 1}\\right)^{2}$$"
      ],
      "text/plain": [
       "                                                                     2        \n",
       "⎛                                   2                               ⎞    ⎛    \n",
       "⎜-2 + ──────────────────────────────────────────────────────────────⎟    ⎜-2 +\n",
       "⎜                ⎛           2      ⎞       ⎛           2      ⎞    ⎟    ⎜    \n",
       "⎜      -b₅ - w₁₀⋅⎜-1 + ─────────────⎟ - w₁₁⋅⎜-1 + ─────────────⎟    ⎟    ⎜    \n",
       "⎜                ⎜      -b₃ - w₆    ⎟       ⎜      -b₄ - w₈    ⎟    ⎟    ⎜    \n",
       "⎜                ⎝     ℯ         + 1⎠       ⎝     ℯ         + 1⎠    ⎟    ⎜    \n",
       "⎝     ℯ                                                          + 1⎠    ⎝    \n",
       "────────────────────────────────────────────────────────────────────── + ─────\n",
       "                                  4                                           \n",
       "\n",
       "                                                                2             \n",
       "                               2                               ⎞    ⎛         \n",
       " ──────────────────────────────────────────────────────────────⎟    ⎜-1 + ────\n",
       "            ⎛           2      ⎞       ⎛           2      ⎞    ⎟    ⎜         \n",
       "  -b₅ - w₁₀⋅⎜-1 + ─────────────⎟ - w₁₁⋅⎜-1 + ─────────────⎟    ⎟    ⎜      -b₅\n",
       "            ⎜      -b₃ - w₇    ⎟       ⎜      -b₄ - w₉    ⎟    ⎟    ⎜         \n",
       "            ⎝     ℯ         + 1⎠       ⎝     ℯ         + 1⎠    ⎟    ⎜         \n",
       " ℯ                                                          + 1⎠    ⎝     ℯ   \n",
       "───────────────────────────────────────────────────────────────── + ──────────\n",
       "                             4                                                \n",
       "\n",
       "                                                 2                            \n",
       "                     2                          ⎞    ⎛                        \n",
       "────────────────────────────────────────────────⎟    ⎜-1 + ───────────────────\n",
       "       ⎛        2    ⎞       ⎛        2    ⎞    ⎟    ⎜                ⎛       \n",
       " - w₁₀⋅⎜-1 + ────────⎟ - w₁₁⋅⎜-1 + ────────⎟    ⎟    ⎜      -b₅ - w₁₀⋅⎜-1 + ──\n",
       "       ⎜          -b₃⎟       ⎜          -b₄⎟    ⎟    ⎜                ⎜      -\n",
       "       ⎝     1 + ℯ   ⎠       ⎝     1 + ℯ   ⎠    ⎟    ⎜                ⎝     ℯ \n",
       "                                             + 1⎠    ⎝     ℯ                  \n",
       "────────────────────────────────────────────────── + ─────────────────────────\n",
       "                   4                                                          \n",
       "\n",
       "                                                      2\n",
       "                2                                    ⎞ \n",
       "─────────────────────────────────────────────────────⎟ \n",
       "      2         ⎞       ⎛             2         ⎞    ⎟ \n",
       "────────────────⎟ - w₁₁⋅⎜-1 + ──────────────────⎟    ⎟ \n",
       "b₃ - w₆ - w₇    ⎟       ⎜      -b₄ - w₈ - w₉    ⎟    ⎟ \n",
       "             + 1⎠       ⎝     ℯ              + 1⎠    ⎟ \n",
       "                                                  + 1⎠ \n",
       "───────────────────────────────────────────────────────\n",
       "              4                                        "
      ]
     },
     "metadata": {},
     "output_type": "display_data"
    },
    {
     "data": {
      "text/html": [
       "<h2>MSE:</h2>"
      ],
      "text/plain": [
       "<IPython.core.display.HTML object>"
      ]
     },
     "metadata": {},
     "output_type": "display_data"
    },
    {
     "data": {
      "image/png": "[encoded data removed]",
      "text/latex": [
       "$$\\frac{1}{4} \\left(-2 + \\frac{2}{e^{- b_{5} - w_{10} \\left(-1 + \\frac{2}{e^{- b_{3} - w_{6}} + 1}\\right) - w_{11} \\left(-1 + \\frac{2}{e^{- b_{4} - w_{8}} + 1}\\right)} + 1}\\right)^{2} + \\frac{1}{4} \\left(-2 + \\frac{2}{e^{- b_{5} - w_{10} \\left(-1 + \\frac{2}{e^{- b_{3} - w_{7}} + 1}\\right) - w_{11} \\left(-1 + \\frac{2}{e^{- b_{4} - w_{9}} + 1}\\right)} + 1}\\right)^{2} + \\frac{1}{4} \\left(-1 + \\frac{2}{e^{- b_{5} - w_{10} \\left(-1 + \\frac{2}{1 + e^{- b_{3}}}\\right) - w_{11} \\left(-1 + \\frac{2}{1 + e^{- b_{4}}}\\right)} + 1}\\right)^{2} + \\frac{1}{4} \\left(-1 + \\frac{2}{e^{- b_{5} - w_{10} \\left(-1 + \\frac{2}{e^{- b_{3} - w_{6} - w_{7}} + 1}\\right) - w_{11} \\left(-1 + \\frac{2}{e^{- b_{4} - w_{8} - w_{9}} + 1}\\right)} + 1}\\right)^{2}$$"
      ],
      "text/plain": [
       "                                                                     2        \n",
       "⎛                                   2                               ⎞    ⎛    \n",
       "⎜-2 + ──────────────────────────────────────────────────────────────⎟    ⎜-2 +\n",
       "⎜                ⎛           2      ⎞       ⎛           2      ⎞    ⎟    ⎜    \n",
       "⎜      -b₅ - w₁₀⋅⎜-1 + ─────────────⎟ - w₁₁⋅⎜-1 + ─────────────⎟    ⎟    ⎜    \n",
       "⎜                ⎜      -b₃ - w₆    ⎟       ⎜      -b₄ - w₈    ⎟    ⎟    ⎜    \n",
       "⎜                ⎝     ℯ         + 1⎠       ⎝     ℯ         + 1⎠    ⎟    ⎜    \n",
       "⎝     ℯ                                                          + 1⎠    ⎝    \n",
       "────────────────────────────────────────────────────────────────────── + ─────\n",
       "                                  4                                           \n",
       "\n",
       "                                                                2             \n",
       "                               2                               ⎞    ⎛         \n",
       " ──────────────────────────────────────────────────────────────⎟    ⎜-1 + ────\n",
       "            ⎛           2      ⎞       ⎛           2      ⎞    ⎟    ⎜         \n",
       "  -b₅ - w₁₀⋅⎜-1 + ─────────────⎟ - w₁₁⋅⎜-1 + ─────────────⎟    ⎟    ⎜      -b₅\n",
       "            ⎜      -b₃ - w₇    ⎟       ⎜      -b₄ - w₉    ⎟    ⎟    ⎜         \n",
       "            ⎝     ℯ         + 1⎠       ⎝     ℯ         + 1⎠    ⎟    ⎜         \n",
       " ℯ                                                          + 1⎠    ⎝     ℯ   \n",
       "───────────────────────────────────────────────────────────────── + ──────────\n",
       "                             4                                                \n",
       "\n",
       "                                                 2                            \n",
       "                     2                          ⎞    ⎛                        \n",
       "────────────────────────────────────────────────⎟    ⎜-1 + ───────────────────\n",
       "       ⎛        2    ⎞       ⎛        2    ⎞    ⎟    ⎜                ⎛       \n",
       " - w₁₀⋅⎜-1 + ────────⎟ - w₁₁⋅⎜-1 + ────────⎟    ⎟    ⎜      -b₅ - w₁₀⋅⎜-1 + ──\n",
       "       ⎜          -b₃⎟       ⎜          -b₄⎟    ⎟    ⎜                ⎜      -\n",
       "       ⎝     1 + ℯ   ⎠       ⎝     1 + ℯ   ⎠    ⎟    ⎜                ⎝     ℯ \n",
       "                                             + 1⎠    ⎝     ℯ                  \n",
       "────────────────────────────────────────────────── + ─────────────────────────\n",
       "                   4                                                          \n",
       "\n",
       "                                                      2\n",
       "                2                                    ⎞ \n",
       "─────────────────────────────────────────────────────⎟ \n",
       "      2         ⎞       ⎛             2         ⎞    ⎟ \n",
       "────────────────⎟ - w₁₁⋅⎜-1 + ──────────────────⎟    ⎟ \n",
       "b₃ - w₆ - w₇    ⎟       ⎜      -b₄ - w₈ - w₉    ⎟    ⎟ \n",
       "             + 1⎠       ⎝     ℯ              + 1⎠    ⎟ \n",
       "                                                  + 1⎠ \n",
       "───────────────────────────────────────────────────────\n",
       "              4                                        "
      ]
     },
     "metadata": {},
     "output_type": "display_data"
    },
    {
     "data": {
      "text/html": [
       "<h2>Gradient Descent:</h2>"
      ],
      "text/plain": [
       "<IPython.core.display.HTML object>"
      ]
     },
     "metadata": {},
     "output_type": "display_data"
    },
    {
     "data": {
      "text/html": [
       "<table><tr><th title=\"\">loop</th><th title=\"\">b_3</th><th title=\"\">b_4</th><th title=\"\">b_5</th><th title=\"\">w_10</th><th title=\"\">w_11</th><th title=\"\">w_6</th><th title=\"\">w_7</th><th title=\"\">w_8</th><th title=\"\">w_9</th><th title=\"2*w_10*(-2 + 2/(exp(-b_5 - w_10*(-1 + 2/(exp(-b_3 - w_6) + 1)) - w_11*(-1 + 2/(exp(-b_4 - w_8) + 1))) + 1))*exp(-b_3 - w_6)*exp(-b_5 - w_10*(-1 + 2/(exp(-b_3 - w_6) + 1)) - w_11*(-1 + 2/(exp(-b_4 - w_8) + 1)))/((exp(-b_3 - w_6) + 1)**2*(exp(-b_5 - w_10*(-1 + 2/(exp(-b_3 - w_6) + 1)) - w_11*(-1 + 2/(exp(-b_4 - w_8) + 1))) + 1)**2) + 2*w_10*(-2 + 2/(exp(-b_5 - w_10*(-1 + 2/(exp(-b_3 - w_7) + 1)) - w_11*(-1 + 2/(exp(-b_4 - w_9) + 1))) + 1))*exp(-b_3 - w_7)*exp(-b_5 - w_10*(-1 + 2/(exp(-b_3 - w_7) + 1)) - w_11*(-1 + 2/(exp(-b_4 - w_9) + 1)))/((exp(-b_3 - w_7) + 1)**2*(exp(-b_5 - w_10*(-1 + 2/(exp(-b_3 - w_7) + 1)) - w_11*(-1 + 2/(exp(-b_4 - w_9) + 1))) + 1)**2) + 2*w_10*(-1 + 2/(exp(-b_5 - w_10*(-1 + 2/(1 + exp(-b_3))) - w_11*(-1 + 2/(1 + exp(-b_4)))) + 1))*exp(-b_3)*exp(-b_5 - w_10*(-1 + 2/(1 + exp(-b_3))) - w_11*(-1 + 2/(1 + exp(-b_4))))/((1 + exp(-b_3))**2*(exp(-b_5 - w_10*(-1 + 2/(1 + exp(-b_3))) - w_11*(-1 + 2/(1 + exp(-b_4)))) + 1)**2) + 2*w_10*(-1 + 2/(exp(-b_5 - w_10*(-1 + 2/(exp(-b_3 - w_6 - w_7) + 1)) - w_11*(-1 + 2/(exp(-b_4 - w_8 - w_9) + 1))) + 1))*exp(-b_3 - w_6 - w_7)*exp(-b_5 - w_10*(-1 + 2/(exp(-b_3 - w_6 - w_7) + 1)) - w_11*(-1 + 2/(exp(-b_4 - w_8 - w_9) + 1)))/((exp(-b_3 - w_6 - w_7) + 1)**2*(exp(-b_5 - w_10*(-1 + 2/(exp(-b_3 - w_6 - w_7) + 1)) - w_11*(-1 + 2/(exp(-b_4 - w_8 - w_9) + 1))) + 1)**2)\">Derivative(b_3, mse)</th><th title=\"2*w_11*(-2 + 2/(exp(-b_5 - w_10*(-1 + 2/(exp(-b_3 - w_6) + 1)) - w_11*(-1 + 2/(exp(-b_4 - w_8) + 1))) + 1))*exp(-b_4 - w_8)*exp(-b_5 - w_10*(-1 + 2/(exp(-b_3 - w_6) + 1)) - w_11*(-1 + 2/(exp(-b_4 - w_8) + 1)))/((exp(-b_4 - w_8) + 1)**2*(exp(-b_5 - w_10*(-1 + 2/(exp(-b_3 - w_6) + 1)) - w_11*(-1 + 2/(exp(-b_4 - w_8) + 1))) + 1)**2) + 2*w_11*(-2 + 2/(exp(-b_5 - w_10*(-1 + 2/(exp(-b_3 - w_7) + 1)) - w_11*(-1 + 2/(exp(-b_4 - w_9) + 1))) + 1))*exp(-b_4 - w_9)*exp(-b_5 - w_10*(-1 + 2/(exp(-b_3 - w_7) + 1)) - w_11*(-1 + 2/(exp(-b_4 - w_9) + 1)))/((exp(-b_4 - w_9) + 1)**2*(exp(-b_5 - w_10*(-1 + 2/(exp(-b_3 - w_7) + 1)) - w_11*(-1 + 2/(exp(-b_4 - w_9) + 1))) + 1)**2) + 2*w_11*(-1 + 2/(exp(-b_5 - w_10*(-1 + 2/(1 + exp(-b_3))) - w_11*(-1 + 2/(1 + exp(-b_4)))) + 1))*exp(-b_4)*exp(-b_5 - w_10*(-1 + 2/(1 + exp(-b_3))) - w_11*(-1 + 2/(1 + exp(-b_4))))/((1 + exp(-b_4))**2*(exp(-b_5 - w_10*(-1 + 2/(1 + exp(-b_3))) - w_11*(-1 + 2/(1 + exp(-b_4)))) + 1)**2) + 2*w_11*(-1 + 2/(exp(-b_5 - w_10*(-1 + 2/(exp(-b_3 - w_6 - w_7) + 1)) - w_11*(-1 + 2/(exp(-b_4 - w_8 - w_9) + 1))) + 1))*exp(-b_4 - w_8 - w_9)*exp(-b_5 - w_10*(-1 + 2/(exp(-b_3 - w_6 - w_7) + 1)) - w_11*(-1 + 2/(exp(-b_4 - w_8 - w_9) + 1)))/((exp(-b_4 - w_8 - w_9) + 1)**2*(exp(-b_5 - w_10*(-1 + 2/(exp(-b_3 - w_6 - w_7) + 1)) - w_11*(-1 + 2/(exp(-b_4 - w_8 - w_9) + 1))) + 1)**2)\">Derivative(b_4, mse)</th><th title=\"(-2 + 2/(exp(-b_5 - w_10*(-1 + 2/(exp(-b_3 - w_6) + 1)) - w_11*(-1 + 2/(exp(-b_4 - w_8) + 1))) + 1))*exp(-b_5 - w_10*(-1 + 2/(exp(-b_3 - w_6) + 1)) - w_11*(-1 + 2/(exp(-b_4 - w_8) + 1)))/(exp(-b_5 - w_10*(-1 + 2/(exp(-b_3 - w_6) + 1)) - w_11*(-1 + 2/(exp(-b_4 - w_8) + 1))) + 1)**2 + (-2 + 2/(exp(-b_5 - w_10*(-1 + 2/(exp(-b_3 - w_7) + 1)) - w_11*(-1 + 2/(exp(-b_4 - w_9) + 1))) + 1))*exp(-b_5 - w_10*(-1 + 2/(exp(-b_3 - w_7) + 1)) - w_11*(-1 + 2/(exp(-b_4 - w_9) + 1)))/(exp(-b_5 - w_10*(-1 + 2/(exp(-b_3 - w_7) + 1)) - w_11*(-1 + 2/(exp(-b_4 - w_9) + 1))) + 1)**2 + (-1 + 2/(exp(-b_5 - w_10*(-1 + 2/(1 + exp(-b_3))) - w_11*(-1 + 2/(1 + exp(-b_4)))) + 1))*exp(-b_5 - w_10*(-1 + 2/(1 + exp(-b_3))) - w_11*(-1 + 2/(1 + exp(-b_4))))/(exp(-b_5 - w_10*(-1 + 2/(1 + exp(-b_3))) - w_11*(-1 + 2/(1 + exp(-b_4)))) + 1)**2 + (-1 + 2/(exp(-b_5 - w_10*(-1 + 2/(exp(-b_3 - w_6 - w_7) + 1)) - w_11*(-1 + 2/(exp(-b_4 - w_8 - w_9) + 1))) + 1))*exp(-b_5 - w_10*(-1 + 2/(exp(-b_3 - w_6 - w_7) + 1)) - w_11*(-1 + 2/(exp(-b_4 - w_8 - w_9) + 1)))/(exp(-b_5 - w_10*(-1 + 2/(exp(-b_3 - w_6 - w_7) + 1)) - w_11*(-1 + 2/(exp(-b_4 - w_8 - w_9) + 1))) + 1)**2\">Derivative(b_5, mse)</th><th title=\"-(-2 + 2/(exp(-b_5 - w_10*(-1 + 2/(exp(-b_3 - w_6) + 1)) - w_11*(-1 + 2/(exp(-b_4 - w_8) + 1))) + 1))*(1 - 2/(exp(-b_3 - w_6) + 1))*exp(-b_5 - w_10*(-1 + 2/(exp(-b_3 - w_6) + 1)) - w_11*(-1 + 2/(exp(-b_4 - w_8) + 1)))/(exp(-b_5 - w_10*(-1 + 2/(exp(-b_3 - w_6) + 1)) - w_11*(-1 + 2/(exp(-b_4 - w_8) + 1))) + 1)**2 - (-2 + 2/(exp(-b_5 - w_10*(-1 + 2/(exp(-b_3 - w_7) + 1)) - w_11*(-1 + 2/(exp(-b_4 - w_9) + 1))) + 1))*(1 - 2/(exp(-b_3 - w_7) + 1))*exp(-b_5 - w_10*(-1 + 2/(exp(-b_3 - w_7) + 1)) - w_11*(-1 + 2/(exp(-b_4 - w_9) + 1)))/(exp(-b_5 - w_10*(-1 + 2/(exp(-b_3 - w_7) + 1)) - w_11*(-1 + 2/(exp(-b_4 - w_9) + 1))) + 1)**2 - (-1 + 2/(exp(-b_5 - w_10*(-1 + 2/(1 + exp(-b_3))) - w_11*(-1 + 2/(1 + exp(-b_4)))) + 1))*(1 - 2/(1 + exp(-b_3)))*exp(-b_5 - w_10*(-1 + 2/(1 + exp(-b_3))) - w_11*(-1 + 2/(1 + exp(-b_4))))/(exp(-b_5 - w_10*(-1 + 2/(1 + exp(-b_3))) - w_11*(-1 + 2/(1 + exp(-b_4)))) + 1)**2 - (-1 + 2/(exp(-b_5 - w_10*(-1 + 2/(exp(-b_3 - w_6 - w_7) + 1)) - w_11*(-1 + 2/(exp(-b_4 - w_8 - w_9) + 1))) + 1))*(1 - 2/(exp(-b_3 - w_6 - w_7) + 1))*exp(-b_5 - w_10*(-1 + 2/(exp(-b_3 - w_6 - w_7) + 1)) - w_11*(-1 + 2/(exp(-b_4 - w_8 - w_9) + 1)))/(exp(-b_5 - w_10*(-1 + 2/(exp(-b_3 - w_6 - w_7) + 1)) - w_11*(-1 + 2/(exp(-b_4 - w_8 - w_9) + 1))) + 1)**2\">Derivative(w_10, mse)</th><th title=\"-(-2 + 2/(exp(-b_5 - w_10*(-1 + 2/(exp(-b_3 - w_6) + 1)) - w_11*(-1 + 2/(exp(-b_4 - w_8) + 1))) + 1))*(1 - 2/(exp(-b_4 - w_8) + 1))*exp(-b_5 - w_10*(-1 + 2/(exp(-b_3 - w_6) + 1)) - w_11*(-1 + 2/(exp(-b_4 - w_8) + 1)))/(exp(-b_5 - w_10*(-1 + 2/(exp(-b_3 - w_6) + 1)) - w_11*(-1 + 2/(exp(-b_4 - w_8) + 1))) + 1)**2 - (-2 + 2/(exp(-b_5 - w_10*(-1 + 2/(exp(-b_3 - w_7) + 1)) - w_11*(-1 + 2/(exp(-b_4 - w_9) + 1))) + 1))*(1 - 2/(exp(-b_4 - w_9) + 1))*exp(-b_5 - w_10*(-1 + 2/(exp(-b_3 - w_7) + 1)) - w_11*(-1 + 2/(exp(-b_4 - w_9) + 1)))/(exp(-b_5 - w_10*(-1 + 2/(exp(-b_3 - w_7) + 1)) - w_11*(-1 + 2/(exp(-b_4 - w_9) + 1))) + 1)**2 - (-1 + 2/(exp(-b_5 - w_10*(-1 + 2/(1 + exp(-b_3))) - w_11*(-1 + 2/(1 + exp(-b_4)))) + 1))*(1 - 2/(1 + exp(-b_4)))*exp(-b_5 - w_10*(-1 + 2/(1 + exp(-b_3))) - w_11*(-1 + 2/(1 + exp(-b_4))))/(exp(-b_5 - w_10*(-1 + 2/(1 + exp(-b_3))) - w_11*(-1 + 2/(1 + exp(-b_4)))) + 1)**2 - (-1 + 2/(exp(-b_5 - w_10*(-1 + 2/(exp(-b_3 - w_6 - w_7) + 1)) - w_11*(-1 + 2/(exp(-b_4 - w_8 - w_9) + 1))) + 1))*(1 - 2/(exp(-b_4 - w_8 - w_9) + 1))*exp(-b_5 - w_10*(-1 + 2/(exp(-b_3 - w_6 - w_7) + 1)) - w_11*(-1 + 2/(exp(-b_4 - w_8 - w_9) + 1)))/(exp(-b_5 - w_10*(-1 + 2/(exp(-b_3 - w_6 - w_7) + 1)) - w_11*(-1 + 2/(exp(-b_4 - w_8 - w_9) + 1))) + 1)**2\">Derivative(w_11, mse)</th><th title=\"2*w_10*(-2 + 2/(exp(-b_5 - w_10*(-1 + 2/(exp(-b_3 - w_6) + 1)) - w_11*(-1 + 2/(exp(-b_4 - w_8) + 1))) + 1))*exp(-b_3 - w_6)*exp(-b_5 - w_10*(-1 + 2/(exp(-b_3 - w_6) + 1)) - w_11*(-1 + 2/(exp(-b_4 - w_8) + 1)))/((exp(-b_3 - w_6) + 1)**2*(exp(-b_5 - w_10*(-1 + 2/(exp(-b_3 - w_6) + 1)) - w_11*(-1 + 2/(exp(-b_4 - w_8) + 1))) + 1)**2) + 2*w_10*(-1 + 2/(exp(-b_5 - w_10*(-1 + 2/(exp(-b_3 - w_6 - w_7) + 1)) - w_11*(-1 + 2/(exp(-b_4 - w_8 - w_9) + 1))) + 1))*exp(-b_3 - w_6 - w_7)*exp(-b_5 - w_10*(-1 + 2/(exp(-b_3 - w_6 - w_7) + 1)) - w_11*(-1 + 2/(exp(-b_4 - w_8 - w_9) + 1)))/((exp(-b_3 - w_6 - w_7) + 1)**2*(exp(-b_5 - w_10*(-1 + 2/(exp(-b_3 - w_6 - w_7) + 1)) - w_11*(-1 + 2/(exp(-b_4 - w_8 - w_9) + 1))) + 1)**2)\">Derivative(w_6, mse)</th><th title=\"2*w_10*(-2 + 2/(exp(-b_5 - w_10*(-1 + 2/(exp(-b_3 - w_7) + 1)) - w_11*(-1 + 2/(exp(-b_4 - w_9) + 1))) + 1))*exp(-b_3 - w_7)*exp(-b_5 - w_10*(-1 + 2/(exp(-b_3 - w_7) + 1)) - w_11*(-1 + 2/(exp(-b_4 - w_9) + 1)))/((exp(-b_3 - w_7) + 1)**2*(exp(-b_5 - w_10*(-1 + 2/(exp(-b_3 - w_7) + 1)) - w_11*(-1 + 2/(exp(-b_4 - w_9) + 1))) + 1)**2) + 2*w_10*(-1 + 2/(exp(-b_5 - w_10*(-1 + 2/(exp(-b_3 - w_6 - w_7) + 1)) - w_11*(-1 + 2/(exp(-b_4 - w_8 - w_9) + 1))) + 1))*exp(-b_3 - w_6 - w_7)*exp(-b_5 - w_10*(-1 + 2/(exp(-b_3 - w_6 - w_7) + 1)) - w_11*(-1 + 2/(exp(-b_4 - w_8 - w_9) + 1)))/((exp(-b_3 - w_6 - w_7) + 1)**2*(exp(-b_5 - w_10*(-1 + 2/(exp(-b_3 - w_6 - w_7) + 1)) - w_11*(-1 + 2/(exp(-b_4 - w_8 - w_9) + 1))) + 1)**2)\">Derivative(w_7, mse)</th><th title=\"2*w_11*(-2 + 2/(exp(-b_5 - w_10*(-1 + 2/(exp(-b_3 - w_6) + 1)) - w_11*(-1 + 2/(exp(-b_4 - w_8) + 1))) + 1))*exp(-b_4 - w_8)*exp(-b_5 - w_10*(-1 + 2/(exp(-b_3 - w_6) + 1)) - w_11*(-1 + 2/(exp(-b_4 - w_8) + 1)))/((exp(-b_4 - w_8) + 1)**2*(exp(-b_5 - w_10*(-1 + 2/(exp(-b_3 - w_6) + 1)) - w_11*(-1 + 2/(exp(-b_4 - w_8) + 1))) + 1)**2) + 2*w_11*(-1 + 2/(exp(-b_5 - w_10*(-1 + 2/(exp(-b_3 - w_6 - w_7) + 1)) - w_11*(-1 + 2/(exp(-b_4 - w_8 - w_9) + 1))) + 1))*exp(-b_4 - w_8 - w_9)*exp(-b_5 - w_10*(-1 + 2/(exp(-b_3 - w_6 - w_7) + 1)) - w_11*(-1 + 2/(exp(-b_4 - w_8 - w_9) + 1)))/((exp(-b_4 - w_8 - w_9) + 1)**2*(exp(-b_5 - w_10*(-1 + 2/(exp(-b_3 - w_6 - w_7) + 1)) - w_11*(-1 + 2/(exp(-b_4 - w_8 - w_9) + 1))) + 1)**2)\">Derivative(w_8, mse)</th><th title=\"2*w_11*(-2 + 2/(exp(-b_5 - w_10*(-1 + 2/(exp(-b_3 - w_7) + 1)) - w_11*(-1 + 2/(exp(-b_4 - w_9) + 1))) + 1))*exp(-b_4 - w_9)*exp(-b_5 - w_10*(-1 + 2/(exp(-b_3 - w_7) + 1)) - w_11*(-1 + 2/(exp(-b_4 - w_9) + 1)))/((exp(-b_4 - w_9) + 1)**2*(exp(-b_5 - w_10*(-1 + 2/(exp(-b_3 - w_7) + 1)) - w_11*(-1 + 2/(exp(-b_4 - w_9) + 1))) + 1)**2) + 2*w_11*(-1 + 2/(exp(-b_5 - w_10*(-1 + 2/(exp(-b_3 - w_6 - w_7) + 1)) - w_11*(-1 + 2/(exp(-b_4 - w_8 - w_9) + 1))) + 1))*exp(-b_4 - w_8 - w_9)*exp(-b_5 - w_10*(-1 + 2/(exp(-b_3 - w_6 - w_7) + 1)) - w_11*(-1 + 2/(exp(-b_4 - w_8 - w_9) + 1)))/((exp(-b_4 - w_8 - w_9) + 1)**2*(exp(-b_5 - w_10*(-1 + 2/(exp(-b_3 - w_6 - w_7) + 1)) - w_11*(-1 + 2/(exp(-b_4 - w_8 - w_9) + 1))) + 1)**2)\">Derivative(w_9, mse)</th><th title=\"(-2 + 2/(exp(-b_5 - w_10*(-1 + 2/(exp(-b_3 - w_6) + 1)) - w_11*(-1 + 2/(exp(-b_4 - w_8) + 1))) + 1))**2/4 + (-2 + 2/(exp(-b_5 - w_10*(-1 + 2/(exp(-b_3 - w_7) + 1)) - w_11*(-1 + 2/(exp(-b_4 - w_9) + 1))) + 1))**2/4 + (-1 + 2/(exp(-b_5 - w_10*(-1 + 2/(1 + exp(-b_3))) - w_11*(-1 + 2/(1 + exp(-b_4)))) + 1))**2/4 + (-1 + 2/(exp(-b_5 - w_10*(-1 + 2/(exp(-b_3 - w_6 - w_7) + 1)) - w_11*(-1 + 2/(exp(-b_4 - w_8 - w_9) + 1))) + 1))**2/4\">mse</th></tr><tr><td>0</td><td>-0.6622145686544084</td><td>0.9900621877374756</td><td>-1.3062194024038098</td><td>1.1022679780915532</td><td>-1.560335109384465</td><td>0.6239982414841027</td><td>0.6654320408213535</td><td>1.6422701461097864</td><td>0.34737941715635334</td><td>-0.2143303998306677</td><td>0.15326323405684594</td><td>-0.4014708495311987</td><td>0.0030098065538297428</td><td>-0.27861415903889286</td><td>-0.09420520422689688</td><td>-0.1203198382203185</td><td>0.031223121897617626</td><td>0.0914184637385293</td><td>2.0331580305253225</td></tr><tr><td>1</td><td>-0.6407815286713416</td><td>0.9747358643317909</td><td>-1.26607231745069</td><td>1.1019669974361703</td><td>-1.5324736934805758</td><td>0.6334187619067924</td><td>0.6774640246433854</td><td>1.6391478339200247</td><td>0.3382375707825004</td><td>-0.2272644665529281</td><td>0.16157016737074759</td><td>-0.42614002829737574</td><td>-0.0036992105471258044</td><td>-0.29382215777712223</td><td>-0.09997993190270418</td><td>-0.1271781932938416</td><td>0.03332483866970347</td><td>0.0968189269702321</td><td>1.9980637477094114</td></tr><tr><td>2</td><td>-0.6180550820160489</td><td>0.9585788475947161</td><td>-1.2234583146209526</td><td>1.1023369184908829</td><td>-1.5030914777028637</td><td>0.6434167550970628</td><td>0.6901818439727696</td><td>1.6358153500530543</td><td>0.3285556780854772</td><td>-0.24126899046461464</td><td>0.17038413479516287</td><td>-0.4528541826073308</td><td>-0.01165817315216151</td><td>-0.31007201759910674</td><td>-0.1062616008239835</td><td>-0.13449000863421537</td><td>0.035615621414917004</td><td>0.10255922429604611</td><td>1.9586818925055893</td></tr><tr><td>3</td><td>-0.5939281829695874</td><td>0.9415404341151998</td><td>-1.1781728963602194</td><td>1.1035027358060991</td><td>-1.472084275942953</td><td>0.6540429151794611</td><td>0.7036308448361911</td><td>1.6322537879115626</td><td>0.3182997556558726</td><td>-0.2563705783843936</td><td>0.17965990318554548</td><td>-0.4816542697889065</td><td>-0.021063583585360982</td><td>-0.3273256019780491</td><td>-0.11307377203852317</td><td>-0.14222491591399772</td><td>0.03810158326131137</td><td>0.10860554375576961</td><td>1.914396521516379</td></tr><tr><td>4</td><td>-0.568291125131148</td><td>0.9235744437966453</td><td>-1.1300074693813287</td><td>1.1056090941646353</td><td>-1.439351715745148</td><td>0.6653502923833134</td><td>0.7178533364275909</td><td>1.6284436295854314</td><td>0.3074392012802956</td><td>-0.27255125044855755</td><td>0.18930731757995362</td><td>-0.5124897167575578</td><td>-0.03211946131745046</td><td>-0.34547507845335385</td><td>-0.12042357220512798</td><td>-0.15031520991808534</td><td>0.04078068400390466</td><td>0.11489152065534475</td><td>1.8645275041263591</td></tr><tr><td>5</td><td>-0.5410360000862923</td><td>0.90464371203865</td><td>-1.0787584977055729</td><td>1.1088210402963803</td><td>-1.4048042078998126</td><td>0.6773926496038263</td><td>0.7328848574193993</td><td>1.624365561185041</td><td>0.29595004921476115</td><td>-0.28972264730185454</td><td>0.19917290420302552</td><td>-0.5451663051842177</td><td>-0.0450197667087356</td><td>-0.36431057663597455</td><td>-0.1282906764298284</td><td>-0.15863958681190268</td><td>0.043637637670296235</td><td>0.12130510779292271</td><td>1.808347763090468</td></tr><tr><td>6</td><td>-0.5120637353561068</td><td>0.8847264216183475</td><td>-1.0242418671871512</td><td>1.1133230169672539</td><td>-1.368373150236215</td><td>0.6902217172468091</td><td>0.7487488161005896</td><td>1.6200017974180114</td><td>0.28381953843546887</td><td>-0.3076914531640131</td><td>0.2090177122101987</td><td>-0.5792765080047713</td><td>-0.059918251918386636</td><td>-0.383479213918495</td><td>-0.13661198487665716</td><td>-0.16700324007647055</td><td>0.04663693948789573</td><td>0.12767306266339482</td><td>1.7451196637392967</td></tr><tr><td>7</td><td>-0.48129459003970554</td><td>0.8638246503973276</td><td>-0.966314216386674</td><td>1.1193148421590926</td><td>-1.3300252288443657</td><td>0.7038829157344748</td><td>0.7654491401082367</td><td>1.6153381034692218</td><td>0.2710522321691294</td><td>-0.32611639619220734</td><td>0.21849359182421407</td><td>-0.6141132569071164</td><td>-0.07688147008816477</td><td>-0.40243773560634466</td><td>-0.14526170513592748</td><td>-0.17511617193827564</td><td>0.04971401631849419</td><td>0.13374496976258932</td><td>1.6741600045112097</td></tr><tr><td>8</td><td>-0.4486829504204848</td><td>0.8419752912149062</td><td>-0.9049028906959624</td><td>1.127002989167909</td><td>-1.2897814552837312</td><td>0.7184090862480675</td><td>0.7829607573020643</td><td>1.6103667018373724</td><td>0.25767773519287046</td><td>-0.34446091061583856</td><td>0.22712335307382717</td><td>-0.64857589867936</td><td>-0.09582243919327701</td><td>-0.42040626348259363</td><td>-0.15402801880578593</td><td>-0.182574591024808</td><td>0.0527652961839145</td><td>0.13918122125704868</td><td>1.594943902066882</td></tr><tr><td>9</td><td>-0.4142368593589009</td><td>0.8192629559075235</td><td>-0.8400453008280264</td><td>1.1365852330872366</td><td>-1.247740828935472</td><td>0.7338118881286462</td><td>0.801218216404545</td><td>1.605090172218981</td><td>0.2437596130671656</td><td>-0.3619523068384689</td><td>0.23429504000258788</td><td>-0.6810911788738707</td><td>-0.11641827278869116</td><td>-0.43633924142236613</td><td>-0.16259045465930777</td><td>-0.18885480264656582</td><td>0.055639501047974244</td><td>0.14355290250441474</td><td>1.5072546855811337</td></tr><tr><td>10</td><td>-0.37804162867505403</td><td>0.7958334519072647</td><td>-0.7719361829406394</td><td>1.1482270603661058</td><td>-1.2041069047932353</td><td>0.750070933594577</td><td>0.8201036966692017</td><td>1.5995262221141835</td><td>0.22940432281672413</td><td>-0.37756795951821454</td><td>0.2392857378570365</td><td>-0.7095921129696591</td><td>-0.13802709827880835</td><td>-0.4489405627313966</td><td>-0.17050673090594168</td><td>-0.1933339808238851</td><td>0.05813471125625202</td><td>0.14636496420793374</td><td>1.4113755630755955</td></tr><tr><td>20</td><td>-0.007939806384522862</td><td>0.5892298957814348</td><td>-0.09018485331895132</td><td>1.3433676308972418</td><td>-0.7981654836674248</td><td>0.9227466643384736</td><td>0.987972853438909</td><td>1.5450253254095783</td><td>0.10647604157758504</td><td>-0.27759423381554604</td><td>0.12643144483195062</td><td>-0.4890859169313819</td><td>-0.1881403421175698</td><td>-0.2677060313243148</td><td>-0.13665912479639872</td><td>-0.10502050722134626</td><td>0.035867480690016426</td><td>0.07182544918241159</td><td>0.48902470699414236</td></tr><tr><td>30</td><td>0.1816122906569262</td><td>0.5116796620747642</td><td>0.23218304452251232</td><td>1.4792172160439505</td><td>-0.6282688032078098</td><td>1.022287615134201</td><td>1.0567438410700523</td><td>1.5229785004114567</td><td>0.06158948599836428</td><td>-0.11147243054021365</td><td>0.03901610389312235</td><td>-0.17883700269802993</td><td>-0.08514925237479017</td><td>-0.08964122976654075</td><td>-0.06710156330498028</td><td>-0.04083444355489635</td><td>0.011047897137662556</td><td>0.02469438182700116</td><td>0.27244159447809524</td></tr><tr><td>40</td><td>0.2616663690840936</td><td>0.48552770495558717</td><td>0.35592835821351615</td><td>1.542115972322856</td><td>-0.5672261092764773</td><td>1.0768349298257736</td><td>1.0885274618305818</td><td>1.5155769197136701</td><td>0.04315491398791003</td><td>-0.0520861980603154</td><td>0.015316249108901527</td><td>-0.07540024901994516</td><td>-0.042771245051305584</td><td>-0.036464001087423814</td><td>-0.043535373576203344</td><td>-0.02421329985044164</td><td>0.004348639772826101</td><td>0.013244616881783855</td><td>0.23755733119995787</td></tr><tr><td>50</td><td>0.3011217840718951</td><td>0.47467222461491676</td><td>0.41001403746809384</td><td>1.575604041313268</td><td>-0.5412568925282222</td><td>1.1155120591701568</td><td>1.1096773922095544</td><td>1.5124771676522974</td><td>0.03200256933083025</td><td>-0.027520280379223338</td><td>0.006767944388529226</td><td>-0.034113641762682514</td><td>-0.024676568688591638</td><td>-0.01621930351070186</td><td>-0.034115510293666634</td><td>-0.01837475049406601</td><td>0.0019527032007654061</td><td>0.009243159208889988</td><td>0.2290574684133815</td></tr><tr><td>60</td><td>0.3226546371383714</td><td>0.46984972145153747</td><td>0.43426246225833187</td><td>1.5958460808973125</td><td>-0.5298057148141956</td><td>1.1473550168103832</td><td>1.1267773461681525</td><td>1.5110790797696814</td><td>0.02366465195487442</td><td>-0.015662710361979207</td><td>0.0029516379125299943</td><td>-0.014639974667432262</td><td>-0.015902748977011716</td><td>-0.006808923299914713</td><td>-0.02961440361650783</td><td>-0.015903749728914736</td><td>0.0008570487360119294</td><td>0.007466809585929764</td><td>0.22606386478989615</td></tr><tr><td>70</td><td>0.33518519484804</td><td>0.4678617261724064</td><td>0.44384704723889173</td><td>1.6094572162606595</td><td>-0.5254545709426726</td><td>1.1757727050799511</td><td>1.1421071631243436</td><td>1.5105132679360194</td><td>0.016648849547700684</td><td>-0.009391604303146173</td><td>0.0010366112890661406</td><td>-0.0045550567424711835</td><td>-0.011334936826836797</td><td>-0.0018884889075167083</td><td>-0.027210512905219947</td><td>-0.014789403481845605</td><td>0.00026954725540630393</td><td>0.0065683750579857755</td><td>0.2245157674641135</td></tr><tr><td>80</td><td>0.342838174377687</td><td>0.4673359082422067</td><td>0.4456651176307644</td><td>1.6195654633933525</td><td>-0.5249370560865753</td><td>1.2023009135934803</td><td>1.1566433682492843</td><td>1.5104161545022812</td><td>0.010324450875534744</td><td>-0.005885731491572895</td><td>1.4822929524704875e-05</td><td>0.0009350671346049222</td><td>-0.008885038452272176</td><td>0.0008836579285856766</td><td>-0.02582503152715759</td><td>-0.014305596653740007</td><td>-8.430004294839033e-05</td><td>0.006077558535293027</td><td>0.22339660961501873</td></tr><tr><td>90</td><td>0.3477197255717054</td><td>0.46760062189195184</td><td>0.4432072872477837</td><td>1.6277921585154282</td><td>-0.5266301577051603</td><td>1.2277114678578258</td><td>1.1708549426657315</td><td>1.510613234061859</td><td>0.0043864576630763645</td><td>-0.0038497792467170194</td><td>-0.0005456090792161222</td><td>0.003996404876864534</td><td>-0.0075743754602222435</td><td>0.00253395916642761</td><td>-0.024974948857643946</td><td>-0.014136922068991635</td><td>-0.0003193946083607721</td><td>0.005794520563278107</td><td>0.22241333926831797</td></tr><tr><td>100</td><td>0.35097053350286694</td><td>0.4683002364054525</td><td>0.4383562847717631</td><td>1.6350242885682207</td><td>-0.5296661467444653</td><td>1.2524189449550827</td><td>1.1849792910291417</td><td>1.5110134128761505</td><td>-0.001324172395086102</td><td>-0.0026289837124631836</td><td>-0.000853905944142197</td><td>0.005713820134778405</td><td>-0.0069000843263840594</td><td>0.003565918398757792</td><td>-0.024420581259555544</td><td>-0.014129508765722342</td><td>-0.0004903172259398021</td><td>0.005622871820326348</td><td>0.22147455342818811</td></tr><tr><td>200</td><td>0.3591891742119927</td><td>0.47919111122339914</td><td>0.3658662896695076</td><td>1.7030929613818298</td><td>-0.58352428513063</td><td>1.4848354626029328</td><td>1.3312603368728226</td><td>1.5211147550637092</td><td>-0.054194443464453276</td><td>9.676716624697212e-07</td><td>-0.0010333678078944773</td><td>0.00717565676293426</td><td>-0.0073780626793592125</td><td>0.0063791439863023075</td><td>-0.022436319813806012</td><td>-0.015038265047634062</td><td>-0.001465902025193394</td><td>0.0050132838539638305</td><td>0.21232905878561753</td></tr><tr><td>300</td><td>0.3551215600287927</td><td>0.4882268510924006</td><td>0.29949722052350103</td><td>1.7818397382857791</td><td>-0.6528448374426075</td><td>1.702682089865718</td><td>1.4816022501424049</td><td>1.5400923950609162</td><td>-0.10073639640377528</td><td>0.0007303197408065412</td><td>-0.0007683850488959462</td><td>0.00607723071431325</td><td>-0.008238121185987463</td><td>0.007402342901191669</td><td>-0.021120903619420695</td><td>-0.014861004555957243</td><td>-0.002340321872461689</td><td>0.004228972603904729</td><td>0.2035151806446698</td></tr><tr><td>400</td><td>0.34640042467391907</td><td>0.49446047190948933</td><td>0.24416792715798086</td><td>1.865196392457344</td><td>-0.7299889872146541</td><td>1.9072306905743264</td><td>1.6261585448167077</td><td>1.567786290490692</td><td>-0.1378939307964212</td><td>0.0009364696523127894</td><td>-0.00046622786735600087</td><td>0.004987748569773132</td><td>-0.008324430695962184</td><td>0.007969858196990587</td><td>-0.01976589549029311</td><td>-0.013962739724230937</td><td>-0.0031983471343843602</td><td>0.0031552957764386</td><td>0.19541615080037797</td></tr><tr><td>500</td><td>0.3375909711168482</td><td>0.4973882056870117</td><td>0.19930417184711227</td><td>1.9467015197936568</td><td>-0.8111538784584639</td><td>2.0980274492647344</td><td>1.7599883410663402</td><td>1.6036560833984468</td><td>-0.16350251790230405</td><td>0.0007869533341369811</td><td>-0.00010615557117772678</td><td>0.003997409519246001</td><td>-0.007918747735152623</td><td>0.008222148223910694</td><td>-0.018379578200569784</td><td>-0.012766894435961861</td><td>-0.003959811086717491</td><td>0.0019453558770356066</td><td>0.18825432822463442</td></tr><tr><td>600</td><td>0.33094405349379874</td><td>0.4964518806022293</td><td>0.16361355869565525</td><td>2.023050388870769</td><td>-0.8936999219263975</td><td>2.2750784398782105</td><td>1.8814764354881244</td><td>1.6463240874062133</td><td>-0.17698280282796883</td><td>0.0005434398483235492</td><td>0.00030480888991258476</td><td>0.0031600318284883133</td><td>-0.007337927380687129</td><td>0.008258517564875556</td><td>-0.01702857116129269</td><td>-0.011524523975952824</td><td>-0.004545195731009756</td><td>0.0007519907131064464</td><td>0.18204418458872235</td></tr><tr><td>700</td><td>0.32639256915691384</td><td>0.4912131574370424</td><td>0.13547045098857147</td><td>2.0936515504280786</td><td>-0.9758717310711007</td><td>2.439042415339199</td><td>1.9908911303080636</td><td>1.6937676642919874</td><td>-0.17905601094523912</td><td>0.0003884264609581825</td><td>0.0007524621419723113</td><td>0.0024891261773677675</td><td>-0.006793017028930509</td><td>0.008157664677410817</td><td>-0.015770479379548664</td><td>-0.010367228276418953</td><td>-0.00490850048379891</td><td>-0.00032358008878586447</td><td>0.17667296910632962</td></tr><tr><td>800</td><td>0.3226608897412091</td><td>0.4813626971216108</td><td>0.11325440685198013</td><td>2.159356915772608</td><td>-1.0566208741611613</td><td>2.5910202949750194</td><td>2.0893933703558294</td><td>1.7437028707833866</td><td>-0.171131762700509</td><td>0.00038279985924813756</td><td>0.0012261191578231863</td><td>0.001973143923972978</td><td>-0.006364633514286108</td><td>0.0079824781896332</td><td>-0.014635391283017673</td><td>-0.0093475589761862</td><td>-0.005042796061884321</td><td>-0.0012445587759785312</td><td>0.17199141417069816</td></tr><tr><td>900</td><td>0.3182979514275848</td><td>0.46666922172048997</td><td>0.09551398727183746</td><td>2.2213676930804684</td><td>-1.1354542326617445</td><td>2.7322929482387566</td><td>2.1784260178171393</td><td>1.7939203646509607</td><td>-0.1547303372104681</td><td>0.0005098890321671374</td><td>0.0017209524668157956</td><td>0.0015917742400489016</td><td>-0.006051336489347997</td><td>0.00778105864562198</td><td>-0.013630595343284937</td><td>-0.008473994812046384</td><td>-0.004967294857487238</td><td>-0.002022156738727233</td><td>0.1678616702604302</td></tr><tr><td>1000</td><td>0.31217449831072736</td><td>0.4469217353679732</td><td>0.08100719898617299</td><td>2.2806949909339282</td><td>-1.2122902219759608</td><td>2.8641427039474463</td><td>2.2594049730615007</td><td>1.8424605730634074</td><td>-0.13112064153693292</td><td>0.0007290551709716834</td><td>0.00223770857547562</td><td>0.0013242914686506652</td><td>-0.005823455970643057</td><td>0.007587814680057536</td><td>-0.012750503092673138</td><td>-0.0077355969605749425</td><td>-0.004710208660427036</td><td>-0.002692072480550093</td><td>0.16416901779933868</td></tr><tr><td>2000</td><td>0.010040850909438634</td><td>-0.2199661668210813</td><td>-0.1108356210048809</td><td>2.8111577356885347</td><td>-2.0574592012880206</td><td>3.87279666382898</td><td>2.850019681636152</td><td>1.8346480845625233</td><td>0.5303988359814784</td><td>0.007765698147594706</td><td>0.016076918672906414</td><td>0.0059431409697045245</td><td>-0.004541361009586603</td><td>0.014194703001804879</td><td>-0.008387367177645046</td><td>-0.005705395606485644</td><td>0.010272634813340904</td><td>-0.013825044905465302</td><td>0.12555160658710357</td></tr><tr><td>3000</td><td>-0.9831141900564039</td><td>-1.916851016890851</td><td>-1.139458063279373</td><td>3.348154824051115</td><td>-3.678729854154461</td><td>4.357830214172942</td><td>3.603247528835181</td><td>1.652034802715169</td><td>1.5228695368546932</td><td>0.004727874598566666</td><td>0.008885781941578744</td><td>0.005309173588720245</td><td>-0.005363024483996299</td><td>0.0075737426407142955</td><td>-0.0022800983113558534</td><td>-0.004634713480605085</td><td>-0.0036825278984375064</td><td>-0.0040490646373545595</td><td>0.013905349712242134</td></tr><tr><td>4000</td><td>-1.225406577004995</td><td>-2.443609280963707</td><td>-1.4173216876443329</td><td>3.694907389068664</td><td>-4.1150856544884915</td><td>4.495950402482519</td><td>3.868820564317778</td><td>1.884092430507176</td><td>1.7721266487084164</td><td>0.0012434912157734516</td><td>0.003156524321261879</td><td>0.0014363516035835848</td><td>-0.0022356684867952305</td><td>0.002587381168327776</td><td>-0.0008454720053818621</td><td>-0.0015408581997621103</td><td>-0.001458149142596057</td><td>-0.0015467928739628925</td><td>0.0036984907752047654</td></tr><tr><td>5000</td><td>-1.3113382868809662</td><td>-2.675287033251371</td><td>-1.51565452182744</td><td>3.8639694384967975</td><td>-4.306193210711826</td><td>4.55869259978003</td><td>3.9807139388403634</td><td>1.9931143278733596</td><td>1.8874561120731728</td><td>0.0006040189077744228</td><td>0.001726389331281334</td><td>0.0006813524678052968</td><td>-0.001297578824966263</td><td>0.0014371229420729271</td><td>-0.0004730880037103342</td><td>-0.0008259943360285328</td><td>-0.000827480946681336</td><td>-0.0008732471068677926</td><td>0.001870060611249576</td></tr></table>"
      ],
      "text/plain": [
       "<__main__.Table at 0x7f7309274860>"
      ]
     },
     "metadata": {},
     "output_type": "display_data"
    },
    {
     "data": {
      "text/html": [
       "<h2>Optimized Function:</h2>"
      ],
      "text/plain": [
       "<IPython.core.display.HTML object>"
      ]
     },
     "metadata": {},
     "output_type": "display_data"
    },
    {
     "data": {
      "image/png": "[encoded data removed]",
      "text/latex": [
       "$$-1 + \\frac{2}{2.92555711860858 e^{\\frac{8.61267384601207}{14.5190222965978 e^{- 1.99319707596803 x_{0} - 1.88754343678386 x_{1}} + 1} - \\frac{7.72819839275859}{3.71136112270832 e^{- 4.5587399085804 x_{0} - 3.98079653827397 x_{1}} + 1}} + 1}$$"
      ],
      "text/plain": [
       "                                                                              \n",
       "-1 + ─────────────────────────────────────────────────────────────────────────\n",
       "                                               8.61267384601207               \n",
       "                       ───────────────────────────────────────────────────────\n",
       "                                         -1.99319707596803⋅x₀ - 1.887543436783\n",
       "                       14.5190222965978⋅ℯ                                     \n",
       "     2.92555711860858⋅ℯ                                                       \n",
       "\n",
       "  2                                                                           \n",
       "──────────────────────────────────────────────────────────────────────────────\n",
       "                                    7.72819839275859                          \n",
       "───────── - ───────────────────────────────────────────────────────────────   \n",
       "86⋅x₁                         -4.5587399085804⋅x₀ - 3.98079653827397⋅x₁       \n",
       "      + 1   3.71136112270832⋅ℯ                                          + 1   \n",
       "                                                                            + \n",
       "\n",
       " \n",
       "─\n",
       " \n",
       " \n",
       " \n",
       " \n",
       "1"
      ]
     },
     "metadata": {},
     "output_type": "display_data"
    },
    {
     "data": {
      "text/html": [
       "<h2>Dataset evaluation:</h2>"
      ],
      "text/plain": [
       "<IPython.core.display.HTML object>"
      ]
     },
     "metadata": {},
     "output_type": "display_data"
    },
    {
     "data": {
      "text/html": [
       "<table><tr><th title=\"\">x_0</th><th title=\"\">x_1</th><th title=\"\">Y</th><th title=\"\">Ŷ</th></tr><tr><td>0</td><td>0</td><td>0</td><td>0.005936031869234304</td></tr><tr><td>0</td><td>1</td><td>1</td><td>0.9391408175801232</td></tr><tr><td>1</td><td>0</td><td>1</td><td>0.9398627686842662</td></tr><tr><td>1</td><td>1</td><td>0</td><td>0.01098705961229185</td></tr></table>"
      ],
      "text/plain": [
       "<__main__.Table at 0x7f7309b9bd68>"
      ]
     },
     "metadata": {},
     "output_type": "display_data"
    },
    {
     "data": {
      "image/png": "[encoded data removed]",
      "text/latex": [
       "$$-1 + \\frac{2}{2.92555711860858 e^{\\frac{8.61267384601207}{14.5190222965978 e^{- 1.99319707596803 x_{0} - 1.88754343678386 x_{1}} + 1} - \\frac{7.72819839275859}{3.71136112270832 e^{- 4.5587399085804 x_{0} - 3.98079653827397 x_{1}} + 1}} + 1}$$"
      ],
      "text/plain": [
       "                                                                              \n",
       "-1 + ─────────────────────────────────────────────────────────────────────────\n",
       "                                               8.61267384601207               \n",
       "                       ───────────────────────────────────────────────────────\n",
       "                                         -1.99319707596803⋅x₀ - 1.887543436783\n",
       "                       14.5190222965978⋅ℯ                                     \n",
       "     2.92555711860858⋅ℯ                                                       \n",
       "\n",
       "  2                                                                           \n",
       "──────────────────────────────────────────────────────────────────────────────\n",
       "                                    7.72819839275859                          \n",
       "───────── - ───────────────────────────────────────────────────────────────   \n",
       "86⋅x₁                         -4.5587399085804⋅x₀ - 3.98079653827397⋅x₁       \n",
       "      + 1   3.71136112270832⋅ℯ                                          + 1   \n",
       "                                                                            + \n",
       "\n",
       " \n",
       "─\n",
       " \n",
       " \n",
       " \n",
       " \n",
       "1"
      ]
     },
     "execution_count": 27,
     "metadata": {},
     "output_type": "execute_result"
    }
   ],
   "source": [
    "def neural_xor():\n",
    "    data = [\n",
    "        {'X': [0, 0], 'Y': 0},\n",
    "        {'X': [0, 1], 'Y': 1},\n",
    "        {'X': [1, 0], 'Y': 1},\n",
    "        {'X': [1, 1], 'Y': 0},\n",
    "    ]\n",
    "    x = SymbolVector.x\n",
    "\n",
    "    neural_network = NeuralNetwork(inputs=x[0:2], dims=[2], activation_function=NeuralNetwork.logistic)\n",
    "    return optimize(\"XOR (2 layer net + logistic activation function)\", neural_network.expr, data, simplify=False)\n",
    "\n",
    "neural_xor()    "
   ]
  },
  {
   "cell_type": "code",
   "execution_count": 28,
   "metadata": {
    "scrolled": false
   },
   "outputs": [
    {
     "data": {
      "text/html": [
       "<h1>Optimizing Function NAND (2 layer net + logistic activation function)</h1>"
      ],
      "text/plain": [
       "<IPython.core.display.HTML object>"
      ]
     },
     "metadata": {},
     "output_type": "display_data"
    },
    {
     "data": {
      "text/html": [
       "<h2>Function:</h2>"
      ],
      "text/plain": [
       "<IPython.core.display.HTML object>"
      ]
     },
     "metadata": {},
     "output_type": "display_data"
    },
    {
     "data": {
      "image/png": "[encoded data removed]",
      "text/latex": [
       "$$-1 + \\frac{2}{e^{- b_{8} - w_{16} \\left(-1 + \\frac{2}{e^{- b_{6} - w_{12} x_{0} - w_{13} x_{1}} + 1}\\right) - w_{17} \\left(-1 + \\frac{2}{e^{- b_{7} - w_{14} x_{0} - w_{15} x_{1}} + 1}\\right)} + 1}$$"
      ],
      "text/plain": [
       "                                                2                             \n",
       "-1 + ─────────────────────────────────────────────────────────────────────────\n",
       "                ⎛                 2             ⎞       ⎛                 2   \n",
       "      -b₈ - w₁₆⋅⎜-1 + ──────────────────────────⎟ - w₁₇⋅⎜-1 + ────────────────\n",
       "                ⎜      -b₆ - w₁₂⋅x₀ - w₁₃⋅x₁    ⎟       ⎜      -b₇ - w₁₄⋅x₀ - \n",
       "                ⎝     ℯ                      + 1⎠       ⎝     ℯ               \n",
       "     ℯ                                                                        \n",
       "\n",
       "               \n",
       "───────────────\n",
       "          ⎞    \n",
       "──────────⎟    \n",
       "w₁₅⋅x₁    ⎟    \n",
       "       + 1⎠    \n",
       "            + 1"
      ]
     },
     "metadata": {},
     "output_type": "display_data"
    },
    {
     "data": {
      "text/html": [
       "<h2>Dataset:</h2>"
      ],
      "text/plain": [
       "<IPython.core.display.HTML object>"
      ]
     },
     "metadata": {},
     "output_type": "display_data"
    },
    {
     "data": {
      "text/html": [
       "<table><tr><th title=\"\">x_0</th><th title=\"\">x_1</th><th title=\"\">Y</th></tr><tr><td>0</td><td>0</td><td>1</td></tr><tr><td>0</td><td>1</td><td>1</td></tr><tr><td>1</td><td>0</td><td>1</td></tr><tr><td>1</td><td>1</td><td>0</td></tr></table>"
      ],
      "text/plain": [
       "<__main__.Table at 0x7f73094bd320>"
      ]
     },
     "metadata": {},
     "output_type": "display_data"
    },
    {
     "data": {
      "image/png": "[encoded data removed]",
      "text/latex": [
       "$$\\frac{1}{4} \\left(-2 + \\frac{2}{e^{- b_{8} - w_{16} \\left(-1 + \\frac{2}{1 + e^{- b_{6}}}\\right) - w_{17} \\left(-1 + \\frac{2}{1 + e^{- b_{7}}}\\right)} + 1}\\right)^{2} + \\frac{1}{4} \\left(-2 + \\frac{2}{e^{- b_{8} - w_{16} \\left(-1 + \\frac{2}{e^{- b_{6} - w_{12}} + 1}\\right) - w_{17} \\left(-1 + \\frac{2}{e^{- b_{7} - w_{14}} + 1}\\right)} + 1}\\right)^{2} + \\frac{1}{4} \\left(-2 + \\frac{2}{e^{- b_{8} - w_{16} \\left(-1 + \\frac{2}{e^{- b_{6} - w_{13}} + 1}\\right) - w_{17} \\left(-1 + \\frac{2}{e^{- b_{7} - w_{15}} + 1}\\right)} + 1}\\right)^{2} + \\frac{1}{4} \\left(-1 + \\frac{2}{e^{- b_{8} - w_{16} \\left(-1 + \\frac{2}{e^{- b_{6} - w_{12} - w_{13}} + 1}\\right) - w_{17} \\left(-1 + \\frac{2}{e^{- b_{7} - w_{14} - w_{15}} + 1}\\right)} + 1}\\right)^{2}$$"
      ],
      "text/plain": [
       "                                                           2                  \n",
       "⎛                              2                          ⎞    ⎛              \n",
       "⎜-2 + ────────────────────────────────────────────────────⎟    ⎜-2 + ─────────\n",
       "⎜                ⎛        2    ⎞       ⎛        2    ⎞    ⎟    ⎜              \n",
       "⎜      -b₈ - w₁₆⋅⎜-1 + ────────⎟ - w₁₇⋅⎜-1 + ────────⎟    ⎟    ⎜      -b₈ - w₁\n",
       "⎜                ⎜          -b₆⎟       ⎜          -b₇⎟    ⎟    ⎜              \n",
       "⎜                ⎝     1 + ℯ   ⎠       ⎝     1 + ℯ   ⎠    ⎟    ⎜              \n",
       "⎝     ℯ                                                + 1⎠    ⎝     ℯ        \n",
       "──────────────────────────────────────────────────────────── + ───────────────\n",
       "                             4                                                \n",
       "\n",
       "                                                        2                     \n",
       "                      2                                ⎞    ⎛                 \n",
       "───────────────────────────────────────────────────────⎟    ⎜-2 + ────────────\n",
       "  ⎛           2       ⎞       ⎛           2       ⎞    ⎟    ⎜                ⎛\n",
       "₆⋅⎜-1 + ──────────────⎟ - w₁₇⋅⎜-1 + ──────────────⎟    ⎟    ⎜      -b₈ - w₁₆⋅⎜\n",
       "  ⎜      -b₆ - w₁₂    ⎟       ⎜      -b₇ - w₁₄    ⎟    ⎟    ⎜                ⎜\n",
       "  ⎝     ℯ          + 1⎠       ⎝     ℯ          + 1⎠    ⎟    ⎜                ⎝\n",
       "                                                    + 1⎠    ⎝     ℯ           \n",
       "───────────────────────────────────────────────────────── + ──────────────────\n",
       "                    4                                                         \n",
       "\n",
       "                                                     2                        \n",
       "                   2                                ⎞    ⎛                    \n",
       "────────────────────────────────────────────────────⎟    ⎜-1 + ───────────────\n",
       "           2       ⎞       ⎛           2       ⎞    ⎟    ⎜                ⎛   \n",
       "-1 + ──────────────⎟ - w₁₇⋅⎜-1 + ──────────────⎟    ⎟    ⎜      -b₈ - w₁₆⋅⎜-1 \n",
       "      -b₆ - w₁₃    ⎟       ⎜      -b₇ - w₁₅    ⎟    ⎟    ⎜                ⎜   \n",
       "     ℯ          + 1⎠       ⎝     ℯ          + 1⎠    ⎟    ⎜                ⎝   \n",
       "                                                 + 1⎠    ⎝     ℯ              \n",
       "────────────────────────────────────────────────────── + ─────────────────────\n",
       "                 4                                                            \n",
       "\n",
       "                                                              2\n",
       "                      2                                      ⎞ \n",
       "─────────────────────────────────────────────────────────────⎟ \n",
       "           2          ⎞       ⎛              2          ⎞    ⎟ \n",
       "+ ────────────────────⎟ - w₁₇⋅⎜-1 + ────────────────────⎟    ⎟ \n",
       "   -b₆ - w₁₂ - w₁₃    ⎟       ⎜      -b₇ - w₁₄ - w₁₅    ⎟    ⎟ \n",
       "  ℯ                + 1⎠       ⎝     ℯ                + 1⎠    ⎟ \n",
       "                                                          + 1⎠ \n",
       "───────────────────────────────────────────────────────────────\n",
       "                    4                                          "
      ]
     },
     "metadata": {},
     "output_type": "display_data"
    },
    {
     "data": {
      "text/html": [
       "<h2>MSE:</h2>"
      ],
      "text/plain": [
       "<IPython.core.display.HTML object>"
      ]
     },
     "metadata": {},
     "output_type": "display_data"
    },
    {
     "data": {
      "image/png": "[encoded data removed]",
      "text/latex": [
       "$$\\frac{1}{4} \\left(-2 + \\frac{2}{e^{- b_{8} - w_{16} \\left(-1 + \\frac{2}{1 + e^{- b_{6}}}\\right) - w_{17} \\left(-1 + \\frac{2}{1 + e^{- b_{7}}}\\right)} + 1}\\right)^{2} + \\frac{1}{4} \\left(-2 + \\frac{2}{e^{- b_{8} - w_{16} \\left(-1 + \\frac{2}{e^{- b_{6} - w_{12}} + 1}\\right) - w_{17} \\left(-1 + \\frac{2}{e^{- b_{7} - w_{14}} + 1}\\right)} + 1}\\right)^{2} + \\frac{1}{4} \\left(-2 + \\frac{2}{e^{- b_{8} - w_{16} \\left(-1 + \\frac{2}{e^{- b_{6} - w_{13}} + 1}\\right) - w_{17} \\left(-1 + \\frac{2}{e^{- b_{7} - w_{15}} + 1}\\right)} + 1}\\right)^{2} + \\frac{1}{4} \\left(-1 + \\frac{2}{e^{- b_{8} - w_{16} \\left(-1 + \\frac{2}{e^{- b_{6} - w_{12} - w_{13}} + 1}\\right) - w_{17} \\left(-1 + \\frac{2}{e^{- b_{7} - w_{14} - w_{15}} + 1}\\right)} + 1}\\right)^{2}$$"
      ],
      "text/plain": [
       "                                                           2                  \n",
       "⎛                              2                          ⎞    ⎛              \n",
       "⎜-2 + ────────────────────────────────────────────────────⎟    ⎜-2 + ─────────\n",
       "⎜                ⎛        2    ⎞       ⎛        2    ⎞    ⎟    ⎜              \n",
       "⎜      -b₈ - w₁₆⋅⎜-1 + ────────⎟ - w₁₇⋅⎜-1 + ────────⎟    ⎟    ⎜      -b₈ - w₁\n",
       "⎜                ⎜          -b₆⎟       ⎜          -b₇⎟    ⎟    ⎜              \n",
       "⎜                ⎝     1 + ℯ   ⎠       ⎝     1 + ℯ   ⎠    ⎟    ⎜              \n",
       "⎝     ℯ                                                + 1⎠    ⎝     ℯ        \n",
       "──────────────────────────────────────────────────────────── + ───────────────\n",
       "                             4                                                \n",
       "\n",
       "                                                        2                     \n",
       "                      2                                ⎞    ⎛                 \n",
       "───────────────────────────────────────────────────────⎟    ⎜-2 + ────────────\n",
       "  ⎛           2       ⎞       ⎛           2       ⎞    ⎟    ⎜                ⎛\n",
       "₆⋅⎜-1 + ──────────────⎟ - w₁₇⋅⎜-1 + ──────────────⎟    ⎟    ⎜      -b₈ - w₁₆⋅⎜\n",
       "  ⎜      -b₆ - w₁₂    ⎟       ⎜      -b₇ - w₁₄    ⎟    ⎟    ⎜                ⎜\n",
       "  ⎝     ℯ          + 1⎠       ⎝     ℯ          + 1⎠    ⎟    ⎜                ⎝\n",
       "                                                    + 1⎠    ⎝     ℯ           \n",
       "───────────────────────────────────────────────────────── + ──────────────────\n",
       "                    4                                                         \n",
       "\n",
       "                                                     2                        \n",
       "                   2                                ⎞    ⎛                    \n",
       "────────────────────────────────────────────────────⎟    ⎜-1 + ───────────────\n",
       "           2       ⎞       ⎛           2       ⎞    ⎟    ⎜                ⎛   \n",
       "-1 + ──────────────⎟ - w₁₇⋅⎜-1 + ──────────────⎟    ⎟    ⎜      -b₈ - w₁₆⋅⎜-1 \n",
       "      -b₆ - w₁₃    ⎟       ⎜      -b₇ - w₁₅    ⎟    ⎟    ⎜                ⎜   \n",
       "     ℯ          + 1⎠       ⎝     ℯ          + 1⎠    ⎟    ⎜                ⎝   \n",
       "                                                 + 1⎠    ⎝     ℯ              \n",
       "────────────────────────────────────────────────────── + ─────────────────────\n",
       "                 4                                                            \n",
       "\n",
       "                                                              2\n",
       "                      2                                      ⎞ \n",
       "─────────────────────────────────────────────────────────────⎟ \n",
       "           2          ⎞       ⎛              2          ⎞    ⎟ \n",
       "+ ────────────────────⎟ - w₁₇⋅⎜-1 + ────────────────────⎟    ⎟ \n",
       "   -b₆ - w₁₂ - w₁₃    ⎟       ⎜      -b₇ - w₁₄ - w₁₅    ⎟    ⎟ \n",
       "  ℯ                + 1⎠       ⎝     ℯ                + 1⎠    ⎟ \n",
       "                                                          + 1⎠ \n",
       "───────────────────────────────────────────────────────────────\n",
       "                    4                                          "
      ]
     },
     "metadata": {},
     "output_type": "display_data"
    },
    {
     "data": {
      "text/html": [
       "<h2>Gradient Descent:</h2>"
      ],
      "text/plain": [
       "<IPython.core.display.HTML object>"
      ]
     },
     "metadata": {},
     "output_type": "display_data"
    },
    {
     "data": {
      "text/html": [
       "<table><tr><th title=\"\">loop</th><th title=\"\">b_6</th><th title=\"\">b_7</th><th title=\"\">b_8</th><th title=\"\">w_12</th><th title=\"\">w_13</th><th title=\"\">w_14</th><th title=\"\">w_15</th><th title=\"\">w_16</th><th title=\"\">w_17</th><th title=\"2*w_16*(-2 + 2/(exp(-b_8 - w_16*(-1 + 2/(1 + exp(-b_6))) - w_17*(-1 + 2/(1 + exp(-b_7)))) + 1))*exp(-b_6)*exp(-b_8 - w_16*(-1 + 2/(1 + exp(-b_6))) - w_17*(-1 + 2/(1 + exp(-b_7))))/((1 + exp(-b_6))**2*(exp(-b_8 - w_16*(-1 + 2/(1 + exp(-b_6))) - w_17*(-1 + 2/(1 + exp(-b_7)))) + 1)**2) + 2*w_16*(-2 + 2/(exp(-b_8 - w_16*(-1 + 2/(exp(-b_6 - w_12) + 1)) - w_17*(-1 + 2/(exp(-b_7 - w_14) + 1))) + 1))*exp(-b_6 - w_12)*exp(-b_8 - w_16*(-1 + 2/(exp(-b_6 - w_12) + 1)) - w_17*(-1 + 2/(exp(-b_7 - w_14) + 1)))/((exp(-b_6 - w_12) + 1)**2*(exp(-b_8 - w_16*(-1 + 2/(exp(-b_6 - w_12) + 1)) - w_17*(-1 + 2/(exp(-b_7 - w_14) + 1))) + 1)**2) + 2*w_16*(-2 + 2/(exp(-b_8 - w_16*(-1 + 2/(exp(-b_6 - w_13) + 1)) - w_17*(-1 + 2/(exp(-b_7 - w_15) + 1))) + 1))*exp(-b_6 - w_13)*exp(-b_8 - w_16*(-1 + 2/(exp(-b_6 - w_13) + 1)) - w_17*(-1 + 2/(exp(-b_7 - w_15) + 1)))/((exp(-b_6 - w_13) + 1)**2*(exp(-b_8 - w_16*(-1 + 2/(exp(-b_6 - w_13) + 1)) - w_17*(-1 + 2/(exp(-b_7 - w_15) + 1))) + 1)**2) + 2*w_16*(-1 + 2/(exp(-b_8 - w_16*(-1 + 2/(exp(-b_6 - w_12 - w_13) + 1)) - w_17*(-1 + 2/(exp(-b_7 - w_14 - w_15) + 1))) + 1))*exp(-b_6 - w_12 - w_13)*exp(-b_8 - w_16*(-1 + 2/(exp(-b_6 - w_12 - w_13) + 1)) - w_17*(-1 + 2/(exp(-b_7 - w_14 - w_15) + 1)))/((exp(-b_6 - w_12 - w_13) + 1)**2*(exp(-b_8 - w_16*(-1 + 2/(exp(-b_6 - w_12 - w_13) + 1)) - w_17*(-1 + 2/(exp(-b_7 - w_14 - w_15) + 1))) + 1)**2)\">Derivative(b_6, mse)</th><th title=\"2*w_17*(-2 + 2/(exp(-b_8 - w_16*(-1 + 2/(1 + exp(-b_6))) - w_17*(-1 + 2/(1 + exp(-b_7)))) + 1))*exp(-b_7)*exp(-b_8 - w_16*(-1 + 2/(1 + exp(-b_6))) - w_17*(-1 + 2/(1 + exp(-b_7))))/((1 + exp(-b_7))**2*(exp(-b_8 - w_16*(-1 + 2/(1 + exp(-b_6))) - w_17*(-1 + 2/(1 + exp(-b_7)))) + 1)**2) + 2*w_17*(-2 + 2/(exp(-b_8 - w_16*(-1 + 2/(exp(-b_6 - w_12) + 1)) - w_17*(-1 + 2/(exp(-b_7 - w_14) + 1))) + 1))*exp(-b_7 - w_14)*exp(-b_8 - w_16*(-1 + 2/(exp(-b_6 - w_12) + 1)) - w_17*(-1 + 2/(exp(-b_7 - w_14) + 1)))/((exp(-b_7 - w_14) + 1)**2*(exp(-b_8 - w_16*(-1 + 2/(exp(-b_6 - w_12) + 1)) - w_17*(-1 + 2/(exp(-b_7 - w_14) + 1))) + 1)**2) + 2*w_17*(-2 + 2/(exp(-b_8 - w_16*(-1 + 2/(exp(-b_6 - w_13) + 1)) - w_17*(-1 + 2/(exp(-b_7 - w_15) + 1))) + 1))*exp(-b_7 - w_15)*exp(-b_8 - w_16*(-1 + 2/(exp(-b_6 - w_13) + 1)) - w_17*(-1 + 2/(exp(-b_7 - w_15) + 1)))/((exp(-b_7 - w_15) + 1)**2*(exp(-b_8 - w_16*(-1 + 2/(exp(-b_6 - w_13) + 1)) - w_17*(-1 + 2/(exp(-b_7 - w_15) + 1))) + 1)**2) + 2*w_17*(-1 + 2/(exp(-b_8 - w_16*(-1 + 2/(exp(-b_6 - w_12 - w_13) + 1)) - w_17*(-1 + 2/(exp(-b_7 - w_14 - w_15) + 1))) + 1))*exp(-b_7 - w_14 - w_15)*exp(-b_8 - w_16*(-1 + 2/(exp(-b_6 - w_12 - w_13) + 1)) - w_17*(-1 + 2/(exp(-b_7 - w_14 - w_15) + 1)))/((exp(-b_7 - w_14 - w_15) + 1)**2*(exp(-b_8 - w_16*(-1 + 2/(exp(-b_6 - w_12 - w_13) + 1)) - w_17*(-1 + 2/(exp(-b_7 - w_14 - w_15) + 1))) + 1)**2)\">Derivative(b_7, mse)</th><th title=\"(-2 + 2/(exp(-b_8 - w_16*(-1 + 2/(1 + exp(-b_6))) - w_17*(-1 + 2/(1 + exp(-b_7)))) + 1))*exp(-b_8 - w_16*(-1 + 2/(1 + exp(-b_6))) - w_17*(-1 + 2/(1 + exp(-b_7))))/(exp(-b_8 - w_16*(-1 + 2/(1 + exp(-b_6))) - w_17*(-1 + 2/(1 + exp(-b_7)))) + 1)**2 + (-2 + 2/(exp(-b_8 - w_16*(-1 + 2/(exp(-b_6 - w_12) + 1)) - w_17*(-1 + 2/(exp(-b_7 - w_14) + 1))) + 1))*exp(-b_8 - w_16*(-1 + 2/(exp(-b_6 - w_12) + 1)) - w_17*(-1 + 2/(exp(-b_7 - w_14) + 1)))/(exp(-b_8 - w_16*(-1 + 2/(exp(-b_6 - w_12) + 1)) - w_17*(-1 + 2/(exp(-b_7 - w_14) + 1))) + 1)**2 + (-2 + 2/(exp(-b_8 - w_16*(-1 + 2/(exp(-b_6 - w_13) + 1)) - w_17*(-1 + 2/(exp(-b_7 - w_15) + 1))) + 1))*exp(-b_8 - w_16*(-1 + 2/(exp(-b_6 - w_13) + 1)) - w_17*(-1 + 2/(exp(-b_7 - w_15) + 1)))/(exp(-b_8 - w_16*(-1 + 2/(exp(-b_6 - w_13) + 1)) - w_17*(-1 + 2/(exp(-b_7 - w_15) + 1))) + 1)**2 + (-1 + 2/(exp(-b_8 - w_16*(-1 + 2/(exp(-b_6 - w_12 - w_13) + 1)) - w_17*(-1 + 2/(exp(-b_7 - w_14 - w_15) + 1))) + 1))*exp(-b_8 - w_16*(-1 + 2/(exp(-b_6 - w_12 - w_13) + 1)) - w_17*(-1 + 2/(exp(-b_7 - w_14 - w_15) + 1)))/(exp(-b_8 - w_16*(-1 + 2/(exp(-b_6 - w_12 - w_13) + 1)) - w_17*(-1 + 2/(exp(-b_7 - w_14 - w_15) + 1))) + 1)**2\">Derivative(b_8, mse)</th><th title=\"2*w_16*(-2 + 2/(exp(-b_8 - w_16*(-1 + 2/(exp(-b_6 - w_12) + 1)) - w_17*(-1 + 2/(exp(-b_7 - w_14) + 1))) + 1))*exp(-b_6 - w_12)*exp(-b_8 - w_16*(-1 + 2/(exp(-b_6 - w_12) + 1)) - w_17*(-1 + 2/(exp(-b_7 - w_14) + 1)))/((exp(-b_6 - w_12) + 1)**2*(exp(-b_8 - w_16*(-1 + 2/(exp(-b_6 - w_12) + 1)) - w_17*(-1 + 2/(exp(-b_7 - w_14) + 1))) + 1)**2) + 2*w_16*(-1 + 2/(exp(-b_8 - w_16*(-1 + 2/(exp(-b_6 - w_12 - w_13) + 1)) - w_17*(-1 + 2/(exp(-b_7 - w_14 - w_15) + 1))) + 1))*exp(-b_6 - w_12 - w_13)*exp(-b_8 - w_16*(-1 + 2/(exp(-b_6 - w_12 - w_13) + 1)) - w_17*(-1 + 2/(exp(-b_7 - w_14 - w_15) + 1)))/((exp(-b_6 - w_12 - w_13) + 1)**2*(exp(-b_8 - w_16*(-1 + 2/(exp(-b_6 - w_12 - w_13) + 1)) - w_17*(-1 + 2/(exp(-b_7 - w_14 - w_15) + 1))) + 1)**2)\">Derivative(w_12, mse)</th><th title=\"2*w_16*(-2 + 2/(exp(-b_8 - w_16*(-1 + 2/(exp(-b_6 - w_13) + 1)) - w_17*(-1 + 2/(exp(-b_7 - w_15) + 1))) + 1))*exp(-b_6 - w_13)*exp(-b_8 - w_16*(-1 + 2/(exp(-b_6 - w_13) + 1)) - w_17*(-1 + 2/(exp(-b_7 - w_15) + 1)))/((exp(-b_6 - w_13) + 1)**2*(exp(-b_8 - w_16*(-1 + 2/(exp(-b_6 - w_13) + 1)) - w_17*(-1 + 2/(exp(-b_7 - w_15) + 1))) + 1)**2) + 2*w_16*(-1 + 2/(exp(-b_8 - w_16*(-1 + 2/(exp(-b_6 - w_12 - w_13) + 1)) - w_17*(-1 + 2/(exp(-b_7 - w_14 - w_15) + 1))) + 1))*exp(-b_6 - w_12 - w_13)*exp(-b_8 - w_16*(-1 + 2/(exp(-b_6 - w_12 - w_13) + 1)) - w_17*(-1 + 2/(exp(-b_7 - w_14 - w_15) + 1)))/((exp(-b_6 - w_12 - w_13) + 1)**2*(exp(-b_8 - w_16*(-1 + 2/(exp(-b_6 - w_12 - w_13) + 1)) - w_17*(-1 + 2/(exp(-b_7 - w_14 - w_15) + 1))) + 1)**2)\">Derivative(w_13, mse)</th><th title=\"2*w_17*(-2 + 2/(exp(-b_8 - w_16*(-1 + 2/(exp(-b_6 - w_12) + 1)) - w_17*(-1 + 2/(exp(-b_7 - w_14) + 1))) + 1))*exp(-b_7 - w_14)*exp(-b_8 - w_16*(-1 + 2/(exp(-b_6 - w_12) + 1)) - w_17*(-1 + 2/(exp(-b_7 - w_14) + 1)))/((exp(-b_7 - w_14) + 1)**2*(exp(-b_8 - w_16*(-1 + 2/(exp(-b_6 - w_12) + 1)) - w_17*(-1 + 2/(exp(-b_7 - w_14) + 1))) + 1)**2) + 2*w_17*(-1 + 2/(exp(-b_8 - w_16*(-1 + 2/(exp(-b_6 - w_12 - w_13) + 1)) - w_17*(-1 + 2/(exp(-b_7 - w_14 - w_15) + 1))) + 1))*exp(-b_7 - w_14 - w_15)*exp(-b_8 - w_16*(-1 + 2/(exp(-b_6 - w_12 - w_13) + 1)) - w_17*(-1 + 2/(exp(-b_7 - w_14 - w_15) + 1)))/((exp(-b_7 - w_14 - w_15) + 1)**2*(exp(-b_8 - w_16*(-1 + 2/(exp(-b_6 - w_12 - w_13) + 1)) - w_17*(-1 + 2/(exp(-b_7 - w_14 - w_15) + 1))) + 1)**2)\">Derivative(w_14, mse)</th><th title=\"2*w_17*(-2 + 2/(exp(-b_8 - w_16*(-1 + 2/(exp(-b_6 - w_13) + 1)) - w_17*(-1 + 2/(exp(-b_7 - w_15) + 1))) + 1))*exp(-b_7 - w_15)*exp(-b_8 - w_16*(-1 + 2/(exp(-b_6 - w_13) + 1)) - w_17*(-1 + 2/(exp(-b_7 - w_15) + 1)))/((exp(-b_7 - w_15) + 1)**2*(exp(-b_8 - w_16*(-1 + 2/(exp(-b_6 - w_13) + 1)) - w_17*(-1 + 2/(exp(-b_7 - w_15) + 1))) + 1)**2) + 2*w_17*(-1 + 2/(exp(-b_8 - w_16*(-1 + 2/(exp(-b_6 - w_12 - w_13) + 1)) - w_17*(-1 + 2/(exp(-b_7 - w_14 - w_15) + 1))) + 1))*exp(-b_7 - w_14 - w_15)*exp(-b_8 - w_16*(-1 + 2/(exp(-b_6 - w_12 - w_13) + 1)) - w_17*(-1 + 2/(exp(-b_7 - w_14 - w_15) + 1)))/((exp(-b_7 - w_14 - w_15) + 1)**2*(exp(-b_8 - w_16*(-1 + 2/(exp(-b_6 - w_12 - w_13) + 1)) - w_17*(-1 + 2/(exp(-b_7 - w_14 - w_15) + 1))) + 1)**2)\">Derivative(w_15, mse)</th><th title=\"-(-2 + 2/(exp(-b_8 - w_16*(-1 + 2/(1 + exp(-b_6))) - w_17*(-1 + 2/(1 + exp(-b_7)))) + 1))*(1 - 2/(1 + exp(-b_6)))*exp(-b_8 - w_16*(-1 + 2/(1 + exp(-b_6))) - w_17*(-1 + 2/(1 + exp(-b_7))))/(exp(-b_8 - w_16*(-1 + 2/(1 + exp(-b_6))) - w_17*(-1 + 2/(1 + exp(-b_7)))) + 1)**2 - (-2 + 2/(exp(-b_8 - w_16*(-1 + 2/(exp(-b_6 - w_12) + 1)) - w_17*(-1 + 2/(exp(-b_7 - w_14) + 1))) + 1))*(1 - 2/(exp(-b_6 - w_12) + 1))*exp(-b_8 - w_16*(-1 + 2/(exp(-b_6 - w_12) + 1)) - w_17*(-1 + 2/(exp(-b_7 - w_14) + 1)))/(exp(-b_8 - w_16*(-1 + 2/(exp(-b_6 - w_12) + 1)) - w_17*(-1 + 2/(exp(-b_7 - w_14) + 1))) + 1)**2 - (-2 + 2/(exp(-b_8 - w_16*(-1 + 2/(exp(-b_6 - w_13) + 1)) - w_17*(-1 + 2/(exp(-b_7 - w_15) + 1))) + 1))*(1 - 2/(exp(-b_6 - w_13) + 1))*exp(-b_8 - w_16*(-1 + 2/(exp(-b_6 - w_13) + 1)) - w_17*(-1 + 2/(exp(-b_7 - w_15) + 1)))/(exp(-b_8 - w_16*(-1 + 2/(exp(-b_6 - w_13) + 1)) - w_17*(-1 + 2/(exp(-b_7 - w_15) + 1))) + 1)**2 - (-1 + 2/(exp(-b_8 - w_16*(-1 + 2/(exp(-b_6 - w_12 - w_13) + 1)) - w_17*(-1 + 2/(exp(-b_7 - w_14 - w_15) + 1))) + 1))*(1 - 2/(exp(-b_6 - w_12 - w_13) + 1))*exp(-b_8 - w_16*(-1 + 2/(exp(-b_6 - w_12 - w_13) + 1)) - w_17*(-1 + 2/(exp(-b_7 - w_14 - w_15) + 1)))/(exp(-b_8 - w_16*(-1 + 2/(exp(-b_6 - w_12 - w_13) + 1)) - w_17*(-1 + 2/(exp(-b_7 - w_14 - w_15) + 1))) + 1)**2\">Derivative(w_16, mse)</th><th title=\"-(-2 + 2/(exp(-b_8 - w_16*(-1 + 2/(1 + exp(-b_6))) - w_17*(-1 + 2/(1 + exp(-b_7)))) + 1))*(1 - 2/(1 + exp(-b_7)))*exp(-b_8 - w_16*(-1 + 2/(1 + exp(-b_6))) - w_17*(-1 + 2/(1 + exp(-b_7))))/(exp(-b_8 - w_16*(-1 + 2/(1 + exp(-b_6))) - w_17*(-1 + 2/(1 + exp(-b_7)))) + 1)**2 - (-2 + 2/(exp(-b_8 - w_16*(-1 + 2/(exp(-b_6 - w_12) + 1)) - w_17*(-1 + 2/(exp(-b_7 - w_14) + 1))) + 1))*(1 - 2/(exp(-b_7 - w_14) + 1))*exp(-b_8 - w_16*(-1 + 2/(exp(-b_6 - w_12) + 1)) - w_17*(-1 + 2/(exp(-b_7 - w_14) + 1)))/(exp(-b_8 - w_16*(-1 + 2/(exp(-b_6 - w_12) + 1)) - w_17*(-1 + 2/(exp(-b_7 - w_14) + 1))) + 1)**2 - (-2 + 2/(exp(-b_8 - w_16*(-1 + 2/(exp(-b_6 - w_13) + 1)) - w_17*(-1 + 2/(exp(-b_7 - w_15) + 1))) + 1))*(1 - 2/(exp(-b_7 - w_15) + 1))*exp(-b_8 - w_16*(-1 + 2/(exp(-b_6 - w_13) + 1)) - w_17*(-1 + 2/(exp(-b_7 - w_15) + 1)))/(exp(-b_8 - w_16*(-1 + 2/(exp(-b_6 - w_13) + 1)) - w_17*(-1 + 2/(exp(-b_7 - w_15) + 1))) + 1)**2 - (-1 + 2/(exp(-b_8 - w_16*(-1 + 2/(exp(-b_6 - w_12 - w_13) + 1)) - w_17*(-1 + 2/(exp(-b_7 - w_14 - w_15) + 1))) + 1))*(1 - 2/(exp(-b_7 - w_14 - w_15) + 1))*exp(-b_8 - w_16*(-1 + 2/(exp(-b_6 - w_12 - w_13) + 1)) - w_17*(-1 + 2/(exp(-b_7 - w_14 - w_15) + 1)))/(exp(-b_8 - w_16*(-1 + 2/(exp(-b_6 - w_12 - w_13) + 1)) - w_17*(-1 + 2/(exp(-b_7 - w_14 - w_15) + 1))) + 1)**2\">Derivative(w_17, mse)</th><th title=\"(-2 + 2/(exp(-b_8 - w_16*(-1 + 2/(1 + exp(-b_6))) - w_17*(-1 + 2/(1 + exp(-b_7)))) + 1))**2/4 + (-2 + 2/(exp(-b_8 - w_16*(-1 + 2/(exp(-b_6 - w_12) + 1)) - w_17*(-1 + 2/(exp(-b_7 - w_14) + 1))) + 1))**2/4 + (-2 + 2/(exp(-b_8 - w_16*(-1 + 2/(exp(-b_6 - w_13) + 1)) - w_17*(-1 + 2/(exp(-b_7 - w_15) + 1))) + 1))**2/4 + (-1 + 2/(exp(-b_8 - w_16*(-1 + 2/(exp(-b_6 - w_12 - w_13) + 1)) - w_17*(-1 + 2/(exp(-b_7 - w_14 - w_15) + 1))) + 1))**2/4\">mse</th></tr><tr><td>0</td><td>0.8741972589342595</td><td>-0.32106779266994756</td><td>0.4241484824371395</td><td>0.1561887319488952</td><td>-0.0660819879672195</td><td>-0.08162668625490747</td><td>-2.1301867879893948</td><td>1.0471393175188373</td><td>1.829136979020244</td><td>-0.3038926918630699</td><td>-0.3947987724238423</td><td>-0.7046929924173767</td><td>-0.09863874366307655</td><td>-0.16247127324374175</td><td>-0.1661567831104983</td><td>-0.09714564736612577</td><td>-0.29478448635640736</td><td>0.370910226534486</td><td>0.7404556300818008</td></tr><tr><td>1</td><td>0.9045865281205665</td><td>-0.28158791542756334</td><td>0.49461778167887716</td><td>0.16605260631520286</td><td>-0.04983486064284531</td><td>-0.06501100794385764</td><td>-2.1204722232527824</td><td>1.076617766154478</td><td>1.7920459563667954</td><td>-0.2817644575294597</td><td>-0.3509171219277824</td><td>-0.645439443701187</td><td>-0.08394950920829429</td><td>-0.15741760910627337</td><td>-0.14128957692678154</td><td>-0.09553807775804124</td><td>-0.27968606203653484</td><td>0.34065177145744613</td><td>0.640543664699105</td></tr><tr><td>2</td><td>0.9327629738735125</td><td>-0.2464962032347851</td><td>0.5591617260489958</td><td>0.17444755723603228</td><td>-0.034093099732217975</td><td>-0.050882050251179485</td><td>-2.1109184154769784</td><td>1.1045863723581315</td><td>1.757980779221051</td><td>-0.2591545451227785</td><td>-0.3112566170002749</td><td>-0.5872433598104579</td><td>-0.06989891245676973</td><td>-0.1498217067609733</td><td>-0.11904129916766724</td><td>-0.09204122774831705</td><td>-0.2624843117242658</td><td>0.31017740523151327</td><td>0.5570156753573047</td></tr><tr><td>3</td><td>0.9586784283857903</td><td>-0.2153705415347576</td><td>0.6178860620300416</td><td>0.18143744848170926</td><td>-0.01911092905612064</td><td>-0.03897792033441276</td><td>-2.101714292702147</td><td>1.130834803530558</td><td>1.7269630386978996</td><td>-0.23703109307446557</td><td>-0.2761942343392336</td><td>-0.5319376332690243</td><td>-0.05694664862767757</td><td>-0.14056912124089524</td><td>-0.09965144208403076</td><td>-0.08719028950524323</td><td>-0.24426443810286383</td><td>0.28044835095784115</td><td>0.4880035727254979</td></tr><tr><td>4</td><td>0.9823815376932369</td><td>-0.18775111810083422</td><td>0.671079825356944</td><td>0.18713211334447702</td><td>-0.005054016932031117</td><td>-0.029012776126009686</td><td>-2.0929952637516225</td><td>1.1552612473408443</td><td>1.6989182036021155</td><td>-0.21605921474886308</td><td>-0.24561035465526843</td><td>-0.4806513936668819</td><td>-0.045326245230736306</td><td>-0.13047023093025734</td><td>-0.0830232874361926</td><td>-0.08151676629417516</td><td>-0.22589953258828527</td><td>0.25223445366293235</td><td>0.43143181781714623</td></tr><tr><td>5</td><td>1.0039874591681233</td><td>-0.16319008263530738</td><td>0.7191449647236322</td><td>0.19166473786755064</td><td>0.007993006160994617</td><td>-0.020710447382390425</td><td>-2.084843587122205</td><td>1.1778512005996729</td><td>1.6736947582358224</td><td>-0.1966365502797128</td><td>-0.219137576058307</td><td>-0.433947931805047</td><td>-0.03510334610250309</td><td>-0.1201681322058058</td><td>-0.06889677597443399</td><td>-0.07547033565464023</td><td>-0.20803362022279254</td><td>0.22605637630821274</td><td>0.3852615983121538</td></tr><tr><td>6</td><td>1.0236511141960944</td><td>-0.14127632502947668</td><td>0.7625397579041369</td><td>0.19517507247780094</td><td>0.0200098193815752</td><td>-0.013820769784947026</td><td>-2.077296553556741</td><td>1.198654562621952</td><td>1.6510891206050011</td><td>-0.17894722394336432</td><td>-0.1963102553571062</td><td>-0.3919683802504051</td><td>-0.026232038302288194</td><td>-0.11011571248901666</td><td>-0.05695270096615901</td><td>-0.06938825611668907</td><td>-0.19109427863376</td><td>0.2021881414850263</td><td>0.3476341745422407</td></tr><tr><td>7</td><td>1.0415458365904309</td><td>-0.12164529949376605</td><td>0.8017365959291773</td><td>0.19779827630802976</td><td>0.031021390630476868</td><td>-0.008125499688331124</td><td>-2.0703577279450722</td><td>1.2177639904853281</td><td>1.6308703064564984</td><td>-0.1630215919882651</td><td>-0.17664760021189185</td><td>-0.3545678863245044</td><td>-0.0186020529723007</td><td>-0.10059599523246865</td><td>-0.04686951764862217</td><td>-0.0634981165357939</td><td>-0.1753272190953146</td><td>0.1807019453102444</td><td>0.3169381843529627</td></tr><tr><td>8</td><td>1.0578479957892575</td><td>-0.10398053947257686</td><td>0.8371933845616277</td><td>0.19965848160525984</td><td>0.04108099015372373</td><td>-0.0034385479234689074</td><td>-2.064007916291493</td><td>1.2352967123948595</td><td>1.612800111925474</td><td>-0.14879073999621314</td><td>-0.1596964738720388</td><td>-0.3214305706832601</td><td>-0.012073733273983664</td><td>-0.09176041518937642</td><td>-0.03835115551120073</td><td>-0.057937164041495126</td><td>-0.16084021373682122</td><td>0.1615281265865447</td><td>0.2918247465777293</td></tr><tr><td>9</td><td>1.0727270697888789</td><td>-0.08801089208537298</td><td>0.8693364416299537</td><td>0.2008658549326582</td><td>0.05025703167266138</td><td>0.00039656762765116586</td><td>-2.0582141998873436</td><td>1.2513807337685416</td><td>1.5966472992668195</td><td>-0.13612966139173413</td><td>-0.14505070726037528</td><td>-0.29215623751621234</td><td>-0.006501083422160568</td><td>-0.08366836646423856</td><td>-0.03113817097429173</td><td>-0.05277593571637182</td><td>-0.14764561740763</td><td>0.14451102250040507</td><td>0.27119146695921703</td></tr><tr><td>10</td><td>1.0863400359280524</td><td>-0.07350582135933545</td><td>0.898552065381575</td><td>0.20151596327487425</td><td>0.05862386831908523</td><td>0.003510384725080339</td><td>-2.0529366063157064</td><td>1.2661452955093047</td><td>1.582196197016779</td><td>-0.12488789732452157</td><td>-0.13235711602332567</td><td>-0.26631933782033335</td><td>-0.001745199199309263</td><td>-0.07632018241334718</td><td>-0.025009858168461678</td><td>-0.04803962116029709</td><td>-0.1356955711933704</td><td>0.1294522013017027</td><td>0.2541514825908547</td></tr><tr><td>20</td><td>1.1771369500545341</td><td>0.022229930339271238</td><td>1.0876207451763948</td><td>0.19034075092695263</td><td>0.11173306095413421</td><td>0.011834331217859342</td><td>-2.020140549224843</td><td>1.3640516379088357</td><td>1.4977217763935702</td><td>-0.06154574411288179</td><td>-0.06537166425919116</td><td>-0.12355241068968006</td><td>0.021214496159953265</td><td>-0.03273290113093354</td><td>0.004774114515170701</td><td>-0.019305062321526192</td><td>-0.0646192282460003</td><td>0.04656321273181547</td><td>0.17920801499692268</td></tr><tr><td>30</td><td>1.2261438522742294</td><td>0.07525932969468144</td><td>1.183744988272308</td><td>0.1655529776513494</td><td>0.13551769411487746</td><td>0.002291086740559724</td><td>-2.0067296017981926</td><td>1.4140408666532183</td><td>1.466735547049403</td><td>-0.03723069734529597</td><td>-0.041665522226994864</td><td>-0.07065895750406655</td><td>0.02793960272926134</td><td>-0.01534219811175315</td><td>0.013749906329133633</td><td>-0.007921599288144298</td><td>-0.036274015633049224</td><td>0.01664495273828702</td><td>0.15983163139428797</td></tr><tr><td>40</td><td>1.2573798558948688</td><td>0.11139431648893384</td><td>1.2417988658511103</td><td>0.13615219360193445</td><td>0.1465299603286587</td><td>-0.013343767959204457</td><td>-2.0015020626855096</td><td>1.4434766450316727</td><td>1.4570873296181557</td><td>-0.025234032442433794</td><td>-0.030732131235592364</td><td>-0.04563129451398047</td><td>0.03083670842227325</td><td>-0.006661572012536025</td><td>0.017415387768459224</td><td>-0.0026024891983409924</td><td>-0.0227181326909286</td><td>0.002783777688404654</td><td>0.15198286011707185</td></tr><tr><td>50</td><td>1.2791983624103618</td><td>0.1392334365848582</td><td>1.280629600762803</td><td>0.10449418628251515</td><td>0.15069246691172988</td><td>-0.03165298581183353</td><td>-2.0002858133997194</td><td>1.4625807610042385</td><td>1.4580418256583727</td><td>-0.018250822529106335</td><td>-0.024923182139405337</td><td>-0.0318838356890906</td><td>0.03253858852034458</td><td>-0.0015366338811969096</td><td>0.01918543408750172</td><td>0.00016506463818004996</td><td>-0.015466528872597009</td><td>-0.004772866494154912</td><td>0.14751235062766593</td></tr><tr><td>60</td><td>1.295261271223333</td><td>0.16251989228008476</td><td>1.3084762845822424</td><td>0.0713662369144464</td><td>0.1505941171229912</td><td>-0.05130344168488756</td><td>-2.001200210837339</td><td>1.4760247932440504</td><td>1.465042329094328</td><td>-0.013707600043585517</td><td>-0.021614430614627</td><td>-0.02363258612929582</td><td>0.03380022840159687</td><td>0.00187461347481626</td><td>0.020112822525824976</td><td>0.0016619090989433913</td><td>-0.011396286720926789</td><td>-0.00933542453803616</td><td>0.1442266142517304</td></tr><tr><td>70</td><td>1.3074435144334533</td><td>0.18318273719970554</td><td>1.329571924245227</td><td>0.037067763926746086</td><td>0.14754367756344622</td><td>-0.07166356191699749</td><td>-2.0032588910136386</td><td>1.486289340082851</td><td>1.4758010021648058</td><td>-0.010501800895051955</td><td>-0.01969214571121225</td><td>-0.01841433476144909</td><td>0.03488858371000532</td><td>0.004362030752041425</td><td>0.020603389402855103</td><td>0.002443562389090364</td><td>-0.00913578437196863</td><td>-0.012275377819074298</td><td>0.14138155456151164</td></tr><tr><td>80</td><td>1.3168095301978973</td><td>0.20233296809176338</td><td>1.3463411171182689</td><td>0.0017158147324919208</td><td>0.14226987187264142</td><td>-0.09238958938307451</td><td>-2.0058851021168036</td><td>1.4948392096644207</td><td>1.4890267109603639</td><td>-0.00809106929634213</td><td>-0.018608700431528444</td><td>-0.015020378996611461</td><td>0.035911999027606785</td><td>0.006313030150406566</td><td>0.020839636936465542</td><td>0.002785471675566281</td><td>-0.007997823999745225</td><td>-0.014248744769997795</td><td>0.13868301289455998</td></tr><tr><td>90</td><td>1.3240081431246644</td><td>0.22066089689654106</td><td>1.3602817567604168</td><td>-0.03464925620984167</td><td>0.13520496141639657</td><td>-0.11327331884306373</td><td>-2.0087141056208413</td><td>1.5026088475468162</td><td>1.5039266920621064</td><td>-0.006181009069305826</td><td>-0.018064467941845533</td><td>-0.01279302658311672</td><td>0.03691820387744374</td><td>0.007937169435424975</td><td>0.0209133654319344</td><td>0.002839066216212986</td><td>-0.007602510358586459</td><td>-0.015604626430889564</td><td>0.1360002750215259</td></tr><tr><td>100</td><td>1.329455765228373</td><td>0.23861872600221454</td><td>1.3723707627919242</td><td>-0.07202123337348203</td><td>0.1266159992998338</td><td>-0.13417712954415167</td><td>-2.011501772954886</td><td>1.5102300640301014</td><td>1.519982592505837</td><td>-0.00460048398858464</td><td>-0.01788195146191928</td><td>-0.01134598989515842</td><td>0.03792834075237708</td><td>0.009355843852658058</td><td>0.020874677656566955</td><td>0.002694601092501272</td><td>-0.0077236159162706874</td><td>-0.01654437573866315</td><td>0.13326843811871783</td></tr><tr><td>200</td><td>1.3260818897413658</td><td>0.4362515489443398</td><td>1.4765715723127846</td><td>-0.4992672232986921</td><td>-0.02102417875012783</td><td>-0.328830213509009</td><td>-2.015042304269065</td><td>1.6383852380650097</td><td>1.6965609384232692</td><td>0.0033403097252193217</td><td>-0.02267662113923724</td><td>-0.012190955907368684</td><td>0.04642203840683014</td><td>0.019000232031247434</td><td>0.01710395292262089</td><td>-0.002659632056189312</td><td>-0.019838608453190035</td><td>-0.017026581480465278</td><td>0.09884949481846364</td></tr><tr><td>300</td><td>1.3118536515349741</td><td>0.6829173158967621</td><td>1.6259529272256732</td><td>-0.9311919662863815</td><td>-0.2074428939831767</td><td>-0.4628684994401266</td><td>-1.9647933016968644</td><td>1.8842476716754704</td><td>1.8460885027688045</td><td>-0.0019816869581853955</td><td>-0.025032640788185973</td><td>-0.01628529600811099</td><td>0.03630210628509454</td><td>0.016274769518920255</td><td>0.009700714409515324</td><td>-0.006261509744658427</td><td>-0.026153142045428623</td><td>-0.013136432589368904</td><td>0.05779145355688631</td></tr><tr><td>400</td><td>1.3560623396367102</td><td>0.9088782357703206</td><td>1.7729314676004293</td><td>-1.2125776322237694</td><td>-0.3413253665551085</td><td>-0.5365691861478411</td><td>-1.9102969589391479</td><td>2.117738089825237</td><td>1.9684529084412108</td><td>-0.005915635752855919</td><td>-0.019592147305816418</td><td>-0.012562509775927738</td><td>0.020919340265346746</td><td>0.010923597070486318</td><td>0.005640043475208287</td><td>-0.004239515253688035</td><td>-0.019950098706008598</td><td>-0.011425483517488618</td><td>0.03254155246860163</td></tr><tr><td>500</td><td>1.4178242010814726</td><td>1.0764375625206655</td><td>1.8787442099787133</td><td>-1.3746993669515557</td><td>-0.43420320692672826</td><td>-0.5837475488855977</td><td>-1.8793525151655304</td><td>2.2871222555361</td><td>2.07411231766811</td><td>-0.006149480345448228</td><td>-0.014159351752730157</td><td>-0.008815910624248992</td><td>0.01237421199992214</td><td>0.007889837274651233</td><td>0.003990183244504224</td><td>-0.0021025102289936592</td><td>-0.014251162257338764</td><td>-0.009661209885436957</td><td>0.020318513541835205</td></tr><tr><td>600</td><td>1.4763872976404535</td><td>1.198526433518877</td><td>1.9542493710423907</td><td>-1.474268129737578</td><td>-0.5031453871863842</td><td>-0.6190195499170666</td><td>-1.8647683641575636</td><td>2.4101329629792496</td><td>2.162173523270032</td><td>-0.005510576457155851</td><td>-0.010483098298876194</td><td>-0.0064502975342477335</td><td>0.007955703901089536</td><td>0.006014843530760117</td><td>0.00313082183137736</td><td>-0.0009341007420546298</td><td>-0.010592754407523216</td><td>-0.007979595155352907</td><td>0.013972664152738174</td></tr><tr><td>700</td><td>1.5278927248751266</td><td>1.290607505664412</td><td>2.010829450851491</td><td>-1.5406083783709612</td><td>-0.5567113382671193</td><td>-0.647451011254214</td><td>-1.8586616552908204</td><td>2.503583805650825</td><td>2.234948386918479</td><td>-0.0047919757579674895</td><td>-0.008073133732733476</td><td>-0.004958679506566586</td><td>0.005510609828412491</td><td>0.004764363559388215</td><td>0.002585055785879472</td><td>-0.00034850488442106885</td><td>-0.008237057651692295</td><td>-0.0066177258835351145</td><td>0.010309331995754026</td></tr><tr><td>800</td><td>1.5726021144874505</td><td>1.362769321014736</td><td>2.0551970854633166</td><td>-1.5878964405176965</td><td>-0.5997799526449574</td><td>-0.6712920834429601</td><td>-1.8568019732939003</td><td>2.577596752422204</td><td>2.2956823092470637</td><td>-0.004161835435232164</td><td>-0.0064432554576058804</td><td>-0.0039676888441676425</td><td>0.004048046411328617</td><td>0.003889594313577582</td><td>0.00219923756745597</td><td>-5.3464434246591405e-05</td><td>-0.006646796222731026</td><td>-0.00556457785969197</td><td>0.008002359745965828</td></tr><tr><td>900</td><td>1.611550435231331</td><td>1.4212060641218365</td><td>2.091251059027005</td><td>-1.6234216592412667</td><td>-0.6353706920146985</td><td>-0.691787560536752</td><td>-1.857097947796771</td><td>2.638192049557844</td><td>2.3471355040467934</td><td>-0.0036398527524522193</td><td>-0.005295755495728779</td><td>-0.0032746714551503183</td><td>0.0031122881613278508</td><td>0.0032541644356318894</td><td>0.0019097441583235848</td><td>9.756158856152018e-05</td><td>-0.0055216627884660755</td><td>-0.004752440927703065</td><td>0.006449319917858652</td></tr><tr><td>1000</td><td>1.645762214546928</td><td>1.4698059719786545</td><td>2.121369429009442</td><td>-1.6512198235919942</td><td>-0.6654452340724932</td><td>-0.7097244095622534</td><td>-1.8585001317893808</td><td>2.6891092175886273</td><td>2.3913965571789473</td><td>-0.003212448812450093</td><td>-0.004457157206411246</td><td>-0.002768822292979093</td><td>0.0024795534467163607</td><td>0.002777629072884596</td><td>0.0016841692449041405</td><td>0.0001749858771679753</td><td>-0.004693184050119715</td><td>-0.004118783103220707</td><td>0.0053485753483787386</td></tr><tr><td>2000</td><td>1.851322857451876</td><td>1.7265687776035068</td><td>2.283429357189658</td><td>-1.7761444066768572</td><td>-0.8307166845515899</td><td>-0.8193680060666054</td><td>-1.8803128829081932</td><td>2.9674367731200393</td><td>2.6445555380958483</td><td>-0.0013590421165039397</td><td>-0.0015576506742648725</td><td>-0.0010004673525575648</td><td>0.000664851443370845</td><td>0.0010313289446168654</td><td>0.0007435287583946407</td><td>0.00019173279777295925</td><td>-0.0017396316265754041</td><td>-0.001621911517309693</td><td>0.0017552793121800498</td></tr><tr><td>3000</td><td>1.95646612851184</td><td>1.8435161153502826</td><td>2.3591827557107954</td><td>-1.823649989056135</td><td>-0.9089694911805195</td><td>-0.8777944361265767</td><td>-1.8961720359473686</td><td>3.0998300968875956</td><td>2.7687758373758076</td><td>-0.0008252099003810394</td><td>-0.0008933904044255469</td><td>-0.0005836591267056439</td><td>0.00034613981558312976</td><td>0.0006037289647299892</td><td>0.0004657581701387188</td><td>0.00013118397725161144</td><td>-0.0010249317348483195</td><td>-0.0009666472391219583</td><td>0.000982911470259962</td></tr><tr><td>4000</td><td>2.025606176354504</td><td>1.9172924657955142</td><td>2.4076454875781623</td><td>-1.851497086400779</td><td>-0.9591055715311257</td><td>-0.917212853952714</td><td>-1.9074379791571408</td><td>3.1851589586559546</td><td>2.849440646264286</td><td>-0.0005835452752081906</td><td>-0.0006143231831811135</td><td>-0.00040576788033215734</td><td>0.0002261308086594924</td><td>0.0004197222959029591</td><td>0.0003360018021897471</td><td>9.717085252743726e-05</td><td>-0.0007162135424047497</td><td>-0.0006784452111141912</td><td>0.0006662837853251787</td></tr><tr><td>5000</td><td>2.0766219112333957</td><td>1.9705355666067752</td><td>2.4429552033536654</td><td>-1.8707781012352833</td><td>-0.9956136358822868</td><td>-0.9467951829230257</td><td>-1.9160454502144721</td><td>3.2475810798286986</td><td>2.9086397732386335</td><td>-0.0004479431735966917</td><td>-0.00046367005707890314</td><td>-0.00030874828270234425</td><td>0.00016527987233498208</td><td>0.00031904097718325796</td><td>0.00026155064217603017</td><td>7.650096737800178e-05</td><td>-0.0005466163836470373</td><td>-0.00051893730849407</td><td>0.0004978869143613179</td></tr></table>"
      ],
      "text/plain": [
       "<__main__.Table at 0x7f73095797f0>"
      ]
     },
     "metadata": {},
     "output_type": "display_data"
    },
    {
     "data": {
      "text/html": [
       "<h2>Optimized Function:</h2>"
      ],
      "text/plain": [
       "<IPython.core.display.HTML object>"
      ]
     },
     "metadata": {},
     "output_type": "display_data"
    },
    {
     "data": {
      "image/png": "[encoded data removed]",
      "text/latex": [
       "$$-1 + \\frac{2}{40.9905408968843 e^{- \\frac{6.49527148293413}{0.125347336193779 e^{1.87079462922252 x_{0} + 0.995645539980005 x_{1}} + 1} - \\frac{5.81738333393897}{0.139375725191653 e^{0.946821337987243 x_{0} + 1.91605310031121 x_{1}} + 1}} + 1}$$"
      ],
      "text/plain": [
       "                                                                              \n",
       "-1 + ─────────────────────────────────────────────────────────────────────────\n",
       "                                                  6.49527148293413            \n",
       "                       - ─────────────────────────────────────────────────────\n",
       "                                            1.87079462922252⋅x₀ + 0.9956455399\n",
       "                         0.125347336193779⋅ℯ                                  \n",
       "     40.9905408968843⋅ℯ                                                       \n",
       "\n",
       "     2                                                                        \n",
       "──────────────────────────────────────────────────────────────────────────────\n",
       "                                        5.81738333393897                      \n",
       "──────────── - ───────────────────────────────────────────────────────────────\n",
       "80005⋅x₁                          0.946821337987243⋅x₀ + 1.91605310031121⋅x₁  \n",
       "         + 1   0.139375725191653⋅ℯ                                           +\n",
       "                                                                              \n",
       "\n",
       "      \n",
       "──────\n",
       "      \n",
       "──    \n",
       "      \n",
       " 1    \n",
       "   + 1"
      ]
     },
     "metadata": {},
     "output_type": "display_data"
    },
    {
     "data": {
      "text/html": [
       "<h2>Dataset evaluation:</h2>"
      ],
      "text/plain": [
       "<IPython.core.display.HTML object>"
      ]
     },
     "metadata": {},
     "output_type": "display_data"
    },
    {
     "data": {
      "text/html": [
       "<table><tr><th title=\"\">x_0</th><th title=\"\">x_1</th><th title=\"\">Y</th><th title=\"\">Ŷ</th></tr><tr><td>0</td><td>0</td><td>1</td><td>0.9984536244278286</td></tr><tr><td>0</td><td>1</td><td>1</td><td>0.9681737652120652</td></tr><tr><td>1</td><td>0</td><td>1</td><td>0.9688776384555289</td></tr><tr><td>1</td><td>1</td><td>0</td><td>0.0026707423956688903</td></tr></table>"
      ],
      "text/plain": [
       "<__main__.Table at 0x7f730957cd30>"
      ]
     },
     "metadata": {},
     "output_type": "display_data"
    },
    {
     "data": {
      "image/png": "[encoded data removed]",
      "text/latex": [
       "$$-1 + \\frac{2}{40.9905408968843 e^{- \\frac{6.49527148293413}{0.125347336193779 e^{1.87079462922252 x_{0} + 0.995645539980005 x_{1}} + 1} - \\frac{5.81738333393897}{0.139375725191653 e^{0.946821337987243 x_{0} + 1.91605310031121 x_{1}} + 1}} + 1}$$"
      ],
      "text/plain": [
       "                                                                              \n",
       "-1 + ─────────────────────────────────────────────────────────────────────────\n",
       "                                                  6.49527148293413            \n",
       "                       - ─────────────────────────────────────────────────────\n",
       "                                            1.87079462922252⋅x₀ + 0.9956455399\n",
       "                         0.125347336193779⋅ℯ                                  \n",
       "     40.9905408968843⋅ℯ                                                       \n",
       "\n",
       "     2                                                                        \n",
       "──────────────────────────────────────────────────────────────────────────────\n",
       "                                        5.81738333393897                      \n",
       "──────────── - ───────────────────────────────────────────────────────────────\n",
       "80005⋅x₁                          0.946821337987243⋅x₀ + 1.91605310031121⋅x₁  \n",
       "         + 1   0.139375725191653⋅ℯ                                           +\n",
       "                                                                              \n",
       "\n",
       "      \n",
       "──────\n",
       "      \n",
       "──    \n",
       "      \n",
       " 1    \n",
       "   + 1"
      ]
     },
     "execution_count": 28,
     "metadata": {},
     "output_type": "execute_result"
    }
   ],
   "source": [
    "def neural_nand():\n",
    "    data = [\n",
    "        {'X': [0, 0], 'Y': 1},\n",
    "        {'X': [0, 1], 'Y': 1},\n",
    "        {'X': [1, 0], 'Y': 1},\n",
    "        {'X': [1, 1], 'Y': 0},\n",
    "    ]\n",
    "    x = SymbolVector.x\n",
    "\n",
    "    neural_network = NeuralNetwork(inputs=x[0:2], dims=[2], activation_function=NeuralNetwork.logistic)\n",
    "    return optimize(\"NAND (2 layer net + logistic activation function)\", neural_network.expr, data, simplify=False)\n",
    "\n",
    "neural_nand()    "
   ]
  }
 ],
 "metadata": {
  "kernelspec": {
   "display_name": "Python 3",
   "language": "python",
   "name": "python3"
  },
  "language_info": {
   "codemirror_mode": {
    "name": "ipython",
    "version": 3
   },
   "file_extension": ".py",
   "mimetype": "text/x-python",
   "name": "python",
   "nbconvert_exporter": "python",
   "pygments_lexer": "ipython3",
   "version": "3.6.3"
  }
 },
 "nbformat": 4,
 "nbformat_minor": 2
}
